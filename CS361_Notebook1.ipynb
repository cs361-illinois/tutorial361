{
 "nbformat": 4,
 "nbformat_minor": 0,
 "metadata": {
  "colab": {
   "name": "CS361_Notebook1.ipynb",
   "provenance": [],
   "toc_visible": true
  },
  "kernelspec": {
   "name": "python3",
   "language": "python",
   "display_name": "Python 3"
  }
 },
 "cells": [
  {
   "cell_type": "markdown",
   "metadata": {
    "id": "bfrTa52jPCJx",
    "colab_type": "text"
   },
   "source": [
    "# Visualizing Data with Matplotlib"
   ]
  },
  {
   "cell_type": "markdown",
   "metadata": {
    "id": "3wyBp79wPmtS",
    "colab_type": "text"
   },
   "source": [
    "Let's first import some packages into our environment. Note that `%matplotlib inline` is an `IPython` magic command, which is not a part of standard Python syntax. Here `%matplotlib inline` enables the inline display of matplotlib figures so you don't need to do `plt.show()`."
   ]
  },
  {
   "cell_type": "code",
   "metadata": {
    "id": "LOS-vU4pJ9iB",
    "colab_type": "code",
    "colab": {}
   },
   "source": [
    "import matplotlib.pyplot as plt\n",
    "import pandas as pd\n",
    "%matplotlib inline"
   ],
   "execution_count": 1,
   "outputs": []
  },
  {
   "cell_type": "markdown",
   "metadata": {
    "id": "ijh1_82NQdCU",
    "colab_type": "text"
   },
   "source": [
    "This is another `IPython` magic command that enables we to run bash commands in this environment. Let's first clone the \"Motor Trend Car Road Tests\" dataset. Note that the storage provided by Colab is not permanent (unless we [mount our Google Drive](https://colab.research.google.com/notebooks/io.ipynb)) so we need to be careful. If you would like to do your homework in this environment, please remember to save your work (like plotted figures) locally."
   ]
  },
  {
   "cell_type": "code",
   "metadata": {
    "id": "jEH1CNLDKP7V",
    "colab_type": "code",
    "colab": {
     "base_uri": "https://localhost:8080/",
     "height": 85
    },
    "outputId": "1ce5fa85-a468-4e0f-9b08-e0e1109b5ca2"
   },
   "source": [
    "![ ! -f \"./iris/iris.data\" ] && git clone https://gist.github.com/a412dfbd88b3db70b74b.git mtcars"
   ],
   "execution_count": 2,
   "outputs": [
    {
     "name": "stdout",
     "output_type": "stream",
     "text": [
      "Cloning into 'mtcars'...\r\n",
      "remote: Enumerating objects: 3, done.\u001B[K\r\n",
      "remote: Total 3 (delta 0), reused 0 (delta 0), pack-reused 3\u001B[K\r\n",
      "Unpacking objects: 100% (3/3), done.\r\n"
     ]
    }
   ]
  },
  {
   "cell_type": "markdown",
   "metadata": {
    "id": "a1I9vzqNRk14",
    "colab_type": "text"
   },
   "source": [
    "Now let's import the `mtcars` dataset. It's in standard CSV format with header so we can import directly. Sometimes data may be separated with tabs (or even worse a mixture of tabs and spaces) so we might need to designate a separator. Please refer to [this document](https://pandas.pydata.org/pandas-docs/stable/reference/api/pandas.read_csv.html) if you need more information."
   ]
  },
  {
   "cell_type": "code",
   "metadata": {
    "id": "d4uIfsMeKh28",
    "colab_type": "code",
    "colab": {}
   },
   "source": [
    "cars = pd.read_csv('./mtcars/mtcars.csv')"
   ],
   "execution_count": 3,
   "outputs": []
  },
  {
   "cell_type": "code",
   "metadata": {
    "id": "Wp_kVG0wK2hI",
    "colab_type": "code",
    "colab": {
     "base_uri": "https://localhost:8080/",
     "height": 204
    },
    "outputId": "d687aa97-dcbc-49ac-9dc5-ec632e65c4de"
   },
   "source": [
    "cars.head()"
   ],
   "execution_count": 4,
   "outputs": [
    {
     "data": {
      "text/plain": "               model   mpg  cyl   disp   hp  drat     wt   qsec  vs  am  gear  \\\n0          Mazda RX4  21.0    6  160.0  110  3.90  2.620  16.46   0   1     4   \n1      Mazda RX4 Wag  21.0    6  160.0  110  3.90  2.875  17.02   0   1     4   \n2         Datsun 710  22.8    4  108.0   93  3.85  2.320  18.61   1   1     4   \n3     Hornet 4 Drive  21.4    6  258.0  110  3.08  3.215  19.44   1   0     3   \n4  Hornet Sportabout  18.7    8  360.0  175  3.15  3.440  17.02   0   0     3   \n\n   carb  \n0     4  \n1     4  \n2     1  \n3     1  \n4     2  ",
      "text/html": "<div>\n<style scoped>\n    .dataframe tbody tr th:only-of-type {\n        vertical-align: middle;\n    }\n\n    .dataframe tbody tr th {\n        vertical-align: top;\n    }\n\n    .dataframe thead th {\n        text-align: right;\n    }\n</style>\n<table border=\"1\" class=\"dataframe\">\n  <thead>\n    <tr style=\"text-align: right;\">\n      <th></th>\n      <th>model</th>\n      <th>mpg</th>\n      <th>cyl</th>\n      <th>disp</th>\n      <th>hp</th>\n      <th>drat</th>\n      <th>wt</th>\n      <th>qsec</th>\n      <th>vs</th>\n      <th>am</th>\n      <th>gear</th>\n      <th>carb</th>\n    </tr>\n  </thead>\n  <tbody>\n    <tr>\n      <td>0</td>\n      <td>Mazda RX4</td>\n      <td>21.0</td>\n      <td>6</td>\n      <td>160.0</td>\n      <td>110</td>\n      <td>3.90</td>\n      <td>2.620</td>\n      <td>16.46</td>\n      <td>0</td>\n      <td>1</td>\n      <td>4</td>\n      <td>4</td>\n    </tr>\n    <tr>\n      <td>1</td>\n      <td>Mazda RX4 Wag</td>\n      <td>21.0</td>\n      <td>6</td>\n      <td>160.0</td>\n      <td>110</td>\n      <td>3.90</td>\n      <td>2.875</td>\n      <td>17.02</td>\n      <td>0</td>\n      <td>1</td>\n      <td>4</td>\n      <td>4</td>\n    </tr>\n    <tr>\n      <td>2</td>\n      <td>Datsun 710</td>\n      <td>22.8</td>\n      <td>4</td>\n      <td>108.0</td>\n      <td>93</td>\n      <td>3.85</td>\n      <td>2.320</td>\n      <td>18.61</td>\n      <td>1</td>\n      <td>1</td>\n      <td>4</td>\n      <td>1</td>\n    </tr>\n    <tr>\n      <td>3</td>\n      <td>Hornet 4 Drive</td>\n      <td>21.4</td>\n      <td>6</td>\n      <td>258.0</td>\n      <td>110</td>\n      <td>3.08</td>\n      <td>3.215</td>\n      <td>19.44</td>\n      <td>1</td>\n      <td>0</td>\n      <td>3</td>\n      <td>1</td>\n    </tr>\n    <tr>\n      <td>4</td>\n      <td>Hornet Sportabout</td>\n      <td>18.7</td>\n      <td>8</td>\n      <td>360.0</td>\n      <td>175</td>\n      <td>3.15</td>\n      <td>3.440</td>\n      <td>17.02</td>\n      <td>0</td>\n      <td>0</td>\n      <td>3</td>\n      <td>2</td>\n    </tr>\n  </tbody>\n</table>\n</div>"
     },
     "execution_count": 4,
     "metadata": {},
     "output_type": "execute_result"
    }
   ]
  },
  {
   "cell_type": "code",
   "metadata": {
    "id": "2H-cUmIzLDll",
    "colab_type": "code",
    "colab": {
     "base_uri": "https://localhost:8080/",
     "height": 85
    },
    "outputId": "bc9a3b25-ea4f-4227-c2ce-311f632fd330"
   },
   "source": [
    "num_cylinders = cars['cyl'].value_counts()\n",
    "num_cylinders"
   ],
   "execution_count": 5,
   "outputs": [
    {
     "data": {
      "text/plain": "8    14\n4    11\n6     7\nName: cyl, dtype: int64"
     },
     "execution_count": 5,
     "metadata": {},
     "output_type": "execute_result"
    }
   ]
  },
  {
   "cell_type": "code",
   "metadata": {
    "id": "bjqhk0Z5LJVz",
    "colab_type": "code",
    "colab": {
     "base_uri": "https://localhost:8080/",
     "height": 312
    },
    "outputId": "0dec445d-c4d4-472c-82d7-a9eebe740eec"
   },
   "source": [
    "plt.bar(num_cylinders.keys(), num_cylinders, color=['black',  'blue', 'orange'])\n",
    "plt.title('Count of cars by Cylinder')\n",
    "plt.xlabel('Num. of Cylinder')\n",
    "plt.ylabel('Count')"
   ],
   "execution_count": 6,
   "outputs": [
    {
     "data": {
      "text/plain": "Text(0, 0.5, 'Count')"
     },
     "execution_count": 6,
     "metadata": {},
     "output_type": "execute_result"
    },
    {
     "data": {
      "text/plain": "<Figure size 432x288 with 1 Axes>",
      "image/png": "[encoded data removed]"
     },
     "metadata": {
      "needs_background": "light"
     },
     "output_type": "display_data"
    }
   ]
  },
  {
   "cell_type": "code",
   "metadata": {
    "id": "nHQDjFPCLNR-",
    "colab_type": "code",
    "colab": {
     "base_uri": "https://localhost:8080/",
     "height": 204
    },
    "outputId": "5c966b02-f0de-4930-ce29-79722a1dc531"
   },
   "source": [
    "![ ! -f \"./iris/iris.data\" ] && mkdir ./iris/ && wget \"https://archive.ics.uci.edu/ml/machine-learning-databases/iris/iris.data\" -O ./iris/iris.data"
   ],
   "execution_count": 7,
   "outputs": [
    {
     "name": "stdout",
     "output_type": "stream",
     "text": [
      "--2020-08-09 14:54:13--  https://archive.ics.uci.edu/ml/machine-learning-databases/iris/iris.data\r\n",
      "Resolving archive.ics.uci.edu (archive.ics.uci.edu)... 128.195.10.252\r\n",
      "Connecting to archive.ics.uci.edu (archive.ics.uci.edu)|128.195.10.252|:443... connected.\r\n",
      "HTTP request sent, awaiting response... 200 OK\r\n",
      "Length: 4551 (4.4K) [application/x-httpd-php]\r\n",
      "Saving to: ‘./iris/iris.data’\r\n",
      "\r\n",
      "./iris/iris.data    100%[===================>]   4.44K  --.-KB/s    in 0s      \r\n",
      "\r\n",
      "2020-08-09 14:54:13 (217 MB/s) - ‘./iris/iris.data’ saved [4551/4551]\r\n",
      "\r\n"
     ]
    }
   ]
  },
  {
   "cell_type": "markdown",
   "metadata": {
    "id": "0PZUBlmlZ1gR",
    "colab_type": "text"
   },
   "source": [
    "This dataset doesn't include the attribute names in its header so we need to specify them manually, or the first line of the file will be regarded as the header."
   ]
  },
  {
   "cell_type": "code",
   "metadata": {
    "id": "4yNWtgfxMTmB",
    "colab_type": "code",
    "colab": {}
   },
   "source": [
    "iris = pd.read_csv('./iris/iris.data', names=['sepal_length', 'sepal_width', 'petal_length', 'petal_width', 'class'])"
   ],
   "execution_count": 8,
   "outputs": []
  },
  {
   "cell_type": "code",
   "metadata": {
    "id": "D5XmiXLWMqZP",
    "colab_type": "code",
    "colab": {
     "base_uri": "https://localhost:8080/",
     "height": 359
    },
    "outputId": "765aef33-0094-4192-cda4-6794a3e85999"
   },
   "source": [
    "iris.sample(10)"
   ],
   "execution_count": 9,
   "outputs": [
    {
     "data": {
      "text/plain": "     sepal_length  sepal_width  petal_length  petal_width            class\n90            5.5          2.6           4.4          1.2  Iris-versicolor\n30            4.8          3.1           1.6          0.2      Iris-setosa\n88            5.6          3.0           4.1          1.3  Iris-versicolor\n95            5.7          3.0           4.2          1.2  Iris-versicolor\n53            5.5          2.3           4.0          1.3  Iris-versicolor\n27            5.2          3.5           1.5          0.2      Iris-setosa\n106           4.9          2.5           4.5          1.7   Iris-virginica\n108           6.7          2.5           5.8          1.8   Iris-virginica\n86            6.7          3.1           4.7          1.5  Iris-versicolor\n43            5.0          3.5           1.6          0.6      Iris-setosa",
      "text/html": "<div>\n<style scoped>\n    .dataframe tbody tr th:only-of-type {\n        vertical-align: middle;\n    }\n\n    .dataframe tbody tr th {\n        vertical-align: top;\n    }\n\n    .dataframe thead th {\n        text-align: right;\n    }\n</style>\n<table border=\"1\" class=\"dataframe\">\n  <thead>\n    <tr style=\"text-align: right;\">\n      <th></th>\n      <th>sepal_length</th>\n      <th>sepal_width</th>\n      <th>petal_length</th>\n      <th>petal_width</th>\n      <th>class</th>\n    </tr>\n  </thead>\n  <tbody>\n    <tr>\n      <td>90</td>\n      <td>5.5</td>\n      <td>2.6</td>\n      <td>4.4</td>\n      <td>1.2</td>\n      <td>Iris-versicolor</td>\n    </tr>\n    <tr>\n      <td>30</td>\n      <td>4.8</td>\n      <td>3.1</td>\n      <td>1.6</td>\n      <td>0.2</td>\n      <td>Iris-setosa</td>\n    </tr>\n    <tr>\n      <td>88</td>\n      <td>5.6</td>\n      <td>3.0</td>\n      <td>4.1</td>\n      <td>1.3</td>\n      <td>Iris-versicolor</td>\n    </tr>\n    <tr>\n      <td>95</td>\n      <td>5.7</td>\n      <td>3.0</td>\n      <td>4.2</td>\n      <td>1.2</td>\n      <td>Iris-versicolor</td>\n    </tr>\n    <tr>\n      <td>53</td>\n      <td>5.5</td>\n      <td>2.3</td>\n      <td>4.0</td>\n      <td>1.3</td>\n      <td>Iris-versicolor</td>\n    </tr>\n    <tr>\n      <td>27</td>\n      <td>5.2</td>\n      <td>3.5</td>\n      <td>1.5</td>\n      <td>0.2</td>\n      <td>Iris-setosa</td>\n    </tr>\n    <tr>\n      <td>106</td>\n      <td>4.9</td>\n      <td>2.5</td>\n      <td>4.5</td>\n      <td>1.7</td>\n      <td>Iris-virginica</td>\n    </tr>\n    <tr>\n      <td>108</td>\n      <td>6.7</td>\n      <td>2.5</td>\n      <td>5.8</td>\n      <td>1.8</td>\n      <td>Iris-virginica</td>\n    </tr>\n    <tr>\n      <td>86</td>\n      <td>6.7</td>\n      <td>3.1</td>\n      <td>4.7</td>\n      <td>1.5</td>\n      <td>Iris-versicolor</td>\n    </tr>\n    <tr>\n      <td>43</td>\n      <td>5.0</td>\n      <td>3.5</td>\n      <td>1.6</td>\n      <td>0.6</td>\n      <td>Iris-setosa</td>\n    </tr>\n  </tbody>\n</table>\n</div>"
     },
     "execution_count": 9,
     "metadata": {},
     "output_type": "execute_result"
    }
   ]
  },
  {
   "cell_type": "code",
   "metadata": {
    "id": "t0zJWRw0M2yd",
    "colab_type": "code",
    "colab": {
     "base_uri": "https://localhost:8080/",
     "height": 366
    },
    "outputId": "9147a55e-1da2-484c-b806-dd48a32cf346"
   },
   "source": [
    "plt.subplot(1, 2, 1)\n",
    "plt.hist(iris['sepal_length'], bins=50)\n",
    "plt.xlabel('Sepal Length')\n",
    "plt.ylabel('Count')\n",
    "plt.title('Histogram of Sepal length with 50 bins')\n",
    "plt.subplots_adjust(bottom=0, top=1, left=-0.5, right=1.5)\n",
    "plt.subplot(1, 2, 2)\n",
    "plt.hist(iris['sepal_length'], bins=20)\n",
    "plt.xlabel('Sepal Length')\n",
    "plt.ylabel('Count')\n",
    "plt.title('Histogram of Sepal length with 20 bins')\n",
    "plt.subplots_adjust(bottom=0, top=1, left=-0.5, right=1.5)"
   ],
   "execution_count": 10,
   "outputs": [
    {
     "data": {
      "text/plain": "<Figure size 432x288 with 2 Axes>",
      "image/png": "[encoded data removed]"
     },
     "metadata": {
      "needs_background": "light"
     },
     "output_type": "display_data"
    }
   ]
  },
  {
   "cell_type": "code",
   "metadata": {
    "id": "5gKrt2pqOM6a",
    "colab_type": "code",
    "colab": {
     "base_uri": "https://localhost:8080/",
     "height": 296
    },
    "outputId": "4718a445-cfd0-4255-eafa-23d86ebd47ce",
    "pycharm": {
     "name": "#%%\n"
    }
   },
   "source": [
    "n_bins = 20\n",
    "\n",
    "setosa = iris[iris['class'] == 'Iris-setosa']\n",
    "versicolor = iris[iris['class'] == 'Iris-versicolor']\n",
    "virginica = iris[iris['class'] == 'Iris-virginica']\n",
    "\n",
    "\n",
    "colors = ['orange', 'blue', 'black']\n",
    "labels = ['setosa','versicolor','virginica']\n",
    "x_multi = [setosa['sepal_length'],versicolor['sepal_length'],virginica['sepal_length']]\n",
    "plt.hist(x_multi, n_bins, histtype='bar',color=colors,label= labels)\n",
    "plt.legend(prop={'size': 10})\n",
    "plt.xlabel('Sepal Length')\n",
    "plt.ylabel('Count')"
   ],
   "execution_count": 11,
   "outputs": [
    {
     "data": {
      "text/plain": "Text(0, 0.5, 'Count')"
     },
     "execution_count": 11,
     "metadata": {},
     "output_type": "execute_result"
    },
    {
     "data": {
      "text/plain": "<Figure size 432x288 with 1 Axes>",
      "image/png": "[encoded data removed]"
     },
     "metadata": {
      "needs_background": "light"
     },
     "output_type": "display_data"
    }
   ]
  }
 ]
}