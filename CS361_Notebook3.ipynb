{
 "nbformat": 4,
 "nbformat_minor": 0,
 "metadata": {
  "colab": {
   "name": "CS361_Notebook3.ipynb",
   "provenance": []
  },
  "kernelspec": {
   "name": "kotlin",
   "language": "kotlin",
   "display_name": "Kotlin"
  }
 },
 "cells": [
  {
   "cell_type": "markdown",
   "metadata": {
    "id": "LNy5SjA4q60Z",
    "colab_type": "text"
   },
   "source": [
    "# Correlation"
   ]
  },
  {
   "cell_type": "code",
   "metadata": {
    "id": "j-2-E43-qdwD",
    "colab_type": "code",
    "colab": {}
   },
   "source": [
    "\n",
    "import numpy as np\n",
    "import pandas as pd\n",
    "import matplotlib.pyplot as plt\n",
    "%matplotlib inline"
   ],
   "execution_count": 1,
   "outputs": []
  },
  {
   "cell_type": "code",
   "metadata": {
    "id": "cSLPGWRsqm-v",
    "colab_type": "code",
    "colab": {}
   },
   "source": [
    "![ ! -f \"./bodyfat/Bodyfat.csv\" ] && git clone \"https://gist.github.com/eee599d5256f9db493a6eab32e1dcbcf.git\" ./bodyfat/"
   ],
   "execution_count": 2,
   "outputs": []
  },
  {
   "cell_type": "code",
   "metadata": {
    "id": "3-KhWWXrq0Un",
    "colab_type": "code",
    "colab": {}
   },
   "source": [
    "body_fat = pd.read_csv(\"./bodyfat/Bodyfat.csv\")"
   ],
   "execution_count": 3,
   "outputs": []
  },
  {
   "cell_type": "code",
   "metadata": {
    "id": "eNWk5Z9zrE6G",
    "colab_type": "code",
    "colab": {
     "base_uri": "https://localhost:8080/",
     "height": 359
    },
    "outputId": "de9b8a3b-e4a4-497a-b789-35b0fe787204"
   },
   "source": [
    "body_fat.sample(10)"
   ],
   "execution_count": 4,
   "outputs": [
    {
     "output_type": "execute_result",
     "data": {
      "text/html": [
       "<div>\n",
       "<style scoped>\n",
       "    .dataframe tbody tr th:only-of-type {\n",
       "        vertical-align: middle;\n",
       "    }\n",
       "\n",
       "    .dataframe tbody tr th {\n",
       "        vertical-align: top;\n",
       "    }\n",
       "\n",
       "    .dataframe thead th {\n",
       "        text-align: right;\n",
       "    }\n",
       "</style>\n",
       "<table border=\"1\" class=\"dataframe\">\n",
       "  <thead>\n",
       "    <tr style=\"text-align: right;\">\n",
       "      <th></th>\n",
       "      <th>Density</th>\n",
       "      <th>bodyfat</th>\n",
       "      <th>Age</th>\n",
       "      <th>Weight</th>\n",
       "      <th>Height</th>\n",
       "      <th>Neck</th>\n",
       "      <th>Chest</th>\n",
       "      <th>Abdomen</th>\n",
       "      <th>Hip</th>\n",
       "      <th>Thigh</th>\n",
       "      <th>Knee</th>\n",
       "      <th>Ankle</th>\n",
       "      <th>Biceps</th>\n",
       "      <th>Forearm</th>\n",
       "      <th>Wrist</th>\n",
       "    </tr>\n",
       "  </thead>\n",
       "  <tbody>\n",
       "    <tr>\n",
       "      <th>120</th>\n",
       "      <td>1.0358</td>\n",
       "      <td>27.9</td>\n",
       "      <td>52</td>\n",
       "      <td>206.50</td>\n",
       "      <td>74.50</td>\n",
       "      <td>40.8</td>\n",
       "      <td>104.3</td>\n",
       "      <td>99.2</td>\n",
       "      <td>104.1</td>\n",
       "      <td>58.5</td>\n",
       "      <td>39.3</td>\n",
       "      <td>24.6</td>\n",
       "      <td>33.9</td>\n",
       "      <td>31.2</td>\n",
       "      <td>19.5</td>\n",
       "    </tr>\n",
       "    <tr>\n",
       "      <th>210</th>\n",
       "      <td>1.0829</td>\n",
       "      <td>7.1</td>\n",
       "      <td>49</td>\n",
       "      <td>140.50</td>\n",
       "      <td>68.00</td>\n",
       "      <td>35.8</td>\n",
       "      <td>91.2</td>\n",
       "      <td>79.4</td>\n",
       "      <td>89.0</td>\n",
       "      <td>51.1</td>\n",
       "      <td>35.0</td>\n",
       "      <td>21.7</td>\n",
       "      <td>30.9</td>\n",
       "      <td>28.8</td>\n",
       "      <td>17.4</td>\n",
       "    </tr>\n",
       "    <tr>\n",
       "      <th>199</th>\n",
       "      <td>1.0462</td>\n",
       "      <td>23.6</td>\n",
       "      <td>43</td>\n",
       "      <td>170.75</td>\n",
       "      <td>67.50</td>\n",
       "      <td>37.4</td>\n",
       "      <td>103.7</td>\n",
       "      <td>89.7</td>\n",
       "      <td>94.2</td>\n",
       "      <td>58.5</td>\n",
       "      <td>39.0</td>\n",
       "      <td>24.1</td>\n",
       "      <td>33.8</td>\n",
       "      <td>28.8</td>\n",
       "      <td>18.8</td>\n",
       "    </tr>\n",
       "    <tr>\n",
       "      <th>183</th>\n",
       "      <td>1.0713</td>\n",
       "      <td>12.1</td>\n",
       "      <td>40</td>\n",
       "      <td>159.25</td>\n",
       "      <td>69.75</td>\n",
       "      <td>35.3</td>\n",
       "      <td>92.3</td>\n",
       "      <td>86.8</td>\n",
       "      <td>96.1</td>\n",
       "      <td>58.0</td>\n",
       "      <td>39.4</td>\n",
       "      <td>22.7</td>\n",
       "      <td>30.0</td>\n",
       "      <td>26.4</td>\n",
       "      <td>17.4</td>\n",
       "    </tr>\n",
       "    <tr>\n",
       "      <th>133</th>\n",
       "      <td>1.0398</td>\n",
       "      <td>26.1</td>\n",
       "      <td>50</td>\n",
       "      <td>157.00</td>\n",
       "      <td>66.75</td>\n",
       "      <td>37.8</td>\n",
       "      <td>100.4</td>\n",
       "      <td>89.4</td>\n",
       "      <td>92.3</td>\n",
       "      <td>56.1</td>\n",
       "      <td>35.6</td>\n",
       "      <td>20.5</td>\n",
       "      <td>33.6</td>\n",
       "      <td>29.3</td>\n",
       "      <td>17.3</td>\n",
       "    </tr>\n",
       "    <tr>\n",
       "      <th>96</th>\n",
       "      <td>1.0770</td>\n",
       "      <td>9.6</td>\n",
       "      <td>38</td>\n",
       "      <td>188.75</td>\n",
       "      <td>73.25</td>\n",
       "      <td>37.5</td>\n",
       "      <td>99.1</td>\n",
       "      <td>91.6</td>\n",
       "      <td>102.4</td>\n",
       "      <td>60.6</td>\n",
       "      <td>39.4</td>\n",
       "      <td>22.9</td>\n",
       "      <td>31.6</td>\n",
       "      <td>30.1</td>\n",
       "      <td>18.5</td>\n",
       "    </tr>\n",
       "    <tr>\n",
       "      <th>71</th>\n",
       "      <td>1.0788</td>\n",
       "      <td>8.8</td>\n",
       "      <td>55</td>\n",
       "      <td>146.75</td>\n",
       "      <td>68.75</td>\n",
       "      <td>38.7</td>\n",
       "      <td>88.5</td>\n",
       "      <td>82.8</td>\n",
       "      <td>95.5</td>\n",
       "      <td>58.9</td>\n",
       "      <td>37.6</td>\n",
       "      <td>21.6</td>\n",
       "      <td>30.3</td>\n",
       "      <td>27.3</td>\n",
       "      <td>18.3</td>\n",
       "    </tr>\n",
       "    <tr>\n",
       "      <th>167</th>\n",
       "      <td>1.0525</td>\n",
       "      <td>20.3</td>\n",
       "      <td>35</td>\n",
       "      <td>224.75</td>\n",
       "      <td>72.25</td>\n",
       "      <td>43.9</td>\n",
       "      <td>108.2</td>\n",
       "      <td>100.4</td>\n",
       "      <td>106.8</td>\n",
       "      <td>63.3</td>\n",
       "      <td>41.7</td>\n",
       "      <td>24.6</td>\n",
       "      <td>37.2</td>\n",
       "      <td>33.1</td>\n",
       "      <td>19.8</td>\n",
       "    </tr>\n",
       "    <tr>\n",
       "      <th>180</th>\n",
       "      <td>1.0387</td>\n",
       "      <td>26.6</td>\n",
       "      <td>39</td>\n",
       "      <td>219.25</td>\n",
       "      <td>74.25</td>\n",
       "      <td>40.0</td>\n",
       "      <td>108.5</td>\n",
       "      <td>104.6</td>\n",
       "      <td>109.8</td>\n",
       "      <td>68.1</td>\n",
       "      <td>42.8</td>\n",
       "      <td>24.1</td>\n",
       "      <td>35.6</td>\n",
       "      <td>29.0</td>\n",
       "      <td>19.0</td>\n",
       "    </tr>\n",
       "    <tr>\n",
       "      <th>132</th>\n",
       "      <td>1.0452</td>\n",
       "      <td>23.6</td>\n",
       "      <td>47</td>\n",
       "      <td>197.00</td>\n",
       "      <td>73.25</td>\n",
       "      <td>37.8</td>\n",
       "      <td>103.6</td>\n",
       "      <td>99.8</td>\n",
       "      <td>103.2</td>\n",
       "      <td>61.2</td>\n",
       "      <td>38.1</td>\n",
       "      <td>22.6</td>\n",
       "      <td>33.5</td>\n",
       "      <td>28.6</td>\n",
       "      <td>17.9</td>\n",
       "    </tr>\n",
       "  </tbody>\n",
       "</table>\n",
       "</div>"
      ],
      "text/plain": [
       "     Density  bodyfat  Age  Weight  Height  ...  Knee  Ankle  Biceps  Forearm  Wrist\n",
       "120   1.0358     27.9   52  206.50   74.50  ...  39.3   24.6    33.9     31.2   19.5\n",
       "210   1.0829      7.1   49  140.50   68.00  ...  35.0   21.7    30.9     28.8   17.4\n",
       "199   1.0462     23.6   43  170.75   67.50  ...  39.0   24.1    33.8     28.8   18.8\n",
       "183   1.0713     12.1   40  159.25   69.75  ...  39.4   22.7    30.0     26.4   17.4\n",
       "133   1.0398     26.1   50  157.00   66.75  ...  35.6   20.5    33.6     29.3   17.3\n",
       "96    1.0770      9.6   38  188.75   73.25  ...  39.4   22.9    31.6     30.1   18.5\n",
       "71    1.0788      8.8   55  146.75   68.75  ...  37.6   21.6    30.3     27.3   18.3\n",
       "167   1.0525     20.3   35  224.75   72.25  ...  41.7   24.6    37.2     33.1   19.8\n",
       "180   1.0387     26.6   39  219.25   74.25  ...  42.8   24.1    35.6     29.0   19.0\n",
       "132   1.0452     23.6   47  197.00   73.25  ...  38.1   22.6    33.5     28.6   17.9\n",
       "\n",
       "[10 rows x 15 columns]"
      ]
     },
     "metadata": {
      "tags": []
     },
     "execution_count": 4
    }
   ]
  },
  {
   "cell_type": "code",
   "metadata": {
    "id": "fTq-JgZvrLd7",
    "colab_type": "code",
    "colab": {}
   },
   "source": [
    "weight_height = body_fat.filter([\"Weight\", \"Height\"])"
   ],
   "execution_count": 5,
   "outputs": []
  },
  {
   "cell_type": "code",
   "metadata": {
    "id": "OZEYJFK0rVQI",
    "colab_type": "code",
    "colab": {
     "base_uri": "https://localhost:8080/",
     "height": 111
    },
    "outputId": "1e794892-b982-4075-a2a2-459701615bcf"
   },
   "source": [
    "weight_height.corr()"
   ],
   "execution_count": 6,
   "outputs": [
    {
     "output_type": "execute_result",
     "data": {
      "text/html": [
       "<div>\n",
       "<style scoped>\n",
       "    .dataframe tbody tr th:only-of-type {\n",
       "        vertical-align: middle;\n",
       "    }\n",
       "\n",
       "    .dataframe tbody tr th {\n",
       "        vertical-align: top;\n",
       "    }\n",
       "\n",
       "    .dataframe thead th {\n",
       "        text-align: right;\n",
       "    }\n",
       "</style>\n",
       "<table border=\"1\" class=\"dataframe\">\n",
       "  <thead>\n",
       "    <tr style=\"text-align: right;\">\n",
       "      <th></th>\n",
       "      <th>Weight</th>\n",
       "      <th>Height</th>\n",
       "    </tr>\n",
       "  </thead>\n",
       "  <tbody>\n",
       "    <tr>\n",
       "      <th>Weight</th>\n",
       "      <td>1.000000</td>\n",
       "      <td>0.308279</td>\n",
       "    </tr>\n",
       "    <tr>\n",
       "      <th>Height</th>\n",
       "      <td>0.308279</td>\n",
       "      <td>1.000000</td>\n",
       "    </tr>\n",
       "  </tbody>\n",
       "</table>\n",
       "</div>"
      ],
      "text/plain": [
       "          Weight    Height\n",
       "Weight  1.000000  0.308279\n",
       "Height  0.308279  1.000000"
      ]
     },
     "metadata": {
      "tags": []
     },
     "execution_count": 6
    }
   ]
  },
  {
   "cell_type": "markdown",
   "metadata": {
    "id": "h4syaUWwrcz7",
    "colab_type": "text"
   },
   "source": [
    "# Scatter Plot"
   ]
  },
  {
   "cell_type": "code",
   "metadata": {
    "id": "HioBiCoMrWF1",
    "colab_type": "code",
    "colab": {
     "base_uri": "https://localhost:8080/",
     "height": 530
    },
    "outputId": "848aef70-9787-4a14-e093-89093b3cb9c3"
   },
   "source": [
    "plt.figure(figsize=(8,8))\n",
    "plt.scatter(body_fat['Height'], body_fat['Weight'])\n",
    "plt.xlabel(\"Height\")\n",
    "plt.ylabel(\"Weight\")\n",
    "plt.title(\"Scatter plot of Height vs. Weight\")"
   ],
   "execution_count": 7,
   "outputs": [
    {
     "output_type": "execute_result",
     "data": {
      "text/plain": [
       "Text(0.5, 1.0, 'Scatter plot of Height vs. Weight')"
      ]
     },
     "metadata": {
      "tags": []
     },
     "execution_count": 7
    },
    {
     "output_type": "display_data",
     "data": {
      "image/png": "[encoded data removed]",
      "text/plain": [
       "<Figure size 576x576 with 1 Axes>"
      ]
     },
     "metadata": {
      "tags": [],
      "needs_background": "light"
     }
    }
   ]
  },
  {
   "cell_type": "markdown",
   "metadata": {
    "id": "Tml_zBm1tWET",
    "colab_type": "text"
   },
   "source": [
    "# Remove Outliers"
   ]
  },
  {
   "cell_type": "markdown",
   "metadata": {
    "id": "v4X3myzQlrmO",
    "colab_type": "text"
   },
   "source": [
    "## By $1.5IQR$"
   ]
  },
  {
   "cell_type": "code",
   "metadata": {
    "id": "UrJ0jlhStOzs",
    "colab_type": "code",
    "colab": {}
   },
   "source": [
    "height_iqr_lower = weight_height['Height'].quantile(0.25)\n",
    "height_iqr_upper = weight_height['Height'].quantile(0.75)\n",
    "weight_iqr_lower = weight_height['Weight'].quantile(0.25)\n",
    "weight_iqr_upper = weight_height['Weight'].quantile(0.75)"
   ],
   "execution_count": 8,
   "outputs": []
  },
  {
   "cell_type": "code",
   "metadata": {
    "id": "7O6JNexAFKeC",
    "colab_type": "code",
    "colab": {}
   },
   "source": [
    "body_fat_clean = weight_height[(body_fat['Height'] > height_iqr_lower) &\n",
    "                               (body_fat['Height'] < height_iqr_upper) &\n",
    "                               (body_fat['Weight'] < weight_iqr_upper) &\n",
    "                               (body_fat['Weight'] > weight_iqr_lower)]"
   ],
   "execution_count": 9,
   "outputs": []
  },
  {
   "cell_type": "code",
   "metadata": {
    "id": "MLdY1aZ7FPO3",
    "colab_type": "code",
    "colab": {
     "base_uri": "https://localhost:8080/",
     "height": 419
    },
    "outputId": "512392f0-1403-4e6d-a130-ea964f53a2e7"
   },
   "source": [
    "body_fat_clean"
   ],
   "execution_count": 10,
   "outputs": [
    {
     "output_type": "execute_result",
     "data": {
      "text/html": [
       "<div>\n",
       "<style scoped>\n",
       "    .dataframe tbody tr th:only-of-type {\n",
       "        vertical-align: middle;\n",
       "    }\n",
       "\n",
       "    .dataframe tbody tr th {\n",
       "        vertical-align: top;\n",
       "    }\n",
       "\n",
       "    .dataframe thead th {\n",
       "        text-align: right;\n",
       "    }\n",
       "</style>\n",
       "<table border=\"1\" class=\"dataframe\">\n",
       "  <thead>\n",
       "    <tr style=\"text-align: right;\">\n",
       "      <th></th>\n",
       "      <th>Weight</th>\n",
       "      <th>Height</th>\n",
       "    </tr>\n",
       "  </thead>\n",
       "  <tbody>\n",
       "    <tr>\n",
       "      <th>4</th>\n",
       "      <td>184.25</td>\n",
       "      <td>71.25</td>\n",
       "    </tr>\n",
       "    <tr>\n",
       "      <th>6</th>\n",
       "      <td>181.00</td>\n",
       "      <td>69.75</td>\n",
       "    </tr>\n",
       "    <tr>\n",
       "      <th>12</th>\n",
       "      <td>180.50</td>\n",
       "      <td>69.50</td>\n",
       "    </tr>\n",
       "    <tr>\n",
       "      <th>14</th>\n",
       "      <td>187.75</td>\n",
       "      <td>69.50</td>\n",
       "    </tr>\n",
       "    <tr>\n",
       "      <th>16</th>\n",
       "      <td>195.75</td>\n",
       "      <td>71.00</td>\n",
       "    </tr>\n",
       "    <tr>\n",
       "      <th>...</th>\n",
       "      <td>...</td>\n",
       "      <td>...</td>\n",
       "    </tr>\n",
       "    <tr>\n",
       "      <th>228</th>\n",
       "      <td>174.50</td>\n",
       "      <td>69.50</td>\n",
       "    </tr>\n",
       "    <tr>\n",
       "      <th>229</th>\n",
       "      <td>167.75</td>\n",
       "      <td>68.50</td>\n",
       "    </tr>\n",
       "    <tr>\n",
       "      <th>231</th>\n",
       "      <td>182.25</td>\n",
       "      <td>71.75</td>\n",
       "    </tr>\n",
       "    <tr>\n",
       "      <th>232</th>\n",
       "      <td>175.50</td>\n",
       "      <td>71.50</td>\n",
       "    </tr>\n",
       "    <tr>\n",
       "      <th>250</th>\n",
       "      <td>190.75</td>\n",
       "      <td>70.50</td>\n",
       "    </tr>\n",
       "  </tbody>\n",
       "</table>\n",
       "<p>66 rows × 2 columns</p>\n",
       "</div>"
      ],
      "text/plain": [
       "     Weight  Height\n",
       "4    184.25   71.25\n",
       "6    181.00   69.75\n",
       "12   180.50   69.50\n",
       "14   187.75   69.50\n",
       "16   195.75   71.00\n",
       "..      ...     ...\n",
       "228  174.50   69.50\n",
       "229  167.75   68.50\n",
       "231  182.25   71.75\n",
       "232  175.50   71.50\n",
       "250  190.75   70.50\n",
       "\n",
       "[66 rows x 2 columns]"
      ]
     },
     "metadata": {
      "tags": []
     },
     "execution_count": 10
    }
   ]
  },
  {
   "cell_type": "markdown",
   "metadata": {
    "id": "WB8yFXFRl1CH",
    "colab_type": "text"
   },
   "source": [
    "This doesn't look good because we've lost a lot of data due to the stretched shape of the blob."
   ]
  },
  {
   "cell_type": "code",
   "metadata": {
    "id": "hFY7IqtSHLnk",
    "colab_type": "code",
    "colab": {
     "base_uri": "https://localhost:8080/",
     "height": 530
    },
    "outputId": "ab196d66-e1cd-4f25-c773-d55caa066af8"
   },
   "source": [
    "plt.figure(figsize=(8,8))\n",
    "plt.scatter(body_fat_clean['Height'], body_fat_clean['Weight'])\n",
    "plt.xlabel('Height')\n",
    "plt.ylabel('Weight')\n",
    "plt.title('Scatter plot of Height vs. Weight')"
   ],
   "execution_count": 11,
   "outputs": [
    {
     "output_type": "execute_result",
     "data": {
      "text/plain": [
       "Text(0.5, 1.0, 'Scatter plot of Height vs. Weight')"
      ]
     },
     "metadata": {
      "tags": []
     },
     "execution_count": 11
    },
    {
     "output_type": "display_data",
     "data": {
      "image/png": "[encoded data removed]",
      "text/plain": [
       "<Figure size 576x576 with 1 Axes>"
      ]
     },
     "metadata": {
      "tags": [],
      "needs_background": "light"
     }
    }
   ]
  },
  {
   "cell_type": "code",
   "metadata": {
    "id": "eBnzKf6_H5-W",
    "colab_type": "code",
    "colab": {
     "base_uri": "https://localhost:8080/",
     "height": 111
    },
    "outputId": "82152172-0c59-451f-f752-1976d344b08c"
   },
   "source": [
    "body_fat_clean.corr()"
   ],
   "execution_count": 12,
   "outputs": [
    {
     "output_type": "execute_result",
     "data": {
      "text/html": [
       "<div>\n",
       "<style scoped>\n",
       "    .dataframe tbody tr th:only-of-type {\n",
       "        vertical-align: middle;\n",
       "    }\n",
       "\n",
       "    .dataframe tbody tr th {\n",
       "        vertical-align: top;\n",
       "    }\n",
       "\n",
       "    .dataframe thead th {\n",
       "        text-align: right;\n",
       "    }\n",
       "</style>\n",
       "<table border=\"1\" class=\"dataframe\">\n",
       "  <thead>\n",
       "    <tr style=\"text-align: right;\">\n",
       "      <th></th>\n",
       "      <th>Weight</th>\n",
       "      <th>Height</th>\n",
       "    </tr>\n",
       "  </thead>\n",
       "  <tbody>\n",
       "    <tr>\n",
       "      <th>Weight</th>\n",
       "      <td>1.000000</td>\n",
       "      <td>0.068109</td>\n",
       "    </tr>\n",
       "    <tr>\n",
       "      <th>Height</th>\n",
       "      <td>0.068109</td>\n",
       "      <td>1.000000</td>\n",
       "    </tr>\n",
       "  </tbody>\n",
       "</table>\n",
       "</div>"
      ],
      "text/plain": [
       "          Weight    Height\n",
       "Weight  1.000000  0.068109\n",
       "Height  0.068109  1.000000"
      ]
     },
     "metadata": {
      "tags": []
     },
     "execution_count": 12
    }
   ]
  },
  {
   "cell_type": "markdown",
   "metadata": {
    "id": "X_aoBrqumLST",
    "colab_type": "text"
   },
   "source": [
    "## By Observation"
   ]
  },
  {
   "cell_type": "code",
   "metadata": {
    "id": "YBxaBgzNIBpI",
    "colab_type": "code",
    "colab": {}
   },
   "source": [
    "body_fat_clean = weight_height[(body_fat['Height'] > 40) & (body_fat['Weight'] < 350)]"
   ],
   "execution_count": 13,
   "outputs": []
  },
  {
   "cell_type": "code",
   "metadata": {
    "id": "HrNDDi4ImSOe",
    "colab_type": "code",
    "colab": {
     "base_uri": "https://localhost:8080/",
     "height": 530
    },
    "outputId": "884c9e9b-c065-4670-e939-7afd26494c0f"
   },
   "source": [
    "plt.figure(figsize=(8,8))\n",
    "plt.scatter(body_fat_clean['Height'], body_fat_clean['Weight'])\n",
    "plt.xlabel('Height')\n",
    "plt.ylabel('Weight')\n",
    "plt.title('Scatter plot of Height vs. Weight')"
   ],
   "execution_count": 14,
   "outputs": [
    {
     "output_type": "execute_result",
     "data": {
      "text/plain": [
       "Text(0.5, 1.0, 'Scatter plot of Height vs. Weight')"
      ]
     },
     "metadata": {
      "tags": []
     },
     "execution_count": 14
    },
    {
     "output_type": "display_data",
     "data": {
      "image/png": "[encoded data removed]",
      "text/plain": [
       "<Figure size 576x576 with 1 Axes>"
      ]
     },
     "metadata": {
      "tags": [],
      "needs_background": "light"
     }
    }
   ]
  },
  {
   "cell_type": "code",
   "metadata": {
    "id": "Qo581XGlmTTB",
    "colab_type": "code",
    "colab": {
     "base_uri": "https://localhost:8080/",
     "height": 111
    },
    "outputId": "4f4b0eac-6177-4c79-ef04-7d2dda81f8b9"
   },
   "source": [
    "body_fat_clean.corr()"
   ],
   "execution_count": 15,
   "outputs": [
    {
     "output_type": "execute_result",
     "data": {
      "text/html": [
       "<div>\n",
       "<style scoped>\n",
       "    .dataframe tbody tr th:only-of-type {\n",
       "        vertical-align: middle;\n",
       "    }\n",
       "\n",
       "    .dataframe tbody tr th {\n",
       "        vertical-align: top;\n",
       "    }\n",
       "\n",
       "    .dataframe thead th {\n",
       "        text-align: right;\n",
       "    }\n",
       "</style>\n",
       "<table border=\"1\" class=\"dataframe\">\n",
       "  <thead>\n",
       "    <tr style=\"text-align: right;\">\n",
       "      <th></th>\n",
       "      <th>Weight</th>\n",
       "      <th>Height</th>\n",
       "    </tr>\n",
       "  </thead>\n",
       "  <tbody>\n",
       "    <tr>\n",
       "      <th>Weight</th>\n",
       "      <td>1.000000</td>\n",
       "      <td>0.512913</td>\n",
       "    </tr>\n",
       "    <tr>\n",
       "      <th>Height</th>\n",
       "      <td>0.512913</td>\n",
       "      <td>1.000000</td>\n",
       "    </tr>\n",
       "  </tbody>\n",
       "</table>\n",
       "</div>"
      ],
      "text/plain": [
       "          Weight    Height\n",
       "Weight  1.000000  0.512913\n",
       "Height  0.512913  1.000000"
      ]
     },
     "metadata": {
      "tags": []
     },
     "execution_count": 15
    }
   ]
  },
  {
   "cell_type": "markdown",
   "metadata": {
    "id": "GJW8UEzBmb1c",
    "colab_type": "text"
   },
   "source": [
    "# Prediction"
   ]
  },
  {
   "cell_type": "code",
   "metadata": {
    "id": "XlysqQbQmW1X",
    "colab_type": "code",
    "colab": {
     "base_uri": "https://localhost:8080/",
     "height": 530
    },
    "outputId": "c111d0a1-8012-49f2-d345-ac09576f620a"
   },
   "source": [
    "x_vals = np.array([np.min(body_fat_clean[\"Height\"]), np.max(body_fat_clean[\"Height\"])])\n",
    "x_vals_standardized = (x_vals - body_fat_clean[\"Height\"].mean()) / body_fat_clean[\"Height\"].std(ddof=0)\n",
    "y_predictions_standardized = body_fat_clean.corr()[\"Height\"][\"Weight\"] * x_vals_standardized\n",
    "y_predictions = y_predictions_standardized * body_fat_clean[\"Weight\"].std(ddof=0) + body_fat_clean[\"Weight\"].mean()\n",
    "plt.figure(figsize=(8,8))\n",
    "plt.scatter(body_fat_clean['Height'], body_fat_clean['Weight'], color='#0455A4')\n",
    "plt.xlabel(\"Height\")\n",
    "plt.ylabel(\"Weight\")\n",
    "plt.title(\"Scatter plot of Weight vs. Height with prediction line\")\n",
    "plt.plot(x_vals, y_predictions, color='#E84A27', linewidth=5)"
   ],
   "execution_count": 16,
   "outputs": [
    {
     "output_type": "execute_result",
     "data": {
      "text/plain": [
       "[<matplotlib.lines.Line2D at 0x7f27422da588>]"
      ]
     },
     "metadata": {
      "tags": []
     },
     "execution_count": 16
    },
    {
     "output_type": "display_data",
     "data": {
      "image/png": "[encoded data removed]",
      "text/plain": [
       "<Figure size 576x576 with 1 Axes>"
      ]
     },
     "metadata": {
      "tags": [],
      "needs_background": "light"
     }
    }
   ]
  }
 ]
}