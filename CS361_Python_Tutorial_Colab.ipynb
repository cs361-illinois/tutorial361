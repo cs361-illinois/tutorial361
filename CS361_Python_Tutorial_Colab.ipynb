{
  "nbformat": 4,
  "nbformat_minor": 0,
  "metadata": {
    "colab": {
      "name": "CS361_Python_Tutorial_Colab.ipynb",
      "provenance": [],
      "collapsed_sections": [],
      "toc_visible": true
    },
    "kernelspec": {
      "name": "python3",
      "display_name": "Python 3"
    }
  },
  "cells": [
    {
      "cell_type": "markdown",
      "metadata": {
        "id": "87oZ6pKNdcuC",
        "colab_type": "text"
      },
      "source": [
        "# Sanity Check"
      ]
    },
    {
      "cell_type": "markdown",
      "metadata": {
        "id": "l4dCpdDseGkz",
        "colab_type": "text"
      },
      "source": [
        "Let's first check a couple packages we need in this class. Anaconda should have all the packages below (except for PyTorch) installed."
      ]
    },
    {
      "cell_type": "code",
      "metadata": {
        "id": "ImIWCCR2dYzX",
        "colab_type": "code",
        "colab": {
          "base_uri": "https://localhost:8080/",
          "height": 71
        },
        "outputId": "46b82018-6bb3-4c14-b497-d7cfda1d41b2"
      },
      "source": [
        "import torch\n",
        "import scipy\n",
        "import sklearn\n",
        "import numpy as np\n",
        "import pandas as pd\n",
        "import seaborn as sns\n",
        "import matplotlib.pyplot as plt"
      ],
      "execution_count": 1,
      "outputs": [
        {
          "output_type": "stream",
          "text": [
            "/usr/local/lib/python3.6/dist-packages/statsmodels/tools/_testing.py:19: FutureWarning: pandas.util.testing is deprecated. Use the functions in the public API at pandas.testing instead.\n",
            "  import pandas.util.testing as tm\n"
          ],
          "name": "stderr"
        }
      ]
    },
    {
      "cell_type": "markdown",
      "metadata": {
        "id": "_w2EzCE7QtQ3",
        "colab_type": "text"
      },
      "source": [
        "Now let's check your Python version. Both 3.7 and 3.6 should work fine. If you have multiple Python environments installed, please pay attention to which one are you using. Nevertheless, we highly recommend using Anaconda to manager your packages."
      ]
    },
    {
      "cell_type": "code",
      "metadata": {
        "id": "9CngkxVId0AA",
        "colab_type": "code",
        "colab": {
          "base_uri": "https://localhost:8080/",
          "height": 34
        },
        "outputId": "bb7d2782-82ae-4302-a228-2260567d5217"
      },
      "source": [
        "!python --version"
      ],
      "execution_count": 2,
      "outputs": [
        {
          "output_type": "stream",
          "text": [
            "Python 3.6.9\n"
          ],
          "name": "stdout"
        }
      ]
    },
    {
      "cell_type": "markdown",
      "metadata": {
        "id": "n2AfCq-eePK4",
        "colab_type": "text"
      },
      "source": [
        "# Orientation to Google Colab"
      ]
    },
    {
      "cell_type": "markdown",
      "metadata": {
        "id": "LjMC0l15V0jT",
        "colab_type": "text"
      },
      "source": [
        "Please note that Google Colab only has temporary storage. Once the current session disconnects (or timesout) all the files in the session storage will be discarded. However, the output from Jupyter Notebook will be saved unless you specify not to do so. You can download/upload files with the GUI in the left panel. If you would like to have a permanent storage (maybe for datasets and results), you can mount your Google Drive to Google Colab by running the cell below. You will be prompted to link your account to Colab. **The code in this section only works on Colab.**"
      ]
    },
    {
      "cell_type": "code",
      "metadata": {
        "id": "ujtFAQzBeTYv",
        "colab_type": "code",
        "colab": {
          "base_uri": "https://localhost:8080/",
          "height": 34
        },
        "outputId": "516ee393-edb8-4c11-e0ed-bee8a459c607"
      },
      "source": [
        "from google.colab import drive\n",
        "drive.mount('/content/drive')"
      ],
      "execution_count": 3,
      "outputs": [
        {
          "output_type": "stream",
          "text": [
            "Drive already mounted at /content/drive; to attempt to forcibly remount, call drive.mount(\"/content/drive\", force_remount=True).\n"
          ],
          "name": "stdout"
        }
      ]
    },
    {
      "cell_type": "markdown",
      "metadata": {
        "id": "ZH8yCBS8MVut",
        "colab_type": "text"
      },
      "source": [
        "Run the cell below and you should see the changes in your Google Drive"
      ]
    },
    {
      "cell_type": "code",
      "metadata": {
        "id": "fyiM_8xyK7Dy",
        "colab_type": "code",
        "colab": {}
      },
      "source": [
        "with open('/content/drive/My Drive/Colab Notebooks/boo.txt', 'w') as f:\n",
        "  f.write('foo')"
      ],
      "execution_count": 4,
      "outputs": []
    },
    {
      "cell_type": "markdown",
      "metadata": {
        "id": "YMbS7C9fMiAK",
        "colab_type": "text"
      },
      "source": [
        "Don't forget to unmout at the end of your session."
      ]
    },
    {
      "cell_type": "code",
      "metadata": {
        "id": "Yfs2fLJZL6Rn",
        "colab_type": "code",
        "colab": {}
      },
      "source": [
        "drive.flush_and_unmount()"
      ],
      "execution_count": 5,
      "outputs": []
    },
    {
      "cell_type": "markdown",
      "metadata": {
        "id": "PbH_EIWGN87x",
        "colab_type": "text"
      },
      "source": [
        "# Python Basics"
      ]
    },
    {
      "cell_type": "markdown",
      "metadata": {
        "id": "Lbhein51OaVy",
        "colab_type": "text"
      },
      "source": [
        "Before diving into Python libraries, let's first take a look at Python's basic programming constructs."
      ]
    },
    {
      "cell_type": "markdown",
      "metadata": {
        "id": "eSW0ph5gOTLV",
        "colab_type": "text"
      },
      "source": [
        "## Basic Syntax"
      ]
    },
    {
      "cell_type": "markdown",
      "metadata": {
        "id": "PJQaaDc4P1Jd",
        "colab_type": "text"
      },
      "source": [
        "### Keywords"
      ]
    },
    {
      "cell_type": "code",
      "metadata": {
        "id": "hgnCskFCPvX_",
        "colab_type": "code",
        "colab": {
          "base_uri": "https://localhost:8080/",
          "height": 578
        },
        "outputId": "87318c64-98bc-4e18-9094-9f6e0f442cc9"
      },
      "source": [
        "import keyword\n",
        "keyword.kwlist"
      ],
      "execution_count": 6,
      "outputs": [
        {
          "output_type": "execute_result",
          "data": {
            "text/plain": [
              "['False',\n",
              " 'None',\n",
              " 'True',\n",
              " 'and',\n",
              " 'as',\n",
              " 'assert',\n",
              " 'break',\n",
              " 'class',\n",
              " 'continue',\n",
              " 'def',\n",
              " 'del',\n",
              " 'elif',\n",
              " 'else',\n",
              " 'except',\n",
              " 'finally',\n",
              " 'for',\n",
              " 'from',\n",
              " 'global',\n",
              " 'if',\n",
              " 'import',\n",
              " 'in',\n",
              " 'is',\n",
              " 'lambda',\n",
              " 'nonlocal',\n",
              " 'not',\n",
              " 'or',\n",
              " 'pass',\n",
              " 'raise',\n",
              " 'return',\n",
              " 'try',\n",
              " 'while',\n",
              " 'with',\n",
              " 'yield']"
            ]
          },
          "metadata": {
            "tags": []
          },
          "execution_count": 6
        }
      ]
    },
    {
      "cell_type": "markdown",
      "metadata": {
        "id": "qMz6oO9BQNW4",
        "colab_type": "text"
      },
      "source": [
        "### Identifiers\n",
        "\n",
        "\n",
        "*   Identifiers in Python are case-sensitive.\n",
        "*   The first character of any Python identifier can't be a digit. Other characters can be alphanumeric or an underscore. Non-ascii characters are also supported in Python 3.\n",
        "*   !, @, #, $, and % are special symbols in Python and you can't use them as identifiers.\n",
        "\n",
        "\n",
        "\n"
      ]
    },
    {
      "cell_type": "markdown",
      "metadata": {
        "id": "jIT8RBolSlRc",
        "colab_type": "text"
      },
      "source": [
        "### Comments"
      ]
    },
    {
      "cell_type": "code",
      "metadata": {
        "id": "tbsJJdt_MrBT",
        "colab_type": "code",
        "colab": {
          "base_uri": "https://localhost:8080/",
          "height": 34
        },
        "outputId": "9e054f92-f7e0-4570-d70a-969d538a7aa0"
      },
      "source": [
        "# boo\n",
        "'''\n",
        "boo\n",
        "foo\n",
        "'''\n",
        "\n",
        "\"\"\"\n",
        "boo\n",
        "foo\n",
        "\"\"\"\n",
        "print(\"Welcome to CS 361!\")"
      ],
      "execution_count": 7,
      "outputs": [
        {
          "output_type": "stream",
          "text": [
            "Welcome to CS 361!\n"
          ],
          "name": "stdout"
        }
      ]
    },
    {
      "cell_type": "markdown",
      "metadata": {
        "id": "GB-Bxh3lTVvo",
        "colab_type": "text"
      },
      "source": [
        "### Indentation\n",
        "Python doesn't use `{}` for code blocks and is indentation-sensitive. This is America, you can whatever number of tabs/spaces you want for each code block, but the indentation level has to be the same within the same code block."
      ]
    },
    {
      "cell_type": "code",
      "metadata": {
        "id": "VDl1rjs5PkqO",
        "colab_type": "code",
        "colab": {
          "base_uri": "https://localhost:8080/",
          "height": 34
        },
        "outputId": "eb8a847f-c1a3-473f-dbf2-1c3c8475bb86"
      },
      "source": [
        "if True:\n",
        "  print(\"True\")\n",
        "else:\n",
        "  print(\"Truth always rests with the minority\")"
      ],
      "execution_count": 8,
      "outputs": [
        {
          "output_type": "stream",
          "text": [
            "True\n"
          ],
          "name": "stdout"
        }
      ]
    },
    {
      "cell_type": "code",
      "metadata": {
        "id": "CAPdbJGPUhSO",
        "colab_type": "code",
        "colab": {
          "base_uri": "https://localhost:8080/",
          "height": 51
        },
        "outputId": "24369340-a0cf-47ad-b236-1ede02e17a2c"
      },
      "source": [
        "if True:\n",
        "  print(\"True\")\n",
        "else:\n",
        "  pass\n",
        "print(\"False\")"
      ],
      "execution_count": 9,
      "outputs": [
        {
          "output_type": "stream",
          "text": [
            "True\n",
            "False\n"
          ],
          "name": "stdout"
        }
      ]
    },
    {
      "cell_type": "markdown",
      "metadata": {
        "id": "DyZ1zWY9WEci",
        "colab_type": "text"
      },
      "source": [
        "### Multi-line Expression"
      ]
    },
    {
      "cell_type": "code",
      "metadata": {
        "id": "s2pYYzh6YO3l",
        "colab_type": "code",
        "colab": {}
      },
      "source": [
        "lets_make_this_line_super_super_super_super_super_super_super_super_super_long = 233\n",
        "attempting_to_write_some_code_that_my_coworker_cant_maintain_so_that_i_could_keep_my_job = 666"
      ],
      "execution_count": 10,
      "outputs": []
    },
    {
      "cell_type": "markdown",
      "metadata": {
        "id": "dnqkeuSJYk4F",
        "colab_type": "text"
      },
      "source": [
        "We have to use backslash for a stand-alone multi-line expression."
      ]
    },
    {
      "cell_type": "code",
      "metadata": {
        "id": "L6Hy5-xdYRNE",
        "colab_type": "code",
        "colab": {
          "base_uri": "https://localhost:8080/",
          "height": 34
        },
        "outputId": "bbe29c4d-7a07-4c76-f5a6-eb3cd4df15a5"
      },
      "source": [
        "lets_make_this_line_super_super_super_super_super_super_super_super_super_long + \\\n",
        "attempting_to_write_some_code_that_my_coworker_cant_maintain_so_that_i_could_keep_my_job"
      ],
      "execution_count": 11,
      "outputs": [
        {
          "output_type": "execute_result",
          "data": {
            "text/plain": [
              "899"
            ]
          },
          "metadata": {
            "tags": []
          },
          "execution_count": 11
        }
      ]
    },
    {
      "cell_type": "code",
      "metadata": {
        "id": "jS2x2C1GWEOU",
        "colab_type": "code",
        "colab": {
          "base_uri": "https://localhost:8080/",
          "height": 34
        },
        "outputId": "cff2a875-c50d-400b-f67e-3b7f974469c2"
      },
      "source": [
        "print(  \n",
        "  lets_make_this_line_super_super_super_super_super_super_super_super_super_long +\n",
        "  attempting_to_write_some_code_that_my_coworker_cant_maintain_so_that_i_could_keep_my_job   \n",
        ")"
      ],
      "execution_count": 12,
      "outputs": [
        {
          "output_type": "stream",
          "text": [
            "899\n"
          ],
          "name": "stdout"
        }
      ]
    },
    {
      "cell_type": "code",
      "metadata": {
        "id": "k0t9DSMDYYfB",
        "colab_type": "code",
        "colab": {
          "base_uri": "https://localhost:8080/",
          "height": 34
        },
        "outputId": "479241ef-68f8-4a83-d3e1-9cf888f41b77"
      },
      "source": [
        "[lets_make_this_line_super_super_super_super_super_super_super_super_super_long,\n",
        "attempting_to_write_some_code_that_my_coworker_cant_maintain_so_that_i_could_keep_my_job]"
      ],
      "execution_count": 13,
      "outputs": [
        {
          "output_type": "execute_result",
          "data": {
            "text/plain": [
              "[233, 666]"
            ]
          },
          "metadata": {
            "tags": []
          },
          "execution_count": 13
        }
      ]
    },
    {
      "cell_type": "code",
      "metadata": {
        "id": "2Z8jKKWjYaiO",
        "colab_type": "code",
        "colab": {
          "base_uri": "https://localhost:8080/",
          "height": 34
        },
        "outputId": "9932e68d-ae70-4478-f844-0b4c5a684f4a"
      },
      "source": [
        "{lets_make_this_line_super_super_super_super_super_super_super_super_super_long,\n",
        "attempting_to_write_some_code_that_my_coworker_cant_maintain_so_that_i_could_keep_my_job}"
      ],
      "execution_count": 14,
      "outputs": [
        {
          "output_type": "execute_result",
          "data": {
            "text/plain": [
              "{233, 666}"
            ]
          },
          "metadata": {
            "tags": []
          },
          "execution_count": 14
        }
      ]
    },
    {
      "cell_type": "markdown",
      "metadata": {
        "id": "4I_X2YPMX6I2",
        "colab_type": "text"
      },
      "source": [
        "## Data Types"
      ]
    },
    {
      "cell_type": "markdown",
      "metadata": {
        "id": "gpnp-jQvXNw0",
        "colab_type": "text"
      },
      "source": [
        "### Built-in Numerical Data Types"
      ]
    },
    {
      "cell_type": "markdown",
      "metadata": {
        "id": "vMqhfoPepIF-",
        "colab_type": "text"
      },
      "source": [
        "* Integer"
      ]
    },
    {
      "cell_type": "code",
      "metadata": {
        "id": "WzUbyrcnUjRJ",
        "colab_type": "code",
        "colab": {
          "base_uri": "https://localhost:8080/",
          "height": 34
        },
        "outputId": "5b74cd43-7ef2-445c-ddb3-f32aabea4322"
      },
      "source": [
        "type(233)"
      ],
      "execution_count": 15,
      "outputs": [
        {
          "output_type": "execute_result",
          "data": {
            "text/plain": [
              "int"
            ]
          },
          "metadata": {
            "tags": []
          },
          "execution_count": 15
        }
      ]
    },
    {
      "cell_type": "markdown",
      "metadata": {
        "id": "OxiyDkrVpK80",
        "colab_type": "text"
      },
      "source": [
        "* Float"
      ]
    },
    {
      "cell_type": "code",
      "metadata": {
        "id": "pu7VbO0NY3hC",
        "colab_type": "code",
        "colab": {
          "base_uri": "https://localhost:8080/",
          "height": 34
        },
        "outputId": "943731cf-c3b4-496e-a23a-367f54795978"
      },
      "source": [
        "type(233.666)"
      ],
      "execution_count": 16,
      "outputs": [
        {
          "output_type": "execute_result",
          "data": {
            "text/plain": [
              "float"
            ]
          },
          "metadata": {
            "tags": []
          },
          "execution_count": 16
        }
      ]
    },
    {
      "cell_type": "markdown",
      "metadata": {
        "id": "Nu_0wRQipNnF",
        "colab_type": "text"
      },
      "source": [
        "* Complex"
      ]
    },
    {
      "cell_type": "code",
      "metadata": {
        "id": "pyYR3CCkZCqQ",
        "colab_type": "code",
        "colab": {
          "base_uri": "https://localhost:8080/",
          "height": 34
        },
        "outputId": "04dfd775-b8b9-4b6b-fc26-c0effd6a4816"
      },
      "source": [
        "type(233 + 666j)"
      ],
      "execution_count": 17,
      "outputs": [
        {
          "output_type": "execute_result",
          "data": {
            "text/plain": [
              "complex"
            ]
          },
          "metadata": {
            "tags": []
          },
          "execution_count": 17
        }
      ]
    },
    {
      "cell_type": "markdown",
      "metadata": {
        "id": "5Q-kZWcypQxA",
        "colab_type": "text"
      },
      "source": [
        "* Boolean: Be careful of compound boolean expression!"
      ]
    },
    {
      "cell_type": "code",
      "metadata": {
        "id": "3MYj_f6xY5X8",
        "colab_type": "code",
        "colab": {
          "base_uri": "https://localhost:8080/",
          "height": 34
        },
        "outputId": "a715e35e-3f22-41b5-ded2-0555b7c19d73"
      },
      "source": [
        "type(True)"
      ],
      "execution_count": 18,
      "outputs": [
        {
          "output_type": "execute_result",
          "data": {
            "text/plain": [
              "bool"
            ]
          },
          "metadata": {
            "tags": []
          },
          "execution_count": 18
        }
      ]
    },
    {
      "cell_type": "code",
      "metadata": {
        "id": "K0s-4ioGoauG",
        "colab_type": "code",
        "colab": {
          "base_uri": "https://localhost:8080/",
          "height": 34
        },
        "outputId": "f4b97b5c-5bc1-4a52-cd90-4d9cdade2b6e"
      },
      "source": [
        "True and False"
      ],
      "execution_count": 19,
      "outputs": [
        {
          "output_type": "execute_result",
          "data": {
            "text/plain": [
              "False"
            ]
          },
          "metadata": {
            "tags": []
          },
          "execution_count": 19
        }
      ]
    },
    {
      "cell_type": "code",
      "metadata": {
        "id": "YdmQa0O-ohgT",
        "colab_type": "code",
        "colab": {
          "base_uri": "https://localhost:8080/",
          "height": 34
        },
        "outputId": "578e21d8-2430-4616-84b7-f74149a2a6b6"
      },
      "source": [
        "True or False"
      ],
      "execution_count": 20,
      "outputs": [
        {
          "output_type": "execute_result",
          "data": {
            "text/plain": [
              "True"
            ]
          },
          "metadata": {
            "tags": []
          },
          "execution_count": 20
        }
      ]
    },
    {
      "cell_type": "code",
      "metadata": {
        "id": "WRL0aTbBowI8",
        "colab_type": "code",
        "colab": {
          "base_uri": "https://localhost:8080/",
          "height": 34
        },
        "outputId": "962d829a-8050-4d0a-b91b-18f6e2184f81"
      },
      "source": [
        "not True"
      ],
      "execution_count": 21,
      "outputs": [
        {
          "output_type": "execute_result",
          "data": {
            "text/plain": [
              "False"
            ]
          },
          "metadata": {
            "tags": []
          },
          "execution_count": 21
        }
      ]
    },
    {
      "cell_type": "markdown",
      "metadata": {
        "id": "boiJbS01bxbS",
        "colab_type": "text"
      },
      "source": [
        "*   Equality check"
      ]
    },
    {
      "cell_type": "code",
      "metadata": {
        "id": "zeNQvI1epBqx",
        "colab_type": "code",
        "colab": {
          "base_uri": "https://localhost:8080/",
          "height": 34
        },
        "outputId": "4db3566c-0803-4580-8294-33a61600e309"
      },
      "source": [
        "boo = [1, 2, 3]\n",
        "foo = [1, 2, 3]\n",
        "boo is foo # This is similar to boo == foo in Java"
      ],
      "execution_count": 22,
      "outputs": [
        {
          "output_type": "execute_result",
          "data": {
            "text/plain": [
              "False"
            ]
          },
          "metadata": {
            "tags": []
          },
          "execution_count": 22
        }
      ]
    },
    {
      "cell_type": "code",
      "metadata": {
        "id": "MJu1k86co6B0",
        "colab_type": "code",
        "colab": {
          "base_uri": "https://localhost:8080/",
          "height": 34
        },
        "outputId": "b4a88d96-1306-4626-e27a-85108700c0b3"
      },
      "source": [
        "boo == foo # This is similar to boo.equals(foo) in Java"
      ],
      "execution_count": 23,
      "outputs": [
        {
          "output_type": "execute_result",
          "data": {
            "text/plain": [
              "True"
            ]
          },
          "metadata": {
            "tags": []
          },
          "execution_count": 23
        }
      ]
    },
    {
      "cell_type": "markdown",
      "metadata": {
        "id": "U6Z5vk3McKMQ",
        "colab_type": "text"
      },
      "source": [
        "Note that Python doesn't have `===` like those in Kotlin and Javascript/TypeScript."
      ]
    },
    {
      "cell_type": "markdown",
      "metadata": {
        "id": "1cS70PsIZXeh",
        "colab_type": "text"
      },
      "source": [
        "### String"
      ]
    },
    {
      "cell_type": "markdown",
      "metadata": {
        "id": "szL2F5gSaD-W",
        "colab_type": "text"
      },
      "source": [
        "*   `''` and `\"\"` work the same for declaring string literals. If you use `\"\"` to declare a string, you don't have to use escape character if you would like to use `''` as a part of the string literal."
      ]
    },
    {
      "cell_type": "code",
      "metadata": {
        "id": "pIjq9Uv5ZArd",
        "colab_type": "code",
        "colab": {
          "base_uri": "https://localhost:8080/",
          "height": 35
        },
        "outputId": "6a07131c-a82a-4057-9dfe-1039ee9ce245"
      },
      "source": [
        "\"What's up?\""
      ],
      "execution_count": 24,
      "outputs": [
        {
          "output_type": "execute_result",
          "data": {
            "application/vnd.google.colaboratory.intrinsic+json": {
              "type": "string"
            },
            "text/plain": [
              "\"What's up?\""
            ]
          },
          "metadata": {
            "tags": []
          },
          "execution_count": 24
        }
      ]
    },
    {
      "cell_type": "code",
      "metadata": {
        "id": "MJ6tGAuJZi2c",
        "colab_type": "code",
        "colab": {
          "base_uri": "https://localhost:8080/",
          "height": 35
        },
        "outputId": "18f559b9-7401-40ff-c0a8-eccd2f63d5cd"
      },
      "source": [
        "'What\\'s up?'"
      ],
      "execution_count": 25,
      "outputs": [
        {
          "output_type": "execute_result",
          "data": {
            "application/vnd.google.colaboratory.intrinsic+json": {
              "type": "string"
            },
            "text/plain": [
              "\"What's up?\""
            ]
          },
          "metadata": {
            "tags": []
          },
          "execution_count": 25
        }
      ]
    },
    {
      "cell_type": "markdown",
      "metadata": {
        "id": "mjQ2SiR5a7q6",
        "colab_type": "text"
      },
      "source": [
        "*   Use `\"\"\"` or `'''` for multi-line strings"
      ]
    },
    {
      "cell_type": "code",
      "metadata": {
        "id": "FonSPgNKZrhM",
        "colab_type": "code",
        "colab": {
          "base_uri": "https://localhost:8080/",
          "height": 85
        },
        "outputId": "ebca8fdf-e6e0-4bd1-ef0a-990527a68c86"
      },
      "source": [
        "print(\n",
        "  '''\n",
        "  line 0\n",
        "  line1\n",
        "  '''\n",
        ")"
      ],
      "execution_count": 26,
      "outputs": [
        {
          "output_type": "stream",
          "text": [
            "\n",
            "  line 0\n",
            "  line1\n",
            "  \n"
          ],
          "name": "stdout"
        }
      ]
    },
    {
      "cell_type": "markdown",
      "metadata": {
        "id": "UFNjIqO0bdxv",
        "colab_type": "text"
      },
      "source": [
        "*   String concatenation"
      ]
    },
    {
      "cell_type": "code",
      "metadata": {
        "id": "2t3-QOWmbGXq",
        "colab_type": "code",
        "colab": {
          "base_uri": "https://localhost:8080/",
          "height": 35
        },
        "outputId": "c5cbf1f7-40a4-4892-a25e-2abc98399471"
      },
      "source": [
        "\"Welcome \"\"to \"\"CS 361\""
      ],
      "execution_count": 27,
      "outputs": [
        {
          "output_type": "execute_result",
          "data": {
            "application/vnd.google.colaboratory.intrinsic+json": {
              "type": "string"
            },
            "text/plain": [
              "'Welcome to CS 361'"
            ]
          },
          "metadata": {
            "tags": []
          },
          "execution_count": 27
        }
      ]
    },
    {
      "cell_type": "code",
      "metadata": {
        "id": "-izV-JeQbkPR",
        "colab_type": "code",
        "colab": {
          "base_uri": "https://localhost:8080/",
          "height": 35
        },
        "outputId": "9ac76f84-c046-47d0-c2b9-479003c51fe5"
      },
      "source": [
        "\"Welcome \" + \"to \" + \"CS 361\""
      ],
      "execution_count": 28,
      "outputs": [
        {
          "output_type": "execute_result",
          "data": {
            "application/vnd.google.colaboratory.intrinsic+json": {
              "type": "string"
            },
            "text/plain": [
              "'Welcome to CS 361'"
            ]
          },
          "metadata": {
            "tags": []
          },
          "execution_count": 28
        }
      ]
    },
    {
      "cell_type": "markdown",
      "metadata": {
        "id": "-SIM7kj9f_Ui",
        "colab_type": "text"
      },
      "source": [
        "*   String indexing: Python string can be index from left to right starting with 0 and right to left starting with -1"
      ]
    },
    {
      "cell_type": "code",
      "metadata": {
        "id": "39oEhp-7f_EW",
        "colab_type": "code",
        "colab": {}
      },
      "source": [
        "boo = \"Welcome to CS 361!\""
      ],
      "execution_count": 29,
      "outputs": []
    },
    {
      "cell_type": "code",
      "metadata": {
        "id": "UF-8vuLuboed",
        "colab_type": "code",
        "colab": {
          "base_uri": "https://localhost:8080/",
          "height": 35
        },
        "outputId": "4b1f853c-f1ec-4947-80bf-3a338faf2db6"
      },
      "source": [
        "boo[0] # left to right"
      ],
      "execution_count": 30,
      "outputs": [
        {
          "output_type": "execute_result",
          "data": {
            "application/vnd.google.colaboratory.intrinsic+json": {
              "type": "string"
            },
            "text/plain": [
              "'W'"
            ]
          },
          "metadata": {
            "tags": []
          },
          "execution_count": 30
        }
      ]
    },
    {
      "cell_type": "code",
      "metadata": {
        "id": "2ns5jHpRbqLo",
        "colab_type": "code",
        "colab": {
          "base_uri": "https://localhost:8080/",
          "height": 35
        },
        "outputId": "4f9475f2-f888-41ff-d5d3-e9e23aae1d08"
      },
      "source": [
        "boo[-1] # right to left"
      ],
      "execution_count": 31,
      "outputs": [
        {
          "output_type": "execute_result",
          "data": {
            "application/vnd.google.colaboratory.intrinsic+json": {
              "type": "string"
            },
            "text/plain": [
              "'!'"
            ]
          },
          "metadata": {
            "tags": []
          },
          "execution_count": 31
        }
      ]
    },
    {
      "cell_type": "markdown",
      "metadata": {
        "id": "fzjbUQUngjsa",
        "colab_type": "text"
      },
      "source": [
        "*   String slicing [start:end:step]"
      ]
    },
    {
      "cell_type": "code",
      "metadata": {
        "id": "H6_A0if1g5Cz",
        "colab_type": "code",
        "colab": {
          "base_uri": "https://localhost:8080/",
          "height": 35
        },
        "outputId": "b8f1d2b6-295f-494c-9e35-c33f3793f805"
      },
      "source": [
        "boo[0:-1]"
      ],
      "execution_count": 32,
      "outputs": [
        {
          "output_type": "execute_result",
          "data": {
            "application/vnd.google.colaboratory.intrinsic+json": {
              "type": "string"
            },
            "text/plain": [
              "'Welcome to CS 361'"
            ]
          },
          "metadata": {
            "tags": []
          },
          "execution_count": 32
        }
      ]
    },
    {
      "cell_type": "code",
      "metadata": {
        "id": "RevW9QQMgMSy",
        "colab_type": "code",
        "colab": {
          "base_uri": "https://localhost:8080/",
          "height": 35
        },
        "outputId": "0479879d-d46d-4b8f-8323-689f1cbcc21e"
      },
      "source": [
        "boo[0:7]"
      ],
      "execution_count": 33,
      "outputs": [
        {
          "output_type": "execute_result",
          "data": {
            "application/vnd.google.colaboratory.intrinsic+json": {
              "type": "string"
            },
            "text/plain": [
              "'Welcome'"
            ]
          },
          "metadata": {
            "tags": []
          },
          "execution_count": 33
        }
      ]
    },
    {
      "cell_type": "code",
      "metadata": {
        "id": "d1Ca8zKJh7Pa",
        "colab_type": "code",
        "colab": {
          "base_uri": "https://localhost:8080/",
          "height": 35
        },
        "outputId": "22a1490d-4f59-4e70-8e02-f73763d9e398"
      },
      "source": [
        "boo[::2]"
      ],
      "execution_count": 34,
      "outputs": [
        {
          "output_type": "execute_result",
          "data": {
            "application/vnd.google.colaboratory.intrinsic+json": {
              "type": "string"
            },
            "text/plain": [
              "'Wloet S31'"
            ]
          },
          "metadata": {
            "tags": []
          },
          "execution_count": 34
        }
      ]
    },
    {
      "cell_type": "code",
      "metadata": {
        "id": "nAhea2yxgqrd",
        "colab_type": "code",
        "colab": {
          "base_uri": "https://localhost:8080/",
          "height": 35
        },
        "outputId": "789fd734-0087-44e4-ec82-339baba2602f"
      },
      "source": [
        "boo[::-1]"
      ],
      "execution_count": 35,
      "outputs": [
        {
          "output_type": "execute_result",
          "data": {
            "application/vnd.google.colaboratory.intrinsic+json": {
              "type": "string"
            },
            "text/plain": [
              "'!163 SC ot emocleW'"
            ]
          },
          "metadata": {
            "tags": []
          },
          "execution_count": 35
        }
      ]
    },
    {
      "cell_type": "code",
      "metadata": {
        "id": "2BZaOD_niOEe",
        "colab_type": "code",
        "colab": {
          "base_uri": "https://localhost:8080/",
          "height": 35
        },
        "outputId": "66e54f0b-d02c-4b8c-ef0b-676f454e33c4"
      },
      "source": [
        "boo[7::-1]"
      ],
      "execution_count": 36,
      "outputs": [
        {
          "output_type": "execute_result",
          "data": {
            "application/vnd.google.colaboratory.intrinsic+json": {
              "type": "string"
            },
            "text/plain": [
              "' emocleW'"
            ]
          },
          "metadata": {
            "tags": []
          },
          "execution_count": 36
        }
      ]
    },
    {
      "cell_type": "code",
      "metadata": {
        "id": "wq_LBlTZh-82",
        "colab_type": "code",
        "colab": {
          "base_uri": "https://localhost:8080/",
          "height": 35
        },
        "outputId": "f5cac128-73ab-4b56-8af4-ced28fdb0795"
      },
      "source": [
        "boo[:7:-1]"
      ],
      "execution_count": 37,
      "outputs": [
        {
          "output_type": "execute_result",
          "data": {
            "application/vnd.google.colaboratory.intrinsic+json": {
              "type": "string"
            },
            "text/plain": [
              "'!163 SC ot'"
            ]
          },
          "metadata": {
            "tags": []
          },
          "execution_count": 37
        }
      ]
    },
    {
      "cell_type": "code",
      "metadata": {
        "id": "G-r8kIfqgupV",
        "colab_type": "code",
        "colab": {
          "base_uri": "https://localhost:8080/",
          "height": 35
        },
        "outputId": "55713741-a437-4a52-8bb9-7303fbe37288"
      },
      "source": [
        "boo[0:7:2]"
      ],
      "execution_count": 38,
      "outputs": [
        {
          "output_type": "execute_result",
          "data": {
            "application/vnd.google.colaboratory.intrinsic+json": {
              "type": "string"
            },
            "text/plain": [
              "'Wloe'"
            ]
          },
          "metadata": {
            "tags": []
          },
          "execution_count": 38
        }
      ]
    },
    {
      "cell_type": "markdown",
      "metadata": {
        "id": "A2MdYLh6mgPz",
        "colab_type": "text"
      },
      "source": [
        "*   Byte-string: Please be aware of the existence of byte-string. If you have any byte-string imported into you dataset, please be careful when comparing string equality."
      ]
    },
    {
      "cell_type": "code",
      "metadata": {
        "id": "IBz_-7ymnjr3",
        "colab_type": "code",
        "colab": {
          "base_uri": "https://localhost:8080/",
          "height": 34
        },
        "outputId": "ba43d213-1991-48fb-8614-5b011d7b0c82"
      },
      "source": [
        "type(b'Hi!')"
      ],
      "execution_count": 39,
      "outputs": [
        {
          "output_type": "execute_result",
          "data": {
            "text/plain": [
              "bytes"
            ]
          },
          "metadata": {
            "tags": []
          },
          "execution_count": 39
        }
      ]
    },
    {
      "cell_type": "code",
      "metadata": {
        "id": "9STRQXNXn0Bz",
        "colab_type": "code",
        "colab": {
          "base_uri": "https://localhost:8080/",
          "height": 34
        },
        "outputId": "c9a7398b-e942-4f62-e7e0-b29f1335656e"
      },
      "source": [
        "b'Hi!' == 'Hi!'"
      ],
      "execution_count": 40,
      "outputs": [
        {
          "output_type": "execute_result",
          "data": {
            "text/plain": [
              "False"
            ]
          },
          "metadata": {
            "tags": []
          },
          "execution_count": 40
        }
      ]
    },
    {
      "cell_type": "markdown",
      "metadata": {
        "id": "PV2TfFcBpYQ6",
        "colab_type": "text"
      },
      "source": [
        "*   String Interpolation: C Style"
      ]
    },
    {
      "cell_type": "code",
      "metadata": {
        "id": "tucJH2hpp8Qx",
        "colab_type": "code",
        "colab": {
          "base_uri": "https://localhost:8080/",
          "height": 35
        },
        "outputId": "7e1428f7-64df-4bd5-85a2-9ee7bd192236"
      },
      "source": [
        "\"This is %s\" % \"CS 361!\""
      ],
      "execution_count": 41,
      "outputs": [
        {
          "output_type": "execute_result",
          "data": {
            "application/vnd.google.colaboratory.intrinsic+json": {
              "type": "string"
            },
            "text/plain": [
              "'This is CS 361!'"
            ]
          },
          "metadata": {
            "tags": []
          },
          "execution_count": 41
        }
      ]
    },
    {
      "cell_type": "code",
      "metadata": {
        "id": "vBarKlYZqTE8",
        "colab_type": "code",
        "colab": {
          "base_uri": "https://localhost:8080/",
          "height": 35
        },
        "outputId": "72244fed-8df9-438a-f718-66025c940aef"
      },
      "source": [
        "\"Planck's constant is %e m^2 kg/s\" % (6.62607004e-34)"
      ],
      "execution_count": 42,
      "outputs": [
        {
          "output_type": "execute_result",
          "data": {
            "application/vnd.google.colaboratory.intrinsic+json": {
              "type": "string"
            },
            "text/plain": [
              "\"Planck's constant is 6.626070e-34 m^2 kg/s\""
            ]
          },
          "metadata": {
            "tags": []
          },
          "execution_count": 42
        }
      ]
    },
    {
      "cell_type": "code",
      "metadata": {
        "id": "RWiEYhQ0sHvL",
        "colab_type": "code",
        "colab": {
          "base_uri": "https://localhost:8080/",
          "height": 35
        },
        "outputId": "41a4c9c3-b5e5-4412-dda2-78867f70704d"
      },
      "source": [
        "\"Format a number into scientific notation: %e\" % 233333"
      ],
      "execution_count": 43,
      "outputs": [
        {
          "output_type": "execute_result",
          "data": {
            "application/vnd.google.colaboratory.intrinsic+json": {
              "type": "string"
            },
            "text/plain": [
              "'Format a number into scientific notation: 2.333330e+05'"
            ]
          },
          "metadata": {
            "tags": []
          },
          "execution_count": 43
        }
      ]
    },
    {
      "cell_type": "code",
      "metadata": {
        "id": "-e_3EvjRq9Am",
        "colab_type": "code",
        "colab": {
          "base_uri": "https://localhost:8080/",
          "height": 35
        },
        "outputId": "b5bce7f1-500f-434c-db2a-d9dc2cd4e987"
      },
      "source": [
        "from math import pi\n",
        "\"π is approximately %f\" % (pi)"
      ],
      "execution_count": 44,
      "outputs": [
        {
          "output_type": "execute_result",
          "data": {
            "application/vnd.google.colaboratory.intrinsic+json": {
              "type": "string"
            },
            "text/plain": [
              "'π is approximately 3.141593'"
            ]
          },
          "metadata": {
            "tags": []
          },
          "execution_count": 44
        }
      ]
    },
    {
      "cell_type": "code",
      "metadata": {
        "id": "GPhZ0e6yr0Y3",
        "colab_type": "code",
        "colab": {
          "base_uri": "https://localhost:8080/",
          "height": 35
        },
        "outputId": "ba23edca-805b-424a-a6c3-0d993b2b793e"
      },
      "source": [
        "\"π is approximately %.2f\" % (pi)"
      ],
      "execution_count": 45,
      "outputs": [
        {
          "output_type": "execute_result",
          "data": {
            "application/vnd.google.colaboratory.intrinsic+json": {
              "type": "string"
            },
            "text/plain": [
              "'π is approximately 3.14'"
            ]
          },
          "metadata": {
            "tags": []
          },
          "execution_count": 45
        }
      ]
    },
    {
      "cell_type": "markdown",
      "metadata": {
        "id": "v85Q54JjvF-B",
        "colab_type": "text"
      },
      "source": [
        "*   String Interpolation: f-string"
      ]
    },
    {
      "cell_type": "code",
      "metadata": {
        "id": "i_GlhhYRskE0",
        "colab_type": "code",
        "colab": {
          "base_uri": "https://localhost:8080/",
          "height": 35
        },
        "outputId": "20110fcf-0804-4e55-a53f-f383839d6efc"
      },
      "source": [
        "course = \"CS 361\"\n",
        "f\"Welcome to {course}\""
      ],
      "execution_count": 46,
      "outputs": [
        {
          "output_type": "execute_result",
          "data": {
            "application/vnd.google.colaboratory.intrinsic+json": {
              "type": "string"
            },
            "text/plain": [
              "'Welcome to CS 361'"
            ]
          },
          "metadata": {
            "tags": []
          },
          "execution_count": 46
        }
      ]
    },
    {
      "cell_type": "code",
      "metadata": {
        "id": "Oy8rI1of0gHg",
        "colab_type": "code",
        "colab": {
          "base_uri": "https://localhost:8080/",
          "height": 35
        },
        "outputId": "e631d3ac-254d-495b-8d8b-21e4ba7e95b4"
      },
      "source": [
        "f\"1 + 1 = {1 + 1}\""
      ],
      "execution_count": 47,
      "outputs": [
        {
          "output_type": "execute_result",
          "data": {
            "application/vnd.google.colaboratory.intrinsic+json": {
              "type": "string"
            },
            "text/plain": [
              "'1 + 1 = 2'"
            ]
          },
          "metadata": {
            "tags": []
          },
          "execution_count": 47
        }
      ]
    },
    {
      "cell_type": "markdown",
      "metadata": {
        "id": "nqRwgDe71DhV",
        "colab_type": "text"
      },
      "source": [
        "*   String Interpolation: format function"
      ]
    },
    {
      "cell_type": "code",
      "metadata": {
        "id": "Ddcuy8Xf1Jl_",
        "colab_type": "code",
        "colab": {
          "base_uri": "https://localhost:8080/",
          "height": 35
        },
        "outputId": "3073c830-eda1-4038-83a5-766bed2078dc"
      },
      "source": [
        "\"π is approximately {:.2f}\".format(pi)"
      ],
      "execution_count": 48,
      "outputs": [
        {
          "output_type": "execute_result",
          "data": {
            "application/vnd.google.colaboratory.intrinsic+json": {
              "type": "string"
            },
            "text/plain": [
              "'π is approximately 3.14'"
            ]
          },
          "metadata": {
            "tags": []
          },
          "execution_count": 48
        }
      ]
    },
    {
      "cell_type": "markdown",
      "metadata": {
        "id": "6p7bUD1u1hIK",
        "colab_type": "text"
      },
      "source": [
        "Checkout Python's [official document for string](https://docs.python.org/3.8/library/string.html) to see more details."
      ]
    },
    {
      "cell_type": "markdown",
      "metadata": {
        "id": "FChwcAHwmV7J",
        "colab_type": "text"
      },
      "source": [
        "### List"
      ]
    },
    {
      "cell_type": "markdown",
      "metadata": {
        "id": "_y4RD67w2vGi",
        "colab_type": "text"
      },
      "source": [
        "*   List-indexing is very similar to string-indexing"
      ]
    },
    {
      "cell_type": "code",
      "metadata": {
        "id": "gECNtQ9E21V9",
        "colab_type": "code",
        "colab": {}
      },
      "source": [
        "boo = [0, 2, \"four\", 6, 8, \"ten\", 12, 14, 16, 18, 20]"
      ],
      "execution_count": 49,
      "outputs": []
    },
    {
      "cell_type": "code",
      "metadata": {
        "id": "3cvIzwFi29Vm",
        "colab_type": "code",
        "colab": {
          "base_uri": "https://localhost:8080/",
          "height": 35
        },
        "outputId": "475602b8-1c86-40b4-d1f4-680be563715e"
      },
      "source": [
        "boo[2]"
      ],
      "execution_count": 50,
      "outputs": [
        {
          "output_type": "execute_result",
          "data": {
            "application/vnd.google.colaboratory.intrinsic+json": {
              "type": "string"
            },
            "text/plain": [
              "'four'"
            ]
          },
          "metadata": {
            "tags": []
          },
          "execution_count": 50
        }
      ]
    },
    {
      "cell_type": "code",
      "metadata": {
        "id": "ajIxvsO13Gyq",
        "colab_type": "code",
        "colab": {
          "base_uri": "https://localhost:8080/",
          "height": 34
        },
        "outputId": "71eae4ed-d237-4542-f8fc-61c57c95c538"
      },
      "source": [
        "boo[-1]"
      ],
      "execution_count": 51,
      "outputs": [
        {
          "output_type": "execute_result",
          "data": {
            "text/plain": [
              "20"
            ]
          },
          "metadata": {
            "tags": []
          },
          "execution_count": 51
        }
      ]
    },
    {
      "cell_type": "code",
      "metadata": {
        "id": "zOsbaRKP3O24",
        "colab_type": "code",
        "colab": {
          "base_uri": "https://localhost:8080/",
          "height": 34
        },
        "outputId": "57de9910-4237-445f-c88f-16fd24fc3dd5"
      },
      "source": [
        "boo[-2]"
      ],
      "execution_count": 52,
      "outputs": [
        {
          "output_type": "execute_result",
          "data": {
            "text/plain": [
              "18"
            ]
          },
          "metadata": {
            "tags": []
          },
          "execution_count": 52
        }
      ]
    },
    {
      "cell_type": "code",
      "metadata": {
        "id": "h1PiNKMM3SU8",
        "colab_type": "code",
        "colab": {
          "base_uri": "https://localhost:8080/",
          "height": 34
        },
        "outputId": "f3ddc6c9-134c-48df-943f-b0e9b9697ee8"
      },
      "source": [
        "boo[0:3]"
      ],
      "execution_count": 53,
      "outputs": [
        {
          "output_type": "execute_result",
          "data": {
            "text/plain": [
              "[0, 2, 'four']"
            ]
          },
          "metadata": {
            "tags": []
          },
          "execution_count": 53
        }
      ]
    },
    {
      "cell_type": "code",
      "metadata": {
        "id": "-OxSGnWa3V0D",
        "colab_type": "code",
        "colab": {
          "base_uri": "https://localhost:8080/",
          "height": 34
        },
        "outputId": "5b1d7e8f-1995-4bcd-d3c2-db1212b58a99"
      },
      "source": [
        "boo[::-2]"
      ],
      "execution_count": 54,
      "outputs": [
        {
          "output_type": "execute_result",
          "data": {
            "text/plain": [
              "[20, 16, 12, 8, 'four', 0]"
            ]
          },
          "metadata": {
            "tags": []
          },
          "execution_count": 54
        }
      ]
    },
    {
      "cell_type": "code",
      "metadata": {
        "id": "FqGRjXKV3YV_",
        "colab_type": "code",
        "colab": {
          "base_uri": "https://localhost:8080/",
          "height": 34
        },
        "outputId": "cf2c3b5f-52a1-446f-cfec-b5f40bf7a1fc"
      },
      "source": [
        "boo[-1:-6:-2]"
      ],
      "execution_count": 55,
      "outputs": [
        {
          "output_type": "execute_result",
          "data": {
            "text/plain": [
              "[20, 16, 12]"
            ]
          },
          "metadata": {
            "tags": []
          },
          "execution_count": 55
        }
      ]
    },
    {
      "cell_type": "markdown",
      "metadata": {
        "id": "NxDp1zBF30cd",
        "colab_type": "text"
      },
      "source": [
        "*   Other List Tricks"
      ]
    },
    {
      "cell_type": "code",
      "metadata": {
        "id": "dhM2E5FC8JXu",
        "colab_type": "code",
        "colab": {
          "base_uri": "https://localhost:8080/",
          "height": 34
        },
        "outputId": "0f5c26de-f95b-4a2a-c514-00d86b070f24"
      },
      "source": [
        "\"ten\" in boo"
      ],
      "execution_count": 56,
      "outputs": [
        {
          "output_type": "execute_result",
          "data": {
            "text/plain": [
              "True"
            ]
          },
          "metadata": {
            "tags": []
          },
          "execution_count": 56
        }
      ]
    },
    {
      "cell_type": "code",
      "metadata": {
        "id": "o3vj2wQe3luG",
        "colab_type": "code",
        "colab": {
          "base_uri": "https://localhost:8080/",
          "height": 34
        },
        "outputId": "c3169054-752d-47d1-b1a8-4ce1f9e5ddb2"
      },
      "source": [
        "boo.append(\"ha?\")\n",
        "boo"
      ],
      "execution_count": 57,
      "outputs": [
        {
          "output_type": "execute_result",
          "data": {
            "text/plain": [
              "[0, 2, 'four', 6, 8, 'ten', 12, 14, 16, 18, 20, 'ha?']"
            ]
          },
          "metadata": {
            "tags": []
          },
          "execution_count": 57
        }
      ]
    },
    {
      "cell_type": "code",
      "metadata": {
        "id": "0TDq-YwCy7f8",
        "colab_type": "code",
        "colab": {
          "base_uri": "https://localhost:8080/",
          "height": 35
        },
        "outputId": "ad8d941c-d439-442f-a4a6-40c273a6860b"
      },
      "source": [
        "boo.pop()"
      ],
      "execution_count": 58,
      "outputs": [
        {
          "output_type": "execute_result",
          "data": {
            "application/vnd.google.colaboratory.intrinsic+json": {
              "type": "string"
            },
            "text/plain": [
              "'ha?'"
            ]
          },
          "metadata": {
            "tags": []
          },
          "execution_count": 58
        }
      ]
    },
    {
      "cell_type": "code",
      "metadata": {
        "id": "m3H5vCImy-o6",
        "colab_type": "code",
        "colab": {}
      },
      "source": [
        "boo.remove(\"four\")"
      ],
      "execution_count": 59,
      "outputs": []
    },
    {
      "cell_type": "code",
      "metadata": {
        "id": "XFraTgbwzw8O",
        "colab_type": "code",
        "colab": {
          "base_uri": "https://localhost:8080/",
          "height": 34
        },
        "outputId": "e77cce85-8f11-4264-bac5-245a497a6719"
      },
      "source": [
        "len(boo)"
      ],
      "execution_count": 60,
      "outputs": [
        {
          "output_type": "execute_result",
          "data": {
            "text/plain": [
              "10"
            ]
          },
          "metadata": {
            "tags": []
          },
          "execution_count": 60
        }
      ]
    },
    {
      "cell_type": "markdown",
      "metadata": {
        "id": "a6Id1aZe4Qo7",
        "colab_type": "text"
      },
      "source": [
        "Note that the two cells below repeat/concat two lists. However, it's a different story in Numpy."
      ]
    },
    {
      "cell_type": "code",
      "metadata": {
        "id": "00Y8UVpf4DYP",
        "colab_type": "code",
        "colab": {
          "base_uri": "https://localhost:8080/",
          "height": 34
        },
        "outputId": "00e08c6a-c409-4534-8cf0-ff26b14521b9"
      },
      "source": [
        "[1, 2, 3] * 2"
      ],
      "execution_count": 61,
      "outputs": [
        {
          "output_type": "execute_result",
          "data": {
            "text/plain": [
              "[1, 2, 3, 1, 2, 3]"
            ]
          },
          "metadata": {
            "tags": []
          },
          "execution_count": 61
        }
      ]
    },
    {
      "cell_type": "code",
      "metadata": {
        "id": "ViT3joNv4aeb",
        "colab_type": "code",
        "colab": {
          "base_uri": "https://localhost:8080/",
          "height": 34
        },
        "outputId": "2e55c741-90d9-417b-b789-3b0b5cbf64cb"
      },
      "source": [
        "[1, 2, 3] + [4, 5, 6]"
      ],
      "execution_count": 62,
      "outputs": [
        {
          "output_type": "execute_result",
          "data": {
            "text/plain": [
              "[1, 2, 3, 4, 5, 6]"
            ]
          },
          "metadata": {
            "tags": []
          },
          "execution_count": 62
        }
      ]
    },
    {
      "cell_type": "code",
      "metadata": {
        "id": "iQ511XML4jXY",
        "colab_type": "code",
        "colab": {}
      },
      "source": [
        "foo = [[233, 666], [888, 999]]"
      ],
      "execution_count": 63,
      "outputs": []
    },
    {
      "cell_type": "code",
      "metadata": {
        "id": "VABUlobs4nsz",
        "colab_type": "code",
        "colab": {
          "base_uri": "https://localhost:8080/",
          "height": 34
        },
        "outputId": "ccbcd310-6bba-4df5-df54-5bb8aeaeb08a"
      },
      "source": [
        "foo[0][1]"
      ],
      "execution_count": 64,
      "outputs": [
        {
          "output_type": "execute_result",
          "data": {
            "text/plain": [
              "666"
            ]
          },
          "metadata": {
            "tags": []
          },
          "execution_count": 64
        }
      ]
    },
    {
      "cell_type": "markdown",
      "metadata": {
        "id": "-GMExB3a4yks",
        "colab_type": "text"
      },
      "source": [
        "*   List Comprehension: Save you some effort to write loops."
      ]
    },
    {
      "cell_type": "code",
      "metadata": {
        "id": "FPto6bFQ4xyJ",
        "colab_type": "code",
        "colab": {
          "base_uri": "https://localhost:8080/",
          "height": 34
        },
        "outputId": "f037da1f-aa26-402f-f419-cc81059a51b6"
      },
      "source": [
        "[x * 2 for x in boo]"
      ],
      "execution_count": 65,
      "outputs": [
        {
          "output_type": "execute_result",
          "data": {
            "text/plain": [
              "[0, 4, 12, 16, 'tenten', 24, 28, 32, 36, 40]"
            ]
          },
          "metadata": {
            "tags": []
          },
          "execution_count": 65
        }
      ]
    },
    {
      "cell_type": "code",
      "metadata": {
        "id": "2Ch8DX_Z5QY-",
        "colab_type": "code",
        "colab": {
          "base_uri": "https://localhost:8080/",
          "height": 34
        },
        "outputId": "43c3a315-e10f-4e28-a709-0dbbd6b08f1f"
      },
      "source": [
        "[x ** 2 for x in boo if type(x) is int]"
      ],
      "execution_count": 66,
      "outputs": [
        {
          "output_type": "execute_result",
          "data": {
            "text/plain": [
              "[0, 4, 36, 64, 144, 196, 256, 324, 400]"
            ]
          },
          "metadata": {
            "tags": []
          },
          "execution_count": 66
        }
      ]
    },
    {
      "cell_type": "markdown",
      "metadata": {
        "id": "U_D830WrmmA3",
        "colab_type": "text"
      },
      "source": [
        "### Tuple"
      ]
    },
    {
      "cell_type": "markdown",
      "metadata": {
        "id": "6oAQJWCG6yTn",
        "colab_type": "text"
      },
      "source": [
        "*   You can't modify a tuple once it's created."
      ]
    },
    {
      "cell_type": "code",
      "metadata": {
        "id": "G4JFdCkr5i6D",
        "colab_type": "code",
        "colab": {}
      },
      "source": [
        "foobar = (\"boo\", \"foo\")"
      ],
      "execution_count": 67,
      "outputs": []
    },
    {
      "cell_type": "markdown",
      "metadata": {
        "id": "_7XKH01N67cf",
        "colab_type": "text"
      },
      "source": [
        "*   [Destructuring assignment](https://blog.tecladocode.com/destructuring-in-python/)"
      ]
    },
    {
      "cell_type": "code",
      "metadata": {
        "id": "6LY1tItx5itR",
        "colab_type": "code",
        "colab": {
          "base_uri": "https://localhost:8080/",
          "height": 35
        },
        "outputId": "2c14996b-85a2-4965-de60-d8a732cf048e"
      },
      "source": [
        "(bar, baz) = foobar\n",
        "bar"
      ],
      "execution_count": 68,
      "outputs": [
        {
          "output_type": "execute_result",
          "data": {
            "application/vnd.google.colaboratory.intrinsic+json": {
              "type": "string"
            },
            "text/plain": [
              "'boo'"
            ]
          },
          "metadata": {
            "tags": []
          },
          "execution_count": 68
        }
      ]
    },
    {
      "cell_type": "code",
      "metadata": {
        "id": "T0EI1JrW6E65",
        "colab_type": "code",
        "colab": {
          "base_uri": "https://localhost:8080/",
          "height": 35
        },
        "outputId": "6dc345ad-2697-4a2a-a259-d5a11ec25eb5"
      },
      "source": [
        "baz"
      ],
      "execution_count": 69,
      "outputs": [
        {
          "output_type": "execute_result",
          "data": {
            "application/vnd.google.colaboratory.intrinsic+json": {
              "type": "string"
            },
            "text/plain": [
              "'foo'"
            ]
          },
          "metadata": {
            "tags": []
          },
          "execution_count": 69
        }
      ]
    },
    {
      "cell_type": "markdown",
      "metadata": {
        "id": "70HLXbglmcNf",
        "colab_type": "text"
      },
      "source": [
        "### Set"
      ]
    },
    {
      "cell_type": "markdown",
      "metadata": {
        "id": "hKzsQ8t5z-Q-",
        "colab_type": "text"
      },
      "source": [
        "*   Built-in functions"
      ]
    },
    {
      "cell_type": "code",
      "metadata": {
        "id": "cAQ7XajH8Nbq",
        "colab_type": "code",
        "colab": {
          "base_uri": "https://localhost:8080/",
          "height": 34
        },
        "outputId": "21688234-f1b1-4e80-caf3-2377ba7afe61"
      },
      "source": [
        "{1, 2, 3, \"three\", 4, 4, \"five\", \"five\"}"
      ],
      "execution_count": 70,
      "outputs": [
        {
          "output_type": "execute_result",
          "data": {
            "text/plain": [
              "{1, 2, 3, 4, 'five', 'three'}"
            ]
          },
          "metadata": {
            "tags": []
          },
          "execution_count": 70
        }
      ]
    },
    {
      "cell_type": "code",
      "metadata": {
        "id": "5ItrU6JI8YfS",
        "colab_type": "code",
        "colab": {}
      },
      "source": [
        "boo = {\"a\", \"b\", \"b\", \"c\"}\n",
        "foo = {\"a\", \"b\", \"b\", \"c\"}"
      ],
      "execution_count": 71,
      "outputs": []
    },
    {
      "cell_type": "code",
      "metadata": {
        "id": "4opmKDTjzNYa",
        "colab_type": "code",
        "colab": {
          "base_uri": "https://localhost:8080/",
          "height": 34
        },
        "outputId": "cab9d1ff-0e0f-4ef7-f5d1-4b07a08f3d37"
      },
      "source": [
        "boo.add(\"d\")\n",
        "boo"
      ],
      "execution_count": 72,
      "outputs": [
        {
          "output_type": "execute_result",
          "data": {
            "text/plain": [
              "{'a', 'b', 'c', 'd'}"
            ]
          },
          "metadata": {
            "tags": []
          },
          "execution_count": 72
        }
      ]
    },
    {
      "cell_type": "code",
      "metadata": {
        "id": "hIG8MoIrzTpx",
        "colab_type": "code",
        "colab": {
          "base_uri": "https://localhost:8080/",
          "height": 34
        },
        "outputId": "0b1b70f1-eab7-464b-df88-03809b234a55"
      },
      "source": [
        "\"d\" in boo"
      ],
      "execution_count": 73,
      "outputs": [
        {
          "output_type": "execute_result",
          "data": {
            "text/plain": [
              "True"
            ]
          },
          "metadata": {
            "tags": []
          },
          "execution_count": 73
        }
      ]
    },
    {
      "cell_type": "code",
      "metadata": {
        "id": "1Bo9kdqkzZye",
        "colab_type": "code",
        "colab": {
          "base_uri": "https://localhost:8080/",
          "height": 34
        },
        "outputId": "52d2a57b-1412-4675-90da-6a5c11a18e17"
      },
      "source": [
        "boo.union(foo)"
      ],
      "execution_count": 74,
      "outputs": [
        {
          "output_type": "execute_result",
          "data": {
            "text/plain": [
              "{'a', 'b', 'c', 'd'}"
            ]
          },
          "metadata": {
            "tags": []
          },
          "execution_count": 74
        }
      ]
    },
    {
      "cell_type": "code",
      "metadata": {
        "id": "V2pDvlB3zpNn",
        "colab_type": "code",
        "colab": {
          "base_uri": "https://localhost:8080/",
          "height": 34
        },
        "outputId": "3e9dbaf7-a260-43da-ae26-eae585132b45"
      },
      "source": [
        "boo.intersection(foo)"
      ],
      "execution_count": 75,
      "outputs": [
        {
          "output_type": "execute_result",
          "data": {
            "text/plain": [
              "{'a', 'b', 'c'}"
            ]
          },
          "metadata": {
            "tags": []
          },
          "execution_count": 75
        }
      ]
    },
    {
      "cell_type": "code",
      "metadata": {
        "id": "pQuCyLIjzrOq",
        "colab_type": "code",
        "colab": {
          "base_uri": "https://localhost:8080/",
          "height": 34
        },
        "outputId": "c037b24d-0fe4-4b0b-9071-4b40a8552641"
      },
      "source": [
        "len(boo)"
      ],
      "execution_count": 76,
      "outputs": [
        {
          "output_type": "execute_result",
          "data": {
            "text/plain": [
              "4"
            ]
          },
          "metadata": {
            "tags": []
          },
          "execution_count": 76
        }
      ]
    },
    {
      "cell_type": "markdown",
      "metadata": {
        "id": "SPmXSJUl0CqD",
        "colab_type": "text"
      },
      "source": [
        "*   Set comprehension"
      ]
    },
    {
      "cell_type": "code",
      "metadata": {
        "id": "OYce-fmn0I1n",
        "colab_type": "code",
        "colab": {
          "base_uri": "https://localhost:8080/",
          "height": 34
        },
        "outputId": "6b492206-f024-477e-d29d-85146bd8cff6"
      },
      "source": [
        "{x * 2 for x in boo}"
      ],
      "execution_count": 77,
      "outputs": [
        {
          "output_type": "execute_result",
          "data": {
            "text/plain": [
              "{'aa', 'bb', 'cc', 'dd'}"
            ]
          },
          "metadata": {
            "tags": []
          },
          "execution_count": 77
        }
      ]
    },
    {
      "cell_type": "markdown",
      "metadata": {
        "id": "Cubt83AGmdg7",
        "colab_type": "text"
      },
      "source": [
        "### Dictionary"
      ]
    },
    {
      "cell_type": "code",
      "metadata": {
        "id": "j-16FKjrhn1A",
        "colab_type": "code",
        "colab": {
          "base_uri": "https://localhost:8080/",
          "height": 34
        },
        "outputId": "455526c0-20c2-47a7-f750-e56a9e49bb4d"
      },
      "source": [
        "grade_book = {\"Alice\": 90, \"Bob\": 93, \"Charlie\": 99, \"Eve\": 80}\n",
        "grade_book"
      ],
      "execution_count": 78,
      "outputs": [
        {
          "output_type": "execute_result",
          "data": {
            "text/plain": [
              "{'Alice': 90, 'Bob': 93, 'Charlie': 99, 'Eve': 80}"
            ]
          },
          "metadata": {
            "tags": []
          },
          "execution_count": 78
        }
      ]
    },
    {
      "cell_type": "markdown",
      "metadata": {
        "id": "WN_QjRLQ1WjQ",
        "colab_type": "text"
      },
      "source": [
        "*  Loops"
      ]
    },
    {
      "cell_type": "code",
      "metadata": {
        "id": "YoTgBF8411rL",
        "colab_type": "code",
        "colab": {
          "base_uri": "https://localhost:8080/",
          "height": 85
        },
        "outputId": "91b3a4be-08ea-499f-eeb1-2ba2043de6f1"
      },
      "source": [
        "for name, grade in grade_book.items():\n",
        "  print(\"Name: {:<7} | Grade: {:>4}\".format(name, grade))"
      ],
      "execution_count": 79,
      "outputs": [
        {
          "output_type": "stream",
          "text": [
            "Name: Alice   | Grade:   90\n",
            "Name: Bob     | Grade:   93\n",
            "Name: Charlie | Grade:   99\n",
            "Name: Eve     | Grade:   80\n"
          ],
          "name": "stdout"
        }
      ]
    },
    {
      "cell_type": "markdown",
      "metadata": {
        "id": "2wwwBh3y29-4",
        "colab_type": "text"
      },
      "source": [
        "*   Dictionary Comprehension"
      ]
    },
    {
      "cell_type": "code",
      "metadata": {
        "id": "MRNfQU_m2Bvl",
        "colab_type": "code",
        "colab": {
          "base_uri": "https://localhost:8080/",
          "height": 34
        },
        "outputId": "3cf81358-2987-4311-cc46-290840ad5fd2"
      },
      "source": [
        "{name: \"A\" if grade > 90 else \"B\" for name, grade in grade_book.items()}"
      ],
      "execution_count": 80,
      "outputs": [
        {
          "output_type": "execute_result",
          "data": {
            "text/plain": [
              "{'Alice': 'B', 'Bob': 'A', 'Charlie': 'A', 'Eve': 'B'}"
            ]
          },
          "metadata": {
            "tags": []
          },
          "execution_count": 80
        }
      ]
    },
    {
      "cell_type": "code",
      "metadata": {
        "id": "KlwBBbqq3g_5",
        "colab_type": "code",
        "colab": {
          "base_uri": "https://localhost:8080/",
          "height": 34
        },
        "outputId": "0c377c8b-64aa-4f12-befc-ea36efe346d6"
      },
      "source": [
        "{x: x ** 2 for x in range(10) if x % 2 == 0}"
      ],
      "execution_count": 81,
      "outputs": [
        {
          "output_type": "execute_result",
          "data": {
            "text/plain": [
              "{0: 0, 2: 4, 4: 16, 6: 36, 8: 64}"
            ]
          },
          "metadata": {
            "tags": []
          },
          "execution_count": 81
        }
      ]
    },
    {
      "cell_type": "markdown",
      "metadata": {
        "id": "lOgqrGZp4S1r",
        "colab_type": "text"
      },
      "source": [
        "## Functions: First-Class Citizens in Python"
      ]
    },
    {
      "cell_type": "markdown",
      "metadata": {
        "id": "4EiWA27Y5aA0",
        "colab_type": "text"
      },
      "source": [
        "*   Declare a function"
      ]
    },
    {
      "cell_type": "code",
      "metadata": {
        "id": "dWugCSrn37Ek",
        "colab_type": "code",
        "colab": {}
      },
      "source": [
        "def square(x):\n",
        "  return x ** 2"
      ],
      "execution_count": 82,
      "outputs": []
    },
    {
      "cell_type": "code",
      "metadata": {
        "id": "4EuRBb1O537W",
        "colab_type": "code",
        "colab": {}
      },
      "source": [
        "square_lambda = lambda x: x**2"
      ],
      "execution_count": 83,
      "outputs": []
    },
    {
      "cell_type": "markdown",
      "metadata": {
        "id": "uSOv-smI6FS9",
        "colab_type": "text"
      },
      "source": [
        "* First-class citizen: It can be everywhere"
      ]
    },
    {
      "cell_type": "code",
      "metadata": {
        "id": "g6YsGlVW59XK",
        "colab_type": "code",
        "colab": {
          "base_uri": "https://localhost:8080/",
          "height": 34
        },
        "outputId": "0f367c2b-5bc4-4d05-f37c-9aaf3b27f39b"
      },
      "source": [
        "def apply(f, x):\n",
        "  return f(x)\n",
        "\n",
        "apply(square, 2)"
      ],
      "execution_count": 84,
      "outputs": [
        {
          "output_type": "execute_result",
          "data": {
            "text/plain": [
              "4"
            ]
          },
          "metadata": {
            "tags": []
          },
          "execution_count": 84
        }
      ]
    },
    {
      "cell_type": "code",
      "metadata": {
        "id": "yMdg4Ads5-64",
        "colab_type": "code",
        "colab": {
          "base_uri": "https://localhost:8080/",
          "height": 34
        },
        "outputId": "a937e5c3-526c-4ad6-ef51-6b3583aba8c8"
      },
      "source": [
        "{x: square(x) for x in range(10) if x % 2 == 0}"
      ],
      "execution_count": 85,
      "outputs": [
        {
          "output_type": "execute_result",
          "data": {
            "text/plain": [
              "{0: 0, 2: 4, 4: 16, 6: 36, 8: 64}"
            ]
          },
          "metadata": {
            "tags": []
          },
          "execution_count": 85
        }
      ]
    },
    {
      "cell_type": "markdown",
      "metadata": {
        "id": "Wjao46Uv6hJg",
        "colab_type": "text"
      },
      "source": [
        "*   Function Parameters"
      ]
    },
    {
      "cell_type": "code",
      "metadata": {
        "id": "muVhJc-W6dsG",
        "colab_type": "code",
        "colab": {}
      },
      "source": [
        "def greeting(name, loudness=0):\n",
        "  return \"HELLO, {}!!!\".format(name.capitalize() * loudness) if loudness else \"Hello, {}!\".format(name)"
      ],
      "execution_count": 86,
      "outputs": []
    },
    {
      "cell_type": "code",
      "metadata": {
        "id": "SPH-EHTs7Jh_",
        "colab_type": "code",
        "colab": {
          "base_uri": "https://localhost:8080/",
          "height": 35
        },
        "outputId": "171d20df-64fa-4d23-d4fe-2c39fcd905c9"
      },
      "source": [
        "greeting(\"Chenhui\", 0)"
      ],
      "execution_count": 87,
      "outputs": [
        {
          "output_type": "execute_result",
          "data": {
            "application/vnd.google.colaboratory.intrinsic+json": {
              "type": "string"
            },
            "text/plain": [
              "'Hello, Chenhui!'"
            ]
          },
          "metadata": {
            "tags": []
          },
          "execution_count": 87
        }
      ]
    },
    {
      "cell_type": "code",
      "metadata": {
        "id": "_CqVCcPu8OE2",
        "colab_type": "code",
        "colab": {
          "base_uri": "https://localhost:8080/",
          "height": 35
        },
        "outputId": "7e792914-5467-4b9b-d994-094af72fe37d"
      },
      "source": [
        "greeting(\"Chenhui\")"
      ],
      "execution_count": 88,
      "outputs": [
        {
          "output_type": "execute_result",
          "data": {
            "application/vnd.google.colaboratory.intrinsic+json": {
              "type": "string"
            },
            "text/plain": [
              "'Hello, Chenhui!'"
            ]
          },
          "metadata": {
            "tags": []
          },
          "execution_count": 88
        }
      ]
    },
    {
      "cell_type": "code",
      "metadata": {
        "id": "Gtfjihdy7Luq",
        "colab_type": "code",
        "colab": {
          "base_uri": "https://localhost:8080/",
          "height": 35
        },
        "outputId": "6aa9b401-2098-4a8e-d9b5-b066ec105907"
      },
      "source": [
        "greeting(\"Chenhui\", 10) # lol"
      ],
      "execution_count": 89,
      "outputs": [
        {
          "output_type": "execute_result",
          "data": {
            "application/vnd.google.colaboratory.intrinsic+json": {
              "type": "string"
            },
            "text/plain": [
              "'HELLO, ChenhuiChenhuiChenhuiChenhuiChenhuiChenhuiChenhuiChenhuiChenhuiChenhui!!!'"
            ]
          },
          "metadata": {
            "tags": []
          },
          "execution_count": 89
        }
      ]
    },
    {
      "cell_type": "markdown",
      "metadata": {
        "id": "tgjWvaX_7dPr",
        "colab_type": "text"
      },
      "source": [
        "# NumPy Basics\n",
        "\n",
        "## Terminology\n",
        "> Credit to NumPy's [official document](https://numpy.org/doc/stable/glossary.html).\n",
        "\n",
        "*   Rank: Number of dimensions.\n",
        "*   Shape: A tuple to describe the size of each dimension.\n",
        "*   View: An array that refers to another array’s data instead.\n",
        "*   Slice: The selection of certain elements from a sequence.\n",
        "*   Flatten: Collapsing a multi-dimensional arrary to a one-dimensional array.\n",
        "*   Mask😷: A boolean array, used to select only certain elements for an operation.\n",
        "*   Universal function: A fast element-wise, vectorized array operation. Examples include `add`, `sin` and `logical_or`.\n",
        "*   Array-like: A sequence that can be interpreted as an ndarray, including nested lists, tuples, scalars and existing arrays.\n",
        "*   Broadcast: The way how numpy treats arrays with different shapes, subject to certain constraints, during arithmetic operations.\n",
        "*   Axis: Axes are defined for arrays with more than one dimension. A 2-dimensional array has two corresponding axes: the first running vertically downwards across rows (axis 0), and the second running horizontally across columns (axis 1). Many operations can take place along one of these axes\n",
        "*   Vectorization: Optimizing a looping block by specialized code. NumPy uses vectorization to mean any optimization via specialized code performing the same operations on multiple elements, typically achieving speedups by avoiding some of the overhead in looking up and converting the elements. See the `Vectorization` section below for an very simple example.\n",
        "\n"
      ]
    },
    {
      "cell_type": "markdown",
      "metadata": {
        "id": "1SKQNGFrE2lr",
        "colab_type": "text"
      },
      "source": [
        "## Ndarray\n"
      ]
    },
    {
      "cell_type": "markdown",
      "metadata": {
        "id": "edfVywMWe0nq",
        "colab_type": "text"
      },
      "source": [
        "### Array Creation"
      ]
    },
    {
      "cell_type": "markdown",
      "metadata": {
        "id": "5pggICqFfXD2",
        "colab_type": "text"
      },
      "source": [
        "A secret that I won't tell anyone: If you create a super big PyTorch tensor (on GPU) and do multiplication, Colab may temporarily upgrade your notebook environment (sometimes even with an V100 GPU). However, your session might get killed if you are unfortunate."
      ]
    },
    {
      "cell_type": "markdown",
      "metadata": {
        "id": "LOGntoI8nweQ",
        "colab_type": "text"
      },
      "source": [
        "*   From Python array"
      ]
    },
    {
      "cell_type": "code",
      "metadata": {
        "id": "20nwiGMU7Nh3",
        "colab_type": "code",
        "colab": {
          "base_uri": "https://localhost:8080/",
          "height": 34
        },
        "outputId": "71608237-3160-4fec-c791-6d0814620d56"
      },
      "source": [
        "np.array([233, 666, 999])"
      ],
      "execution_count": 90,
      "outputs": [
        {
          "output_type": "execute_result",
          "data": {
            "text/plain": [
              "array([233, 666, 999])"
            ]
          },
          "metadata": {
            "tags": []
          },
          "execution_count": 90
        }
      ]
    },
    {
      "cell_type": "code",
      "metadata": {
        "id": "AFkm9DF0e_Yv",
        "colab_type": "code",
        "colab": {
          "base_uri": "https://localhost:8080/",
          "height": 51
        },
        "outputId": "10cbb486-7ce3-440d-b68e-a71da70063f1"
      },
      "source": [
        "np.array([[233, 666, 999], [233, 666, 999]])"
      ],
      "execution_count": 91,
      "outputs": [
        {
          "output_type": "execute_result",
          "data": {
            "text/plain": [
              "array([[233, 666, 999],\n",
              "       [233, 666, 999]])"
            ]
          },
          "metadata": {
            "tags": []
          },
          "execution_count": 91
        }
      ]
    },
    {
      "cell_type": "markdown",
      "metadata": {
        "id": "y6XUH5wRn2MW",
        "colab_type": "text"
      },
      "source": [
        "*   Create constant arrays"
      ]
    },
    {
      "cell_type": "code",
      "metadata": {
        "id": "fFNJNaO7fItD",
        "colab_type": "code",
        "colab": {
          "base_uri": "https://localhost:8080/",
          "height": 850
        },
        "outputId": "ec9923fa-6597-4096-e0c3-5c04c4c619a0"
      },
      "source": [
        "np.zeros([100, 100, 100])"
      ],
      "execution_count": 92,
      "outputs": [
        {
          "output_type": "execute_result",
          "data": {
            "text/plain": [
              "array([[[0., 0., 0., ..., 0., 0., 0.],\n",
              "        [0., 0., 0., ..., 0., 0., 0.],\n",
              "        [0., 0., 0., ..., 0., 0., 0.],\n",
              "        ...,\n",
              "        [0., 0., 0., ..., 0., 0., 0.],\n",
              "        [0., 0., 0., ..., 0., 0., 0.],\n",
              "        [0., 0., 0., ..., 0., 0., 0.]],\n",
              "\n",
              "       [[0., 0., 0., ..., 0., 0., 0.],\n",
              "        [0., 0., 0., ..., 0., 0., 0.],\n",
              "        [0., 0., 0., ..., 0., 0., 0.],\n",
              "        ...,\n",
              "        [0., 0., 0., ..., 0., 0., 0.],\n",
              "        [0., 0., 0., ..., 0., 0., 0.],\n",
              "        [0., 0., 0., ..., 0., 0., 0.]],\n",
              "\n",
              "       [[0., 0., 0., ..., 0., 0., 0.],\n",
              "        [0., 0., 0., ..., 0., 0., 0.],\n",
              "        [0., 0., 0., ..., 0., 0., 0.],\n",
              "        ...,\n",
              "        [0., 0., 0., ..., 0., 0., 0.],\n",
              "        [0., 0., 0., ..., 0., 0., 0.],\n",
              "        [0., 0., 0., ..., 0., 0., 0.]],\n",
              "\n",
              "       ...,\n",
              "\n",
              "       [[0., 0., 0., ..., 0., 0., 0.],\n",
              "        [0., 0., 0., ..., 0., 0., 0.],\n",
              "        [0., 0., 0., ..., 0., 0., 0.],\n",
              "        ...,\n",
              "        [0., 0., 0., ..., 0., 0., 0.],\n",
              "        [0., 0., 0., ..., 0., 0., 0.],\n",
              "        [0., 0., 0., ..., 0., 0., 0.]],\n",
              "\n",
              "       [[0., 0., 0., ..., 0., 0., 0.],\n",
              "        [0., 0., 0., ..., 0., 0., 0.],\n",
              "        [0., 0., 0., ..., 0., 0., 0.],\n",
              "        ...,\n",
              "        [0., 0., 0., ..., 0., 0., 0.],\n",
              "        [0., 0., 0., ..., 0., 0., 0.],\n",
              "        [0., 0., 0., ..., 0., 0., 0.]],\n",
              "\n",
              "       [[0., 0., 0., ..., 0., 0., 0.],\n",
              "        [0., 0., 0., ..., 0., 0., 0.],\n",
              "        [0., 0., 0., ..., 0., 0., 0.],\n",
              "        ...,\n",
              "        [0., 0., 0., ..., 0., 0., 0.],\n",
              "        [0., 0., 0., ..., 0., 0., 0.],\n",
              "        [0., 0., 0., ..., 0., 0., 0.]]])"
            ]
          },
          "metadata": {
            "tags": []
          },
          "execution_count": 92
        }
      ]
    },
    {
      "cell_type": "code",
      "metadata": {
        "id": "hEnGjiPFgWOF",
        "colab_type": "code",
        "colab": {
          "base_uri": "https://localhost:8080/",
          "height": 51
        },
        "outputId": "9daf54f7-78fe-4247-aba3-6cd75218be1a"
      },
      "source": [
        "np.ones((2, 3))"
      ],
      "execution_count": 93,
      "outputs": [
        {
          "output_type": "execute_result",
          "data": {
            "text/plain": [
              "array([[1., 1., 1.],\n",
              "       [1., 1., 1.]])"
            ]
          },
          "metadata": {
            "tags": []
          },
          "execution_count": 93
        }
      ]
    },
    {
      "cell_type": "code",
      "metadata": {
        "id": "QJ1SrORdggFp",
        "colab_type": "code",
        "colab": {
          "base_uri": "https://localhost:8080/",
          "height": 136
        },
        "outputId": "be3afcdf-13ef-4509-98ca-89a5d141708e"
      },
      "source": [
        "np.full((2, 3, 3), 5)"
      ],
      "execution_count": 94,
      "outputs": [
        {
          "output_type": "execute_result",
          "data": {
            "text/plain": [
              "array([[[5, 5, 5],\n",
              "        [5, 5, 5],\n",
              "        [5, 5, 5]],\n",
              "\n",
              "       [[5, 5, 5],\n",
              "        [5, 5, 5],\n",
              "        [5, 5, 5]]])"
            ]
          },
          "metadata": {
            "tags": []
          },
          "execution_count": 94
        }
      ]
    },
    {
      "cell_type": "markdown",
      "metadata": {
        "id": "rFqI6898hYgi",
        "colab_type": "text"
      },
      "source": [
        "Of course you can also specify [NumPy datatypes](https://numpy.org/doc/stable/user/basics.types.html)."
      ]
    },
    {
      "cell_type": "code",
      "metadata": {
        "id": "EQXMXEQThjPu",
        "colab_type": "code",
        "colab": {
          "base_uri": "https://localhost:8080/",
          "height": 34
        },
        "outputId": "4d9a22a4-a3af-422e-f47f-f235f4247546"
      },
      "source": [
        "np.array([2, 3, 3], dtype=np.float32)"
      ],
      "execution_count": 95,
      "outputs": [
        {
          "output_type": "execute_result",
          "data": {
            "text/plain": [
              "array([2., 3., 3.], dtype=float32)"
            ]
          },
          "metadata": {
            "tags": []
          },
          "execution_count": 95
        }
      ]
    },
    {
      "cell_type": "markdown",
      "metadata": {
        "id": "gzpONeqIgbYs",
        "colab_type": "text"
      },
      "source": [
        "Remeber the array-like sequence we mentioned above?"
      ]
    },
    {
      "cell_type": "code",
      "metadata": {
        "id": "k4a2_coVg6gB",
        "colab_type": "code",
        "colab": {
          "base_uri": "https://localhost:8080/",
          "height": 255
        },
        "outputId": "1e955643-2793-415d-db95-f121c0054e1e"
      },
      "source": [
        "foo = [2, 3, 3] * 100\n",
        "np.zeros_like(foo)"
      ],
      "execution_count": 96,
      "outputs": [
        {
          "output_type": "execute_result",
          "data": {
            "text/plain": [
              "array([0, 0, 0, 0, 0, 0, 0, 0, 0, 0, 0, 0, 0, 0, 0, 0, 0, 0, 0, 0, 0, 0,\n",
              "       0, 0, 0, 0, 0, 0, 0, 0, 0, 0, 0, 0, 0, 0, 0, 0, 0, 0, 0, 0, 0, 0,\n",
              "       0, 0, 0, 0, 0, 0, 0, 0, 0, 0, 0, 0, 0, 0, 0, 0, 0, 0, 0, 0, 0, 0,\n",
              "       0, 0, 0, 0, 0, 0, 0, 0, 0, 0, 0, 0, 0, 0, 0, 0, 0, 0, 0, 0, 0, 0,\n",
              "       0, 0, 0, 0, 0, 0, 0, 0, 0, 0, 0, 0, 0, 0, 0, 0, 0, 0, 0, 0, 0, 0,\n",
              "       0, 0, 0, 0, 0, 0, 0, 0, 0, 0, 0, 0, 0, 0, 0, 0, 0, 0, 0, 0, 0, 0,\n",
              "       0, 0, 0, 0, 0, 0, 0, 0, 0, 0, 0, 0, 0, 0, 0, 0, 0, 0, 0, 0, 0, 0,\n",
              "       0, 0, 0, 0, 0, 0, 0, 0, 0, 0, 0, 0, 0, 0, 0, 0, 0, 0, 0, 0, 0, 0,\n",
              "       0, 0, 0, 0, 0, 0, 0, 0, 0, 0, 0, 0, 0, 0, 0, 0, 0, 0, 0, 0, 0, 0,\n",
              "       0, 0, 0, 0, 0, 0, 0, 0, 0, 0, 0, 0, 0, 0, 0, 0, 0, 0, 0, 0, 0, 0,\n",
              "       0, 0, 0, 0, 0, 0, 0, 0, 0, 0, 0, 0, 0, 0, 0, 0, 0, 0, 0, 0, 0, 0,\n",
              "       0, 0, 0, 0, 0, 0, 0, 0, 0, 0, 0, 0, 0, 0, 0, 0, 0, 0, 0, 0, 0, 0,\n",
              "       0, 0, 0, 0, 0, 0, 0, 0, 0, 0, 0, 0, 0, 0, 0, 0, 0, 0, 0, 0, 0, 0,\n",
              "       0, 0, 0, 0, 0, 0, 0, 0, 0, 0, 0, 0, 0, 0])"
            ]
          },
          "metadata": {
            "tags": []
          },
          "execution_count": 96
        }
      ]
    },
    {
      "cell_type": "code",
      "metadata": {
        "id": "SeBvoNMXhMTs",
        "colab_type": "code",
        "colab": {
          "base_uri": "https://localhost:8080/",
          "height": 187
        },
        "outputId": "b5f819ed-d9d5-4df1-b39a-b5ed7ffff6b6"
      },
      "source": [
        "boo = np.random.randint(-100, high=100, size=(10, 10))\n",
        "np.ones_like(boo)"
      ],
      "execution_count": 97,
      "outputs": [
        {
          "output_type": "execute_result",
          "data": {
            "text/plain": [
              "array([[1, 1, 1, 1, 1, 1, 1, 1, 1, 1],\n",
              "       [1, 1, 1, 1, 1, 1, 1, 1, 1, 1],\n",
              "       [1, 1, 1, 1, 1, 1, 1, 1, 1, 1],\n",
              "       [1, 1, 1, 1, 1, 1, 1, 1, 1, 1],\n",
              "       [1, 1, 1, 1, 1, 1, 1, 1, 1, 1],\n",
              "       [1, 1, 1, 1, 1, 1, 1, 1, 1, 1],\n",
              "       [1, 1, 1, 1, 1, 1, 1, 1, 1, 1],\n",
              "       [1, 1, 1, 1, 1, 1, 1, 1, 1, 1],\n",
              "       [1, 1, 1, 1, 1, 1, 1, 1, 1, 1],\n",
              "       [1, 1, 1, 1, 1, 1, 1, 1, 1, 1]])"
            ]
          },
          "metadata": {
            "tags": []
          },
          "execution_count": 97
        }
      ]
    },
    {
      "cell_type": "code",
      "metadata": {
        "id": "DxqR9CSIiGFk",
        "colab_type": "code",
        "colab": {
          "base_uri": "https://localhost:8080/",
          "height": 187
        },
        "outputId": "b772d362-8e05-4a50-8f6f-191c125dd84f"
      },
      "source": [
        "np.eye(10) # identity matrix"
      ],
      "execution_count": 98,
      "outputs": [
        {
          "output_type": "execute_result",
          "data": {
            "text/plain": [
              "array([[1., 0., 0., 0., 0., 0., 0., 0., 0., 0.],\n",
              "       [0., 1., 0., 0., 0., 0., 0., 0., 0., 0.],\n",
              "       [0., 0., 1., 0., 0., 0., 0., 0., 0., 0.],\n",
              "       [0., 0., 0., 1., 0., 0., 0., 0., 0., 0.],\n",
              "       [0., 0., 0., 0., 1., 0., 0., 0., 0., 0.],\n",
              "       [0., 0., 0., 0., 0., 1., 0., 0., 0., 0.],\n",
              "       [0., 0., 0., 0., 0., 0., 1., 0., 0., 0.],\n",
              "       [0., 0., 0., 0., 0., 0., 0., 1., 0., 0.],\n",
              "       [0., 0., 0., 0., 0., 0., 0., 0., 1., 0.],\n",
              "       [0., 0., 0., 0., 0., 0., 0., 0., 0., 1.]])"
            ]
          },
          "metadata": {
            "tags": []
          },
          "execution_count": 98
        }
      ]
    },
    {
      "cell_type": "markdown",
      "metadata": {
        "id": "Ppd3b2H9mvu0",
        "colab_type": "text"
      },
      "source": [
        "*  Would like to create a geometric/arithmetic sequence? Here you go."
      ]
    },
    {
      "cell_type": "code",
      "metadata": {
        "id": "5q_snNKFiJyf",
        "colab_type": "code",
        "colab": {
          "base_uri": "https://localhost:8080/",
          "height": 85
        },
        "outputId": "61cdf49a-edc6-4be8-ad95-9f19e71aab59"
      },
      "source": [
        "np.arange(start=0, stop=101, step=2)"
      ],
      "execution_count": 99,
      "outputs": [
        {
          "output_type": "execute_result",
          "data": {
            "text/plain": [
              "array([  0,   2,   4,   6,   8,  10,  12,  14,  16,  18,  20,  22,  24,\n",
              "        26,  28,  30,  32,  34,  36,  38,  40,  42,  44,  46,  48,  50,\n",
              "        52,  54,  56,  58,  60,  62,  64,  66,  68,  70,  72,  74,  76,\n",
              "        78,  80,  82,  84,  86,  88,  90,  92,  94,  96,  98, 100])"
            ]
          },
          "metadata": {
            "tags": []
          },
          "execution_count": 99
        }
      ]
    },
    {
      "cell_type": "code",
      "metadata": {
        "id": "Hmm94sitiUgT",
        "colab_type": "code",
        "colab": {
          "base_uri": "https://localhost:8080/",
          "height": 102
        },
        "outputId": "7f2cfacb-d43e-4acd-bfbb-572a8b1c5f36"
      },
      "source": [
        "np.linspace(start=0., stop=100., num=51, retstep=True)"
      ],
      "execution_count": 100,
      "outputs": [
        {
          "output_type": "execute_result",
          "data": {
            "text/plain": [
              "(array([  0.,   2.,   4.,   6.,   8.,  10.,  12.,  14.,  16.,  18.,  20.,\n",
              "         22.,  24.,  26.,  28.,  30.,  32.,  34.,  36.,  38.,  40.,  42.,\n",
              "         44.,  46.,  48.,  50.,  52.,  54.,  56.,  58.,  60.,  62.,  64.,\n",
              "         66.,  68.,  70.,  72.,  74.,  76.,  78.,  80.,  82.,  84.,  86.,\n",
              "         88.,  90.,  92.,  94.,  96.,  98., 100.]), 2.0)"
            ]
          },
          "metadata": {
            "tags": []
          },
          "execution_count": 100
        }
      ]
    },
    {
      "cell_type": "code",
      "metadata": {
        "id": "7HySz5-bm5pG",
        "colab_type": "code",
        "colab": {
          "base_uri": "https://localhost:8080/",
          "height": 34
        },
        "outputId": "1d798e24-ab4a-45f5-e8c0-b5c4c8b10a15"
      },
      "source": [
        "np.logspace(start=1, stop=5, num=5, base=2)"
      ],
      "execution_count": 101,
      "outputs": [
        {
          "output_type": "execute_result",
          "data": {
            "text/plain": [
              "array([ 2.,  4.,  8., 16., 32.])"
            ]
          },
          "metadata": {
            "tags": []
          },
          "execution_count": 101
        }
      ]
    },
    {
      "cell_type": "markdown",
      "metadata": {
        "id": "p9hPR4VQK8hv",
        "colab_type": "text"
      },
      "source": [
        "### Array Properties"
      ]
    },
    {
      "cell_type": "code",
      "metadata": {
        "id": "oKr1-2R9K-XA",
        "colab_type": "code",
        "colab": {
          "base_uri": "https://localhost:8080/",
          "height": 34
        },
        "outputId": "8c5a276c-99ca-4f7d-acfe-862e05aba4a4"
      },
      "source": [
        "boo.size"
      ],
      "execution_count": 102,
      "outputs": [
        {
          "output_type": "execute_result",
          "data": {
            "text/plain": [
              "100"
            ]
          },
          "metadata": {
            "tags": []
          },
          "execution_count": 102
        }
      ]
    },
    {
      "cell_type": "code",
      "metadata": {
        "id": "XzBZ-9WSLA1Z",
        "colab_type": "code",
        "colab": {
          "base_uri": "https://localhost:8080/",
          "height": 34
        },
        "outputId": "30da3337-478e-4016-e87d-1c3ef013c51c"
      },
      "source": [
        "boo.shape"
      ],
      "execution_count": 103,
      "outputs": [
        {
          "output_type": "execute_result",
          "data": {
            "text/plain": [
              "(10, 10)"
            ]
          },
          "metadata": {
            "tags": []
          },
          "execution_count": 103
        }
      ]
    },
    {
      "cell_type": "code",
      "metadata": {
        "id": "COZM2b_ULB8m",
        "colab_type": "code",
        "colab": {
          "base_uri": "https://localhost:8080/",
          "height": 34
        },
        "outputId": "93108b66-15a8-4706-8170-f6eeefd8934d"
      },
      "source": [
        "boo.dtype"
      ],
      "execution_count": 104,
      "outputs": [
        {
          "output_type": "execute_result",
          "data": {
            "text/plain": [
              "dtype('int64')"
            ]
          },
          "metadata": {
            "tags": []
          },
          "execution_count": 104
        }
      ]
    },
    {
      "cell_type": "markdown",
      "metadata": {
        "id": "Vu7ZJ8WVhEqy",
        "colab_type": "text"
      },
      "source": [
        "### Array Reshape\n",
        "![](https://forum.onefourthlabs.com/uploads/default/original/2X/d/dc52bf0fac7ecdf30c66cfd4625ccf58e74fba02.jpeg)"
      ]
    },
    {
      "cell_type": "code",
      "metadata": {
        "id": "anlkhOSWo3Xv",
        "colab_type": "code",
        "colab": {}
      },
      "source": [
        "boo = np.linspace(start=1., stop=99., num=50)"
      ],
      "execution_count": 105,
      "outputs": []
    },
    {
      "cell_type": "code",
      "metadata": {
        "id": "OsDJQhzxo5ds",
        "colab_type": "code",
        "colab": {
          "base_uri": "https://localhost:8080/",
          "height": 187
        },
        "outputId": "a71d104f-15b9-424f-dd01-ef4ab1e44390"
      },
      "source": [
        "bar = boo.reshape((10, 5))\n",
        "bar"
      ],
      "execution_count": 106,
      "outputs": [
        {
          "output_type": "execute_result",
          "data": {
            "text/plain": [
              "array([[ 1.,  3.,  5.,  7.,  9.],\n",
              "       [11., 13., 15., 17., 19.],\n",
              "       [21., 23., 25., 27., 29.],\n",
              "       [31., 33., 35., 37., 39.],\n",
              "       [41., 43., 45., 47., 49.],\n",
              "       [51., 53., 55., 57., 59.],\n",
              "       [61., 63., 65., 67., 69.],\n",
              "       [71., 73., 75., 77., 79.],\n",
              "       [81., 83., 85., 87., 89.],\n",
              "       [91., 93., 95., 97., 99.]])"
            ]
          },
          "metadata": {
            "tags": []
          },
          "execution_count": 106
        }
      ]
    },
    {
      "cell_type": "code",
      "metadata": {
        "id": "DDTQGapQpmHp",
        "colab_type": "code",
        "colab": {
          "base_uri": "https://localhost:8080/",
          "height": 102
        },
        "outputId": "17500282-8ae1-49d7-9b77-cbc10893701b"
      },
      "source": [
        "bar.T\n",
        "bar.transpose()"
      ],
      "execution_count": 107,
      "outputs": [
        {
          "output_type": "execute_result",
          "data": {
            "text/plain": [
              "array([[ 1., 11., 21., 31., 41., 51., 61., 71., 81., 91.],\n",
              "       [ 3., 13., 23., 33., 43., 53., 63., 73., 83., 93.],\n",
              "       [ 5., 15., 25., 35., 45., 55., 65., 75., 85., 95.],\n",
              "       [ 7., 17., 27., 37., 47., 57., 67., 77., 87., 97.],\n",
              "       [ 9., 19., 29., 39., 49., 59., 69., 79., 89., 99.]])"
            ]
          },
          "metadata": {
            "tags": []
          },
          "execution_count": 107
        }
      ]
    },
    {
      "cell_type": "code",
      "metadata": {
        "id": "jH70PlrUpTE2",
        "colab_type": "code",
        "colab": {
          "base_uri": "https://localhost:8080/",
          "height": 34
        },
        "outputId": "8551b7b4-92c3-46c1-e2c0-d5bf7e9dd3d3"
      },
      "source": [
        "foo = np.array([[1, 2, 3]])\n",
        "foo"
      ],
      "execution_count": 108,
      "outputs": [
        {
          "output_type": "execute_result",
          "data": {
            "text/plain": [
              "array([[1, 2, 3]])"
            ]
          },
          "metadata": {
            "tags": []
          },
          "execution_count": 108
        }
      ]
    },
    {
      "cell_type": "markdown",
      "metadata": {
        "id": "9kJmquKxzWpo",
        "colab_type": "text"
      },
      "source": [
        "We can also specify the size of one dimension as `-1` (unknown) during reshaping. This will let NumPy figure out the size of that dimenion."
      ]
    },
    {
      "cell_type": "code",
      "metadata": {
        "id": "8gCZaH2ipXu0",
        "colab_type": "code",
        "colab": {
          "base_uri": "https://localhost:8080/",
          "height": 34
        },
        "outputId": "5328dfb5-2270-4065-c189-5cdab1a8d308"
      },
      "source": [
        "foo.reshape(-1)"
      ],
      "execution_count": 109,
      "outputs": [
        {
          "output_type": "execute_result",
          "data": {
            "text/plain": [
              "array([1, 2, 3])"
            ]
          },
          "metadata": {
            "tags": []
          },
          "execution_count": 109
        }
      ]
    },
    {
      "cell_type": "code",
      "metadata": {
        "id": "zRcFbBJhpyCq",
        "colab_type": "code",
        "colab": {
          "base_uri": "https://localhost:8080/",
          "height": 34
        },
        "outputId": "94139e0f-9c16-4100-8b27-54fb9cd1ee20"
      },
      "source": [
        "np.ones((1, 2, 3)).flatten()"
      ],
      "execution_count": 110,
      "outputs": [
        {
          "output_type": "execute_result",
          "data": {
            "text/plain": [
              "array([1., 1., 1., 1., 1., 1.])"
            ]
          },
          "metadata": {
            "tags": []
          },
          "execution_count": 110
        }
      ]
    },
    {
      "cell_type": "markdown",
      "metadata": {
        "id": "O4vTJDtbO0Ux",
        "colab_type": "text"
      },
      "source": [
        "### Indexing and Slicing\n",
        "*   Similar story like what what we did for Python arrays but with extra toppings."
      ]
    },
    {
      "cell_type": "code",
      "metadata": {
        "id": "s7hARm_HIMwT",
        "colab_type": "code",
        "colab": {
          "base_uri": "https://localhost:8080/",
          "height": 34
        },
        "outputId": "3f2bdb6c-d893-4a98-e472-a1222579fc85"
      },
      "source": [
        "boo = np.random.randn(225, 233, 361)\n",
        "boo.shape"
      ],
      "execution_count": 111,
      "outputs": [
        {
          "output_type": "execute_result",
          "data": {
            "text/plain": [
              "(225, 233, 361)"
            ]
          },
          "metadata": {
            "tags": []
          },
          "execution_count": 111
        }
      ]
    },
    {
      "cell_type": "code",
      "metadata": {
        "id": "0FQvfHVcKvQl",
        "colab_type": "code",
        "colab": {
          "base_uri": "https://localhost:8080/",
          "height": 34
        },
        "outputId": "5de88442-d5b1-40be-8d0d-22d1df800f1b"
      },
      "source": [
        "boo[:, :, :].shape # I want them all!"
      ],
      "execution_count": 112,
      "outputs": [
        {
          "output_type": "execute_result",
          "data": {
            "text/plain": [
              "(225, 233, 361)"
            ]
          },
          "metadata": {
            "tags": []
          },
          "execution_count": 112
        }
      ]
    },
    {
      "cell_type": "code",
      "metadata": {
        "id": "In_-2MexLXIG",
        "colab_type": "code",
        "colab": {
          "base_uri": "https://localhost:8080/",
          "height": 34
        },
        "outputId": "56822e8b-d469-4b0a-8d9c-ea5aef1ad768"
      },
      "source": [
        "boo[0:-10:2, :, ...].shape # Too lazy to specify the size of one dimension to be sliced"
      ],
      "execution_count": 113,
      "outputs": [
        {
          "output_type": "execute_result",
          "data": {
            "text/plain": [
              "(108, 233, 361)"
            ]
          },
          "metadata": {
            "tags": []
          },
          "execution_count": 113
        }
      ]
    },
    {
      "cell_type": "code",
      "metadata": {
        "id": "SNddaZiPLvmq",
        "colab_type": "code",
        "colab": {
          "base_uri": "https://localhost:8080/",
          "height": 34
        },
        "outputId": "acaf12cb-6c25-4711-d893-d79f0a09ff03"
      },
      "source": [
        "boo[::-1, 1, 1].shape"
      ],
      "execution_count": 114,
      "outputs": [
        {
          "output_type": "execute_result",
          "data": {
            "text/plain": [
              "(225,)"
            ]
          },
          "metadata": {
            "tags": []
          },
          "execution_count": 114
        }
      ]
    },
    {
      "cell_type": "markdown",
      "metadata": {
        "id": "qtG3hR7IL9HM",
        "colab_type": "text"
      },
      "source": [
        "*   Fancy indexing (Yeah that's what people call it😂) with boolean mask: Note that boolean mask indexing creates a new ndarray instead of a view."
      ]
    },
    {
      "cell_type": "code",
      "metadata": {
        "id": "utnkax8RL8q6",
        "colab_type": "code",
        "colab": {
          "base_uri": "https://localhost:8080/",
          "height": 204
        },
        "outputId": "a71eded9-60b6-45ed-c1a2-1244d91b80c0"
      },
      "source": [
        "foo = np.random.randn(100)\n",
        "foo[foo > 0]"
      ],
      "execution_count": 115,
      "outputs": [
        {
          "output_type": "execute_result",
          "data": {
            "text/plain": [
              "array([1.68339489e+00, 8.94855537e-01, 4.85777866e-01, 1.08696284e+00,\n",
              "       1.40309913e+00, 9.07868695e-01, 1.71675186e+00, 1.51317942e+00,\n",
              "       1.81822228e+00, 5.75292362e-01, 4.16015064e-01, 1.22194665e-02,\n",
              "       1.20974652e+00, 2.21792623e+00, 2.07676146e-03, 2.33204822e-01,\n",
              "       1.31725095e+00, 7.54091528e-01, 1.11441265e+00, 4.86291657e-01,\n",
              "       1.99178813e+00, 1.11434440e+00, 7.88104671e-01, 1.85536382e+00,\n",
              "       1.36859416e+00, 1.25872278e+00, 2.03676107e+00, 1.49814405e+00,\n",
              "       1.09287124e+00, 7.46711640e-01, 7.43880185e-01, 1.07364270e+00,\n",
              "       1.89021374e-01, 1.66853580e+00, 4.64538095e-01, 1.24363174e+00,\n",
              "       4.11649764e-01, 7.72097329e-01, 8.44206399e-02, 7.15574247e-01,\n",
              "       1.76815981e-01, 1.45318359e+00, 7.25833133e-01, 5.83765584e-01])"
            ]
          },
          "metadata": {
            "tags": []
          },
          "execution_count": 115
        }
      ]
    },
    {
      "cell_type": "code",
      "metadata": {
        "id": "1xaqD8GoL4Tu",
        "colab_type": "code",
        "colab": {
          "base_uri": "https://localhost:8080/",
          "height": 51
        },
        "outputId": "0231203a-504a-4e94-fa08-04c7ce286742"
      },
      "source": [
        "boo[boo < 0]"
      ],
      "execution_count": 116,
      "outputs": [
        {
          "output_type": "execute_result",
          "data": {
            "text/plain": [
              "array([-1.54451975, -0.24822301, -1.10994655, ..., -0.38990346,\n",
              "       -0.99421244, -0.13257632])"
            ]
          },
          "metadata": {
            "tags": []
          },
          "execution_count": 116
        }
      ]
    },
    {
      "cell_type": "markdown",
      "metadata": {
        "id": "FfKtLHBENLKS",
        "colab_type": "text"
      },
      "source": [
        "*   Fancy indexing with integer array: Note that integer array indexing creates a new ndarray instead of a view."
      ]
    },
    {
      "cell_type": "code",
      "metadata": {
        "id": "ipsOC3ffNX_n",
        "colab_type": "code",
        "colab": {
          "base_uri": "https://localhost:8080/",
          "height": 187
        },
        "outputId": "aaa4a404-1207-49f3-ce2b-83266446545c"
      },
      "source": [
        "foo = np.random.randint(0, 100, (10, 10))\n",
        "foo"
      ],
      "execution_count": 117,
      "outputs": [
        {
          "output_type": "execute_result",
          "data": {
            "text/plain": [
              "array([[95, 16, 66, 32, 73, 94, 36, 52, 64, 48],\n",
              "       [52, 46, 89, 49, 27, 91, 96, 77, 64, 77],\n",
              "       [14, 55,  2, 72, 76,  5, 68, 66, 49, 95],\n",
              "       [51, 66, 88, 56, 56, 50, 87, 36, 79, 78],\n",
              "       [93, 71, 64, 18, 74, 75, 60, 65, 25, 37],\n",
              "       [97, 20, 76, 41, 96,  1, 41, 60,  1, 25],\n",
              "       [21, 47, 74, 94, 43,  7, 33,  0, 44, 18],\n",
              "       [70, 81,  2, 71, 43, 71,  0, 89, 90, 52],\n",
              "       [74, 20, 31, 40, 19, 69, 58, 12,  2, 40],\n",
              "       [16, 20, 73, 91, 32, 81, 80, 60, 58, 97]])"
            ]
          },
          "metadata": {
            "tags": []
          },
          "execution_count": 117
        }
      ]
    },
    {
      "cell_type": "code",
      "metadata": {
        "id": "vm7xaxKgW4fG",
        "colab_type": "code",
        "colab": {
          "base_uri": "https://localhost:8080/",
          "height": 34
        },
        "outputId": "097a8dd7-8f2b-4c6a-bbcf-6cbbc2810eb1"
      },
      "source": [
        "foo[[1, 2, 3], [1, 2, 3]] # Basically we are picking out numbers with position (1, 1), (2, 2), and (3, 3)"
      ],
      "execution_count": 118,
      "outputs": [
        {
          "output_type": "execute_result",
          "data": {
            "text/plain": [
              "array([46,  2, 56])"
            ]
          },
          "metadata": {
            "tags": []
          },
          "execution_count": 118
        }
      ]
    },
    {
      "cell_type": "markdown",
      "metadata": {
        "id": "_Joz7svIZqQ9",
        "colab_type": "text"
      },
      "source": [
        "Same story for high-dimensional array."
      ]
    },
    {
      "cell_type": "code",
      "metadata": {
        "id": "CrnRPXW3W4RF",
        "colab_type": "code",
        "colab": {
          "base_uri": "https://localhost:8080/",
          "height": 34
        },
        "outputId": "62e155ec-a4d8-4a2d-98ce-1f71216c8576"
      },
      "source": [
        "bar = np.random.randint(0, 100, (10, 10, 10))\n",
        "bar[[1, 2, 3], [1, 2, 3], [1, 2, 3]]"
      ],
      "execution_count": 119,
      "outputs": [
        {
          "output_type": "execute_result",
          "data": {
            "text/plain": [
              "array([33, 22, 22])"
            ]
          },
          "metadata": {
            "tags": []
          },
          "execution_count": 119
        }
      ]
    },
    {
      "cell_type": "markdown",
      "metadata": {
        "id": "MJLyDE68Z4q8",
        "colab_type": "text"
      },
      "source": [
        "We can even mix slicing with indexing."
      ]
    },
    {
      "cell_type": "code",
      "metadata": {
        "id": "phM_xHc4ZY2y",
        "colab_type": "code",
        "colab": {
          "base_uri": "https://localhost:8080/",
          "height": 85
        },
        "outputId": "8977fea8-f58f-4c23-dcfd-63de33fda767"
      },
      "source": [
        "foo[3:7, [0, 1, 2, 3]]"
      ],
      "execution_count": 120,
      "outputs": [
        {
          "output_type": "execute_result",
          "data": {
            "text/plain": [
              "array([[51, 66, 88, 56],\n",
              "       [93, 71, 64, 18],\n",
              "       [97, 20, 76, 41],\n",
              "       [21, 47, 74, 94]])"
            ]
          },
          "metadata": {
            "tags": []
          },
          "execution_count": 120
        }
      ]
    },
    {
      "cell_type": "markdown",
      "metadata": {
        "id": "1rT_YoX-0D-c",
        "colab_type": "text"
      },
      "source": [
        "## NumPy Math/Statistics"
      ]
    },
    {
      "cell_type": "markdown",
      "metadata": {
        "id": "gXrzirN3ce5P",
        "colab_type": "text"
      },
      "source": [
        "### Statistics"
      ]
    },
    {
      "cell_type": "code",
      "metadata": {
        "id": "WQOB8OTxbzQk",
        "colab_type": "code",
        "colab": {
          "base_uri": "https://localhost:8080/",
          "height": 68
        },
        "outputId": "bd0f69f1-a872-4075-f5a6-9cddd81f077c"
      },
      "source": [
        "boo = np.random.randn(3, 5)\n",
        "boo"
      ],
      "execution_count": 121,
      "outputs": [
        {
          "output_type": "execute_result",
          "data": {
            "text/plain": [
              "array([[ 0.13315673,  1.28355587,  2.26422345, -1.13109949,  0.03002014],\n",
              "       [-0.03203126, -0.67702123,  0.36223797, -0.27586817,  0.86385367],\n",
              "       [-0.50310435,  0.27807985, -0.21850545, -1.26513923,  2.43544275]])"
            ]
          },
          "metadata": {
            "tags": []
          },
          "execution_count": 121
        }
      ]
    },
    {
      "cell_type": "code",
      "metadata": {
        "id": "SgswwFfUaIUT",
        "colab_type": "code",
        "colab": {
          "base_uri": "https://localhost:8080/",
          "height": 34
        },
        "outputId": "12fb3d56-412a-4f4c-fd4f-573220631bab"
      },
      "source": [
        "boo.std() == boo.flatten().std() # Yes, my mon told me not to compare float numbers this way, but the point here is that std() by default flattens the array."
      ],
      "execution_count": 122,
      "outputs": [
        {
          "output_type": "execute_result",
          "data": {
            "text/plain": [
              "True"
            ]
          },
          "metadata": {
            "tags": []
          },
          "execution_count": 122
        }
      ]
    },
    {
      "cell_type": "code",
      "metadata": {
        "id": "yHeuRRNjbomv",
        "colab_type": "code",
        "colab": {
          "base_uri": "https://localhost:8080/",
          "height": 34
        },
        "outputId": "5b250350-02e9-43e1-96ce-b42db1d76a93"
      },
      "source": [
        "boo.std(axis=0) # std of each column (along the rows)"
      ],
      "execution_count": 123,
      "outputs": [
        {
          "output_type": "execute_result",
          "data": {
            "text/plain": [
              "array([0.26957273, 0.80049031, 1.06033299, 0.43818369, 0.99728679])"
            ]
          },
          "metadata": {
            "tags": []
          },
          "execution_count": 123
        }
      ]
    },
    {
      "cell_type": "code",
      "metadata": {
        "id": "VgrSovR6cAPW",
        "colab_type": "code",
        "colab": {
          "base_uri": "https://localhost:8080/",
          "height": 34
        },
        "outputId": "7fa49b5c-38a7-46dd-fe33-5845a62d19a1"
      },
      "source": [
        "boo.std(axis=1) # std of each row (along the columns)"
      ],
      "execution_count": 124,
      "outputs": [
        {
          "output_type": "execute_result",
          "data": {
            "text/plain": [
              "array([1.16112957, 0.52939849, 1.24936029])"
            ]
          },
          "metadata": {
            "tags": []
          },
          "execution_count": 124
        }
      ]
    },
    {
      "cell_type": "markdown",
      "metadata": {
        "id": "QWSLuYYPcLlp",
        "colab_type": "text"
      },
      "source": [
        "Watch out for the degree of freedom (depending whether you are running population std or sample std and your downstream task). Prof. Liu will talk about degree of freedom later in the course."
      ]
    },
    {
      "cell_type": "code",
      "metadata": {
        "id": "oPrZiSy8cGvw",
        "colab_type": "code",
        "colab": {
          "base_uri": "https://localhost:8080/",
          "height": 34
        },
        "outputId": "83e139df-2228-4afd-b213-232e688b9847"
      },
      "source": [
        "boo.std(ddof=0)"
      ],
      "execution_count": 125,
      "outputs": [
        {
          "output_type": "execute_result",
          "data": {
            "text/plain": [
              "1.0505937182721985"
            ]
          },
          "metadata": {
            "tags": []
          },
          "execution_count": 125
        }
      ]
    },
    {
      "cell_type": "code",
      "metadata": {
        "id": "mifQFvmgcjIe",
        "colab_type": "code",
        "colab": {
          "base_uri": "https://localhost:8080/",
          "height": 34
        },
        "outputId": "cb3e66f8-d94c-4dba-dc0c-a210954e538c"
      },
      "source": [
        "boo.mean()"
      ],
      "execution_count": 126,
      "outputs": [
        {
          "output_type": "execute_result",
          "data": {
            "text/plain": [
              "0.23652008238371441"
            ]
          },
          "metadata": {
            "tags": []
          },
          "execution_count": 126
        }
      ]
    },
    {
      "cell_type": "code",
      "metadata": {
        "id": "dyPX0JmCckom",
        "colab_type": "code",
        "colab": {
          "base_uri": "https://localhost:8080/",
          "height": 34
        },
        "outputId": "56f6053b-fb5a-445b-9ee7-d055c1152124"
      },
      "source": [
        "boo.sum()"
      ],
      "execution_count": 127,
      "outputs": [
        {
          "output_type": "execute_result",
          "data": {
            "text/plain": [
              "3.547801235755716"
            ]
          },
          "metadata": {
            "tags": []
          },
          "execution_count": 127
        }
      ]
    },
    {
      "cell_type": "markdown",
      "metadata": {
        "id": "5_lkeh1dct4j",
        "colab_type": "text"
      },
      "source": [
        "### Element-wise Operations"
      ]
    },
    {
      "cell_type": "code",
      "metadata": {
        "id": "M6yPuYWFcmCq",
        "colab_type": "code",
        "colab": {
          "base_uri": "https://localhost:8080/",
          "height": 85
        },
        "outputId": "eb6a38c7-c36c-4b6d-837b-761a8eaeecac"
      },
      "source": [
        "boo = np.arange(0, 20).reshape((4, 5))\n",
        "boo"
      ],
      "execution_count": 128,
      "outputs": [
        {
          "output_type": "execute_result",
          "data": {
            "text/plain": [
              "array([[ 0,  1,  2,  3,  4],\n",
              "       [ 5,  6,  7,  8,  9],\n",
              "       [10, 11, 12, 13, 14],\n",
              "       [15, 16, 17, 18, 19]])"
            ]
          },
          "metadata": {
            "tags": []
          },
          "execution_count": 128
        }
      ]
    },
    {
      "cell_type": "code",
      "metadata": {
        "id": "Vm8ftRYwdgmw",
        "colab_type": "code",
        "colab": {
          "base_uri": "https://localhost:8080/",
          "height": 34
        },
        "outputId": "6210a780-7552-45c3-98ec-b132e603c5cc"
      },
      "source": [
        "foo = np.arange(0, 5)\n",
        "foo"
      ],
      "execution_count": 129,
      "outputs": [
        {
          "output_type": "execute_result",
          "data": {
            "text/plain": [
              "array([0, 1, 2, 3, 4])"
            ]
          },
          "metadata": {
            "tags": []
          },
          "execution_count": 129
        }
      ]
    },
    {
      "cell_type": "code",
      "metadata": {
        "id": "Jlkpikj5kXx8",
        "colab_type": "code",
        "colab": {
          "base_uri": "https://localhost:8080/",
          "height": 34
        },
        "outputId": "be8f855c-6049-4d02-f5bf-21d58a58039c"
      },
      "source": [
        "foo ** 2"
      ],
      "execution_count": 130,
      "outputs": [
        {
          "output_type": "execute_result",
          "data": {
            "text/plain": [
              "array([ 0,  1,  4,  9, 16])"
            ]
          },
          "metadata": {
            "tags": []
          },
          "execution_count": 130
        }
      ]
    },
    {
      "cell_type": "code",
      "metadata": {
        "id": "9N5tsnaZkZLJ",
        "colab_type": "code",
        "colab": {
          "base_uri": "https://localhost:8080/",
          "height": 34
        },
        "outputId": "c80a14d9-c565-4dbe-af34-9ec5e5916e62"
      },
      "source": [
        "foo - 1"
      ],
      "execution_count": 131,
      "outputs": [
        {
          "output_type": "execute_result",
          "data": {
            "text/plain": [
              "array([-1,  0,  1,  2,  3])"
            ]
          },
          "metadata": {
            "tags": []
          },
          "execution_count": 131
        }
      ]
    },
    {
      "cell_type": "code",
      "metadata": {
        "id": "JCIsXlFNkaec",
        "colab_type": "code",
        "colab": {
          "base_uri": "https://localhost:8080/",
          "height": 34
        },
        "outputId": "e4cb5d52-e460-4d3b-c023-d58d83d02c72"
      },
      "source": [
        "foo - np.arange(-5, 0)"
      ],
      "execution_count": 132,
      "outputs": [
        {
          "output_type": "execute_result",
          "data": {
            "text/plain": [
              "array([5, 5, 5, 5, 5])"
            ]
          },
          "metadata": {
            "tags": []
          },
          "execution_count": 132
        }
      ]
    },
    {
      "cell_type": "code",
      "metadata": {
        "id": "LvRlLKAkdW9W",
        "colab_type": "code",
        "colab": {
          "base_uri": "https://localhost:8080/",
          "height": 85
        },
        "outputId": "1d7ed70d-6f9a-4bc9-d3e3-7a8e8b191092"
      },
      "source": [
        "boo * foo"
      ],
      "execution_count": 133,
      "outputs": [
        {
          "output_type": "execute_result",
          "data": {
            "text/plain": [
              "array([[ 0,  1,  4,  9, 16],\n",
              "       [ 0,  6, 14, 24, 36],\n",
              "       [ 0, 11, 24, 39, 56],\n",
              "       [ 0, 16, 34, 54, 76]])"
            ]
          },
          "metadata": {
            "tags": []
          },
          "execution_count": 133
        }
      ]
    },
    {
      "cell_type": "markdown",
      "metadata": {
        "id": "Dmn0BvbFdwfD",
        "colab_type": "text"
      },
      "source": [
        "Wait... What? **PLEASE NOTE THAT THE CODE ABOVE IS NOT DOING MATRIX MULTIPLICATIONS.** ~Serious side effect may include but not limited to... (OK..OK.. I can't make this tutorial a TV prescription drug ad.)~ The code in the cell below is how you do a matrix multiplication."
      ]
    },
    {
      "cell_type": "code",
      "metadata": {
        "id": "qbRae0Y4dVq3",
        "colab_type": "code",
        "colab": {
          "base_uri": "https://localhost:8080/",
          "height": 34
        },
        "outputId": "52d6e9c4-88a2-42ab-9144-a70c992e447d"
      },
      "source": [
        "boo @ foo"
      ],
      "execution_count": 134,
      "outputs": [
        {
          "output_type": "execute_result",
          "data": {
            "text/plain": [
              "array([ 30,  80, 130, 180])"
            ]
          },
          "metadata": {
            "tags": []
          },
          "execution_count": 134
        }
      ]
    },
    {
      "cell_type": "markdown",
      "metadata": {
        "id": "2jtY5NAFhxtW",
        "colab_type": "text"
      },
      "source": [
        "But what happened when we did `boo * foo`? This is our next fairy tale."
      ]
    },
    {
      "cell_type": "markdown",
      "metadata": {
        "id": "A_tOJ17xOwJ3",
        "colab_type": "text"
      },
      "source": [
        "## Broadcast"
      ]
    },
    {
      "cell_type": "markdown",
      "metadata": {
        "id": "O2e9UFKUlBiE",
        "colab_type": "text"
      },
      "source": [
        "Let's say I'd like to subtract a constant from a very large ndarray `boo`. Without broadcasting, I have to create an array with the same size as `boo`. However, this is not very efficient. This is the basic idea of broadcast: making arithmetic operations happen when two arrays even have incompatible shapes. For the `boo * foo` example above, we \"copy\" `foo` for five times and make its shape compatible with `boo`. "
      ]
    },
    {
      "cell_type": "markdown",
      "metadata": {
        "id": "pSrObpzwnc9_",
        "colab_type": "text"
      },
      "source": [
        "~The COVID testing took my entire morning away so I'll just copy the official documentation. (Sorry, that's not an excuse.)~"
      ]
    },
    {
      "cell_type": "markdown",
      "metadata": {
        "id": "z15_UjG1p2Rl",
        "colab_type": "text"
      },
      "source": [
        "![Meme](https://imgs.xkcd.com/comics/compiling.png)\\\n",
        "Wait... Python does not compile... Nevermind..."
      ]
    },
    {
      "cell_type": "markdown",
      "metadata": {
        "id": "WiAF1-ojmvAA",
        "colab_type": "text"
      },
      "source": [
        "The rules for broadcasting go as below ([credit](https://cs231n.github.io/python-numpy-tutorial/#broadcasting)):\n",
        "*   If the arrays do not have the same rank, prepend the shape of the lower rank array with 1s until both shapes have the same length.\n",
        "*   The two arrays are said to be compatible in a dimension if they have the same size in the dimension, or if one of the arrays has size 1 in that dimension.\n",
        "*   The arrays can be broadcast together if they are compatible in all dimensions.\n",
        "*   After broadcasting, each array behaves as if it had shape equal to the elementwise maximum of shapes of the two input arrays.\n",
        "*   In any dimension where one array had size 1 and the other array had size greater than 1, the first array behaves as if it were copied along that dimension"
      ]
    },
    {
      "cell_type": "markdown",
      "metadata": {
        "id": "QRlDL312m-Z6",
        "colab_type": "text"
      },
      "source": [
        "Checkout [this link](https://numpy.org/devdocs/user/theory.broadcasting.html) for the motivation behind this design and the related rules. Below are some examples."
      ]
    },
    {
      "cell_type": "markdown",
      "metadata": {
        "id": "QL5ltRZZoW-G",
        "colab_type": "text"
      },
      "source": [
        "![Boradcast 1](https://numpy.org/doc/stable/_images/theory.broadcast_1.gif)\\\n",
        "![Broadcast 2](https://numpy.org/doc/stable/_images/theory.broadcast_2.gif)\\\n",
        "![Broadcast 3](https://numpy.org/doc/stable/_images/theory.broadcast_3.gif)\\\n",
        "When the trailing dimensions of the arrays are unequal, broadcasting fails because it is impossible to align the values in the rows of the 1st array with the elements of the 2nd arrays for element-by-element addition.\n",
        "\n"
      ]
    },
    {
      "cell_type": "markdown",
      "metadata": {
        "id": "cyWzFKf-LNB9",
        "colab_type": "text"
      },
      "source": [
        "## Vectorization"
      ]
    },
    {
      "cell_type": "markdown",
      "metadata": {
        "id": "QBEasZlEiXks",
        "colab_type": "text"
      },
      "source": [
        "The basic idea of doing vectorization with NumPy is to converting vanilla loops into ndarray-based NumPy operations without explicit looping. We usually (at least for simple problems) generate all the random trials onece and then accumulate the result with highly-optimized NumPy functions. We won't get into too much detail but below is a naive example."
      ]
    },
    {
      "cell_type": "code",
      "metadata": {
        "id": "OfVOl7d0FOdm",
        "colab_type": "code",
        "colab": {
          "base_uri": "https://localhost:8080/",
          "height": 34
        },
        "outputId": "d5123ba0-5cb6-4642-bb49-9b896a0b828d"
      },
      "source": [
        "%%timeit\n",
        "from random import randint\n",
        "path = []\n",
        "pos = 0\n",
        "for i in range(int(1e5)):\n",
        "  walk = randint(-100, 100)\n",
        "  path.append(pos)\n",
        "  pos += walk"
      ],
      "execution_count": 135,
      "outputs": [
        {
          "output_type": "stream",
          "text": [
            "10 loops, best of 3: 118 ms per loop\n"
          ],
          "name": "stdout"
        }
      ]
    },
    {
      "cell_type": "code",
      "metadata": {
        "id": "SdbbrdN-L5hL",
        "colab_type": "code",
        "colab": {
          "base_uri": "https://localhost:8080/",
          "height": 34
        },
        "outputId": "931c5aaa-7320-4809-a9a1-02de5fc110dd"
      },
      "source": [
        "%%timeit\n",
        "walks = np.random.randint(-100, high=100, size=int(1e5))\n",
        "path = np.cumsum(walks)"
      ],
      "execution_count": 136,
      "outputs": [
        {
          "output_type": "stream",
          "text": [
            "1000 loops, best of 3: 1.41 ms per loop\n"
          ],
          "name": "stdout"
        }
      ]
    },
    {
      "cell_type": "markdown",
      "metadata": {
        "id": "DNT8O6-NPPmI",
        "colab_type": "text"
      },
      "source": [
        "See the difference? Vectorization could save you a huge amount of time on a later homework about simulation (and in a whole bunch of other sceanrios). Side Note: Packages like `Numba` could also bring vectorization and JIT compilation to CPython. However, please do watch out for any unintended behaviors when using such packages. (I recommended `Numba` to a friend who is doing a research project and it messed up his experiment results...🤦)"
      ]
    },
    {
      "cell_type": "code",
      "metadata": {
        "id": "6RF7ejkNOdeU",
        "colab_type": "code",
        "colab": {}
      },
      "source": [
        "from numba import jit\n",
        "@jit(nopython=True)\n",
        "def random_walk(steps):\n",
        "  path = []\n",
        "  pos = 0\n",
        "  for i in range(int(steps)):\n",
        "    walk = np.random.randint(-100, high=100)\n",
        "    path.append(pos)\n",
        "    pos += walk\n",
        "  return path"
      ],
      "execution_count": 137,
      "outputs": []
    },
    {
      "cell_type": "code",
      "metadata": {
        "id": "Z2bDvDCxWG9C",
        "colab_type": "code",
        "colab": {
          "base_uri": "https://localhost:8080/",
          "height": 51
        },
        "outputId": "99326bf1-7668-4305-87f7-4dd4bdb84434"
      },
      "source": [
        "%%timeit\n",
        "random_walk(1e5) # Not bad!"
      ],
      "execution_count": 138,
      "outputs": [
        {
          "output_type": "stream",
          "text": [
            "The slowest run took 29.29 times longer than the fastest. This could mean that an intermediate result is being cached.\n",
            "1 loop, best of 3: 6.95 ms per loop\n"
          ],
          "name": "stdout"
        }
      ]
    },
    {
      "cell_type": "markdown",
      "metadata": {
        "id": "TWTxFzqoeMbD",
        "colab_type": "text"
      },
      "source": [
        "![Meme](https://i.redd.it/nklty63uzav41.png)"
      ]
    },
    {
      "cell_type": "markdown",
      "metadata": {
        "id": "Ajtno2fRpghG",
        "colab_type": "text"
      },
      "source": [
        "# Other Libraries by Examples\n",
        "*  [Notebook1](https://colab.research.google.com/github/danielz02/CS361_Notebook_Collection/blob/master/Notebook1_Pandas_Histogram.ipynb): Matplotlib and Pandas\n",
        "*  [Notebook2](https://github.com/danielz02/CS361_Notebook_Collection/blob/master/Notebook2_Time_Series_Boxplot_Corr.ipynb): Matplotlib and Pandas (Cont.d)\n",
        "*  [Notebook3](https://colab.research.google.com/github/danielz02/CS361_Notebook_Collection/blob/master/Notebook3_Scatter_Corr.ipynb): Correlation Coefficient\n",
        "*  [Notebook4](https://colab.research.google.com/github/danielz02/CS361_Notebook_Collection/blob/master/Notebook4_Simulation.ipynb): Simulation\n",
        "*  [Notebook5](https://colab.research.google.com/github/danielz02/CS361_Notebook_Collection/blob/master/Notebook5_Covariance_PCA.ipynb): PCA\n",
        "*  [Notebook6](https://colab.research.google.com/github/danielz02/CS361_Notebook_Collection/blob/master/Notebook6_PCA.ipynb): PCA (Cont.d)"
      ]
    },
    {
      "cell_type": "markdown",
      "metadata": {
        "id": "3tqF5Cn6O_rI",
        "colab_type": "text"
      },
      "source": [
        "# Reference\n",
        "*   [What's NumPy](https://numpy.org/doc/stable/user/whatisnumpy.html)\n",
        "*   [NumPy Indexing](https://numpy.org/doc/stable/user/basics.indexing.html)\n",
        "*   [NumPy Glossary](https://numpy.org/doc/stable/glossary.html)\n",
        "*   [Stanford CS 231n](https://cs231n.github.io/python-numpy-tutorial/)\n",
        "*   [NumPy Cheatsheet](https://www.dataquest.io/blog/numpy-cheat-sheet/)\n",
        "*   [NumPy Broadcasting](https://numpy.org/doc/stable/user/theory.broadcasting.html)\n",
        "*   [Meme from Unknown Source](https://forum.onefourthlabs.com/t/numpy-reshaping/5813)"
      ]
    }
  ]
}