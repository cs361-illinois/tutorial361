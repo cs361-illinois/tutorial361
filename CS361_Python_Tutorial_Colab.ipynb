{
 "nbformat": 4,
 "nbformat_minor": 0,
 "metadata": {
  "colab": {
   "name": "CS361_Python_Tutorial_Colab.ipynb",
   "provenance": [],
   "collapsed_sections": [],
   "toc_visible": true
  },
  "kernelspec": {
   "name": "python3",
   "display_name": "Python 3"
  }
 },
 "cells": [
  {
   "cell_type": "markdown",
   "metadata": {
    "id": "87oZ6pKNdcuC",
    "colab_type": "text"
   },
   "source": [
    "# Sanity Check"
   ]
  },
  {
   "cell_type": "markdown",
   "metadata": {
    "id": "l4dCpdDseGkz",
    "colab_type": "text"
   },
   "source": [
    "Let's first check a couple packages we need in this class. Anaconda should have all the packages below (except for PyTorch) installed."
   ]
  },
  {
   "cell_type": "code",
   "metadata": {
    "id": "ImIWCCR2dYzX",
    "colab_type": "code",
    "colab": {
     "base_uri": "https://localhost:8080/",
     "height": 71
    },
    "outputId": "c33477cc-6c49-4cf1-e8e0-f9569acdb77a"
   },
   "source": [
    "import torch\n",
    "import scipy\n",
    "import sklearn\n",
    "import numpy as np\n",
    "import pandas as pd\n",
    "import seaborn as sns\n",
    "import matplotlib.pyplot as plt"
   ],
   "execution_count": 1,
   "outputs": [
    {
     "output_type": "stream",
     "text": [
      "/usr/local/lib/python3.6/dist-packages/statsmodels/tools/_testing.py:19: FutureWarning: pandas.util.testing is deprecated. Use the functions in the public API at pandas.testing instead.\n",
      "  import pandas.util.testing as tm\n"
     ],
     "name": "stderr"
    }
   ]
  },
  {
   "cell_type": "markdown",
   "metadata": {
    "id": "_w2EzCE7QtQ3",
    "colab_type": "text"
   },
   "source": [
    "Now let's check your Python version. Both 3.7 and 3.6 should work fine. If you have multiple Python environments installed, please pay attention to which one are you using. Nevertheless, we highly recommend using Anaconda to manager your packages."
   ]
  },
  {
   "cell_type": "code",
   "metadata": {
    "id": "9CngkxVId0AA",
    "colab_type": "code",
    "colab": {
     "base_uri": "https://localhost:8080/",
     "height": 34
    },
    "outputId": "24ef7ec4-5b3a-4761-b160-11e761b07ab2"
   },
   "source": [
    "!python --version"
   ],
   "execution_count": 2,
   "outputs": [
    {
     "output_type": "stream",
     "text": [
      "Python 3.6.9\n"
     ],
     "name": "stdout"
    }
   ]
  },
  {
   "cell_type": "markdown",
   "metadata": {
    "id": "n2AfCq-eePK4",
    "colab_type": "text"
   },
   "source": [
    "# Orientation to Google Colab"
   ]
  },
  {
   "cell_type": "markdown",
   "metadata": {
    "id": "LjMC0l15V0jT",
    "colab_type": "text"
   },
   "source": [
    "Please note that Google Colab only has temporary storage. Once the current session disconnects (or timesout) all the files in the session storage will be discarded. However, the output from Jupyter Notebook will be saved unless you specify not to do so. You can download/upload files with the GUI in the left panel. If you would like to have a permanent storage (maybe for datasets and results), you can mount your Google Drive to Google Colab by running the cell below. You will be prompted to link your account to Colab. **The code in this section only works on Colab.**"
   ]
  },
  {
   "cell_type": "code",
   "metadata": {
    "id": "ujtFAQzBeTYv",
    "colab_type": "code",
    "colab": {
     "base_uri": "https://localhost:8080/",
     "height": 122
    },
    "outputId": "101c737f-6d21-4a1e-e268-6738a061773e"
   },
   "source": [
    "from google.colab import drive\n",
    "drive.mount('/content/drive')"
   ],
   "execution_count": 3,
   "outputs": [
    {
     "output_type": "stream",
     "text": [
      "Go to this URL in a browser: https://accounts.google.com/o/oauth2/auth?client_id=947318989803-6bn6qk8qdgf4n4g3pfee6491hc0brc4i.apps.googleusercontent.com&redirect_uri=urn%3aietf%3awg%3aoauth%3a2.0%3aoob&scope=email%20https%3a%2f%2fwww.googleapis.com%2fauth%2fdocs.test%20https%3a%2f%2fwww.googleapis.com%2fauth%2fdrive%20https%3a%2f%2fwww.googleapis.com%2fauth%2fdrive.photos.readonly%20https%3a%2f%2fwww.googleapis.com%2fauth%2fpeopleapi.readonly&response_type=code\n",
      "\n",
      "Enter your authorization code:\n",
      "··········\n",
      "Mounted at /content/drive\n"
     ],
     "name": "stdout"
    }
   ]
  },
  {
   "cell_type": "markdown",
   "metadata": {
    "id": "ZH8yCBS8MVut",
    "colab_type": "text"
   },
   "source": [
    "Run the cell below and you should see the changes in your Google Drive"
   ]
  },
  {
   "cell_type": "code",
   "metadata": {
    "id": "fyiM_8xyK7Dy",
    "colab_type": "code",
    "colab": {}
   },
   "source": [
    "with open('/content/drive/My Drive/Colab Notebooks/boo.txt', 'w') as f:\n",
    "  f.write('foo')"
   ],
   "execution_count": 4,
   "outputs": []
  },
  {
   "cell_type": "markdown",
   "metadata": {
    "id": "YMbS7C9fMiAK",
    "colab_type": "text"
   },
   "source": [
    "Don't forget to unmout at the end of your session."
   ]
  },
  {
   "cell_type": "code",
   "metadata": {
    "id": "Yfs2fLJZL6Rn",
    "colab_type": "code",
    "colab": {}
   },
   "source": [
    "drive.flush_and_unmount()"
   ],
   "execution_count": 5,
   "outputs": []
  },
  {
   "cell_type": "markdown",
   "metadata": {
    "id": "PbH_EIWGN87x",
    "colab_type": "text"
   },
   "source": [
    "# Python Basics"
   ]
  },
  {
   "cell_type": "markdown",
   "metadata": {
    "id": "Lbhein51OaVy",
    "colab_type": "text"
   },
   "source": [
    "Before diving into Python libraries, let's first take a look at Python's basic programming constructs."
   ]
  },
  {
   "cell_type": "markdown",
   "metadata": {
    "id": "eSW0ph5gOTLV",
    "colab_type": "text"
   },
   "source": [
    "## Basic Syntax"
   ]
  },
  {
   "cell_type": "markdown",
   "metadata": {
    "id": "PJQaaDc4P1Jd",
    "colab_type": "text"
   },
   "source": [
    "### Keywords"
   ]
  },
  {
   "cell_type": "code",
   "metadata": {
    "id": "hgnCskFCPvX_",
    "colab_type": "code",
    "colab": {
     "base_uri": "https://localhost:8080/",
     "height": 578
    },
    "outputId": "826ca1eb-5c09-4e8e-ff49-e4b333fc6ed1"
   },
   "source": [
    "import keyword\n",
    "keyword.kwlist"
   ],
   "execution_count": 6,
   "outputs": [
    {
     "output_type": "execute_result",
     "data": {
      "text/plain": [
       "['False',\n",
       " 'None',\n",
       " 'True',\n",
       " 'and',\n",
       " 'as',\n",
       " 'assert',\n",
       " 'break',\n",
       " 'class',\n",
       " 'continue',\n",
       " 'def',\n",
       " 'del',\n",
       " 'elif',\n",
       " 'else',\n",
       " 'except',\n",
       " 'finally',\n",
       " 'for',\n",
       " 'from',\n",
       " 'global',\n",
       " 'if',\n",
       " 'import',\n",
       " 'in',\n",
       " 'is',\n",
       " 'lambda',\n",
       " 'nonlocal',\n",
       " 'not',\n",
       " 'or',\n",
       " 'pass',\n",
       " 'raise',\n",
       " 'return',\n",
       " 'try',\n",
       " 'while',\n",
       " 'with',\n",
       " 'yield']"
      ]
     },
     "metadata": {
      "tags": []
     },
     "execution_count": 6
    }
   ]
  },
  {
   "cell_type": "markdown",
   "metadata": {
    "id": "qMz6oO9BQNW4",
    "colab_type": "text"
   },
   "source": [
    "### Identifiers\n",
    "\n",
    "\n",
    "*   Identifiers in Python are case-sensitive.\n",
    "*   The first character of any Python identifier can't be a digit. Other characters can be alphanumeric or an underscore. Non-ascii characters are also supported in Python 3.\n",
    "*   !, @, #, $, and % are special symbols in Python and you can't use them as identifiers.\n",
    "\n",
    "\n",
    "\n"
   ]
  },
  {
   "cell_type": "markdown",
   "metadata": {
    "id": "jIT8RBolSlRc",
    "colab_type": "text"
   },
   "source": [
    "### Comments"
   ]
  },
  {
   "cell_type": "code",
   "metadata": {
    "id": "tbsJJdt_MrBT",
    "colab_type": "code",
    "colab": {
     "base_uri": "https://localhost:8080/",
     "height": 34
    },
    "outputId": "3559fa5d-2e62-4e25-e6bc-16794edba754"
   },
   "source": [
    "# boo\n",
    "'''\n",
    "boo\n",
    "foo\n",
    "'''\n",
    "\n",
    "\"\"\"\n",
    "boo\n",
    "foo\n",
    "\"\"\"\n",
    "print(\"Welcome to CS 361!\")"
   ],
   "execution_count": 7,
   "outputs": [
    {
     "output_type": "stream",
     "text": [
      "Welcome to CS 361!\n"
     ],
     "name": "stdout"
    }
   ]
  },
  {
   "cell_type": "markdown",
   "metadata": {
    "id": "GB-Bxh3lTVvo",
    "colab_type": "text"
   },
   "source": [
    "### Indentation\n",
    "Python doesn't use `{}` for code blocks and is indentation-sensitive. This is America, you can whatever number of tabs/spaces you want for each code block, but the indentation level has to be the same within the same code block."
   ]
  },
  {
   "cell_type": "code",
   "metadata": {
    "id": "VDl1rjs5PkqO",
    "colab_type": "code",
    "colab": {
     "base_uri": "https://localhost:8080/",
     "height": 34
    },
    "outputId": "9294cdcf-eaff-4cf4-fe0f-ebfb9af80d48"
   },
   "source": [
    "if True:\n",
    "  print(\"True\")\n",
    "else:\n",
    "  print(\"Truth always rests with the minority\")"
   ],
   "execution_count": 8,
   "outputs": [
    {
     "output_type": "stream",
     "text": [
      "True\n"
     ],
     "name": "stdout"
    }
   ]
  },
  {
   "cell_type": "code",
   "metadata": {
    "id": "CAPdbJGPUhSO",
    "colab_type": "code",
    "colab": {
     "base_uri": "https://localhost:8080/",
     "height": 51
    },
    "outputId": "05c27029-3e22-4e83-f13a-b50f11d0e175"
   },
   "source": [
    "if True:\n",
    "  print(\"True\")\n",
    "else:\n",
    "  pass\n",
    "print(\"False\")"
   ],
   "execution_count": 9,
   "outputs": [
    {
     "output_type": "stream",
     "text": [
      "True\n",
      "False\n"
     ],
     "name": "stdout"
    }
   ]
  },
  {
   "cell_type": "markdown",
   "metadata": {
    "id": "DyZ1zWY9WEci",
    "colab_type": "text"
   },
   "source": [
    "### Multi-line Expression"
   ]
  },
  {
   "cell_type": "code",
   "metadata": {
    "id": "s2pYYzh6YO3l",
    "colab_type": "code",
    "colab": {}
   },
   "source": [
    "lets_make_this_line_super_super_super_super_super_super_super_super_super_long = 233\n",
    "attempting_to_write_some_code_that_my_coworker_cant_maintain_so_that_i_could_keep_my_job = 666"
   ],
   "execution_count": 10,
   "outputs": []
  },
  {
   "cell_type": "markdown",
   "metadata": {
    "id": "dnqkeuSJYk4F",
    "colab_type": "text"
   },
   "source": [
    "We have to use backslash for a stand-alone multi-line expression."
   ]
  },
  {
   "cell_type": "code",
   "metadata": {
    "id": "L6Hy5-xdYRNE",
    "colab_type": "code",
    "colab": {
     "base_uri": "https://localhost:8080/",
     "height": 34
    },
    "outputId": "40d2e5d5-63a4-4960-d29b-86522a8c78fb"
   },
   "source": [
    "lets_make_this_line_super_super_super_super_super_super_super_super_super_long + \\\n",
    "attempting_to_write_some_code_that_my_coworker_cant_maintain_so_that_i_could_keep_my_job"
   ],
   "execution_count": 11,
   "outputs": [
    {
     "output_type": "execute_result",
     "data": {
      "text/plain": [
       "899"
      ]
     },
     "metadata": {
      "tags": []
     },
     "execution_count": 11
    }
   ]
  },
  {
   "cell_type": "code",
   "metadata": {
    "id": "jS2x2C1GWEOU",
    "colab_type": "code",
    "colab": {
     "base_uri": "https://localhost:8080/",
     "height": 34
    },
    "outputId": "abd24157-90d1-42a3-a4a3-eaed7e078cc2"
   },
   "source": [
    "print(  \n",
    "  lets_make_this_line_super_super_super_super_super_super_super_super_super_long +\n",
    "  attempting_to_write_some_code_that_my_coworker_cant_maintain_so_that_i_could_keep_my_job   \n",
    ")"
   ],
   "execution_count": 12,
   "outputs": [
    {
     "output_type": "stream",
     "text": [
      "899\n"
     ],
     "name": "stdout"
    }
   ]
  },
  {
   "cell_type": "code",
   "metadata": {
    "id": "k0t9DSMDYYfB",
    "colab_type": "code",
    "colab": {
     "base_uri": "https://localhost:8080/",
     "height": 34
    },
    "outputId": "6b053e73-5caf-4cef-d945-4790e7133ffa"
   },
   "source": [
    "[lets_make_this_line_super_super_super_super_super_super_super_super_super_long,\n",
    "attempting_to_write_some_code_that_my_coworker_cant_maintain_so_that_i_could_keep_my_job]"
   ],
   "execution_count": 13,
   "outputs": [
    {
     "output_type": "execute_result",
     "data": {
      "text/plain": [
       "[233, 666]"
      ]
     },
     "metadata": {
      "tags": []
     },
     "execution_count": 13
    }
   ]
  },
  {
   "cell_type": "code",
   "metadata": {
    "id": "2Z8jKKWjYaiO",
    "colab_type": "code",
    "colab": {
     "base_uri": "https://localhost:8080/",
     "height": 34
    },
    "outputId": "bd489713-322d-412c-d05c-a8e2a60cba91"
   },
   "source": [
    "{lets_make_this_line_super_super_super_super_super_super_super_super_super_long,\n",
    "attempting_to_write_some_code_that_my_coworker_cant_maintain_so_that_i_could_keep_my_job}"
   ],
   "execution_count": 14,
   "outputs": [
    {
     "output_type": "execute_result",
     "data": {
      "text/plain": [
       "{233, 666}"
      ]
     },
     "metadata": {
      "tags": []
     },
     "execution_count": 14
    }
   ]
  },
  {
   "cell_type": "markdown",
   "metadata": {
    "id": "4I_X2YPMX6I2",
    "colab_type": "text"
   },
   "source": [
    "## Data Types"
   ]
  },
  {
   "cell_type": "markdown",
   "metadata": {
    "id": "gpnp-jQvXNw0",
    "colab_type": "text"
   },
   "source": [
    "### Built-in Numerical Data Types"
   ]
  },
  {
   "cell_type": "markdown",
   "metadata": {
    "id": "vMqhfoPepIF-",
    "colab_type": "text"
   },
   "source": [
    "* Integer"
   ]
  },
  {
   "cell_type": "code",
   "metadata": {
    "id": "WzUbyrcnUjRJ",
    "colab_type": "code",
    "colab": {
     "base_uri": "https://localhost:8080/",
     "height": 34
    },
    "outputId": "e946ba29-a2ea-490b-d9c1-eeaca21bffb3"
   },
   "source": [
    "type(233)"
   ],
   "execution_count": 15,
   "outputs": [
    {
     "output_type": "execute_result",
     "data": {
      "text/plain": [
       "int"
      ]
     },
     "metadata": {
      "tags": []
     },
     "execution_count": 15
    }
   ]
  },
  {
   "cell_type": "markdown",
   "metadata": {
    "id": "OxiyDkrVpK80",
    "colab_type": "text"
   },
   "source": [
    "* Float"
   ]
  },
  {
   "cell_type": "code",
   "metadata": {
    "id": "pu7VbO0NY3hC",
    "colab_type": "code",
    "colab": {
     "base_uri": "https://localhost:8080/",
     "height": 34
    },
    "outputId": "5024ea4e-2c25-47e3-87ea-4efb3251f98d"
   },
   "source": [
    "type(233.666)"
   ],
   "execution_count": 16,
   "outputs": [
    {
     "output_type": "execute_result",
     "data": {
      "text/plain": [
       "float"
      ]
     },
     "metadata": {
      "tags": []
     },
     "execution_count": 16
    }
   ]
  },
  {
   "cell_type": "markdown",
   "metadata": {
    "id": "Nu_0wRQipNnF",
    "colab_type": "text"
   },
   "source": [
    "* Complex"
   ]
  },
  {
   "cell_type": "code",
   "metadata": {
    "id": "pyYR3CCkZCqQ",
    "colab_type": "code",
    "colab": {
     "base_uri": "https://localhost:8080/",
     "height": 34
    },
    "outputId": "1fab8ba6-7cfa-4d76-ae99-2c96e1472d83"
   },
   "source": [
    "type(233 + 666j)"
   ],
   "execution_count": 17,
   "outputs": [
    {
     "output_type": "execute_result",
     "data": {
      "text/plain": [
       "complex"
      ]
     },
     "metadata": {
      "tags": []
     },
     "execution_count": 17
    }
   ]
  },
  {
   "cell_type": "markdown",
   "metadata": {
    "id": "5Q-kZWcypQxA",
    "colab_type": "text"
   },
   "source": [
    "* Boolean: Be careful of compound boolean expression!"
   ]
  },
  {
   "cell_type": "code",
   "metadata": {
    "id": "3MYj_f6xY5X8",
    "colab_type": "code",
    "colab": {
     "base_uri": "https://localhost:8080/",
     "height": 34
    },
    "outputId": "90f6f954-693b-4f5a-df9b-0f0b2e85abdd"
   },
   "source": [
    "type(True)"
   ],
   "execution_count": 18,
   "outputs": [
    {
     "output_type": "execute_result",
     "data": {
      "text/plain": [
       "bool"
      ]
     },
     "metadata": {
      "tags": []
     },
     "execution_count": 18
    }
   ]
  },
  {
   "cell_type": "code",
   "metadata": {
    "id": "K0s-4ioGoauG",
    "colab_type": "code",
    "colab": {
     "base_uri": "https://localhost:8080/",
     "height": 34
    },
    "outputId": "4c5ac00c-812b-453f-e4e4-d8b601e425b2"
   },
   "source": [
    "True and False"
   ],
   "execution_count": 19,
   "outputs": [
    {
     "output_type": "execute_result",
     "data": {
      "text/plain": [
       "False"
      ]
     },
     "metadata": {
      "tags": []
     },
     "execution_count": 19
    }
   ]
  },
  {
   "cell_type": "code",
   "metadata": {
    "id": "YdmQa0O-ohgT",
    "colab_type": "code",
    "colab": {
     "base_uri": "https://localhost:8080/",
     "height": 34
    },
    "outputId": "ced992a2-7046-404c-8400-81e325086aec"
   },
   "source": [
    "True or False"
   ],
   "execution_count": 20,
   "outputs": [
    {
     "output_type": "execute_result",
     "data": {
      "text/plain": [
       "True"
      ]
     },
     "metadata": {
      "tags": []
     },
     "execution_count": 20
    }
   ]
  },
  {
   "cell_type": "code",
   "metadata": {
    "id": "WRL0aTbBowI8",
    "colab_type": "code",
    "colab": {
     "base_uri": "https://localhost:8080/",
     "height": 34
    },
    "outputId": "db55235d-0918-41c5-a011-d79c11590e69"
   },
   "source": [
    "not True"
   ],
   "execution_count": 21,
   "outputs": [
    {
     "output_type": "execute_result",
     "data": {
      "text/plain": [
       "False"
      ]
     },
     "metadata": {
      "tags": []
     },
     "execution_count": 21
    }
   ]
  },
  {
   "cell_type": "code",
   "metadata": {
    "id": "zeNQvI1epBqx",
    "colab_type": "code",
    "colab": {
     "base_uri": "https://localhost:8080/",
     "height": 34
    },
    "outputId": "e877f05f-9cc7-464e-f5aa-792745b65c44"
   },
   "source": [
    "True is not False"
   ],
   "execution_count": 22,
   "outputs": [
    {
     "output_type": "execute_result",
     "data": {
      "text/plain": [
       "True"
      ]
     },
     "metadata": {
      "tags": []
     },
     "execution_count": 22
    }
   ]
  },
  {
   "cell_type": "code",
   "metadata": {
    "id": "MJu1k86co6B0",
    "colab_type": "code",
    "colab": {
     "base_uri": "https://localhost:8080/",
     "height": 34
    },
    "outputId": "51b52f43-60b3-4695-b5f7-56e8e7f4fd8c"
   },
   "source": [
    "True != True"
   ],
   "execution_count": 23,
   "outputs": [
    {
     "output_type": "execute_result",
     "data": {
      "text/plain": [
       "False"
      ]
     },
     "metadata": {
      "tags": []
     },
     "execution_count": 23
    }
   ]
  },
  {
   "cell_type": "markdown",
   "metadata": {
    "id": "1cS70PsIZXeh",
    "colab_type": "text"
   },
   "source": [
    "### String"
   ]
  },
  {
   "cell_type": "markdown",
   "metadata": {
    "id": "szL2F5gSaD-W",
    "colab_type": "text"
   },
   "source": [
    "*   `''` and `\"\"` work the same for declaring string literals. If you use `\"\"` to declare a string, you don't have to use escape character if you would like to use `''` as a part of the string literal."
   ]
  },
  {
   "cell_type": "code",
   "metadata": {
    "id": "pIjq9Uv5ZArd",
    "colab_type": "code",
    "colab": {
     "base_uri": "https://localhost:8080/",
     "height": 35
    },
    "outputId": "666df92f-81b7-4b99-d1ca-eae9f2583853"
   },
   "source": [
    "\"What's up?\""
   ],
   "execution_count": 24,
   "outputs": [
    {
     "output_type": "execute_result",
     "data": {
      "application/vnd.google.colaboratory.intrinsic+json": {
       "type": "string"
      },
      "text/plain": [
       "\"What's up?\""
      ]
     },
     "metadata": {
      "tags": []
     },
     "execution_count": 24
    }
   ]
  },
  {
   "cell_type": "code",
   "metadata": {
    "id": "MJ6tGAuJZi2c",
    "colab_type": "code",
    "colab": {
     "base_uri": "https://localhost:8080/",
     "height": 35
    },
    "outputId": "07cc25ca-dc52-40ce-9a66-08a95738adab"
   },
   "source": [
    "'What\\'s up?'"
   ],
   "execution_count": 25,
   "outputs": [
    {
     "output_type": "execute_result",
     "data": {
      "application/vnd.google.colaboratory.intrinsic+json": {
       "type": "string"
      },
      "text/plain": [
       "\"What's up?\""
      ]
     },
     "metadata": {
      "tags": []
     },
     "execution_count": 25
    }
   ]
  },
  {
   "cell_type": "markdown",
   "metadata": {
    "id": "mjQ2SiR5a7q6",
    "colab_type": "text"
   },
   "source": [
    "*   Use `\"\"\"` or `'''` for multi-line strings"
   ]
  },
  {
   "cell_type": "code",
   "metadata": {
    "id": "FonSPgNKZrhM",
    "colab_type": "code",
    "colab": {
     "base_uri": "https://localhost:8080/",
     "height": 85
    },
    "outputId": "70632f31-5132-40b2-9e97-1a7d62c07d91"
   },
   "source": [
    "print(\n",
    "  '''\n",
    "  line 0\n",
    "  line1\n",
    "  '''\n",
    ")"
   ],
   "execution_count": 26,
   "outputs": [
    {
     "output_type": "stream",
     "text": [
      "\n",
      "  line 0\n",
      "  line1\n",
      "  \n"
     ],
     "name": "stdout"
    }
   ]
  },
  {
   "cell_type": "markdown",
   "metadata": {
    "id": "UFNjIqO0bdxv",
    "colab_type": "text"
   },
   "source": [
    "*   String concatenation"
   ]
  },
  {
   "cell_type": "code",
   "metadata": {
    "id": "2t3-QOWmbGXq",
    "colab_type": "code",
    "colab": {
     "base_uri": "https://localhost:8080/",
     "height": 35
    },
    "outputId": "73c98e8c-d5fa-4cd2-f8aa-7ffa11762676"
   },
   "source": [
    "\"Welcome \"\"to \"\"CS 361\""
   ],
   "execution_count": 27,
   "outputs": [
    {
     "output_type": "execute_result",
     "data": {
      "application/vnd.google.colaboratory.intrinsic+json": {
       "type": "string"
      },
      "text/plain": [
       "'Welcome to CS 361'"
      ]
     },
     "metadata": {
      "tags": []
     },
     "execution_count": 27
    }
   ]
  },
  {
   "cell_type": "code",
   "metadata": {
    "id": "-izV-JeQbkPR",
    "colab_type": "code",
    "colab": {
     "base_uri": "https://localhost:8080/",
     "height": 35
    },
    "outputId": "6a754b77-425e-419f-e2bb-6643f6a94059"
   },
   "source": [
    "\"Welcome \" + \"to \" + \"CS 361\""
   ],
   "execution_count": 28,
   "outputs": [
    {
     "output_type": "execute_result",
     "data": {
      "application/vnd.google.colaboratory.intrinsic+json": {
       "type": "string"
      },
      "text/plain": [
       "'Welcome to CS 361'"
      ]
     },
     "metadata": {
      "tags": []
     },
     "execution_count": 28
    }
   ]
  },
  {
   "cell_type": "markdown",
   "metadata": {
    "id": "-SIM7kj9f_Ui",
    "colab_type": "text"
   },
   "source": [
    "*   String indexing: Python string can be index from left to right starting with 0 and right to left starting with -1"
   ]
  },
  {
   "cell_type": "code",
   "metadata": {
    "id": "39oEhp-7f_EW",
    "colab_type": "code",
    "colab": {}
   },
   "source": [
    "boo = \"Welcome to CS 361!\""
   ],
   "execution_count": 29,
   "outputs": []
  },
  {
   "cell_type": "code",
   "metadata": {
    "id": "UF-8vuLuboed",
    "colab_type": "code",
    "colab": {
     "base_uri": "https://localhost:8080/",
     "height": 35
    },
    "outputId": "59ad2eac-e73c-4f7f-c907-d1e13d016266"
   },
   "source": [
    "boo[0] # left to right"
   ],
   "execution_count": 30,
   "outputs": [
    {
     "output_type": "execute_result",
     "data": {
      "application/vnd.google.colaboratory.intrinsic+json": {
       "type": "string"
      },
      "text/plain": [
       "'W'"
      ]
     },
     "metadata": {
      "tags": []
     },
     "execution_count": 30
    }
   ]
  },
  {
   "cell_type": "code",
   "metadata": {
    "id": "2ns5jHpRbqLo",
    "colab_type": "code",
    "colab": {
     "base_uri": "https://localhost:8080/",
     "height": 35
    },
    "outputId": "b871f513-8d2b-416b-c472-a491831e2b01"
   },
   "source": [
    "boo[-1] # right to left"
   ],
   "execution_count": 31,
   "outputs": [
    {
     "output_type": "execute_result",
     "data": {
      "application/vnd.google.colaboratory.intrinsic+json": {
       "type": "string"
      },
      "text/plain": [
       "'!'"
      ]
     },
     "metadata": {
      "tags": []
     },
     "execution_count": 31
    }
   ]
  },
  {
   "cell_type": "markdown",
   "metadata": {
    "id": "fzjbUQUngjsa",
    "colab_type": "text"
   },
   "source": [
    "*   String slicing [start:end:step]"
   ]
  },
  {
   "cell_type": "code",
   "metadata": {
    "id": "H6_A0if1g5Cz",
    "colab_type": "code",
    "colab": {
     "base_uri": "https://localhost:8080/",
     "height": 35
    },
    "outputId": "d96bfd40-c61e-4473-f763-da81fe40d90c"
   },
   "source": [
    "boo[0:-1]"
   ],
   "execution_count": 32,
   "outputs": [
    {
     "output_type": "execute_result",
     "data": {
      "application/vnd.google.colaboratory.intrinsic+json": {
       "type": "string"
      },
      "text/plain": [
       "'Welcome to CS 361'"
      ]
     },
     "metadata": {
      "tags": []
     },
     "execution_count": 32
    }
   ]
  },
  {
   "cell_type": "code",
   "metadata": {
    "id": "RevW9QQMgMSy",
    "colab_type": "code",
    "colab": {
     "base_uri": "https://localhost:8080/",
     "height": 35
    },
    "outputId": "60fb2059-1885-4150-c388-d2b35d808af5"
   },
   "source": [
    "boo[0:7]"
   ],
   "execution_count": 33,
   "outputs": [
    {
     "output_type": "execute_result",
     "data": {
      "application/vnd.google.colaboratory.intrinsic+json": {
       "type": "string"
      },
      "text/plain": [
       "'Welcome'"
      ]
     },
     "metadata": {
      "tags": []
     },
     "execution_count": 33
    }
   ]
  },
  {
   "cell_type": "code",
   "metadata": {
    "id": "d1Ca8zKJh7Pa",
    "colab_type": "code",
    "colab": {
     "base_uri": "https://localhost:8080/",
     "height": 35
    },
    "outputId": "87b26dbf-f75f-47cd-ce03-6c06b539c3a6"
   },
   "source": [
    "boo[::2]"
   ],
   "execution_count": 34,
   "outputs": [
    {
     "output_type": "execute_result",
     "data": {
      "application/vnd.google.colaboratory.intrinsic+json": {
       "type": "string"
      },
      "text/plain": [
       "'Wloet S31'"
      ]
     },
     "metadata": {
      "tags": []
     },
     "execution_count": 34
    }
   ]
  },
  {
   "cell_type": "code",
   "metadata": {
    "id": "nAhea2yxgqrd",
    "colab_type": "code",
    "colab": {
     "base_uri": "https://localhost:8080/",
     "height": 35
    },
    "outputId": "1e35de32-62b8-4ffe-a101-a6965bae055c"
   },
   "source": [
    "boo[::-1]"
   ],
   "execution_count": 35,
   "outputs": [
    {
     "output_type": "execute_result",
     "data": {
      "application/vnd.google.colaboratory.intrinsic+json": {
       "type": "string"
      },
      "text/plain": [
       "'!163 SC ot emocleW'"
      ]
     },
     "metadata": {
      "tags": []
     },
     "execution_count": 35
    }
   ]
  },
  {
   "cell_type": "code",
   "metadata": {
    "id": "2BZaOD_niOEe",
    "colab_type": "code",
    "colab": {
     "base_uri": "https://localhost:8080/",
     "height": 35
    },
    "outputId": "97165747-5168-44b5-995b-a28cf567df56"
   },
   "source": [
    "boo[7::-1]"
   ],
   "execution_count": 36,
   "outputs": [
    {
     "output_type": "execute_result",
     "data": {
      "application/vnd.google.colaboratory.intrinsic+json": {
       "type": "string"
      },
      "text/plain": [
       "' emocleW'"
      ]
     },
     "metadata": {
      "tags": []
     },
     "execution_count": 36
    }
   ]
  },
  {
   "cell_type": "code",
   "metadata": {
    "id": "wq_LBlTZh-82",
    "colab_type": "code",
    "colab": {
     "base_uri": "https://localhost:8080/",
     "height": 35
    },
    "outputId": "cb308f73-411e-4f0d-9616-11feb1b937ce"
   },
   "source": [
    "boo[:7:-1]"
   ],
   "execution_count": 37,
   "outputs": [
    {
     "output_type": "execute_result",
     "data": {
      "application/vnd.google.colaboratory.intrinsic+json": {
       "type": "string"
      },
      "text/plain": [
       "'!163 SC ot'"
      ]
     },
     "metadata": {
      "tags": []
     },
     "execution_count": 37
    }
   ]
  },
  {
   "cell_type": "code",
   "metadata": {
    "id": "G-r8kIfqgupV",
    "colab_type": "code",
    "colab": {
     "base_uri": "https://localhost:8080/",
     "height": 35
    },
    "outputId": "590a44c2-7497-477a-c4fc-ef2ea809f904"
   },
   "source": [
    "boo[0:7:2]"
   ],
   "execution_count": 38,
   "outputs": [
    {
     "output_type": "execute_result",
     "data": {
      "application/vnd.google.colaboratory.intrinsic+json": {
       "type": "string"
      },
      "text/plain": [
       "'Wloe'"
      ]
     },
     "metadata": {
      "tags": []
     },
     "execution_count": 38
    }
   ]
  },
  {
   "cell_type": "markdown",
   "metadata": {
    "id": "A2MdYLh6mgPz",
    "colab_type": "text"
   },
   "source": [
    "*   Byte-string: Please be aware of the existence of byte-string. If you have any byte-string imported into you dataset, please be careful when comparing string equality."
   ]
  },
  {
   "cell_type": "code",
   "metadata": {
    "id": "IBz_-7ymnjr3",
    "colab_type": "code",
    "colab": {
     "base_uri": "https://localhost:8080/",
     "height": 34
    },
    "outputId": "a5e254c3-6ab0-498e-82c1-9764e17fe70b"
   },
   "source": [
    "type(b'Hi!')"
   ],
   "execution_count": 39,
   "outputs": [
    {
     "output_type": "execute_result",
     "data": {
      "text/plain": [
       "bytes"
      ]
     },
     "metadata": {
      "tags": []
     },
     "execution_count": 39
    }
   ]
  },
  {
   "cell_type": "code",
   "metadata": {
    "id": "9STRQXNXn0Bz",
    "colab_type": "code",
    "colab": {
     "base_uri": "https://localhost:8080/",
     "height": 34
    },
    "outputId": "6a305da0-0ac1-404d-c6e7-3ef05094eea5"
   },
   "source": [
    "b'Hi!' == 'Hi!'"
   ],
   "execution_count": 40,
   "outputs": [
    {
     "output_type": "execute_result",
     "data": {
      "text/plain": [
       "False"
      ]
     },
     "metadata": {
      "tags": []
     },
     "execution_count": 40
    }
   ]
  },
  {
   "cell_type": "markdown",
   "metadata": {
    "id": "PV2TfFcBpYQ6",
    "colab_type": "text"
   },
   "source": [
    "*   String Interpolation: C Style"
   ]
  },
  {
   "cell_type": "code",
   "metadata": {
    "id": "tucJH2hpp8Qx",
    "colab_type": "code",
    "colab": {
     "base_uri": "https://localhost:8080/",
     "height": 35
    },
    "outputId": "839ea4f7-d328-4be8-930e-394b9c5b3b55"
   },
   "source": [
    "\"This is %s\" % \"CS 361!\""
   ],
   "execution_count": 41,
   "outputs": [
    {
     "output_type": "execute_result",
     "data": {
      "application/vnd.google.colaboratory.intrinsic+json": {
       "type": "string"
      },
      "text/plain": [
       "'This is CS 361!'"
      ]
     },
     "metadata": {
      "tags": []
     },
     "execution_count": 41
    }
   ]
  },
  {
   "cell_type": "code",
   "metadata": {
    "id": "vBarKlYZqTE8",
    "colab_type": "code",
    "colab": {
     "base_uri": "https://localhost:8080/",
     "height": 35
    },
    "outputId": "0a819556-321a-420c-ca41-74c3a837adfb"
   },
   "source": [
    "\"Planck's constant is %e m^2 kg/s\" % (6.62607004e-34)"
   ],
   "execution_count": 42,
   "outputs": [
    {
     "output_type": "execute_result",
     "data": {
      "application/vnd.google.colaboratory.intrinsic+json": {
       "type": "string"
      },
      "text/plain": [
       "\"Planck's constant is 6.626070e-34 m^2 kg/s\""
      ]
     },
     "metadata": {
      "tags": []
     },
     "execution_count": 42
    }
   ]
  },
  {
   "cell_type": "code",
   "metadata": {
    "id": "RWiEYhQ0sHvL",
    "colab_type": "code",
    "colab": {
     "base_uri": "https://localhost:8080/",
     "height": 35
    },
    "outputId": "5055b797-3c75-4cb4-e629-5df9509b2aa2"
   },
   "source": [
    "\"Format a number into scientific notation: %e\" % 233333"
   ],
   "execution_count": 43,
   "outputs": [
    {
     "output_type": "execute_result",
     "data": {
      "application/vnd.google.colaboratory.intrinsic+json": {
       "type": "string"
      },
      "text/plain": [
       "'Format a number into scientific notation: 2.333330e+05'"
      ]
     },
     "metadata": {
      "tags": []
     },
     "execution_count": 43
    }
   ]
  },
  {
   "cell_type": "code",
   "metadata": {
    "id": "-e_3EvjRq9Am",
    "colab_type": "code",
    "colab": {
     "base_uri": "https://localhost:8080/",
     "height": 35
    },
    "outputId": "6b2adf67-0946-4195-ada5-21673fd1aec4"
   },
   "source": [
    "from math import pi\n",
    "\"π is approximately %f\" % (pi)"
   ],
   "execution_count": 44,
   "outputs": [
    {
     "output_type": "execute_result",
     "data": {
      "application/vnd.google.colaboratory.intrinsic+json": {
       "type": "string"
      },
      "text/plain": [
       "'π is approximately 3.141593'"
      ]
     },
     "metadata": {
      "tags": []
     },
     "execution_count": 44
    }
   ]
  },
  {
   "cell_type": "code",
   "metadata": {
    "id": "GPhZ0e6yr0Y3",
    "colab_type": "code",
    "colab": {
     "base_uri": "https://localhost:8080/",
     "height": 35
    },
    "outputId": "7e422575-1b6f-4863-f1aa-8dfa550d2350"
   },
   "source": [
    "\"π is approximately %.2f\" % (pi)"
   ],
   "execution_count": 45,
   "outputs": [
    {
     "output_type": "execute_result",
     "data": {
      "application/vnd.google.colaboratory.intrinsic+json": {
       "type": "string"
      },
      "text/plain": [
       "'π is approximately 3.14'"
      ]
     },
     "metadata": {
      "tags": []
     },
     "execution_count": 45
    }
   ]
  },
  {
   "cell_type": "markdown",
   "metadata": {
    "id": "v85Q54JjvF-B",
    "colab_type": "text"
   },
   "source": [
    "*   String Interpolation: f-string"
   ]
  },
  {
   "cell_type": "code",
   "metadata": {
    "id": "i_GlhhYRskE0",
    "colab_type": "code",
    "colab": {
     "base_uri": "https://localhost:8080/",
     "height": 35
    },
    "outputId": "ed7527d5-1da2-4f74-8eab-8c5aacab6fec"
   },
   "source": [
    "course = \"CS 361\"\n",
    "f\"Welcome to {course}\""
   ],
   "execution_count": 46,
   "outputs": [
    {
     "output_type": "execute_result",
     "data": {
      "application/vnd.google.colaboratory.intrinsic+json": {
       "type": "string"
      },
      "text/plain": [
       "'Welcome to CS 361'"
      ]
     },
     "metadata": {
      "tags": []
     },
     "execution_count": 46
    }
   ]
  },
  {
   "cell_type": "code",
   "metadata": {
    "id": "Oy8rI1of0gHg",
    "colab_type": "code",
    "colab": {
     "base_uri": "https://localhost:8080/",
     "height": 35
    },
    "outputId": "4c0b6d4a-817d-46bb-d6bf-d3830770a581"
   },
   "source": [
    "f\"1 + 1 = {1 + 1}\""
   ],
   "execution_count": 47,
   "outputs": [
    {
     "output_type": "execute_result",
     "data": {
      "application/vnd.google.colaboratory.intrinsic+json": {
       "type": "string"
      },
      "text/plain": [
       "'1 + 1 = 2'"
      ]
     },
     "metadata": {
      "tags": []
     },
     "execution_count": 47
    }
   ]
  },
  {
   "cell_type": "markdown",
   "metadata": {
    "id": "nqRwgDe71DhV",
    "colab_type": "text"
   },
   "source": [
    "*   String Interpolation: format function"
   ]
  },
  {
   "cell_type": "code",
   "metadata": {
    "id": "Ddcuy8Xf1Jl_",
    "colab_type": "code",
    "colab": {
     "base_uri": "https://localhost:8080/",
     "height": 35
    },
    "outputId": "3eaedc81-2c43-451e-cba5-17f8df70e291"
   },
   "source": [
    "\"π is approximately {:.2f}\".format(pi)"
   ],
   "execution_count": 48,
   "outputs": [
    {
     "output_type": "execute_result",
     "data": {
      "application/vnd.google.colaboratory.intrinsic+json": {
       "type": "string"
      },
      "text/plain": [
       "'π is approximately 3.14'"
      ]
     },
     "metadata": {
      "tags": []
     },
     "execution_count": 48
    }
   ]
  },
  {
   "cell_type": "markdown",
   "metadata": {
    "id": "6p7bUD1u1hIK",
    "colab_type": "text"
   },
   "source": [
    "Checkout Python's [official document for string](https://docs.python.org/3.8/library/string.html) to see more details."
   ]
  },
  {
   "cell_type": "markdown",
   "metadata": {
    "id": "FChwcAHwmV7J",
    "colab_type": "text"
   },
   "source": [
    "### List"
   ]
  },
  {
   "cell_type": "markdown",
   "metadata": {
    "id": "_y4RD67w2vGi",
    "colab_type": "text"
   },
   "source": [
    "*   List-indexing is very similar to string-indexing"
   ]
  },
  {
   "cell_type": "code",
   "metadata": {
    "id": "gECNtQ9E21V9",
    "colab_type": "code",
    "colab": {}
   },
   "source": [
    "boo = [0, 2, \"four\", 6, 8, \"ten\", 12, 14, 16, 18, 20]"
   ],
   "execution_count": 49,
   "outputs": []
  },
  {
   "cell_type": "code",
   "metadata": {
    "id": "3cvIzwFi29Vm",
    "colab_type": "code",
    "colab": {
     "base_uri": "https://localhost:8080/",
     "height": 35
    },
    "outputId": "b204c847-4149-4a5f-ab73-f200aa594deb"
   },
   "source": [
    "boo[2]"
   ],
   "execution_count": 50,
   "outputs": [
    {
     "output_type": "execute_result",
     "data": {
      "application/vnd.google.colaboratory.intrinsic+json": {
       "type": "string"
      },
      "text/plain": [
       "'four'"
      ]
     },
     "metadata": {
      "tags": []
     },
     "execution_count": 50
    }
   ]
  },
  {
   "cell_type": "code",
   "metadata": {
    "id": "ajIxvsO13Gyq",
    "colab_type": "code",
    "colab": {
     "base_uri": "https://localhost:8080/",
     "height": 34
    },
    "outputId": "dfa8cec1-ebcd-4427-ea54-89f2eefdb52d"
   },
   "source": [
    "boo[-1]"
   ],
   "execution_count": 51,
   "outputs": [
    {
     "output_type": "execute_result",
     "data": {
      "text/plain": [
       "20"
      ]
     },
     "metadata": {
      "tags": []
     },
     "execution_count": 51
    }
   ]
  },
  {
   "cell_type": "code",
   "metadata": {
    "id": "zOsbaRKP3O24",
    "colab_type": "code",
    "colab": {
     "base_uri": "https://localhost:8080/",
     "height": 34
    },
    "outputId": "bb1e9324-8b5b-4188-90fb-0892fd1781d5"
   },
   "source": [
    "boo[-2]"
   ],
   "execution_count": 52,
   "outputs": [
    {
     "output_type": "execute_result",
     "data": {
      "text/plain": [
       "18"
      ]
     },
     "metadata": {
      "tags": []
     },
     "execution_count": 52
    }
   ]
  },
  {
   "cell_type": "code",
   "metadata": {
    "id": "h1PiNKMM3SU8",
    "colab_type": "code",
    "colab": {
     "base_uri": "https://localhost:8080/",
     "height": 34
    },
    "outputId": "5a1b8e3c-186f-4b7b-8ac2-2fb1f6c575e6"
   },
   "source": [
    "boo[0:3]"
   ],
   "execution_count": 53,
   "outputs": [
    {
     "output_type": "execute_result",
     "data": {
      "text/plain": [
       "[0, 2, 'four']"
      ]
     },
     "metadata": {
      "tags": []
     },
     "execution_count": 53
    }
   ]
  },
  {
   "cell_type": "code",
   "metadata": {
    "id": "-OxSGnWa3V0D",
    "colab_type": "code",
    "colab": {
     "base_uri": "https://localhost:8080/",
     "height": 34
    },
    "outputId": "d07a9c55-f0f1-47e5-cba6-0affe8f07bd2"
   },
   "source": [
    "boo[::-2]"
   ],
   "execution_count": 54,
   "outputs": [
    {
     "output_type": "execute_result",
     "data": {
      "text/plain": [
       "[20, 16, 12, 8, 'four', 0]"
      ]
     },
     "metadata": {
      "tags": []
     },
     "execution_count": 54
    }
   ]
  },
  {
   "cell_type": "code",
   "metadata": {
    "id": "FqGRjXKV3YV_",
    "colab_type": "code",
    "colab": {
     "base_uri": "https://localhost:8080/",
     "height": 34
    },
    "outputId": "a7e55919-deea-43e7-96eb-e0f99ed9bb57"
   },
   "source": [
    "boo[-1:-6:-2]"
   ],
   "execution_count": 55,
   "outputs": [
    {
     "output_type": "execute_result",
     "data": {
      "text/plain": [
       "[20, 16, 12]"
      ]
     },
     "metadata": {
      "tags": []
     },
     "execution_count": 55
    }
   ]
  },
  {
   "cell_type": "markdown",
   "metadata": {
    "id": "NxDp1zBF30cd",
    "colab_type": "text"
   },
   "source": [
    "*   Other List Tricks"
   ]
  },
  {
   "cell_type": "code",
   "metadata": {
    "id": "dhM2E5FC8JXu",
    "colab_type": "code",
    "colab": {
     "base_uri": "https://localhost:8080/",
     "height": 34
    },
    "outputId": "643e8645-59f4-4c49-938e-a454f10517ae"
   },
   "source": [
    "\"ten\" in boo"
   ],
   "execution_count": 56,
   "outputs": [
    {
     "output_type": "execute_result",
     "data": {
      "text/plain": [
       "True"
      ]
     },
     "metadata": {
      "tags": []
     },
     "execution_count": 56
    }
   ]
  },
  {
   "cell_type": "code",
   "metadata": {
    "id": "o3vj2wQe3luG",
    "colab_type": "code",
    "colab": {
     "base_uri": "https://localhost:8080/",
     "height": 34
    },
    "outputId": "b3ff6a96-dae5-4df5-8e65-9c507cd64f44"
   },
   "source": [
    "boo.append(\"ha?\")\n",
    "boo"
   ],
   "execution_count": 57,
   "outputs": [
    {
     "output_type": "execute_result",
     "data": {
      "text/plain": [
       "[0, 2, 'four', 6, 8, 'ten', 12, 14, 16, 18, 20, 'ha?']"
      ]
     },
     "metadata": {
      "tags": []
     },
     "execution_count": 57
    }
   ]
  },
  {
   "cell_type": "code",
   "metadata": {
    "id": "0TDq-YwCy7f8",
    "colab_type": "code",
    "colab": {
     "base_uri": "https://localhost:8080/",
     "height": 35
    },
    "outputId": "b03e9e27-6e94-45c8-8df9-4ae269339f9d"
   },
   "source": [
    "boo.pop()"
   ],
   "execution_count": 58,
   "outputs": [
    {
     "output_type": "execute_result",
     "data": {
      "application/vnd.google.colaboratory.intrinsic+json": {
       "type": "string"
      },
      "text/plain": [
       "'ha?'"
      ]
     },
     "metadata": {
      "tags": []
     },
     "execution_count": 58
    }
   ]
  },
  {
   "cell_type": "code",
   "metadata": {
    "id": "m3H5vCImy-o6",
    "colab_type": "code",
    "colab": {}
   },
   "source": [
    "boo.remove(\"four\")"
   ],
   "execution_count": 59,
   "outputs": []
  },
  {
   "cell_type": "code",
   "metadata": {
    "id": "XFraTgbwzw8O",
    "colab_type": "code",
    "colab": {
     "base_uri": "https://localhost:8080/",
     "height": 34
    },
    "outputId": "f6870ab2-f50a-4e34-a86a-7c6478535f35"
   },
   "source": [
    "len(boo)"
   ],
   "execution_count": 60,
   "outputs": [
    {
     "output_type": "execute_result",
     "data": {
      "text/plain": [
       "10"
      ]
     },
     "metadata": {
      "tags": []
     },
     "execution_count": 60
    }
   ]
  },
  {
   "cell_type": "markdown",
   "metadata": {
    "id": "a6Id1aZe4Qo7",
    "colab_type": "text"
   },
   "source": [
    "Note that the two cells below repeat/concat two lists. However, it's a different story in Numpy."
   ]
  },
  {
   "cell_type": "code",
   "metadata": {
    "id": "00Y8UVpf4DYP",
    "colab_type": "code",
    "colab": {
     "base_uri": "https://localhost:8080/",
     "height": 34
    },
    "outputId": "77ffc6ea-beda-43b3-df39-531d200b05d2"
   },
   "source": [
    "[1, 2, 3] * 2"
   ],
   "execution_count": 61,
   "outputs": [
    {
     "output_type": "execute_result",
     "data": {
      "text/plain": [
       "[1, 2, 3, 1, 2, 3]"
      ]
     },
     "metadata": {
      "tags": []
     },
     "execution_count": 61
    }
   ]
  },
  {
   "cell_type": "code",
   "metadata": {
    "id": "ViT3joNv4aeb",
    "colab_type": "code",
    "colab": {
     "base_uri": "https://localhost:8080/",
     "height": 34
    },
    "outputId": "e3004e8d-0cec-48c3-d528-3191b27109a9"
   },
   "source": [
    "[1, 2, 3] + [4, 5, 6]"
   ],
   "execution_count": 62,
   "outputs": [
    {
     "output_type": "execute_result",
     "data": {
      "text/plain": [
       "[1, 2, 3, 4, 5, 6]"
      ]
     },
     "metadata": {
      "tags": []
     },
     "execution_count": 62
    }
   ]
  },
  {
   "cell_type": "code",
   "metadata": {
    "id": "iQ511XML4jXY",
    "colab_type": "code",
    "colab": {}
   },
   "source": [
    "foo = [[233, 666], [888, 999]]"
   ],
   "execution_count": 63,
   "outputs": []
  },
  {
   "cell_type": "code",
   "metadata": {
    "id": "VABUlobs4nsz",
    "colab_type": "code",
    "colab": {
     "base_uri": "https://localhost:8080/",
     "height": 34
    },
    "outputId": "c2a57c28-ad59-43ce-aaa7-bc6cafa64b0c"
   },
   "source": [
    "foo[0][1]"
   ],
   "execution_count": 64,
   "outputs": [
    {
     "output_type": "execute_result",
     "data": {
      "text/plain": [
       "666"
      ]
     },
     "metadata": {
      "tags": []
     },
     "execution_count": 64
    }
   ]
  },
  {
   "cell_type": "markdown",
   "metadata": {
    "id": "-GMExB3a4yks",
    "colab_type": "text"
   },
   "source": [
    "*   List Comprehension: Save you some effort to write loops."
   ]
  },
  {
   "cell_type": "code",
   "metadata": {
    "id": "FPto6bFQ4xyJ",
    "colab_type": "code",
    "colab": {
     "base_uri": "https://localhost:8080/",
     "height": 34
    },
    "outputId": "d0496bd6-df7b-4491-848d-365c5e355e4f"
   },
   "source": [
    "[x * 2 for x in boo]"
   ],
   "execution_count": 65,
   "outputs": [
    {
     "output_type": "execute_result",
     "data": {
      "text/plain": [
       "[0, 4, 12, 16, 'tenten', 24, 28, 32, 36, 40]"
      ]
     },
     "metadata": {
      "tags": []
     },
     "execution_count": 65
    }
   ]
  },
  {
   "cell_type": "code",
   "metadata": {
    "id": "2Ch8DX_Z5QY-",
    "colab_type": "code",
    "colab": {
     "base_uri": "https://localhost:8080/",
     "height": 34
    },
    "outputId": "7803368f-f302-4eb5-fce7-7b83a19158c9"
   },
   "source": [
    "[x ** 2 for x in boo if type(x) is int]"
   ],
   "execution_count": 66,
   "outputs": [
    {
     "output_type": "execute_result",
     "data": {
      "text/plain": [
       "[0, 4, 36, 64, 144, 196, 256, 324, 400]"
      ]
     },
     "metadata": {
      "tags": []
     },
     "execution_count": 66
    }
   ]
  },
  {
   "cell_type": "markdown",
   "metadata": {
    "id": "U_D830WrmmA3",
    "colab_type": "text"
   },
   "source": [
    "### Tuple"
   ]
  },
  {
   "cell_type": "markdown",
   "metadata": {
    "id": "6oAQJWCG6yTn",
    "colab_type": "text"
   },
   "source": [
    "*   You can't modify a tuple once it's created."
   ]
  },
  {
   "cell_type": "code",
   "metadata": {
    "id": "G4JFdCkr5i6D",
    "colab_type": "code",
    "colab": {}
   },
   "source": [
    "foobar = (\"boo\", \"foo\")"
   ],
   "execution_count": 67,
   "outputs": []
  },
  {
   "cell_type": "markdown",
   "metadata": {
    "id": "_7XKH01N67cf",
    "colab_type": "text"
   },
   "source": [
    "*   [Destructuring assignment](https://blog.tecladocode.com/destructuring-in-python/)"
   ]
  },
  {
   "cell_type": "code",
   "metadata": {
    "id": "6LY1tItx5itR",
    "colab_type": "code",
    "colab": {
     "base_uri": "https://localhost:8080/",
     "height": 35
    },
    "outputId": "83421344-c4aa-4711-c4c8-6c133c8892f0"
   },
   "source": [
    "(bar, baz) = foobar\n",
    "bar"
   ],
   "execution_count": 68,
   "outputs": [
    {
     "output_type": "execute_result",
     "data": {
      "application/vnd.google.colaboratory.intrinsic+json": {
       "type": "string"
      },
      "text/plain": [
       "'boo'"
      ]
     },
     "metadata": {
      "tags": []
     },
     "execution_count": 68
    }
   ]
  },
  {
   "cell_type": "code",
   "metadata": {
    "id": "T0EI1JrW6E65",
    "colab_type": "code",
    "colab": {
     "base_uri": "https://localhost:8080/",
     "height": 35
    },
    "outputId": "44bf116b-c339-460b-c7b0-4a1978d0967d"
   },
   "source": [
    "baz"
   ],
   "execution_count": 69,
   "outputs": [
    {
     "output_type": "execute_result",
     "data": {
      "application/vnd.google.colaboratory.intrinsic+json": {
       "type": "string"
      },
      "text/plain": [
       "'foo'"
      ]
     },
     "metadata": {
      "tags": []
     },
     "execution_count": 69
    }
   ]
  },
  {
   "cell_type": "markdown",
   "metadata": {
    "id": "70HLXbglmcNf",
    "colab_type": "text"
   },
   "source": [
    "### Set"
   ]
  },
  {
   "cell_type": "markdown",
   "metadata": {
    "id": "hKzsQ8t5z-Q-",
    "colab_type": "text"
   },
   "source": [
    "*   Built-in functions"
   ]
  },
  {
   "cell_type": "code",
   "metadata": {
    "id": "cAQ7XajH8Nbq",
    "colab_type": "code",
    "colab": {
     "base_uri": "https://localhost:8080/",
     "height": 34
    },
    "outputId": "828f4690-3d19-41b5-b435-4b50b95bef71"
   },
   "source": [
    "{1, 2, 3, \"three\", 4, 4, \"five\", \"five\"}"
   ],
   "execution_count": 70,
   "outputs": [
    {
     "output_type": "execute_result",
     "data": {
      "text/plain": [
       "{1, 2, 3, 4, 'five', 'three'}"
      ]
     },
     "metadata": {
      "tags": []
     },
     "execution_count": 70
    }
   ]
  },
  {
   "cell_type": "code",
   "metadata": {
    "id": "5ItrU6JI8YfS",
    "colab_type": "code",
    "colab": {}
   },
   "source": [
    "boo = {\"a\", \"b\", \"b\", \"c\"}\n",
    "foo = {\"a\", \"b\", \"b\", \"c\"}"
   ],
   "execution_count": 71,
   "outputs": []
  },
  {
   "cell_type": "code",
   "metadata": {
    "id": "4opmKDTjzNYa",
    "colab_type": "code",
    "colab": {
     "base_uri": "https://localhost:8080/",
     "height": 34
    },
    "outputId": "95d524f2-ec65-41b8-d769-e8f2f8e2c0cd"
   },
   "source": [
    "boo.add(\"d\")\n",
    "boo"
   ],
   "execution_count": 72,
   "outputs": [
    {
     "output_type": "execute_result",
     "data": {
      "text/plain": [
       "{'a', 'b', 'c', 'd'}"
      ]
     },
     "metadata": {
      "tags": []
     },
     "execution_count": 72
    }
   ]
  },
  {
   "cell_type": "code",
   "metadata": {
    "id": "hIG8MoIrzTpx",
    "colab_type": "code",
    "colab": {
     "base_uri": "https://localhost:8080/",
     "height": 34
    },
    "outputId": "a3f6cf9c-a923-4347-de1d-5e625a32aca8"
   },
   "source": [
    "\"d\" in boo"
   ],
   "execution_count": 73,
   "outputs": [
    {
     "output_type": "execute_result",
     "data": {
      "text/plain": [
       "True"
      ]
     },
     "metadata": {
      "tags": []
     },
     "execution_count": 73
    }
   ]
  },
  {
   "cell_type": "code",
   "metadata": {
    "id": "1Bo9kdqkzZye",
    "colab_type": "code",
    "colab": {
     "base_uri": "https://localhost:8080/",
     "height": 34
    },
    "outputId": "8dc8c859-3c6a-4c7f-f438-a0f12bc8ba01"
   },
   "source": [
    "boo.union(foo)"
   ],
   "execution_count": 74,
   "outputs": [
    {
     "output_type": "execute_result",
     "data": {
      "text/plain": [
       "{'a', 'b', 'c', 'd'}"
      ]
     },
     "metadata": {
      "tags": []
     },
     "execution_count": 74
    }
   ]
  },
  {
   "cell_type": "code",
   "metadata": {
    "id": "V2pDvlB3zpNn",
    "colab_type": "code",
    "colab": {
     "base_uri": "https://localhost:8080/",
     "height": 34
    },
    "outputId": "f1910de9-ba10-422a-a57f-c5533fa1a4d2"
   },
   "source": [
    "boo.intersection(foo)"
   ],
   "execution_count": 75,
   "outputs": [
    {
     "output_type": "execute_result",
     "data": {
      "text/plain": [
       "{'a', 'b', 'c'}"
      ]
     },
     "metadata": {
      "tags": []
     },
     "execution_count": 75
    }
   ]
  },
  {
   "cell_type": "code",
   "metadata": {
    "id": "pQuCyLIjzrOq",
    "colab_type": "code",
    "colab": {
     "base_uri": "https://localhost:8080/",
     "height": 34
    },
    "outputId": "af8dc4e7-0ab2-4393-c7f3-0d47b0ab6b55"
   },
   "source": [
    "len(boo)"
   ],
   "execution_count": 76,
   "outputs": [
    {
     "output_type": "execute_result",
     "data": {
      "text/plain": [
       "4"
      ]
     },
     "metadata": {
      "tags": []
     },
     "execution_count": 76
    }
   ]
  },
  {
   "cell_type": "markdown",
   "metadata": {
    "id": "SPmXSJUl0CqD",
    "colab_type": "text"
   },
   "source": [
    "*   Set comprehension"
   ]
  },
  {
   "cell_type": "code",
   "metadata": {
    "id": "OYce-fmn0I1n",
    "colab_type": "code",
    "colab": {
     "base_uri": "https://localhost:8080/",
     "height": 34
    },
    "outputId": "d6006e6f-edb4-46e6-f055-8e350b302843"
   },
   "source": [
    "{x * 2 for x in boo}"
   ],
   "execution_count": 77,
   "outputs": [
    {
     "output_type": "execute_result",
     "data": {
      "text/plain": [
       "{'aa', 'bb', 'cc', 'dd'}"
      ]
     },
     "metadata": {
      "tags": []
     },
     "execution_count": 77
    }
   ]
  },
  {
   "cell_type": "markdown",
   "metadata": {
    "id": "Cubt83AGmdg7",
    "colab_type": "text"
   },
   "source": [
    "### Dictionary"
   ]
  },
  {
   "cell_type": "code",
   "metadata": {
    "id": "j-16FKjrhn1A",
    "colab_type": "code",
    "colab": {
     "base_uri": "https://localhost:8080/",
     "height": 34
    },
    "outputId": "76c38bde-d09b-4d1e-bc7e-f900bd2652a0"
   },
   "source": [
    "grade_book = {\"Alice\": 90, \"Bob\": 93, \"Charlie\": 99, \"Eve\": 80}\n",
    "grade_book"
   ],
   "execution_count": 78,
   "outputs": [
    {
     "output_type": "execute_result",
     "data": {
      "text/plain": [
       "{'Alice': 90, 'Bob': 93, 'Charlie': 99, 'Eve': 80}"
      ]
     },
     "metadata": {
      "tags": []
     },
     "execution_count": 78
    }
   ]
  },
  {
   "cell_type": "markdown",
   "metadata": {
    "id": "WN_QjRLQ1WjQ",
    "colab_type": "text"
   },
   "source": [
    "*  Loops"
   ]
  },
  {
   "cell_type": "code",
   "metadata": {
    "id": "YoTgBF8411rL",
    "colab_type": "code",
    "colab": {
     "base_uri": "https://localhost:8080/",
     "height": 85
    },
    "outputId": "4b8e8c77-f872-49a5-aabb-2f9ea78c8b38"
   },
   "source": [
    "for name, grade in grade_book.items():\n",
    "  print(\"Name: {:<7} | Grade: {:>4}\".format(name, grade))"
   ],
   "execution_count": 79,
   "outputs": [
    {
     "output_type": "stream",
     "text": [
      "Name: Alice   | Grade:   90\n",
      "Name: Bob     | Grade:   93\n",
      "Name: Charlie | Grade:   99\n",
      "Name: Eve     | Grade:   80\n"
     ],
     "name": "stdout"
    }
   ]
  },
  {
   "cell_type": "markdown",
   "metadata": {
    "id": "2wwwBh3y29-4",
    "colab_type": "text"
   },
   "source": [
    "*   Dictionary Comprehension"
   ]
  },
  {
   "cell_type": "code",
   "metadata": {
    "id": "MRNfQU_m2Bvl",
    "colab_type": "code",
    "colab": {
     "base_uri": "https://localhost:8080/",
     "height": 34
    },
    "outputId": "cee68759-44ca-4171-d8f2-b82078a82897"
   },
   "source": [
    "{name: \"A\" if grade > 90 else \"B\" for name, grade in grade_book.items()}"
   ],
   "execution_count": 80,
   "outputs": [
    {
     "output_type": "execute_result",
     "data": {
      "text/plain": [
       "{'Alice': 'B', 'Bob': 'A', 'Charlie': 'A', 'Eve': 'B'}"
      ]
     },
     "metadata": {
      "tags": []
     },
     "execution_count": 80
    }
   ]
  },
  {
   "cell_type": "code",
   "metadata": {
    "id": "KlwBBbqq3g_5",
    "colab_type": "code",
    "colab": {
     "base_uri": "https://localhost:8080/",
     "height": 34
    },
    "outputId": "94cac5d9-8352-479e-f647-1479b406c2ee"
   },
   "source": [
    "{x: x ** 2 for x in range(10) if x % 2 == 0}"
   ],
   "execution_count": 81,
   "outputs": [
    {
     "output_type": "execute_result",
     "data": {
      "text/plain": [
       "{0: 0, 2: 4, 4: 16, 6: 36, 8: 64}"
      ]
     },
     "metadata": {
      "tags": []
     },
     "execution_count": 81
    }
   ]
  },
  {
   "cell_type": "markdown",
   "metadata": {
    "id": "lOgqrGZp4S1r",
    "colab_type": "text"
   },
   "source": [
    "## Functions: First-Class Citizens in Python"
   ]
  },
  {
   "cell_type": "markdown",
   "metadata": {
    "id": "4EiWA27Y5aA0",
    "colab_type": "text"
   },
   "source": [
    "*   Declare a function"
   ]
  },
  {
   "cell_type": "code",
   "metadata": {
    "id": "dWugCSrn37Ek",
    "colab_type": "code",
    "colab": {}
   },
   "source": [
    "def square(x):\n",
    "  return x ** 2"
   ],
   "execution_count": 82,
   "outputs": []
  },
  {
   "cell_type": "code",
   "metadata": {
    "id": "4EuRBb1O537W",
    "colab_type": "code",
    "colab": {}
   },
   "source": [
    "square_lambda = lambda x: x**2"
   ],
   "execution_count": 83,
   "outputs": []
  },
  {
   "cell_type": "markdown",
   "metadata": {
    "id": "uSOv-smI6FS9",
    "colab_type": "text"
   },
   "source": [
    "* First-class citizen: It can be everywhere"
   ]
  },
  {
   "cell_type": "code",
   "metadata": {
    "id": "g6YsGlVW59XK",
    "colab_type": "code",
    "colab": {
     "base_uri": "https://localhost:8080/",
     "height": 34
    },
    "outputId": "6b10d345-cd8a-4dbd-d429-0004251c4de9"
   },
   "source": [
    "def apply(f, x):\n",
    "  return f(x)\n",
    "\n",
    "apply(square, 2)"
   ],
   "execution_count": 84,
   "outputs": [
    {
     "output_type": "execute_result",
     "data": {
      "text/plain": [
       "4"
      ]
     },
     "metadata": {
      "tags": []
     },
     "execution_count": 84
    }
   ]
  },
  {
   "cell_type": "code",
   "metadata": {
    "id": "yMdg4Ads5-64",
    "colab_type": "code",
    "colab": {
     "base_uri": "https://localhost:8080/",
     "height": 34
    },
    "outputId": "c9cb2792-dcd7-4fbf-fcfd-06216c682c88"
   },
   "source": [
    "{x: square(x) for x in range(10) if x % 2 == 0}"
   ],
   "execution_count": 85,
   "outputs": [
    {
     "output_type": "execute_result",
     "data": {
      "text/plain": [
       "{0: 0, 2: 4, 4: 16, 6: 36, 8: 64}"
      ]
     },
     "metadata": {
      "tags": []
     },
     "execution_count": 85
    }
   ]
  },
  {
   "cell_type": "markdown",
   "metadata": {
    "id": "Wjao46Uv6hJg",
    "colab_type": "text"
   },
   "source": [
    "*   Function Parameters"
   ]
  },
  {
   "cell_type": "code",
   "metadata": {
    "id": "muVhJc-W6dsG",
    "colab_type": "code",
    "colab": {}
   },
   "source": [
    "def greeting(name, loudness=0):\n",
    "  return \"HELLO, {}!!!\".format(name.capitalize() * loudness) if loudness else \"Hello, {}!\".format(name)"
   ],
   "execution_count": 86,
   "outputs": []
  },
  {
   "cell_type": "code",
   "metadata": {
    "id": "SPH-EHTs7Jh_",
    "colab_type": "code",
    "colab": {
     "base_uri": "https://localhost:8080/",
     "height": 35
    },
    "outputId": "b413002e-2564-45b7-b953-ae63a8e1c6c4"
   },
   "source": [
    "greeting(\"Chenhui\", 0)"
   ],
   "execution_count": 87,
   "outputs": [
    {
     "output_type": "execute_result",
     "data": {
      "application/vnd.google.colaboratory.intrinsic+json": {
       "type": "string"
      },
      "text/plain": [
       "'Hello, Chenhui!'"
      ]
     },
     "metadata": {
      "tags": []
     },
     "execution_count": 87
    }
   ]
  },
  {
   "cell_type": "code",
   "metadata": {
    "id": "_CqVCcPu8OE2",
    "colab_type": "code",
    "colab": {
     "base_uri": "https://localhost:8080/",
     "height": 35
    },
    "outputId": "42a50788-c3d0-45f3-df5d-ea140e43cee2"
   },
   "source": [
    "greeting(\"Chenhui\")"
   ],
   "execution_count": 88,
   "outputs": [
    {
     "output_type": "execute_result",
     "data": {
      "application/vnd.google.colaboratory.intrinsic+json": {
       "type": "string"
      },
      "text/plain": [
       "'Hello, Chenhui!'"
      ]
     },
     "metadata": {
      "tags": []
     },
     "execution_count": 88
    }
   ]
  },
  {
   "cell_type": "code",
   "metadata": {
    "id": "Gtfjihdy7Luq",
    "colab_type": "code",
    "colab": {
     "base_uri": "https://localhost:8080/",
     "height": 35
    },
    "outputId": "8b72d725-9714-4dee-927a-335fefc01c49",
    "pycharm": {
     "name": "#%%\n"
    }
   },
   "source": [
    "greeting(\"Chenhui\", 10) # lol\n",
    "\n",
    "\n"
   ],
   "execution_count": 89,
   "outputs": [
    {
     "output_type": "execute_result",
     "data": {
      "application/vnd.google.colaboratory.intrinsic+json": {
       "type": "string"
      },
      "text/plain": [
       "'HELLO, ChenhuiChenhuiChenhuiChenhuiChenhuiChenhuiChenhuiChenhuiChenhuiChenhui!!!'"
      ]
     },
     "metadata": {
      "tags": []
     },
     "execution_count": 89
    }
   ]
  }
 ]
}