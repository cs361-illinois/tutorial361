{
  "nbformat": 4,
  "nbformat_minor": 0,
  "metadata": {
    "colab": {
      "name": "CS361_Python_Tutorial.ipynb",
      "provenance": [],
      "toc_visible": true
    },
    "kernelspec": {
      "name": "python3",
      "display_name": "Python 3"
    }
  },
  "cells": [
    {
      "cell_type": "markdown",
      "metadata": {
        "id": "87oZ6pKNdcuC",
        "colab_type": "text"
      },
      "source": [
        "# Sanity Check"
      ]
    },
    {
      "cell_type": "markdown",
      "metadata": {
        "id": "l4dCpdDseGkz",
        "colab_type": "text"
      },
      "source": [
        "Let's first check a couple packages we need in this class. Anaconda should have all the packages below (except for PyTorch) installed."
      ]
    },
    {
      "cell_type": "code",
      "metadata": {
        "id": "ImIWCCR2dYzX",
        "colab_type": "code",
        "colab": {}
      },
      "source": [
        "import torch\n",
        "import scipy\n",
        "import sklearn\n",
        "import numpy as np\n",
        "import pandas as pd\n",
        "import seaborn as sns\n",
        "import matplotlib.pyplot as plt"
      ],
      "execution_count": 5,
      "outputs": []
    },
    {
      "cell_type": "markdown",
      "metadata": {
        "id": "_w2EzCE7QtQ3",
        "colab_type": "text"
      },
      "source": [
        "Now let's check your Python version. Both 3.7 and 3.6 should work fine. If you have multiple Python environments installed, please pay attention to which one are you using. Nevertheless, we highly recommend using Anaconda to manager your packages."
      ]
    },
    {
      "cell_type": "code",
      "metadata": {
        "id": "9CngkxVId0AA",
        "colab_type": "code",
        "colab": {
          "base_uri": "https://localhost:8080/",
          "height": 34
        },
        "outputId": "8c2ffb4f-9973-45ba-8f42-d703b8587193"
      },
      "source": [
        "!python --version"
      ],
      "execution_count": 4,
      "outputs": [
        {
          "output_type": "stream",
          "text": [
            "Python 3.6.9\n"
          ],
          "name": "stdout"
        }
      ]
    },
    {
      "cell_type": "markdown",
      "metadata": {
        "id": "n2AfCq-eePK4",
        "colab_type": "text"
      },
      "source": [
        "# Orientation to Google Colab"
      ]
    },
    {
      "cell_type": "markdown",
      "metadata": {
        "id": "LjMC0l15V0jT",
        "colab_type": "text"
      },
      "source": [
        "Please note that Google Colab only has temporary storage. Once the current session disconnects (or timesout)"
      ]
    },
    {
      "cell_type": "code",
      "metadata": {
        "id": "ujtFAQzBeTYv",
        "colab_type": "code",
        "colab": {}
      },
      "source": [
        ""
      ],
      "execution_count": null,
      "outputs": []
    }
  ]
}