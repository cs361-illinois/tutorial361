{
 "nbformat": 4,
 "nbformat_minor": 0,
 "metadata": {
  "colab": {
   "name": "CS361_Python_Tutorial_Colab.ipynb",
   "provenance": [],
   "collapsed_sections": [],
   "toc_visible": true
  },
  "kernelspec": {
   "name": "python3",
   "display_name": "Python 3"
  }
 },
 "cells": [
  {
   "cell_type": "markdown",
   "metadata": {
    "id": "87oZ6pKNdcuC",
    "colab_type": "text"
   },
   "source": [
    "# Sanity Check"
   ]
  },
  {
   "cell_type": "markdown",
   "metadata": {
    "id": "l4dCpdDseGkz",
    "colab_type": "text"
   },
   "source": [
    "Let's first check a couple packages we need in this class. Anaconda should have all the packages below (except for PyTorch) installed."
   ]
  },
  {
   "cell_type": "code",
   "metadata": {
    "id": "ImIWCCR2dYzX",
    "colab_type": "code",
    "colab": {
     "base_uri": "https://localhost:8080/",
     "height": 71
    },
    "outputId": "a7eb04cc-1dcb-41ea-d0aa-407e39af4f3b"
   },
   "source": [
    "import torch\n",
    "import scipy\n",
    "import sklearn\n",
    "import numpy as np\n",
    "import pandas as pd\n",
    "import seaborn as sns\n",
    "import matplotlib.pyplot as plt"
   ],
   "execution_count": 1,
   "outputs": [
    {
     "output_type": "stream",
     "text": [
      "/usr/local/lib/python3.6/dist-packages/statsmodels/tools/_testing.py:19: FutureWarning: pandas.util.testing is deprecated. Use the functions in the public API at pandas.testing instead.\n",
      "  import pandas.util.testing as tm\n"
     ],
     "name": "stderr"
    }
   ]
  },
  {
   "cell_type": "markdown",
   "metadata": {
    "id": "_w2EzCE7QtQ3",
    "colab_type": "text"
   },
   "source": [
    "Now let's check your Python version. Both 3.7 and 3.6 should work fine. If you have multiple Python environments installed, please pay attention to which one are you using. Nevertheless, we highly recommend using Anaconda to manager your packages."
   ]
  },
  {
   "cell_type": "code",
   "metadata": {
    "id": "9CngkxVId0AA",
    "colab_type": "code",
    "colab": {
     "base_uri": "https://localhost:8080/",
     "height": 34
    },
    "outputId": "7d50812f-b7b5-47ab-9e7d-c963e2846cb9"
   },
   "source": [
    "!python --version"
   ],
   "execution_count": 2,
   "outputs": [
    {
     "output_type": "stream",
     "text": [
      "Python 3.6.9\n"
     ],
     "name": "stdout"
    }
   ]
  },
  {
   "cell_type": "markdown",
   "metadata": {
    "id": "n2AfCq-eePK4",
    "colab_type": "text"
   },
   "source": [
    "# Orientation to Google Colab"
   ]
  },
  {
   "cell_type": "markdown",
   "metadata": {
    "id": "LjMC0l15V0jT",
    "colab_type": "text"
   },
   "source": [
    "Please note that Google Colab only has temporary storage. Once the current session disconnects (or timesout) all the files in the session storage will be discarded. However, the output from Jupyter Notebook will be saved unless you specify not to do so. You can download/upload files with the GUI in the left panel. If you would like to have a permanent storage (maybe for datasets and results), you can mount your Google Drive to Google Colab by running the cell below. You will be prompted to link your account to Colab. **The code in this section only works on Colab.**"
   ]
  },
  {
   "cell_type": "code",
   "metadata": {
    "id": "ujtFAQzBeTYv",
    "colab_type": "code",
    "colab": {
     "base_uri": "https://localhost:8080/",
     "height": 34
    },
    "outputId": "1860d173-eb87-42c3-e657-3abd16ada32a"
   },
   "source": [
    "from google.colab import drive\n",
    "%clear\n",
    "drive.mount('/content/drive')"
   ],
   "execution_count": 3,
   "outputs": [
    {
     "output_type": "stream",
     "text": [
      "\u001B[H\u001B[2JMounted at /content/drive\n"
     ],
     "name": "stdout"
    }
   ]
  },
  {
   "cell_type": "markdown",
   "metadata": {
    "id": "ZH8yCBS8MVut",
    "colab_type": "text"
   },
   "source": [
    "Run the cell below and you should see the changes in your Google Drive"
   ]
  },
  {
   "cell_type": "code",
   "metadata": {
    "id": "fyiM_8xyK7Dy",
    "colab_type": "code",
    "colab": {}
   },
   "source": [
    "with open('/content/drive/My Drive/Colab Notebooks/boo.txt', 'w') as f:\n",
    "  f.write('foo')"
   ],
   "execution_count": 4,
   "outputs": []
  },
  {
   "cell_type": "markdown",
   "metadata": {
    "id": "YMbS7C9fMiAK",
    "colab_type": "text"
   },
   "source": [
    "Don't forget to unmout at the end of your session."
   ]
  },
  {
   "cell_type": "code",
   "metadata": {
    "id": "Yfs2fLJZL6Rn",
    "colab_type": "code",
    "colab": {}
   },
   "source": [
    "drive.flush_and_unmount()"
   ],
   "execution_count": 5,
   "outputs": []
  },
  {
   "cell_type": "markdown",
   "metadata": {
    "id": "PbH_EIWGN87x",
    "colab_type": "text"
   },
   "source": [
    "# Python Basics"
   ]
  },
  {
   "cell_type": "markdown",
   "metadata": {
    "id": "Lbhein51OaVy",
    "colab_type": "text"
   },
   "source": [
    "Before diving into Python libraries, let's first take a look at Python's basic programming constructs."
   ]
  },
  {
   "cell_type": "markdown",
   "metadata": {
    "id": "eSW0ph5gOTLV",
    "colab_type": "text"
   },
   "source": [
    "## Basic Syntax"
   ]
  },
  {
   "cell_type": "markdown",
   "metadata": {
    "id": "PJQaaDc4P1Jd",
    "colab_type": "text"
   },
   "source": [
    "### Keywords"
   ]
  },
  {
   "cell_type": "code",
   "metadata": {
    "id": "hgnCskFCPvX_",
    "colab_type": "code",
    "colab": {
     "base_uri": "https://localhost:8080/",
     "height": 578
    },
    "outputId": "d5b25aa0-a79f-41ce-eb7f-331d6b0ce72c"
   },
   "source": [
    "import keyword\n",
    "keyword.kwlist"
   ],
   "execution_count": 6,
   "outputs": [
    {
     "output_type": "execute_result",
     "data": {
      "text/plain": [
       "['False',\n",
       " 'None',\n",
       " 'True',\n",
       " 'and',\n",
       " 'as',\n",
       " 'assert',\n",
       " 'break',\n",
       " 'class',\n",
       " 'continue',\n",
       " 'def',\n",
       " 'del',\n",
       " 'elif',\n",
       " 'else',\n",
       " 'except',\n",
       " 'finally',\n",
       " 'for',\n",
       " 'from',\n",
       " 'global',\n",
       " 'if',\n",
       " 'import',\n",
       " 'in',\n",
       " 'is',\n",
       " 'lambda',\n",
       " 'nonlocal',\n",
       " 'not',\n",
       " 'or',\n",
       " 'pass',\n",
       " 'raise',\n",
       " 'return',\n",
       " 'try',\n",
       " 'while',\n",
       " 'with',\n",
       " 'yield']"
      ]
     },
     "metadata": {
      "tags": []
     },
     "execution_count": 6
    }
   ]
  },
  {
   "cell_type": "markdown",
   "metadata": {
    "id": "qMz6oO9BQNW4",
    "colab_type": "text"
   },
   "source": [
    "### Identifiers\n",
    "\n",
    "\n",
    "*   Identifiers in Python are case-sensitive.\n",
    "*   The first character of any Python identifier can't be a digit. Other characters can be alphanumeric or an underscore. Non-ascii characters are also supported in Python 3.\n",
    "*   !, @, #, $, and % are special symbols in Python and you can't use them as identifiers.\n",
    "\n",
    "\n",
    "\n"
   ]
  },
  {
   "cell_type": "markdown",
   "metadata": {
    "id": "jIT8RBolSlRc",
    "colab_type": "text"
   },
   "source": [
    "### Comments"
   ]
  },
  {
   "cell_type": "code",
   "metadata": {
    "id": "tbsJJdt_MrBT",
    "colab_type": "code",
    "colab": {
     "base_uri": "https://localhost:8080/",
     "height": 34
    },
    "outputId": "14d9bd53-6aba-46c6-8c13-c1e51bb5fc8f"
   },
   "source": [
    "# boo\n",
    "'''\n",
    "boo\n",
    "foo\n",
    "'''\n",
    "\n",
    "\"\"\"\n",
    "boo\n",
    "foo\n",
    "\"\"\"\n",
    "print(\"Welcome to CS 361!\")"
   ],
   "execution_count": 7,
   "outputs": [
    {
     "output_type": "stream",
     "text": [
      "Welcome to CS 361!\n"
     ],
     "name": "stdout"
    }
   ]
  },
  {
   "cell_type": "markdown",
   "metadata": {
    "id": "GB-Bxh3lTVvo",
    "colab_type": "text"
   },
   "source": [
    "### Indentation\n",
    "Python doesn't use `{}` for code blocks and is indentation-sensitive. This is America, you can whatever number of tabs/spaces you want for each code block, but the indentation level has to be the same within the same code block."
   ]
  },
  {
   "cell_type": "code",
   "metadata": {
    "id": "VDl1rjs5PkqO",
    "colab_type": "code",
    "colab": {
     "base_uri": "https://localhost:8080/",
     "height": 34
    },
    "outputId": "e754a77f-28c9-4afb-a781-b31f6d6a02e4"
   },
   "source": [
    "if True:\n",
    "  print(\"True\")\n",
    "else:\n",
    "  print(\"Truth always rests with the minority\")"
   ],
   "execution_count": 8,
   "outputs": [
    {
     "output_type": "stream",
     "text": [
      "True\n"
     ],
     "name": "stdout"
    }
   ]
  },
  {
   "cell_type": "code",
   "metadata": {
    "id": "CAPdbJGPUhSO",
    "colab_type": "code",
    "colab": {
     "base_uri": "https://localhost:8080/",
     "height": 51
    },
    "outputId": "501d7c67-ba70-4560-e7ee-2f73571f2f8b"
   },
   "source": [
    "if True:\n",
    "  print(\"True\")\n",
    "else:\n",
    "  pass\n",
    "print(\"False\")"
   ],
   "execution_count": 9,
   "outputs": [
    {
     "output_type": "stream",
     "text": [
      "True\n",
      "False\n"
     ],
     "name": "stdout"
    }
   ]
  },
  {
   "cell_type": "markdown",
   "metadata": {
    "id": "DyZ1zWY9WEci",
    "colab_type": "text"
   },
   "source": [
    "### Multi-line Expression"
   ]
  },
  {
   "cell_type": "code",
   "metadata": {
    "id": "s2pYYzh6YO3l",
    "colab_type": "code",
    "colab": {}
   },
   "source": [
    "lets_make_this_line_super_super_super_super_super_super_super_super_super_long = 233\n",
    "attempting_to_write_some_code_that_my_coworker_cant_maintain_so_that_i_could_keep_my_job = 666"
   ],
   "execution_count": 10,
   "outputs": []
  },
  {
   "cell_type": "markdown",
   "metadata": {
    "id": "dnqkeuSJYk4F",
    "colab_type": "text"
   },
   "source": [
    "We have to use backslash for a stand-alone multi-line expression."
   ]
  },
  {
   "cell_type": "code",
   "metadata": {
    "id": "L6Hy5-xdYRNE",
    "colab_type": "code",
    "colab": {
     "base_uri": "https://localhost:8080/",
     "height": 34
    },
    "outputId": "37a1c942-ee38-4240-e1ba-1ab6f57f960d"
   },
   "source": [
    "lets_make_this_line_super_super_super_super_super_super_super_super_super_long + \\\n",
    "attempting_to_write_some_code_that_my_coworker_cant_maintain_so_that_i_could_keep_my_job"
   ],
   "execution_count": 11,
   "outputs": [
    {
     "output_type": "execute_result",
     "data": {
      "text/plain": [
       "899"
      ]
     },
     "metadata": {
      "tags": []
     },
     "execution_count": 11
    }
   ]
  },
  {
   "cell_type": "code",
   "metadata": {
    "id": "jS2x2C1GWEOU",
    "colab_type": "code",
    "colab": {
     "base_uri": "https://localhost:8080/",
     "height": 34
    },
    "outputId": "b526973e-b4ab-4ef0-a3bd-de3c0bd67737"
   },
   "source": [
    "print(  \n",
    "  lets_make_this_line_super_super_super_super_super_super_super_super_super_long +\n",
    "  attempting_to_write_some_code_that_my_coworker_cant_maintain_so_that_i_could_keep_my_job   \n",
    ")"
   ],
   "execution_count": 12,
   "outputs": [
    {
     "output_type": "stream",
     "text": [
      "899\n"
     ],
     "name": "stdout"
    }
   ]
  },
  {
   "cell_type": "code",
   "metadata": {
    "id": "k0t9DSMDYYfB",
    "colab_type": "code",
    "colab": {
     "base_uri": "https://localhost:8080/",
     "height": 34
    },
    "outputId": "93729fcc-13c7-42c7-aad9-1e3db20287c2"
   },
   "source": [
    "[lets_make_this_line_super_super_super_super_super_super_super_super_super_long,\n",
    "attempting_to_write_some_code_that_my_coworker_cant_maintain_so_that_i_could_keep_my_job]"
   ],
   "execution_count": 13,
   "outputs": [
    {
     "output_type": "execute_result",
     "data": {
      "text/plain": [
       "[233, 666]"
      ]
     },
     "metadata": {
      "tags": []
     },
     "execution_count": 13
    }
   ]
  },
  {
   "cell_type": "code",
   "metadata": {
    "id": "2Z8jKKWjYaiO",
    "colab_type": "code",
    "colab": {
     "base_uri": "https://localhost:8080/",
     "height": 34
    },
    "outputId": "27b5e75f-e007-4b0b-abdc-ecb404bf7c76"
   },
   "source": [
    "{lets_make_this_line_super_super_super_super_super_super_super_super_super_long,\n",
    "attempting_to_write_some_code_that_my_coworker_cant_maintain_so_that_i_could_keep_my_job}"
   ],
   "execution_count": 14,
   "outputs": [
    {
     "output_type": "execute_result",
     "data": {
      "text/plain": [
       "{233, 666}"
      ]
     },
     "metadata": {
      "tags": []
     },
     "execution_count": 14
    }
   ]
  },
  {
   "cell_type": "markdown",
   "metadata": {
    "id": "4I_X2YPMX6I2",
    "colab_type": "text"
   },
   "source": [
    "## Data Types"
   ]
  },
  {
   "cell_type": "markdown",
   "metadata": {
    "id": "gpnp-jQvXNw0",
    "colab_type": "text"
   },
   "source": [
    "### Built-in Numerical Data Types"
   ]
  },
  {
   "cell_type": "code",
   "metadata": {
    "id": "WzUbyrcnUjRJ",
    "colab_type": "code",
    "colab": {
     "base_uri": "https://localhost:8080/",
     "height": 34
    },
    "outputId": "04d71618-15e5-459e-e3ed-6ba3accb47df"
   },
   "source": [
    "type(233)"
   ],
   "execution_count": 15,
   "outputs": [
    {
     "output_type": "execute_result",
     "data": {
      "text/plain": [
       "int"
      ]
     },
     "metadata": {
      "tags": []
     },
     "execution_count": 15
    }
   ]
  },
  {
   "cell_type": "code",
   "metadata": {
    "id": "pu7VbO0NY3hC",
    "colab_type": "code",
    "colab": {
     "base_uri": "https://localhost:8080/",
     "height": 34
    },
    "outputId": "849bf568-cee3-46fe-c0aa-9937fb50ae31"
   },
   "source": [
    "type(233.666)"
   ],
   "execution_count": 16,
   "outputs": [
    {
     "output_type": "execute_result",
     "data": {
      "text/plain": [
       "float"
      ]
     },
     "metadata": {
      "tags": []
     },
     "execution_count": 16
    }
   ]
  },
  {
   "cell_type": "code",
   "metadata": {
    "id": "pyYR3CCkZCqQ",
    "colab_type": "code",
    "colab": {
     "base_uri": "https://localhost:8080/",
     "height": 34
    },
    "outputId": "4316ad52-b7f1-4670-ef79-2162e538669c"
   },
   "source": [
    "type(233 + 666j)"
   ],
   "execution_count": 17,
   "outputs": [
    {
     "output_type": "execute_result",
     "data": {
      "text/plain": [
       "complex"
      ]
     },
     "metadata": {
      "tags": []
     },
     "execution_count": 17
    }
   ]
  },
  {
   "cell_type": "code",
   "metadata": {
    "id": "3MYj_f6xY5X8",
    "colab_type": "code",
    "colab": {
     "base_uri": "https://localhost:8080/",
     "height": 34
    },
    "outputId": "b1a06ca0-5f0d-4d00-d171-1c0c628ce497"
   },
   "source": [
    "type(True)"
   ],
   "execution_count": 18,
   "outputs": [
    {
     "output_type": "execute_result",
     "data": {
      "text/plain": [
       "bool"
      ]
     },
     "metadata": {
      "tags": []
     },
     "execution_count": 18
    }
   ]
  },
  {
   "cell_type": "markdown",
   "metadata": {
    "id": "1cS70PsIZXeh",
    "colab_type": "text"
   },
   "source": [
    "### String"
   ]
  },
  {
   "cell_type": "markdown",
   "metadata": {
    "id": "szL2F5gSaD-W",
    "colab_type": "text"
   },
   "source": [
    "*   `''` and `\"\"` work the same for declaring string literals. If you use `\"\"` to declare a string, you don't have to use escape character if you would like to use `''` as a part of the string literal."
   ]
  },
  {
   "cell_type": "code",
   "metadata": {
    "id": "pIjq9Uv5ZArd",
    "colab_type": "code",
    "colab": {
     "base_uri": "https://localhost:8080/",
     "height": 35
    },
    "outputId": "0ca1e4ba-d784-4e2b-9acf-47d89f02dffd"
   },
   "source": [
    "\"What's up?\""
   ],
   "execution_count": 19,
   "outputs": [
    {
     "output_type": "execute_result",
     "data": {
      "application/vnd.google.colaboratory.intrinsic+json": {
       "type": "string"
      },
      "text/plain": [
       "\"What's up?\""
      ]
     },
     "metadata": {
      "tags": []
     },
     "execution_count": 19
    }
   ]
  },
  {
   "cell_type": "code",
   "metadata": {
    "id": "MJ6tGAuJZi2c",
    "colab_type": "code",
    "colab": {
     "base_uri": "https://localhost:8080/",
     "height": 35
    },
    "outputId": "e9c70eed-07ea-436d-88ac-da25d390fc98"
   },
   "source": [
    "'What\\'s up?'"
   ],
   "execution_count": 20,
   "outputs": [
    {
     "output_type": "execute_result",
     "data": {
      "application/vnd.google.colaboratory.intrinsic+json": {
       "type": "string"
      },
      "text/plain": [
       "\"What's up?\""
      ]
     },
     "metadata": {
      "tags": []
     },
     "execution_count": 20
    }
   ]
  },
  {
   "cell_type": "markdown",
   "metadata": {
    "id": "mjQ2SiR5a7q6",
    "colab_type": "text"
   },
   "source": [
    "*   Use `\"\"\"` or `'''` for multi-line strings"
   ]
  },
  {
   "cell_type": "code",
   "metadata": {
    "id": "FonSPgNKZrhM",
    "colab_type": "code",
    "colab": {
     "base_uri": "https://localhost:8080/",
     "height": 85
    },
    "outputId": "7319fb3d-3402-41bf-8460-3c4d229af933"
   },
   "source": [
    "print(\n",
    "  '''\n",
    "  line 0\n",
    "  line1\n",
    "  '''\n",
    ")"
   ],
   "execution_count": 21,
   "outputs": [
    {
     "output_type": "stream",
     "text": [
      "\n",
      "  line 0\n",
      "  line1\n",
      "  \n"
     ],
     "name": "stdout"
    }
   ]
  },
  {
   "cell_type": "markdown",
   "metadata": {
    "id": "UFNjIqO0bdxv",
    "colab_type": "text"
   },
   "source": [
    "*   String concatenation"
   ]
  },
  {
   "cell_type": "code",
   "metadata": {
    "id": "2t3-QOWmbGXq",
    "colab_type": "code",
    "colab": {
     "base_uri": "https://localhost:8080/",
     "height": 35
    },
    "outputId": "6805cac8-74ad-4db5-9512-f245a98b473e"
   },
   "source": [
    "\"Welcome \"\"to \"\"CS 361\""
   ],
   "execution_count": 22,
   "outputs": [
    {
     "output_type": "execute_result",
     "data": {
      "application/vnd.google.colaboratory.intrinsic+json": {
       "type": "string"
      },
      "text/plain": [
       "'Welcome to CS 361'"
      ]
     },
     "metadata": {
      "tags": []
     },
     "execution_count": 22
    }
   ]
  },
  {
   "cell_type": "code",
   "metadata": {
    "id": "-izV-JeQbkPR",
    "colab_type": "code",
    "colab": {
     "base_uri": "https://localhost:8080/",
     "height": 35
    },
    "outputId": "39d7222a-389c-4201-8e85-d00f26068505"
   },
   "source": [
    "\"Welcome \" + \"to \" + \"CS 361\""
   ],
   "execution_count": 23,
   "outputs": [
    {
     "output_type": "execute_result",
     "data": {
      "application/vnd.google.colaboratory.intrinsic+json": {
       "type": "string"
      },
      "text/plain": [
       "'Welcome to CS 361'"
      ]
     },
     "metadata": {
      "tags": []
     },
     "execution_count": 23
    }
   ]
  },
  {
   "cell_type": "markdown",
   "metadata": {
    "id": "-SIM7kj9f_Ui",
    "colab_type": "text"
   },
   "source": [
    "*   String indexing: Python string can be index from left to right starting with 0 and right to left starting with -1"
   ]
  },
  {
   "cell_type": "code",
   "metadata": {
    "id": "39oEhp-7f_EW",
    "colab_type": "code",
    "colab": {}
   },
   "source": [
    "boo = \"Welcome to CS 361!\""
   ],
   "execution_count": 24,
   "outputs": []
  },
  {
   "cell_type": "code",
   "metadata": {
    "id": "UF-8vuLuboed",
    "colab_type": "code",
    "colab": {
     "base_uri": "https://localhost:8080/",
     "height": 35
    },
    "outputId": "c5cfb5f8-8db5-45d6-d3d7-4ecb73d6f664"
   },
   "source": [
    "boo[0] # left to right"
   ],
   "execution_count": 25,
   "outputs": [
    {
     "output_type": "execute_result",
     "data": {
      "application/vnd.google.colaboratory.intrinsic+json": {
       "type": "string"
      },
      "text/plain": [
       "'W'"
      ]
     },
     "metadata": {
      "tags": []
     },
     "execution_count": 25
    }
   ]
  },
  {
   "cell_type": "code",
   "metadata": {
    "id": "2ns5jHpRbqLo",
    "colab_type": "code",
    "colab": {
     "base_uri": "https://localhost:8080/",
     "height": 35
    },
    "outputId": "509c0df2-ac6c-4f3c-e6e8-dc299b8e29b5"
   },
   "source": [
    "boo[-1] # right to left"
   ],
   "execution_count": 26,
   "outputs": [
    {
     "output_type": "execute_result",
     "data": {
      "application/vnd.google.colaboratory.intrinsic+json": {
       "type": "string"
      },
      "text/plain": [
       "'!'"
      ]
     },
     "metadata": {
      "tags": []
     },
     "execution_count": 26
    }
   ]
  },
  {
   "cell_type": "markdown",
   "metadata": {
    "id": "fzjbUQUngjsa",
    "colab_type": "text"
   },
   "source": [
    "*   String slicing [start:end:step]"
   ]
  },
  {
   "cell_type": "code",
   "metadata": {
    "id": "H6_A0if1g5Cz",
    "colab_type": "code",
    "colab": {
     "base_uri": "https://localhost:8080/",
     "height": 35
    },
    "outputId": "5a49d7a7-bab1-45fa-b470-84a89f30c919"
   },
   "source": [
    "boo[0:-1]"
   ],
   "execution_count": 27,
   "outputs": [
    {
     "output_type": "execute_result",
     "data": {
      "application/vnd.google.colaboratory.intrinsic+json": {
       "type": "string"
      },
      "text/plain": [
       "'Welcome to CS 361'"
      ]
     },
     "metadata": {
      "tags": []
     },
     "execution_count": 27
    }
   ]
  },
  {
   "cell_type": "code",
   "metadata": {
    "id": "RevW9QQMgMSy",
    "colab_type": "code",
    "colab": {
     "base_uri": "https://localhost:8080/",
     "height": 35
    },
    "outputId": "cdc4b598-2349-4fd2-8857-7c545eaae43b"
   },
   "source": [
    "boo[0:7]"
   ],
   "execution_count": 28,
   "outputs": [
    {
     "output_type": "execute_result",
     "data": {
      "application/vnd.google.colaboratory.intrinsic+json": {
       "type": "string"
      },
      "text/plain": [
       "'Welcome'"
      ]
     },
     "metadata": {
      "tags": []
     },
     "execution_count": 28
    }
   ]
  },
  {
   "cell_type": "code",
   "metadata": {
    "id": "d1Ca8zKJh7Pa",
    "colab_type": "code",
    "colab": {
     "base_uri": "https://localhost:8080/",
     "height": 35
    },
    "outputId": "0c0088d9-43b4-454b-eef0-edbce7929d3b"
   },
   "source": [
    "boo[::2]"
   ],
   "execution_count": 29,
   "outputs": [
    {
     "output_type": "execute_result",
     "data": {
      "application/vnd.google.colaboratory.intrinsic+json": {
       "type": "string"
      },
      "text/plain": [
       "'Wloet S31'"
      ]
     },
     "metadata": {
      "tags": []
     },
     "execution_count": 29
    }
   ]
  },
  {
   "cell_type": "code",
   "metadata": {
    "id": "nAhea2yxgqrd",
    "colab_type": "code",
    "colab": {
     "base_uri": "https://localhost:8080/",
     "height": 35
    },
    "outputId": "4fab2637-3610-48ca-fad8-a78800e3dc85"
   },
   "source": [
    "boo[::-1]"
   ],
   "execution_count": 30,
   "outputs": [
    {
     "output_type": "execute_result",
     "data": {
      "application/vnd.google.colaboratory.intrinsic+json": {
       "type": "string"
      },
      "text/plain": [
       "'!163 SC ot emocleW'"
      ]
     },
     "metadata": {
      "tags": []
     },
     "execution_count": 30
    }
   ]
  },
  {
   "cell_type": "code",
   "metadata": {
    "id": "2BZaOD_niOEe",
    "colab_type": "code",
    "colab": {
     "base_uri": "https://localhost:8080/",
     "height": 35
    },
    "outputId": "8347eb42-56dc-44c7-de8a-375755ecb8d1"
   },
   "source": [
    "boo[7::-1]"
   ],
   "execution_count": 31,
   "outputs": [
    {
     "output_type": "execute_result",
     "data": {
      "application/vnd.google.colaboratory.intrinsic+json": {
       "type": "string"
      },
      "text/plain": [
       "' emocleW'"
      ]
     },
     "metadata": {
      "tags": []
     },
     "execution_count": 31
    }
   ]
  },
  {
   "cell_type": "code",
   "metadata": {
    "id": "wq_LBlTZh-82",
    "colab_type": "code",
    "colab": {
     "base_uri": "https://localhost:8080/",
     "height": 35
    },
    "outputId": "9f379741-20e4-432a-a441-dcd4c1296778"
   },
   "source": [
    "boo[:7:-1]"
   ],
   "execution_count": 32,
   "outputs": [
    {
     "output_type": "execute_result",
     "data": {
      "application/vnd.google.colaboratory.intrinsic+json": {
       "type": "string"
      },
      "text/plain": [
       "'!163 SC ot'"
      ]
     },
     "metadata": {
      "tags": []
     },
     "execution_count": 32
    }
   ]
  },
  {
   "cell_type": "code",
   "metadata": {
    "id": "G-r8kIfqgupV",
    "colab_type": "code",
    "colab": {
     "base_uri": "https://localhost:8080/",
     "height": 35
    },
    "outputId": "40042200-e7b3-4968-e488-0a57a801ef67",
    "pycharm": {
     "name": "#%%\n"
    }
   },
   "source": [
    "boo[0:7:2]"
   ],
   "execution_count": 33,
   "outputs": [
    {
     "output_type": "execute_result",
     "data": {
      "application/vnd.google.colaboratory.intrinsic+json": {
       "type": "string"
      },
      "text/plain": [
       "'Wloe'"
      ]
     },
     "metadata": {
      "tags": []
     },
     "execution_count": 33
    }
   ]
  }
 ]
}