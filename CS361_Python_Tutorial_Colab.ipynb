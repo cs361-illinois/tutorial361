{
 "nbformat": 4,
 "nbformat_minor": 0,
 "metadata": {
  "colab": {
   "name": "CS361_Python_Tutorial_Colab.ipynb",
   "provenance": [],
   "collapsed_sections": [],
   "toc_visible": true
  },
  "kernelspec": {
   "name": "python3",
   "display_name": "Python 3"
  }
 },
 "cells": [
  {
   "cell_type": "markdown",
   "metadata": {
    "id": "87oZ6pKNdcuC",
    "colab_type": "text"
   },
   "source": [
    "# Sanity Check"
   ]
  },
  {
   "cell_type": "markdown",
   "metadata": {
    "id": "l4dCpdDseGkz",
    "colab_type": "text"
   },
   "source": [
    "Let's first check a couple packages we need in this class. Anaconda should have all the packages below (except for PyTorch) installed."
   ]
  },
  {
   "cell_type": "code",
   "metadata": {
    "id": "ImIWCCR2dYzX",
    "colab_type": "code",
    "colab": {
     "base_uri": "https://localhost:8080/",
     "height": 71
    },
    "outputId": "51de0a25-6650-4ca4-e87b-ffb0948a9917"
   },
   "source": [
    "import torch\n",
    "import scipy\n",
    "import sklearn\n",
    "import numpy as np\n",
    "import pandas as pd\n",
    "import seaborn as sns\n",
    "import matplotlib.pyplot as plt"
   ],
   "execution_count": 1,
   "outputs": [
    {
     "output_type": "stream",
     "text": [
      "/usr/local/lib/python3.6/dist-packages/statsmodels/tools/_testing.py:19: FutureWarning: pandas.util.testing is deprecated. Use the functions in the public API at pandas.testing instead.\n",
      "  import pandas.util.testing as tm\n"
     ],
     "name": "stderr"
    }
   ]
  },
  {
   "cell_type": "markdown",
   "metadata": {
    "id": "_w2EzCE7QtQ3",
    "colab_type": "text"
   },
   "source": [
    "Now let's check your Python version. Both 3.7 and 3.6 should work fine. If you have multiple Python environments installed, please pay attention to which one are you using. Nevertheless, we highly recommend using Anaconda to manager your packages."
   ]
  },
  {
   "cell_type": "code",
   "metadata": {
    "id": "9CngkxVId0AA",
    "colab_type": "code",
    "colab": {
     "base_uri": "https://localhost:8080/",
     "height": 34
    },
    "outputId": "81efbeb3-c3c9-4484-d27a-1f089c490a80"
   },
   "source": [
    "!python --version"
   ],
   "execution_count": 2,
   "outputs": [
    {
     "output_type": "stream",
     "text": [
      "Python 3.6.9\n"
     ],
     "name": "stdout"
    }
   ]
  },
  {
   "cell_type": "markdown",
   "metadata": {
    "id": "n2AfCq-eePK4",
    "colab_type": "text"
   },
   "source": [
    "# Orientation to Google Colab"
   ]
  },
  {
   "cell_type": "markdown",
   "metadata": {
    "id": "LjMC0l15V0jT",
    "colab_type": "text"
   },
   "source": [
    "Please note that Google Colab only has temporary storage. Once the current session disconnects (or timesout) all the files in the session storage will be discarded. However, the output from Jupyter Notebook will be saved unless you specify not to do so. You can download/upload files with the GUI in the left panel. If you would like to have a permanent storage (maybe for datasets and results), you can mount your Google Drive to Google Colab by running the cell below. You will be prompted to link your account to Colab. **The code in this section only works on Colab.**"
   ]
  },
  {
   "cell_type": "code",
   "metadata": {
    "id": "ujtFAQzBeTYv",
    "colab_type": "code",
    "colab": {
     "base_uri": "https://localhost:8080/",
     "height": 34
    },
    "outputId": "ce5aaaf9-e611-4f82-d03b-63f96f9c0024"
   },
   "source": [
    "from google.colab import drive\n",
    "drive.mount('/content/drive')"
   ],
   "execution_count": 3,
   "outputs": [
    {
     "output_type": "stream",
     "text": [
      "Mounted at /content/drive\n"
     ],
     "name": "stdout"
    }
   ]
  },
  {
   "cell_type": "markdown",
   "metadata": {
    "id": "ZH8yCBS8MVut",
    "colab_type": "text"
   },
   "source": [
    "Run the cell below and you should see the changes in your Google Drive"
   ]
  },
  {
   "cell_type": "code",
   "metadata": {
    "id": "fyiM_8xyK7Dy",
    "colab_type": "code",
    "colab": {}
   },
   "source": [
    "with open('/content/drive/My Drive/boo.txt', 'w') as f:\n",
    "  f.write('foo')"
   ],
   "execution_count": 4,
   "outputs": []
  },
  {
   "cell_type": "markdown",
   "metadata": {
    "id": "YMbS7C9fMiAK",
    "colab_type": "text"
   },
   "source": [
    "Don't forget to unmout at the end of your session."
   ]
  },
  {
   "cell_type": "code",
   "metadata": {
    "id": "Yfs2fLJZL6Rn",
    "colab_type": "code",
    "colab": {}
   },
   "source": [
    "drive.flush_and_unmount()"
   ],
   "execution_count": 5,
   "outputs": []
  },
  {
   "cell_type": "markdown",
   "metadata": {
    "id": "PbH_EIWGN87x",
    "colab_type": "text"
   },
   "source": [
    "# Python Basics"
   ]
  },
  {
   "cell_type": "markdown",
   "metadata": {
    "id": "Lbhein51OaVy",
    "colab_type": "text"
   },
   "source": [
    "Before diving into Python libraries, let's first take a look at Python's basic programming constructs."
   ]
  },
  {
   "cell_type": "markdown",
   "metadata": {
    "id": "eSW0ph5gOTLV",
    "colab_type": "text"
   },
   "source": [
    "## Basic Syntax"
   ]
  },
  {
   "cell_type": "markdown",
   "metadata": {
    "id": "PJQaaDc4P1Jd",
    "colab_type": "text"
   },
   "source": [
    "### Keywords"
   ]
  },
  {
   "cell_type": "code",
   "metadata": {
    "id": "hgnCskFCPvX_",
    "colab_type": "code",
    "colab": {
     "base_uri": "https://localhost:8080/",
     "height": 578
    },
    "outputId": "9143f95b-0145-4a79-cf10-fc1eef51e459"
   },
   "source": [
    "import keyword\n",
    "keyword.kwlist"
   ],
   "execution_count": 6,
   "outputs": [
    {
     "output_type": "execute_result",
     "data": {
      "text/plain": [
       "['False',\n",
       " 'None',\n",
       " 'True',\n",
       " 'and',\n",
       " 'as',\n",
       " 'assert',\n",
       " 'break',\n",
       " 'class',\n",
       " 'continue',\n",
       " 'def',\n",
       " 'del',\n",
       " 'elif',\n",
       " 'else',\n",
       " 'except',\n",
       " 'finally',\n",
       " 'for',\n",
       " 'from',\n",
       " 'global',\n",
       " 'if',\n",
       " 'import',\n",
       " 'in',\n",
       " 'is',\n",
       " 'lambda',\n",
       " 'nonlocal',\n",
       " 'not',\n",
       " 'or',\n",
       " 'pass',\n",
       " 'raise',\n",
       " 'return',\n",
       " 'try',\n",
       " 'while',\n",
       " 'with',\n",
       " 'yield']"
      ]
     },
     "metadata": {
      "tags": []
     },
     "execution_count": 6
    }
   ]
  },
  {
   "cell_type": "markdown",
   "metadata": {
    "id": "qMz6oO9BQNW4",
    "colab_type": "text"
   },
   "source": [
    "### Identifiers\n",
    "\n",
    "\n",
    "*   Identifiers in Python are case-sensitive.\n",
    "*   The first character of any Python identifier can't be a digit. Other characters can be alphanumeric or an underscore. Non-ascii characters are also supported in Python 3.\n",
    "*   !, @, #, $, and % are special symbols in Python and you can't use them as identifiers.\n",
    "\n",
    "\n",
    "\n"
   ]
  },
  {
   "cell_type": "markdown",
   "metadata": {
    "id": "jIT8RBolSlRc",
    "colab_type": "text"
   },
   "source": [
    "### Comments"
   ]
  },
  {
   "cell_type": "code",
   "metadata": {
    "id": "tbsJJdt_MrBT",
    "colab_type": "code",
    "colab": {
     "base_uri": "https://localhost:8080/",
     "height": 34
    },
    "outputId": "98f91fa7-869b-4522-a440-79353f30e70e"
   },
   "source": [
    "# boo\n",
    "'''\n",
    "boo\n",
    "foo\n",
    "'''\n",
    "\n",
    "\"\"\"\n",
    "boo\n",
    "foo\n",
    "\"\"\"\n",
    "print(\"Welcome to CS 361!\")"
   ],
   "execution_count": 7,
   "outputs": [
    {
     "output_type": "stream",
     "text": [
      "Welcome to CS 361!\n"
     ],
     "name": "stdout"
    }
   ]
  },
  {
   "cell_type": "markdown",
   "metadata": {
    "id": "GB-Bxh3lTVvo",
    "colab_type": "text"
   },
   "source": [
    "### Indentation\n",
    "Python doesn't use `{}` for code blocks and is indentation-sensitive. This is America, you can whatever number of tabs/spaces you want for each code block, but the indentation level has to be the same within the same code block."
   ]
  },
  {
   "cell_type": "code",
   "metadata": {
    "id": "VDl1rjs5PkqO",
    "colab_type": "code",
    "colab": {
     "base_uri": "https://localhost:8080/",
     "height": 34
    },
    "outputId": "08b9899c-ff1e-4173-f377-0f47cacedfe6"
   },
   "source": [
    "if True:\n",
    "  print(\"True\")\n",
    "else:\n",
    "  print(\"Truth always rests with the minority\")"
   ],
   "execution_count": 8,
   "outputs": [
    {
     "output_type": "stream",
     "text": [
      "True\n"
     ],
     "name": "stdout"
    }
   ]
  },
  {
   "cell_type": "code",
   "metadata": {
    "id": "CAPdbJGPUhSO",
    "colab_type": "code",
    "colab": {
     "base_uri": "https://localhost:8080/",
     "height": 51
    },
    "outputId": "c5e702ae-1e7a-4c59-b183-250492726a26"
   },
   "source": [
    "if True:\n",
    "  print(\"True\")\n",
    "else:\n",
    "  pass\n",
    "print(\"False\")"
   ],
   "execution_count": 9,
   "outputs": [
    {
     "output_type": "stream",
     "text": [
      "True\n",
      "False\n"
     ],
     "name": "stdout"
    }
   ]
  },
  {
   "cell_type": "markdown",
   "metadata": {
    "id": "DyZ1zWY9WEci",
    "colab_type": "text"
   },
   "source": [
    "### Multi-line Expression"
   ]
  },
  {
   "cell_type": "code",
   "metadata": {
    "id": "s2pYYzh6YO3l",
    "colab_type": "code",
    "colab": {}
   },
   "source": [
    "lets_make_this_line_super_super_super_super_super_super_super_super_super_long = 233\n",
    "attempting_to_write_some_code_that_my_coworker_cant_maintain_so_that_i_could_keep_my_job = 666"
   ],
   "execution_count": 10,
   "outputs": []
  },
  {
   "cell_type": "markdown",
   "metadata": {
    "id": "dnqkeuSJYk4F",
    "colab_type": "text"
   },
   "source": [
    "We have to use backslash for a stand-alone multi-line expression."
   ]
  },
  {
   "cell_type": "code",
   "metadata": {
    "id": "L6Hy5-xdYRNE",
    "colab_type": "code",
    "colab": {
     "base_uri": "https://localhost:8080/",
     "height": 34
    },
    "outputId": "26d6354b-b6ea-4e01-d78b-873fc0a36bfc"
   },
   "source": [
    "lets_make_this_line_super_super_super_super_super_super_super_super_super_long + \\\n",
    "attempting_to_write_some_code_that_my_coworker_cant_maintain_so_that_i_could_keep_my_job"
   ],
   "execution_count": 11,
   "outputs": [
    {
     "output_type": "execute_result",
     "data": {
      "text/plain": [
       "899"
      ]
     },
     "metadata": {
      "tags": []
     },
     "execution_count": 11
    }
   ]
  },
  {
   "cell_type": "code",
   "metadata": {
    "id": "jS2x2C1GWEOU",
    "colab_type": "code",
    "colab": {
     "base_uri": "https://localhost:8080/",
     "height": 34
    },
    "outputId": "022d3e5d-f84a-42d3-cddb-f4895faae39b"
   },
   "source": [
    "print(  \n",
    "  lets_make_this_line_super_super_super_super_super_super_super_super_super_long +\n",
    "  attempting_to_write_some_code_that_my_coworker_cant_maintain_so_that_i_could_keep_my_job   \n",
    ")"
   ],
   "execution_count": 12,
   "outputs": [
    {
     "output_type": "stream",
     "text": [
      "899\n"
     ],
     "name": "stdout"
    }
   ]
  },
  {
   "cell_type": "code",
   "metadata": {
    "id": "k0t9DSMDYYfB",
    "colab_type": "code",
    "colab": {
     "base_uri": "https://localhost:8080/",
     "height": 34
    },
    "outputId": "2d0fe27c-5e35-4577-a81d-7a1ab0b11b8c"
   },
   "source": [
    "[lets_make_this_line_super_super_super_super_super_super_super_super_super_long,\n",
    "attempting_to_write_some_code_that_my_coworker_cant_maintain_so_that_i_could_keep_my_job]"
   ],
   "execution_count": 13,
   "outputs": [
    {
     "output_type": "execute_result",
     "data": {
      "text/plain": [
       "[233, 666]"
      ]
     },
     "metadata": {
      "tags": []
     },
     "execution_count": 13
    }
   ]
  },
  {
   "cell_type": "code",
   "metadata": {
    "id": "2Z8jKKWjYaiO",
    "colab_type": "code",
    "colab": {
     "base_uri": "https://localhost:8080/",
     "height": 34
    },
    "outputId": "d4390458-126a-4199-ca72-4b2dedbd521c"
   },
   "source": [
    "{lets_make_this_line_super_super_super_super_super_super_super_super_super_long,\n",
    "attempting_to_write_some_code_that_my_coworker_cant_maintain_so_that_i_could_keep_my_job}"
   ],
   "execution_count": 14,
   "outputs": [
    {
     "output_type": "execute_result",
     "data": {
      "text/plain": [
       "{233, 666}"
      ]
     },
     "metadata": {
      "tags": []
     },
     "execution_count": 14
    }
   ]
  },
  {
   "cell_type": "markdown",
   "metadata": {
    "id": "4I_X2YPMX6I2",
    "colab_type": "text"
   },
   "source": [
    "## Data Types"
   ]
  },
  {
   "cell_type": "markdown",
   "metadata": {
    "id": "gpnp-jQvXNw0",
    "colab_type": "text"
   },
   "source": [
    "### Built-in Numerical Data Types"
   ]
  },
  {
   "cell_type": "markdown",
   "metadata": {
    "id": "vMqhfoPepIF-",
    "colab_type": "text"
   },
   "source": [
    "* Integer"
   ]
  },
  {
   "cell_type": "code",
   "metadata": {
    "id": "WzUbyrcnUjRJ",
    "colab_type": "code",
    "colab": {
     "base_uri": "https://localhost:8080/",
     "height": 34
    },
    "outputId": "45972988-3544-47d1-a19b-c1d7998444bb"
   },
   "source": [
    "type(233)"
   ],
   "execution_count": 15,
   "outputs": [
    {
     "output_type": "execute_result",
     "data": {
      "text/plain": [
       "int"
      ]
     },
     "metadata": {
      "tags": []
     },
     "execution_count": 15
    }
   ]
  },
  {
   "cell_type": "markdown",
   "metadata": {
    "id": "OxiyDkrVpK80",
    "colab_type": "text"
   },
   "source": [
    "* Float"
   ]
  },
  {
   "cell_type": "code",
   "metadata": {
    "id": "pu7VbO0NY3hC",
    "colab_type": "code",
    "colab": {
     "base_uri": "https://localhost:8080/",
     "height": 34
    },
    "outputId": "fd0a5af1-4c8b-4401-f88e-d26573fafe6b"
   },
   "source": [
    "type(233.666)"
   ],
   "execution_count": 16,
   "outputs": [
    {
     "output_type": "execute_result",
     "data": {
      "text/plain": [
       "float"
      ]
     },
     "metadata": {
      "tags": []
     },
     "execution_count": 16
    }
   ]
  },
  {
   "cell_type": "markdown",
   "metadata": {
    "id": "Nu_0wRQipNnF",
    "colab_type": "text"
   },
   "source": [
    "* Complex"
   ]
  },
  {
   "cell_type": "code",
   "metadata": {
    "id": "pyYR3CCkZCqQ",
    "colab_type": "code",
    "colab": {
     "base_uri": "https://localhost:8080/",
     "height": 34
    },
    "outputId": "b7153d96-f107-49d7-f681-e14aefa1979a"
   },
   "source": [
    "type(233 + 666j)"
   ],
   "execution_count": 17,
   "outputs": [
    {
     "output_type": "execute_result",
     "data": {
      "text/plain": [
       "complex"
      ]
     },
     "metadata": {
      "tags": []
     },
     "execution_count": 17
    }
   ]
  },
  {
   "cell_type": "markdown",
   "metadata": {
    "id": "5Q-kZWcypQxA",
    "colab_type": "text"
   },
   "source": [
    "* Boolean: Be careful of compound boolean expression!"
   ]
  },
  {
   "cell_type": "code",
   "metadata": {
    "id": "3MYj_f6xY5X8",
    "colab_type": "code",
    "colab": {
     "base_uri": "https://localhost:8080/",
     "height": 34
    },
    "outputId": "ae67ffd3-8af8-46a6-d3a3-eec55f77edb3"
   },
   "source": [
    "type(True)"
   ],
   "execution_count": 18,
   "outputs": [
    {
     "output_type": "execute_result",
     "data": {
      "text/plain": [
       "bool"
      ]
     },
     "metadata": {
      "tags": []
     },
     "execution_count": 18
    }
   ]
  },
  {
   "cell_type": "code",
   "metadata": {
    "id": "K0s-4ioGoauG",
    "colab_type": "code",
    "colab": {
     "base_uri": "https://localhost:8080/",
     "height": 34
    },
    "outputId": "bf096e3d-cbab-4b4b-ed27-44ab9482ca13"
   },
   "source": [
    "True and False"
   ],
   "execution_count": 19,
   "outputs": [
    {
     "output_type": "execute_result",
     "data": {
      "text/plain": [
       "False"
      ]
     },
     "metadata": {
      "tags": []
     },
     "execution_count": 19
    }
   ]
  },
  {
   "cell_type": "code",
   "metadata": {
    "id": "YdmQa0O-ohgT",
    "colab_type": "code",
    "colab": {
     "base_uri": "https://localhost:8080/",
     "height": 34
    },
    "outputId": "a2bcd205-1ccd-43dd-d7ff-fca334d9bb8e"
   },
   "source": [
    "True or False"
   ],
   "execution_count": 20,
   "outputs": [
    {
     "output_type": "execute_result",
     "data": {
      "text/plain": [
       "True"
      ]
     },
     "metadata": {
      "tags": []
     },
     "execution_count": 20
    }
   ]
  },
  {
   "cell_type": "code",
   "metadata": {
    "id": "WRL0aTbBowI8",
    "colab_type": "code",
    "colab": {
     "base_uri": "https://localhost:8080/",
     "height": 34
    },
    "outputId": "1e535184-142c-4b00-fad7-edc8e8dc8ef4"
   },
   "source": [
    "not True"
   ],
   "execution_count": 21,
   "outputs": [
    {
     "output_type": "execute_result",
     "data": {
      "text/plain": [
       "False"
      ]
     },
     "metadata": {
      "tags": []
     },
     "execution_count": 21
    }
   ]
  },
  {
   "cell_type": "markdown",
   "metadata": {
    "id": "boiJbS01bxbS",
    "colab_type": "text"
   },
   "source": [
    "*   Equality check"
   ]
  },
  {
   "cell_type": "code",
   "metadata": {
    "id": "zeNQvI1epBqx",
    "colab_type": "code",
    "colab": {
     "base_uri": "https://localhost:8080/",
     "height": 34
    },
    "outputId": "4218373c-98f4-4169-abf9-bc9ae06ee049"
   },
   "source": [
    "boo = [1, 2, 3]\n",
    "foo = [1, 2, 3]\n",
    "boo is foo # This is similar to boo == foo in Java"
   ],
   "execution_count": 22,
   "outputs": [
    {
     "output_type": "execute_result",
     "data": {
      "text/plain": [
       "False"
      ]
     },
     "metadata": {
      "tags": []
     },
     "execution_count": 22
    }
   ]
  },
  {
   "cell_type": "code",
   "metadata": {
    "id": "MJu1k86co6B0",
    "colab_type": "code",
    "colab": {
     "base_uri": "https://localhost:8080/",
     "height": 34
    },
    "outputId": "bbd18207-021e-440e-a0ee-f52588462587"
   },
   "source": [
    "boo == foo # This is similar to boo.equals(foo) in Java"
   ],
   "execution_count": 23,
   "outputs": [
    {
     "output_type": "execute_result",
     "data": {
      "text/plain": [
       "True"
      ]
     },
     "metadata": {
      "tags": []
     },
     "execution_count": 23
    }
   ]
  },
  {
   "cell_type": "markdown",
   "metadata": {
    "id": "U6Z5vk3McKMQ",
    "colab_type": "text"
   },
   "source": [
    "Note that Python doesn't have `===` like those in Kotlin and Javascript/TypeScript."
   ]
  },
  {
   "cell_type": "markdown",
   "metadata": {
    "id": "1cS70PsIZXeh",
    "colab_type": "text"
   },
   "source": [
    "### String"
   ]
  },
  {
   "cell_type": "markdown",
   "metadata": {
    "id": "szL2F5gSaD-W",
    "colab_type": "text"
   },
   "source": [
    "*   `''` and `\"\"` work the same for declaring string literals. If you use `\"\"` to declare a string, you don't have to use escape character if you would like to use `''` as a part of the string literal."
   ]
  },
  {
   "cell_type": "code",
   "metadata": {
    "id": "pIjq9Uv5ZArd",
    "colab_type": "code",
    "colab": {
     "base_uri": "https://localhost:8080/",
     "height": 35
    },
    "outputId": "f8f45413-6a01-45a3-84b5-8aba5b8d399e"
   },
   "source": [
    "\"What's up?\""
   ],
   "execution_count": 24,
   "outputs": [
    {
     "output_type": "execute_result",
     "data": {
      "application/vnd.google.colaboratory.intrinsic+json": {
       "type": "string"
      },
      "text/plain": [
       "\"What's up?\""
      ]
     },
     "metadata": {
      "tags": []
     },
     "execution_count": 24
    }
   ]
  },
  {
   "cell_type": "code",
   "metadata": {
    "id": "MJ6tGAuJZi2c",
    "colab_type": "code",
    "colab": {
     "base_uri": "https://localhost:8080/",
     "height": 35
    },
    "outputId": "82f3a139-90de-4972-8b87-ada9786256ef"
   },
   "source": [
    "'What\\'s up?'"
   ],
   "execution_count": 25,
   "outputs": [
    {
     "output_type": "execute_result",
     "data": {
      "application/vnd.google.colaboratory.intrinsic+json": {
       "type": "string"
      },
      "text/plain": [
       "\"What's up?\""
      ]
     },
     "metadata": {
      "tags": []
     },
     "execution_count": 25
    }
   ]
  },
  {
   "cell_type": "markdown",
   "metadata": {
    "id": "mjQ2SiR5a7q6",
    "colab_type": "text"
   },
   "source": [
    "*   Use `\"\"\"` or `'''` for multi-line strings"
   ]
  },
  {
   "cell_type": "code",
   "metadata": {
    "id": "FonSPgNKZrhM",
    "colab_type": "code",
    "colab": {
     "base_uri": "https://localhost:8080/",
     "height": 85
    },
    "outputId": "0098d457-d2c0-4b8d-e1ed-a5b9ce3167f5"
   },
   "source": [
    "print(\n",
    "  '''\n",
    "  line 0\n",
    "  line1\n",
    "  '''\n",
    ")"
   ],
   "execution_count": 26,
   "outputs": [
    {
     "output_type": "stream",
     "text": [
      "\n",
      "  line 0\n",
      "  line1\n",
      "  \n"
     ],
     "name": "stdout"
    }
   ]
  },
  {
   "cell_type": "markdown",
   "metadata": {
    "id": "UFNjIqO0bdxv",
    "colab_type": "text"
   },
   "source": [
    "*   String concatenation"
   ]
  },
  {
   "cell_type": "code",
   "metadata": {
    "id": "2t3-QOWmbGXq",
    "colab_type": "code",
    "colab": {
     "base_uri": "https://localhost:8080/",
     "height": 35
    },
    "outputId": "cccaad1b-de5f-45c5-8e36-a62e97c982ff"
   },
   "source": [
    "\"Welcome \"\"to \"\"CS 361\""
   ],
   "execution_count": 27,
   "outputs": [
    {
     "output_type": "execute_result",
     "data": {
      "application/vnd.google.colaboratory.intrinsic+json": {
       "type": "string"
      },
      "text/plain": [
       "'Welcome to CS 361'"
      ]
     },
     "metadata": {
      "tags": []
     },
     "execution_count": 27
    }
   ]
  },
  {
   "cell_type": "code",
   "metadata": {
    "id": "-izV-JeQbkPR",
    "colab_type": "code",
    "colab": {
     "base_uri": "https://localhost:8080/",
     "height": 35
    },
    "outputId": "d247657a-3ec7-48f8-afb4-2add0094b245"
   },
   "source": [
    "\"Welcome \" + \"to \" + \"CS 361\""
   ],
   "execution_count": 28,
   "outputs": [
    {
     "output_type": "execute_result",
     "data": {
      "application/vnd.google.colaboratory.intrinsic+json": {
       "type": "string"
      },
      "text/plain": [
       "'Welcome to CS 361'"
      ]
     },
     "metadata": {
      "tags": []
     },
     "execution_count": 28
    }
   ]
  },
  {
   "cell_type": "markdown",
   "metadata": {
    "id": "-SIM7kj9f_Ui",
    "colab_type": "text"
   },
   "source": [
    "*   String indexing: Python string can be index from left to right starting with 0 and right to left starting with -1"
   ]
  },
  {
   "cell_type": "code",
   "metadata": {
    "id": "39oEhp-7f_EW",
    "colab_type": "code",
    "colab": {}
   },
   "source": [
    "boo = \"Welcome to CS 361!\""
   ],
   "execution_count": 29,
   "outputs": []
  },
  {
   "cell_type": "code",
   "metadata": {
    "id": "UF-8vuLuboed",
    "colab_type": "code",
    "colab": {
     "base_uri": "https://localhost:8080/",
     "height": 35
    },
    "outputId": "91c6aa89-7775-4e54-ed9f-3e504d016ae9"
   },
   "source": [
    "boo[0] # left to right"
   ],
   "execution_count": 30,
   "outputs": [
    {
     "output_type": "execute_result",
     "data": {
      "application/vnd.google.colaboratory.intrinsic+json": {
       "type": "string"
      },
      "text/plain": [
       "'W'"
      ]
     },
     "metadata": {
      "tags": []
     },
     "execution_count": 30
    }
   ]
  },
  {
   "cell_type": "code",
   "metadata": {
    "id": "2ns5jHpRbqLo",
    "colab_type": "code",
    "colab": {
     "base_uri": "https://localhost:8080/",
     "height": 35
    },
    "outputId": "5b72de0f-923c-4f5e-acc2-fcc8ea8a2372"
   },
   "source": [
    "boo[-1] # right to left"
   ],
   "execution_count": 31,
   "outputs": [
    {
     "output_type": "execute_result",
     "data": {
      "application/vnd.google.colaboratory.intrinsic+json": {
       "type": "string"
      },
      "text/plain": [
       "'!'"
      ]
     },
     "metadata": {
      "tags": []
     },
     "execution_count": 31
    }
   ]
  },
  {
   "cell_type": "markdown",
   "metadata": {
    "id": "fzjbUQUngjsa",
    "colab_type": "text"
   },
   "source": [
    "*   String slicing [start:end:step]"
   ]
  },
  {
   "cell_type": "code",
   "metadata": {
    "id": "H6_A0if1g5Cz",
    "colab_type": "code",
    "colab": {
     "base_uri": "https://localhost:8080/",
     "height": 35
    },
    "outputId": "c1884464-beef-41b5-8e97-e51b7fb66511"
   },
   "source": [
    "boo[0:-1]"
   ],
   "execution_count": 32,
   "outputs": [
    {
     "output_type": "execute_result",
     "data": {
      "application/vnd.google.colaboratory.intrinsic+json": {
       "type": "string"
      },
      "text/plain": [
       "'Welcome to CS 361'"
      ]
     },
     "metadata": {
      "tags": []
     },
     "execution_count": 32
    }
   ]
  },
  {
   "cell_type": "code",
   "metadata": {
    "id": "RevW9QQMgMSy",
    "colab_type": "code",
    "colab": {
     "base_uri": "https://localhost:8080/",
     "height": 35
    },
    "outputId": "84bd1e93-17cb-4553-925e-7fbe4f6ecfa5"
   },
   "source": [
    "boo[0:7]"
   ],
   "execution_count": 33,
   "outputs": [
    {
     "output_type": "execute_result",
     "data": {
      "application/vnd.google.colaboratory.intrinsic+json": {
       "type": "string"
      },
      "text/plain": [
       "'Welcome'"
      ]
     },
     "metadata": {
      "tags": []
     },
     "execution_count": 33
    }
   ]
  },
  {
   "cell_type": "code",
   "metadata": {
    "id": "d1Ca8zKJh7Pa",
    "colab_type": "code",
    "colab": {
     "base_uri": "https://localhost:8080/",
     "height": 35
    },
    "outputId": "df52b9bd-f5aa-4fa4-969f-694daefc9b43"
   },
   "source": [
    "boo[::2]"
   ],
   "execution_count": 34,
   "outputs": [
    {
     "output_type": "execute_result",
     "data": {
      "application/vnd.google.colaboratory.intrinsic+json": {
       "type": "string"
      },
      "text/plain": [
       "'Wloet S31'"
      ]
     },
     "metadata": {
      "tags": []
     },
     "execution_count": 34
    }
   ]
  },
  {
   "cell_type": "code",
   "metadata": {
    "id": "nAhea2yxgqrd",
    "colab_type": "code",
    "colab": {
     "base_uri": "https://localhost:8080/",
     "height": 35
    },
    "outputId": "bdd74d27-e210-4efd-e5a0-5110ccc1b82a"
   },
   "source": [
    "boo[::-1]"
   ],
   "execution_count": 35,
   "outputs": [
    {
     "output_type": "execute_result",
     "data": {
      "application/vnd.google.colaboratory.intrinsic+json": {
       "type": "string"
      },
      "text/plain": [
       "'!163 SC ot emocleW'"
      ]
     },
     "metadata": {
      "tags": []
     },
     "execution_count": 35
    }
   ]
  },
  {
   "cell_type": "code",
   "metadata": {
    "id": "2BZaOD_niOEe",
    "colab_type": "code",
    "colab": {
     "base_uri": "https://localhost:8080/",
     "height": 35
    },
    "outputId": "64523950-32bb-4650-b8db-a9a9c8482a1f"
   },
   "source": [
    "boo[7::-1]"
   ],
   "execution_count": 36,
   "outputs": [
    {
     "output_type": "execute_result",
     "data": {
      "application/vnd.google.colaboratory.intrinsic+json": {
       "type": "string"
      },
      "text/plain": [
       "' emocleW'"
      ]
     },
     "metadata": {
      "tags": []
     },
     "execution_count": 36
    }
   ]
  },
  {
   "cell_type": "code",
   "metadata": {
    "id": "wq_LBlTZh-82",
    "colab_type": "code",
    "colab": {
     "base_uri": "https://localhost:8080/",
     "height": 35
    },
    "outputId": "ef5e5dbb-0c64-4873-829d-153d31e83437"
   },
   "source": [
    "boo[:7:-1]"
   ],
   "execution_count": 37,
   "outputs": [
    {
     "output_type": "execute_result",
     "data": {
      "application/vnd.google.colaboratory.intrinsic+json": {
       "type": "string"
      },
      "text/plain": [
       "'!163 SC ot'"
      ]
     },
     "metadata": {
      "tags": []
     },
     "execution_count": 37
    }
   ]
  },
  {
   "cell_type": "code",
   "metadata": {
    "id": "G-r8kIfqgupV",
    "colab_type": "code",
    "colab": {
     "base_uri": "https://localhost:8080/",
     "height": 35
    },
    "outputId": "ea347a88-c923-4d93-bd20-4a42ad0ea066"
   },
   "source": [
    "boo[0:7:2]"
   ],
   "execution_count": 38,
   "outputs": [
    {
     "output_type": "execute_result",
     "data": {
      "application/vnd.google.colaboratory.intrinsic+json": {
       "type": "string"
      },
      "text/plain": [
       "'Wloe'"
      ]
     },
     "metadata": {
      "tags": []
     },
     "execution_count": 38
    }
   ]
  },
  {
   "cell_type": "markdown",
   "metadata": {
    "id": "A2MdYLh6mgPz",
    "colab_type": "text"
   },
   "source": [
    "*   Byte-string: Please be aware of the existence of byte-string. If you have any byte-string imported into you dataset, please be careful when comparing string equality."
   ]
  },
  {
   "cell_type": "code",
   "metadata": {
    "id": "IBz_-7ymnjr3",
    "colab_type": "code",
    "colab": {
     "base_uri": "https://localhost:8080/",
     "height": 34
    },
    "outputId": "7f39220a-fd5d-4aa9-b9d4-2f001f301d73"
   },
   "source": [
    "type(b'Hi!')"
   ],
   "execution_count": 39,
   "outputs": [
    {
     "output_type": "execute_result",
     "data": {
      "text/plain": [
       "bytes"
      ]
     },
     "metadata": {
      "tags": []
     },
     "execution_count": 39
    }
   ]
  },
  {
   "cell_type": "code",
   "metadata": {
    "id": "9STRQXNXn0Bz",
    "colab_type": "code",
    "colab": {
     "base_uri": "https://localhost:8080/",
     "height": 34
    },
    "outputId": "ae5e999e-bb6b-45fd-e3df-57539f450984"
   },
   "source": [
    "b'Hi!' == 'Hi!'"
   ],
   "execution_count": 40,
   "outputs": [
    {
     "output_type": "execute_result",
     "data": {
      "text/plain": [
       "False"
      ]
     },
     "metadata": {
      "tags": []
     },
     "execution_count": 40
    }
   ]
  },
  {
   "cell_type": "markdown",
   "metadata": {
    "id": "PV2TfFcBpYQ6",
    "colab_type": "text"
   },
   "source": [
    "*   String Interpolation: C Style"
   ]
  },
  {
   "cell_type": "code",
   "metadata": {
    "id": "tucJH2hpp8Qx",
    "colab_type": "code",
    "colab": {
     "base_uri": "https://localhost:8080/",
     "height": 35
    },
    "outputId": "c7325cea-7e03-4c63-f3b1-306370085451"
   },
   "source": [
    "\"This is %s\" % \"CS 361!\""
   ],
   "execution_count": 41,
   "outputs": [
    {
     "output_type": "execute_result",
     "data": {
      "application/vnd.google.colaboratory.intrinsic+json": {
       "type": "string"
      },
      "text/plain": [
       "'This is CS 361!'"
      ]
     },
     "metadata": {
      "tags": []
     },
     "execution_count": 41
    }
   ]
  },
  {
   "cell_type": "code",
   "metadata": {
    "id": "vBarKlYZqTE8",
    "colab_type": "code",
    "colab": {
     "base_uri": "https://localhost:8080/",
     "height": 35
    },
    "outputId": "41183ff7-8d52-45b7-a512-e7e2d46b3a5a"
   },
   "source": [
    "\"Planck's constant is %e m^2 kg/s\" % (6.62607004e-34)"
   ],
   "execution_count": 42,
   "outputs": [
    {
     "output_type": "execute_result",
     "data": {
      "application/vnd.google.colaboratory.intrinsic+json": {
       "type": "string"
      },
      "text/plain": [
       "\"Planck's constant is 6.626070e-34 m^2 kg/s\""
      ]
     },
     "metadata": {
      "tags": []
     },
     "execution_count": 42
    }
   ]
  },
  {
   "cell_type": "code",
   "metadata": {
    "id": "RWiEYhQ0sHvL",
    "colab_type": "code",
    "colab": {
     "base_uri": "https://localhost:8080/",
     "height": 35
    },
    "outputId": "758e6197-9168-4aa2-8213-fa3630006b44"
   },
   "source": [
    "\"Format a number into scientific notation: %e\" % 233333"
   ],
   "execution_count": 43,
   "outputs": [
    {
     "output_type": "execute_result",
     "data": {
      "application/vnd.google.colaboratory.intrinsic+json": {
       "type": "string"
      },
      "text/plain": [
       "'Format a number into scientific notation: 2.333330e+05'"
      ]
     },
     "metadata": {
      "tags": []
     },
     "execution_count": 43
    }
   ]
  },
  {
   "cell_type": "code",
   "metadata": {
    "id": "-e_3EvjRq9Am",
    "colab_type": "code",
    "colab": {
     "base_uri": "https://localhost:8080/",
     "height": 35
    },
    "outputId": "e1bee17f-5a93-4d14-9537-fdcae9f5b232"
   },
   "source": [
    "from math import pi\n",
    "\"π is approximately %f\" % (pi)"
   ],
   "execution_count": 44,
   "outputs": [
    {
     "output_type": "execute_result",
     "data": {
      "application/vnd.google.colaboratory.intrinsic+json": {
       "type": "string"
      },
      "text/plain": [
       "'π is approximately 3.141593'"
      ]
     },
     "metadata": {
      "tags": []
     },
     "execution_count": 44
    }
   ]
  },
  {
   "cell_type": "code",
   "metadata": {
    "id": "GPhZ0e6yr0Y3",
    "colab_type": "code",
    "colab": {
     "base_uri": "https://localhost:8080/",
     "height": 35
    },
    "outputId": "48139f8b-32f3-4f98-ed41-002aee36bf20"
   },
   "source": [
    "\"π is approximately %.2f\" % (pi)"
   ],
   "execution_count": 45,
   "outputs": [
    {
     "output_type": "execute_result",
     "data": {
      "application/vnd.google.colaboratory.intrinsic+json": {
       "type": "string"
      },
      "text/plain": [
       "'π is approximately 3.14'"
      ]
     },
     "metadata": {
      "tags": []
     },
     "execution_count": 45
    }
   ]
  },
  {
   "cell_type": "markdown",
   "metadata": {
    "id": "v85Q54JjvF-B",
    "colab_type": "text"
   },
   "source": [
    "*   String Interpolation: f-string"
   ]
  },
  {
   "cell_type": "code",
   "metadata": {
    "id": "i_GlhhYRskE0",
    "colab_type": "code",
    "colab": {
     "base_uri": "https://localhost:8080/",
     "height": 35
    },
    "outputId": "70f53ecb-8b52-4735-b713-dcbe5a332f5b"
   },
   "source": [
    "course = \"CS 361\"\n",
    "f\"Welcome to {course}\""
   ],
   "execution_count": 46,
   "outputs": [
    {
     "output_type": "execute_result",
     "data": {
      "application/vnd.google.colaboratory.intrinsic+json": {
       "type": "string"
      },
      "text/plain": [
       "'Welcome to CS 361'"
      ]
     },
     "metadata": {
      "tags": []
     },
     "execution_count": 46
    }
   ]
  },
  {
   "cell_type": "code",
   "metadata": {
    "id": "Oy8rI1of0gHg",
    "colab_type": "code",
    "colab": {
     "base_uri": "https://localhost:8080/",
     "height": 35
    },
    "outputId": "214f199e-1089-4a5a-8d45-52b250e849d0"
   },
   "source": [
    "f\"1 + 1 = {1 + 1}\""
   ],
   "execution_count": 47,
   "outputs": [
    {
     "output_type": "execute_result",
     "data": {
      "application/vnd.google.colaboratory.intrinsic+json": {
       "type": "string"
      },
      "text/plain": [
       "'1 + 1 = 2'"
      ]
     },
     "metadata": {
      "tags": []
     },
     "execution_count": 47
    }
   ]
  },
  {
   "cell_type": "markdown",
   "metadata": {
    "id": "nqRwgDe71DhV",
    "colab_type": "text"
   },
   "source": [
    "*   String Interpolation: format function"
   ]
  },
  {
   "cell_type": "code",
   "metadata": {
    "id": "Ddcuy8Xf1Jl_",
    "colab_type": "code",
    "colab": {
     "base_uri": "https://localhost:8080/",
     "height": 35
    },
    "outputId": "d30a6fbf-ca29-47a6-f0e4-88c9ce09c9af"
   },
   "source": [
    "\"π is approximately {:.2f}\".format(pi)"
   ],
   "execution_count": 48,
   "outputs": [
    {
     "output_type": "execute_result",
     "data": {
      "application/vnd.google.colaboratory.intrinsic+json": {
       "type": "string"
      },
      "text/plain": [
       "'π is approximately 3.14'"
      ]
     },
     "metadata": {
      "tags": []
     },
     "execution_count": 48
    }
   ]
  },
  {
   "cell_type": "markdown",
   "metadata": {
    "id": "6p7bUD1u1hIK",
    "colab_type": "text"
   },
   "source": [
    "Checkout Python's [official document for string](https://docs.python.org/3.8/library/string.html) to see more details."
   ]
  },
  {
   "cell_type": "markdown",
   "metadata": {
    "id": "FChwcAHwmV7J",
    "colab_type": "text"
   },
   "source": [
    "### List"
   ]
  },
  {
   "cell_type": "markdown",
   "metadata": {
    "id": "_y4RD67w2vGi",
    "colab_type": "text"
   },
   "source": [
    "*   List-indexing is very similar to string-indexing"
   ]
  },
  {
   "cell_type": "code",
   "metadata": {
    "id": "gECNtQ9E21V9",
    "colab_type": "code",
    "colab": {}
   },
   "source": [
    "boo = [0, 2, \"four\", 6, 8, \"ten\", 12, 14, 16, 18, 20]"
   ],
   "execution_count": 49,
   "outputs": []
  },
  {
   "cell_type": "code",
   "metadata": {
    "id": "3cvIzwFi29Vm",
    "colab_type": "code",
    "colab": {
     "base_uri": "https://localhost:8080/",
     "height": 35
    },
    "outputId": "20bb55e3-6cb4-48c2-d2fa-49db954519fa"
   },
   "source": [
    "boo[2]"
   ],
   "execution_count": 50,
   "outputs": [
    {
     "output_type": "execute_result",
     "data": {
      "application/vnd.google.colaboratory.intrinsic+json": {
       "type": "string"
      },
      "text/plain": [
       "'four'"
      ]
     },
     "metadata": {
      "tags": []
     },
     "execution_count": 50
    }
   ]
  },
  {
   "cell_type": "code",
   "metadata": {
    "id": "ajIxvsO13Gyq",
    "colab_type": "code",
    "colab": {
     "base_uri": "https://localhost:8080/",
     "height": 34
    },
    "outputId": "145eb835-05dc-49d3-f7c4-df8d30232464"
   },
   "source": [
    "boo[-1]"
   ],
   "execution_count": 51,
   "outputs": [
    {
     "output_type": "execute_result",
     "data": {
      "text/plain": [
       "20"
      ]
     },
     "metadata": {
      "tags": []
     },
     "execution_count": 51
    }
   ]
  },
  {
   "cell_type": "code",
   "metadata": {
    "id": "zOsbaRKP3O24",
    "colab_type": "code",
    "colab": {
     "base_uri": "https://localhost:8080/",
     "height": 34
    },
    "outputId": "5d3718cf-ade1-4f35-adb5-966405f38596"
   },
   "source": [
    "boo[-2]"
   ],
   "execution_count": 52,
   "outputs": [
    {
     "output_type": "execute_result",
     "data": {
      "text/plain": [
       "18"
      ]
     },
     "metadata": {
      "tags": []
     },
     "execution_count": 52
    }
   ]
  },
  {
   "cell_type": "code",
   "metadata": {
    "id": "h1PiNKMM3SU8",
    "colab_type": "code",
    "colab": {
     "base_uri": "https://localhost:8080/",
     "height": 34
    },
    "outputId": "dd854cf3-9eb8-45b6-d58a-b4abb019fe10"
   },
   "source": [
    "boo[0:3]"
   ],
   "execution_count": 53,
   "outputs": [
    {
     "output_type": "execute_result",
     "data": {
      "text/plain": [
       "[0, 2, 'four']"
      ]
     },
     "metadata": {
      "tags": []
     },
     "execution_count": 53
    }
   ]
  },
  {
   "cell_type": "code",
   "metadata": {
    "id": "-OxSGnWa3V0D",
    "colab_type": "code",
    "colab": {
     "base_uri": "https://localhost:8080/",
     "height": 34
    },
    "outputId": "5fa1fb51-53bd-49f9-f17e-b87f8f61614a"
   },
   "source": [
    "boo[::-2]"
   ],
   "execution_count": 54,
   "outputs": [
    {
     "output_type": "execute_result",
     "data": {
      "text/plain": [
       "[20, 16, 12, 8, 'four', 0]"
      ]
     },
     "metadata": {
      "tags": []
     },
     "execution_count": 54
    }
   ]
  },
  {
   "cell_type": "code",
   "metadata": {
    "id": "FqGRjXKV3YV_",
    "colab_type": "code",
    "colab": {
     "base_uri": "https://localhost:8080/",
     "height": 34
    },
    "outputId": "5635911e-1930-4ebd-c686-061a343c8149"
   },
   "source": [
    "boo[-1:-6:-2]"
   ],
   "execution_count": 55,
   "outputs": [
    {
     "output_type": "execute_result",
     "data": {
      "text/plain": [
       "[20, 16, 12]"
      ]
     },
     "metadata": {
      "tags": []
     },
     "execution_count": 55
    }
   ]
  },
  {
   "cell_type": "markdown",
   "metadata": {
    "id": "NxDp1zBF30cd",
    "colab_type": "text"
   },
   "source": [
    "*   Other List Tricks"
   ]
  },
  {
   "cell_type": "code",
   "metadata": {
    "id": "dhM2E5FC8JXu",
    "colab_type": "code",
    "colab": {
     "base_uri": "https://localhost:8080/",
     "height": 34
    },
    "outputId": "429a164f-ea97-4807-c21e-1c0b3383bfc9"
   },
   "source": [
    "\"ten\" in boo"
   ],
   "execution_count": 56,
   "outputs": [
    {
     "output_type": "execute_result",
     "data": {
      "text/plain": [
       "True"
      ]
     },
     "metadata": {
      "tags": []
     },
     "execution_count": 56
    }
   ]
  },
  {
   "cell_type": "code",
   "metadata": {
    "id": "o3vj2wQe3luG",
    "colab_type": "code",
    "colab": {
     "base_uri": "https://localhost:8080/",
     "height": 34
    },
    "outputId": "5b361775-1b29-417b-dfb9-6172809b9640"
   },
   "source": [
    "boo.append(\"ha?\")\n",
    "boo"
   ],
   "execution_count": 57,
   "outputs": [
    {
     "output_type": "execute_result",
     "data": {
      "text/plain": [
       "[0, 2, 'four', 6, 8, 'ten', 12, 14, 16, 18, 20, 'ha?']"
      ]
     },
     "metadata": {
      "tags": []
     },
     "execution_count": 57
    }
   ]
  },
  {
   "cell_type": "code",
   "metadata": {
    "id": "0TDq-YwCy7f8",
    "colab_type": "code",
    "colab": {
     "base_uri": "https://localhost:8080/",
     "height": 35
    },
    "outputId": "53ced64a-08b9-482b-9d32-71f948ffc624"
   },
   "source": [
    "boo.pop()"
   ],
   "execution_count": 58,
   "outputs": [
    {
     "output_type": "execute_result",
     "data": {
      "application/vnd.google.colaboratory.intrinsic+json": {
       "type": "string"
      },
      "text/plain": [
       "'ha?'"
      ]
     },
     "metadata": {
      "tags": []
     },
     "execution_count": 58
    }
   ]
  },
  {
   "cell_type": "code",
   "metadata": {
    "id": "m3H5vCImy-o6",
    "colab_type": "code",
    "colab": {}
   },
   "source": [
    "boo.remove(\"four\")"
   ],
   "execution_count": 59,
   "outputs": []
  },
  {
   "cell_type": "code",
   "metadata": {
    "id": "XFraTgbwzw8O",
    "colab_type": "code",
    "colab": {
     "base_uri": "https://localhost:8080/",
     "height": 34
    },
    "outputId": "32c6d373-695f-4283-9ced-2c4a3d6712c4"
   },
   "source": [
    "len(boo)"
   ],
   "execution_count": 60,
   "outputs": [
    {
     "output_type": "execute_result",
     "data": {
      "text/plain": [
       "10"
      ]
     },
     "metadata": {
      "tags": []
     },
     "execution_count": 60
    }
   ]
  },
  {
   "cell_type": "markdown",
   "metadata": {
    "id": "a6Id1aZe4Qo7",
    "colab_type": "text"
   },
   "source": [
    "Note that the two cells below repeat/concat two lists. However, it's a different story in Numpy."
   ]
  },
  {
   "cell_type": "code",
   "metadata": {
    "id": "00Y8UVpf4DYP",
    "colab_type": "code",
    "colab": {
     "base_uri": "https://localhost:8080/",
     "height": 34
    },
    "outputId": "5fb3a5e0-7ca7-4289-be1f-0c35c1956858"
   },
   "source": [
    "[1, 2, 3] * 2"
   ],
   "execution_count": 61,
   "outputs": [
    {
     "output_type": "execute_result",
     "data": {
      "text/plain": [
       "[1, 2, 3, 1, 2, 3]"
      ]
     },
     "metadata": {
      "tags": []
     },
     "execution_count": 61
    }
   ]
  },
  {
   "cell_type": "code",
   "metadata": {
    "id": "ViT3joNv4aeb",
    "colab_type": "code",
    "colab": {
     "base_uri": "https://localhost:8080/",
     "height": 34
    },
    "outputId": "db944b14-f272-4a82-fdb8-e0b1e40d2be5"
   },
   "source": [
    "[1, 2, 3] + [4, 5, 6]"
   ],
   "execution_count": 62,
   "outputs": [
    {
     "output_type": "execute_result",
     "data": {
      "text/plain": [
       "[1, 2, 3, 4, 5, 6]"
      ]
     },
     "metadata": {
      "tags": []
     },
     "execution_count": 62
    }
   ]
  },
  {
   "cell_type": "code",
   "metadata": {
    "id": "iQ511XML4jXY",
    "colab_type": "code",
    "colab": {}
   },
   "source": [
    "foo = [[233, 666], [888, 999]]"
   ],
   "execution_count": 63,
   "outputs": []
  },
  {
   "cell_type": "code",
   "metadata": {
    "id": "VABUlobs4nsz",
    "colab_type": "code",
    "colab": {
     "base_uri": "https://localhost:8080/",
     "height": 34
    },
    "outputId": "1cc3d271-3544-44bb-dc2e-8759700cfe92"
   },
   "source": [
    "foo[0][1]"
   ],
   "execution_count": 64,
   "outputs": [
    {
     "output_type": "execute_result",
     "data": {
      "text/plain": [
       "666"
      ]
     },
     "metadata": {
      "tags": []
     },
     "execution_count": 64
    }
   ]
  },
  {
   "cell_type": "markdown",
   "metadata": {
    "id": "-GMExB3a4yks",
    "colab_type": "text"
   },
   "source": [
    "*   List Comprehension: Save you some effort to write loops."
   ]
  },
  {
   "cell_type": "code",
   "metadata": {
    "id": "FPto6bFQ4xyJ",
    "colab_type": "code",
    "colab": {
     "base_uri": "https://localhost:8080/",
     "height": 34
    },
    "outputId": "ce9c4500-6dcf-4ffb-cb1b-175ba6fa6ada"
   },
   "source": [
    "[x * 2 for x in boo]"
   ],
   "execution_count": 65,
   "outputs": [
    {
     "output_type": "execute_result",
     "data": {
      "text/plain": [
       "[0, 4, 12, 16, 'tenten', 24, 28, 32, 36, 40]"
      ]
     },
     "metadata": {
      "tags": []
     },
     "execution_count": 65
    }
   ]
  },
  {
   "cell_type": "code",
   "metadata": {
    "id": "2Ch8DX_Z5QY-",
    "colab_type": "code",
    "colab": {
     "base_uri": "https://localhost:8080/",
     "height": 34
    },
    "outputId": "13f0b104-14ab-4db5-cb35-e2ccdd8b331c"
   },
   "source": [
    "[x ** 2 for x in boo if type(x) is int]"
   ],
   "execution_count": 66,
   "outputs": [
    {
     "output_type": "execute_result",
     "data": {
      "text/plain": [
       "[0, 4, 36, 64, 144, 196, 256, 324, 400]"
      ]
     },
     "metadata": {
      "tags": []
     },
     "execution_count": 66
    }
   ]
  },
  {
   "cell_type": "markdown",
   "metadata": {
    "id": "U_D830WrmmA3",
    "colab_type": "text"
   },
   "source": [
    "### Tuple"
   ]
  },
  {
   "cell_type": "markdown",
   "metadata": {
    "id": "6oAQJWCG6yTn",
    "colab_type": "text"
   },
   "source": [
    "*   You can't modify a tuple once it's created."
   ]
  },
  {
   "cell_type": "code",
   "metadata": {
    "id": "G4JFdCkr5i6D",
    "colab_type": "code",
    "colab": {}
   },
   "source": [
    "foobar = (\"boo\", \"foo\")"
   ],
   "execution_count": 67,
   "outputs": []
  },
  {
   "cell_type": "markdown",
   "metadata": {
    "id": "_7XKH01N67cf",
    "colab_type": "text"
   },
   "source": [
    "*   [Destructuring assignment](https://blog.tecladocode.com/destructuring-in-python/)"
   ]
  },
  {
   "cell_type": "code",
   "metadata": {
    "id": "6LY1tItx5itR",
    "colab_type": "code",
    "colab": {
     "base_uri": "https://localhost:8080/",
     "height": 35
    },
    "outputId": "d0b6059d-d4b3-4289-85ea-eb82893fe898"
   },
   "source": [
    "(bar, baz) = foobar\n",
    "bar"
   ],
   "execution_count": 68,
   "outputs": [
    {
     "output_type": "execute_result",
     "data": {
      "application/vnd.google.colaboratory.intrinsic+json": {
       "type": "string"
      },
      "text/plain": [
       "'boo'"
      ]
     },
     "metadata": {
      "tags": []
     },
     "execution_count": 68
    }
   ]
  },
  {
   "cell_type": "code",
   "metadata": {
    "id": "T0EI1JrW6E65",
    "colab_type": "code",
    "colab": {
     "base_uri": "https://localhost:8080/",
     "height": 35
    },
    "outputId": "7fa7fd98-c4b9-4d8c-f2fb-e8551369acd4"
   },
   "source": [
    "baz"
   ],
   "execution_count": 69,
   "outputs": [
    {
     "output_type": "execute_result",
     "data": {
      "application/vnd.google.colaboratory.intrinsic+json": {
       "type": "string"
      },
      "text/plain": [
       "'foo'"
      ]
     },
     "metadata": {
      "tags": []
     },
     "execution_count": 69
    }
   ]
  },
  {
   "cell_type": "markdown",
   "metadata": {
    "id": "70HLXbglmcNf",
    "colab_type": "text"
   },
   "source": [
    "### Set"
   ]
  },
  {
   "cell_type": "markdown",
   "metadata": {
    "id": "hKzsQ8t5z-Q-",
    "colab_type": "text"
   },
   "source": [
    "*   Built-in functions"
   ]
  },
  {
   "cell_type": "code",
   "metadata": {
    "id": "cAQ7XajH8Nbq",
    "colab_type": "code",
    "colab": {
     "base_uri": "https://localhost:8080/",
     "height": 34
    },
    "outputId": "641fc4a8-4c3b-4e42-e424-b163bef59971"
   },
   "source": [
    "{1, 2, 3, \"three\", 4, 4, \"five\", \"five\"}"
   ],
   "execution_count": 70,
   "outputs": [
    {
     "output_type": "execute_result",
     "data": {
      "text/plain": [
       "{1, 2, 3, 4, 'five', 'three'}"
      ]
     },
     "metadata": {
      "tags": []
     },
     "execution_count": 70
    }
   ]
  },
  {
   "cell_type": "code",
   "metadata": {
    "id": "5ItrU6JI8YfS",
    "colab_type": "code",
    "colab": {}
   },
   "source": [
    "boo = {\"a\", \"b\", \"b\", \"c\"}\n",
    "foo = {\"a\", \"b\", \"b\", \"c\"}"
   ],
   "execution_count": 71,
   "outputs": []
  },
  {
   "cell_type": "code",
   "metadata": {
    "id": "4opmKDTjzNYa",
    "colab_type": "code",
    "colab": {
     "base_uri": "https://localhost:8080/",
     "height": 34
    },
    "outputId": "0b8f68a7-1415-466a-c621-2fbd730d1fda"
   },
   "source": [
    "boo.add(\"d\")\n",
    "boo"
   ],
   "execution_count": 72,
   "outputs": [
    {
     "output_type": "execute_result",
     "data": {
      "text/plain": [
       "{'a', 'b', 'c', 'd'}"
      ]
     },
     "metadata": {
      "tags": []
     },
     "execution_count": 72
    }
   ]
  },
  {
   "cell_type": "code",
   "metadata": {
    "id": "hIG8MoIrzTpx",
    "colab_type": "code",
    "colab": {
     "base_uri": "https://localhost:8080/",
     "height": 34
    },
    "outputId": "3d62a997-b221-4aaa-dd68-b0a13ca22924"
   },
   "source": [
    "\"d\" in boo"
   ],
   "execution_count": 73,
   "outputs": [
    {
     "output_type": "execute_result",
     "data": {
      "text/plain": [
       "True"
      ]
     },
     "metadata": {
      "tags": []
     },
     "execution_count": 73
    }
   ]
  },
  {
   "cell_type": "code",
   "metadata": {
    "id": "1Bo9kdqkzZye",
    "colab_type": "code",
    "colab": {
     "base_uri": "https://localhost:8080/",
     "height": 34
    },
    "outputId": "63c10e2e-36e1-49e2-c32a-78d1e9e8c25c"
   },
   "source": [
    "boo.union(foo)"
   ],
   "execution_count": 74,
   "outputs": [
    {
     "output_type": "execute_result",
     "data": {
      "text/plain": [
       "{'a', 'b', 'c', 'd'}"
      ]
     },
     "metadata": {
      "tags": []
     },
     "execution_count": 74
    }
   ]
  },
  {
   "cell_type": "code",
   "metadata": {
    "id": "V2pDvlB3zpNn",
    "colab_type": "code",
    "colab": {
     "base_uri": "https://localhost:8080/",
     "height": 34
    },
    "outputId": "127d0a73-816f-4a0c-a12f-918fa29a85c4"
   },
   "source": [
    "boo.intersection(foo)"
   ],
   "execution_count": 75,
   "outputs": [
    {
     "output_type": "execute_result",
     "data": {
      "text/plain": [
       "{'a', 'b', 'c'}"
      ]
     },
     "metadata": {
      "tags": []
     },
     "execution_count": 75
    }
   ]
  },
  {
   "cell_type": "code",
   "metadata": {
    "id": "pQuCyLIjzrOq",
    "colab_type": "code",
    "colab": {
     "base_uri": "https://localhost:8080/",
     "height": 34
    },
    "outputId": "dfb2d1dc-7599-4fb1-da6f-e6f88a99b95c"
   },
   "source": [
    "len(boo)"
   ],
   "execution_count": 76,
   "outputs": [
    {
     "output_type": "execute_result",
     "data": {
      "text/plain": [
       "4"
      ]
     },
     "metadata": {
      "tags": []
     },
     "execution_count": 76
    }
   ]
  },
  {
   "cell_type": "markdown",
   "metadata": {
    "id": "SPmXSJUl0CqD",
    "colab_type": "text"
   },
   "source": [
    "*   Set comprehension"
   ]
  },
  {
   "cell_type": "code",
   "metadata": {
    "id": "OYce-fmn0I1n",
    "colab_type": "code",
    "colab": {
     "base_uri": "https://localhost:8080/",
     "height": 34
    },
    "outputId": "3334c7b2-d9ea-4553-f5d4-ce630aed2394"
   },
   "source": [
    "{x * 2 for x in boo}"
   ],
   "execution_count": 77,
   "outputs": [
    {
     "output_type": "execute_result",
     "data": {
      "text/plain": [
       "{'aa', 'bb', 'cc', 'dd'}"
      ]
     },
     "metadata": {
      "tags": []
     },
     "execution_count": 77
    }
   ]
  },
  {
   "cell_type": "markdown",
   "metadata": {
    "id": "Cubt83AGmdg7",
    "colab_type": "text"
   },
   "source": [
    "### Dictionary"
   ]
  },
  {
   "cell_type": "code",
   "metadata": {
    "id": "j-16FKjrhn1A",
    "colab_type": "code",
    "colab": {
     "base_uri": "https://localhost:8080/",
     "height": 34
    },
    "outputId": "6f95f5c4-f81c-474e-9f2c-47f50336c765"
   },
   "source": [
    "grade_book = {\"Alice\": 90, \"Bob\": 93, \"Charlie\": 99, \"Eve\": 80}\n",
    "grade_book"
   ],
   "execution_count": 78,
   "outputs": [
    {
     "output_type": "execute_result",
     "data": {
      "text/plain": [
       "{'Alice': 90, 'Bob': 93, 'Charlie': 99, 'Eve': 80}"
      ]
     },
     "metadata": {
      "tags": []
     },
     "execution_count": 78
    }
   ]
  },
  {
   "cell_type": "markdown",
   "metadata": {
    "id": "WN_QjRLQ1WjQ",
    "colab_type": "text"
   },
   "source": [
    "*  Loops"
   ]
  },
  {
   "cell_type": "code",
   "metadata": {
    "id": "YoTgBF8411rL",
    "colab_type": "code",
    "colab": {
     "base_uri": "https://localhost:8080/",
     "height": 85
    },
    "outputId": "574d4cc6-86ec-4ce4-bf41-90902b461a2f"
   },
   "source": [
    "for name, grade in grade_book.items():\n",
    "  print(\"Name: {:<7} | Grade: {:>4}\".format(name, grade))"
   ],
   "execution_count": 79,
   "outputs": [
    {
     "output_type": "stream",
     "text": [
      "Name: Alice   | Grade:   90\n",
      "Name: Bob     | Grade:   93\n",
      "Name: Charlie | Grade:   99\n",
      "Name: Eve     | Grade:   80\n"
     ],
     "name": "stdout"
    }
   ]
  },
  {
   "cell_type": "markdown",
   "metadata": {
    "id": "2wwwBh3y29-4",
    "colab_type": "text"
   },
   "source": [
    "*   Dictionary Comprehension"
   ]
  },
  {
   "cell_type": "code",
   "metadata": {
    "id": "MRNfQU_m2Bvl",
    "colab_type": "code",
    "colab": {
     "base_uri": "https://localhost:8080/",
     "height": 34
    },
    "outputId": "14069949-7b30-43fb-a523-35f0f6b4cc42"
   },
   "source": [
    "{name: \"A\" if grade > 90 else \"B\" for name, grade in grade_book.items()}"
   ],
   "execution_count": 80,
   "outputs": [
    {
     "output_type": "execute_result",
     "data": {
      "text/plain": [
       "{'Alice': 'B', 'Bob': 'A', 'Charlie': 'A', 'Eve': 'B'}"
      ]
     },
     "metadata": {
      "tags": []
     },
     "execution_count": 80
    }
   ]
  },
  {
   "cell_type": "code",
   "metadata": {
    "id": "KlwBBbqq3g_5",
    "colab_type": "code",
    "colab": {
     "base_uri": "https://localhost:8080/",
     "height": 34
    },
    "outputId": "dae48f12-8b95-4589-d647-487a9c70deea"
   },
   "source": [
    "{x: x ** 2 for x in range(10) if x % 2 == 0}"
   ],
   "execution_count": 81,
   "outputs": [
    {
     "output_type": "execute_result",
     "data": {
      "text/plain": [
       "{0: 0, 2: 4, 4: 16, 6: 36, 8: 64}"
      ]
     },
     "metadata": {
      "tags": []
     },
     "execution_count": 81
    }
   ]
  },
  {
   "cell_type": "markdown",
   "metadata": {
    "id": "lOgqrGZp4S1r",
    "colab_type": "text"
   },
   "source": [
    "## Functions: First-Class Citizens in Python"
   ]
  },
  {
   "cell_type": "markdown",
   "metadata": {
    "id": "4EiWA27Y5aA0",
    "colab_type": "text"
   },
   "source": [
    "*   Declare a function"
   ]
  },
  {
   "cell_type": "code",
   "metadata": {
    "id": "dWugCSrn37Ek",
    "colab_type": "code",
    "colab": {}
   },
   "source": [
    "def square(x):\n",
    "  return x ** 2"
   ],
   "execution_count": 82,
   "outputs": []
  },
  {
   "cell_type": "code",
   "metadata": {
    "id": "4EuRBb1O537W",
    "colab_type": "code",
    "colab": {}
   },
   "source": [
    "square_lambda = lambda x: x**2"
   ],
   "execution_count": 83,
   "outputs": []
  },
  {
   "cell_type": "markdown",
   "metadata": {
    "id": "uSOv-smI6FS9",
    "colab_type": "text"
   },
   "source": [
    "* First-class citizen: It can be everywhere"
   ]
  },
  {
   "cell_type": "code",
   "metadata": {
    "id": "g6YsGlVW59XK",
    "colab_type": "code",
    "colab": {
     "base_uri": "https://localhost:8080/",
     "height": 34
    },
    "outputId": "ffd02e5d-6f67-4b36-ee48-a6302e55e58f"
   },
   "source": [
    "def apply(f, x):\n",
    "  return f(x)\n",
    "\n",
    "apply(square, 2)"
   ],
   "execution_count": 84,
   "outputs": [
    {
     "output_type": "execute_result",
     "data": {
      "text/plain": [
       "4"
      ]
     },
     "metadata": {
      "tags": []
     },
     "execution_count": 84
    }
   ]
  },
  {
   "cell_type": "code",
   "metadata": {
    "id": "yMdg4Ads5-64",
    "colab_type": "code",
    "colab": {
     "base_uri": "https://localhost:8080/",
     "height": 34
    },
    "outputId": "6bc84da9-a8a3-41ef-ee0c-c26676b263a5"
   },
   "source": [
    "{x: square(x) for x in range(10) if x % 2 == 0}"
   ],
   "execution_count": 85,
   "outputs": [
    {
     "output_type": "execute_result",
     "data": {
      "text/plain": [
       "{0: 0, 2: 4, 4: 16, 6: 36, 8: 64}"
      ]
     },
     "metadata": {
      "tags": []
     },
     "execution_count": 85
    }
   ]
  },
  {
   "cell_type": "markdown",
   "metadata": {
    "id": "Wjao46Uv6hJg",
    "colab_type": "text"
   },
   "source": [
    "*   Function Parameters"
   ]
  },
  {
   "cell_type": "code",
   "metadata": {
    "id": "muVhJc-W6dsG",
    "colab_type": "code",
    "colab": {}
   },
   "source": [
    "def greeting(name, loudness=0):\n",
    "  return \"HELLO, {}!!!\".format(name.capitalize() * loudness) if loudness else \"Hello, {}!\".format(name)"
   ],
   "execution_count": 86,
   "outputs": []
  },
  {
   "cell_type": "code",
   "metadata": {
    "id": "SPH-EHTs7Jh_",
    "colab_type": "code",
    "colab": {
     "base_uri": "https://localhost:8080/",
     "height": 35
    },
    "outputId": "6599b5f8-d21b-4121-f9f9-ad44ba056036"
   },
   "source": [
    "greeting(\"Chenhui\", 0)"
   ],
   "execution_count": 87,
   "outputs": [
    {
     "output_type": "execute_result",
     "data": {
      "application/vnd.google.colaboratory.intrinsic+json": {
       "type": "string"
      },
      "text/plain": [
       "'Hello, Chenhui!'"
      ]
     },
     "metadata": {
      "tags": []
     },
     "execution_count": 87
    }
   ]
  },
  {
   "cell_type": "code",
   "metadata": {
    "id": "_CqVCcPu8OE2",
    "colab_type": "code",
    "colab": {
     "base_uri": "https://localhost:8080/",
     "height": 35
    },
    "outputId": "770575e4-7e7b-418b-92cf-4c7dadd2e234"
   },
   "source": [
    "greeting(\"Chenhui\")"
   ],
   "execution_count": 88,
   "outputs": [
    {
     "output_type": "execute_result",
     "data": {
      "application/vnd.google.colaboratory.intrinsic+json": {
       "type": "string"
      },
      "text/plain": [
       "'Hello, Chenhui!'"
      ]
     },
     "metadata": {
      "tags": []
     },
     "execution_count": 88
    }
   ]
  },
  {
   "cell_type": "code",
   "metadata": {
    "id": "Gtfjihdy7Luq",
    "colab_type": "code",
    "colab": {
     "base_uri": "https://localhost:8080/",
     "height": 35
    },
    "outputId": "0186f27f-73af-4272-d453-6dd2cf2d0a1b"
   },
   "source": [
    "greeting(\"Chenhui\", 10) # lol"
   ],
   "execution_count": 89,
   "outputs": [
    {
     "output_type": "execute_result",
     "data": {
      "application/vnd.google.colaboratory.intrinsic+json": {
       "type": "string"
      },
      "text/plain": [
       "'HELLO, ChenhuiChenhuiChenhuiChenhuiChenhuiChenhuiChenhuiChenhuiChenhuiChenhui!!!'"
      ]
     },
     "metadata": {
      "tags": []
     },
     "execution_count": 89
    }
   ]
  },
  {
   "cell_type": "markdown",
   "metadata": {
    "id": "tgjWvaX_7dPr",
    "colab_type": "text"
   },
   "source": [
    "# NumPy Basics\n",
    "\n",
    "## Terminology\n",
    "> Credit to NumPy's [official document](https://numpy.org/doc/stable/glossary.html).\n",
    "\n",
    "*   Rank: Number of dimensions.\n",
    "*   Shape: A tuple to describe the size of each dimension.\n",
    "*   View: An array that refers to another array’s data instead of a copy.\n",
    "*   Slice: The selection of certain elements from a sequence.\n",
    "*   Flatten: Collapsing a multi-dimensional arrary to a one-dimensional array.\n",
    "*   Mask😷: A boolean array, used to select only certain elements for an operation.\n",
    "*   Universal function: A fast element-wise, vectorized array operation. Examples include `add`, `sin` and `logical_or`.\n",
    "*   Array-like: A sequence that can be interpreted as an ndarray, including nested lists, tuples, scalars and existing arrays.\n",
    "*   Broadcast: The way how numpy treats arrays with different shapes, subject to certain constraints, during arithmetic operations.\n",
    "*   Axis: Axes are defined for arrays with more than one dimension. A 2-dimensional array has two corresponding axes: the first running vertically downwards across rows (axis 0), and the second running horizontally across columns (axis 1). Many operations can take place along one of these axes\n",
    "*   Vectorization: Optimizing a looping block by specialized code. NumPy uses vectorization to mean any optimization via specialized code performing the same operations on multiple elements, typically achieving speedups by avoiding some of the overhead in looking up and converting the elements. See the `Vectorization` section below for an very simple example.\n",
    "\n"
   ]
  },
  {
   "cell_type": "markdown",
   "metadata": {
    "id": "1SKQNGFrE2lr",
    "colab_type": "text"
   },
   "source": [
    "## Ndarray\n"
   ]
  },
  {
   "cell_type": "markdown",
   "metadata": {
    "id": "edfVywMWe0nq",
    "colab_type": "text"
   },
   "source": [
    "### Array Creation"
   ]
  },
  {
   "cell_type": "markdown",
   "metadata": {
    "id": "5pggICqFfXD2",
    "colab_type": "text"
   },
   "source": [
    "A secret that I won't tell anyone: If you create a super big PyTorch tensor (on GPU) and do multiplication, Colab may temporarily upgrade your notebook environment (sometimes even with an V100 GPU). However, your session might get killed if you are unfortunate."
   ]
  },
  {
   "cell_type": "markdown",
   "metadata": {
    "id": "LOGntoI8nweQ",
    "colab_type": "text"
   },
   "source": [
    "*   From Python array"
   ]
  },
  {
   "cell_type": "code",
   "metadata": {
    "id": "20nwiGMU7Nh3",
    "colab_type": "code",
    "colab": {
     "base_uri": "https://localhost:8080/",
     "height": 34
    },
    "outputId": "834a4398-619f-439b-fd93-371478c9fd0d"
   },
   "source": [
    "np.array([233, 666, 999])"
   ],
   "execution_count": 90,
   "outputs": [
    {
     "output_type": "execute_result",
     "data": {
      "text/plain": [
       "array([233, 666, 999])"
      ]
     },
     "metadata": {
      "tags": []
     },
     "execution_count": 90
    }
   ]
  },
  {
   "cell_type": "code",
   "metadata": {
    "id": "AFkm9DF0e_Yv",
    "colab_type": "code",
    "colab": {
     "base_uri": "https://localhost:8080/",
     "height": 51
    },
    "outputId": "632af7bd-e966-4fc8-9b2b-5de6714a6da7"
   },
   "source": [
    "np.array([[233, 666, 999], [233, 666, 999]])"
   ],
   "execution_count": 91,
   "outputs": [
    {
     "output_type": "execute_result",
     "data": {
      "text/plain": [
       "array([[233, 666, 999],\n",
       "       [233, 666, 999]])"
      ]
     },
     "metadata": {
      "tags": []
     },
     "execution_count": 91
    }
   ]
  },
  {
   "cell_type": "markdown",
   "metadata": {
    "id": "y6XUH5wRn2MW",
    "colab_type": "text"
   },
   "source": [
    "*   Create constant arrays"
   ]
  },
  {
   "cell_type": "code",
   "metadata": {
    "id": "fFNJNaO7fItD",
    "colab_type": "code",
    "colab": {
     "base_uri": "https://localhost:8080/",
     "height": 850
    },
    "outputId": "990bd31c-5ec5-435d-fc21-b32c598b0b61"
   },
   "source": [
    "np.zeros([100, 100, 100])"
   ],
   "execution_count": 92,
   "outputs": [
    {
     "output_type": "execute_result",
     "data": {
      "text/plain": [
       "array([[[0., 0., 0., ..., 0., 0., 0.],\n",
       "        [0., 0., 0., ..., 0., 0., 0.],\n",
       "        [0., 0., 0., ..., 0., 0., 0.],\n",
       "        ...,\n",
       "        [0., 0., 0., ..., 0., 0., 0.],\n",
       "        [0., 0., 0., ..., 0., 0., 0.],\n",
       "        [0., 0., 0., ..., 0., 0., 0.]],\n",
       "\n",
       "       [[0., 0., 0., ..., 0., 0., 0.],\n",
       "        [0., 0., 0., ..., 0., 0., 0.],\n",
       "        [0., 0., 0., ..., 0., 0., 0.],\n",
       "        ...,\n",
       "        [0., 0., 0., ..., 0., 0., 0.],\n",
       "        [0., 0., 0., ..., 0., 0., 0.],\n",
       "        [0., 0., 0., ..., 0., 0., 0.]],\n",
       "\n",
       "       [[0., 0., 0., ..., 0., 0., 0.],\n",
       "        [0., 0., 0., ..., 0., 0., 0.],\n",
       "        [0., 0., 0., ..., 0., 0., 0.],\n",
       "        ...,\n",
       "        [0., 0., 0., ..., 0., 0., 0.],\n",
       "        [0., 0., 0., ..., 0., 0., 0.],\n",
       "        [0., 0., 0., ..., 0., 0., 0.]],\n",
       "\n",
       "       ...,\n",
       "\n",
       "       [[0., 0., 0., ..., 0., 0., 0.],\n",
       "        [0., 0., 0., ..., 0., 0., 0.],\n",
       "        [0., 0., 0., ..., 0., 0., 0.],\n",
       "        ...,\n",
       "        [0., 0., 0., ..., 0., 0., 0.],\n",
       "        [0., 0., 0., ..., 0., 0., 0.],\n",
       "        [0., 0., 0., ..., 0., 0., 0.]],\n",
       "\n",
       "       [[0., 0., 0., ..., 0., 0., 0.],\n",
       "        [0., 0., 0., ..., 0., 0., 0.],\n",
       "        [0., 0., 0., ..., 0., 0., 0.],\n",
       "        ...,\n",
       "        [0., 0., 0., ..., 0., 0., 0.],\n",
       "        [0., 0., 0., ..., 0., 0., 0.],\n",
       "        [0., 0., 0., ..., 0., 0., 0.]],\n",
       "\n",
       "       [[0., 0., 0., ..., 0., 0., 0.],\n",
       "        [0., 0., 0., ..., 0., 0., 0.],\n",
       "        [0., 0., 0., ..., 0., 0., 0.],\n",
       "        ...,\n",
       "        [0., 0., 0., ..., 0., 0., 0.],\n",
       "        [0., 0., 0., ..., 0., 0., 0.],\n",
       "        [0., 0., 0., ..., 0., 0., 0.]]])"
      ]
     },
     "metadata": {
      "tags": []
     },
     "execution_count": 92
    }
   ]
  },
  {
   "cell_type": "code",
   "metadata": {
    "id": "hEnGjiPFgWOF",
    "colab_type": "code",
    "colab": {
     "base_uri": "https://localhost:8080/",
     "height": 51
    },
    "outputId": "0cc2f19f-eb93-4b2b-af7f-1e35c7d1ae58"
   },
   "source": [
    "np.ones((2, 3))"
   ],
   "execution_count": 93,
   "outputs": [
    {
     "output_type": "execute_result",
     "data": {
      "text/plain": [
       "array([[1., 1., 1.],\n",
       "       [1., 1., 1.]])"
      ]
     },
     "metadata": {
      "tags": []
     },
     "execution_count": 93
    }
   ]
  },
  {
   "cell_type": "code",
   "metadata": {
    "id": "QJ1SrORdggFp",
    "colab_type": "code",
    "colab": {
     "base_uri": "https://localhost:8080/",
     "height": 136
    },
    "outputId": "198bc1c6-bb72-480f-e093-ea20a97fa76b"
   },
   "source": [
    "np.full((2, 3, 3), 5)"
   ],
   "execution_count": 94,
   "outputs": [
    {
     "output_type": "execute_result",
     "data": {
      "text/plain": [
       "array([[[5, 5, 5],\n",
       "        [5, 5, 5],\n",
       "        [5, 5, 5]],\n",
       "\n",
       "       [[5, 5, 5],\n",
       "        [5, 5, 5],\n",
       "        [5, 5, 5]]])"
      ]
     },
     "metadata": {
      "tags": []
     },
     "execution_count": 94
    }
   ]
  },
  {
   "cell_type": "markdown",
   "metadata": {
    "id": "rFqI6898hYgi",
    "colab_type": "text"
   },
   "source": [
    "Of course you can also specify [NumPy datatypes](https://numpy.org/doc/stable/user/basics.types.html)."
   ]
  },
  {
   "cell_type": "code",
   "metadata": {
    "id": "EQXMXEQThjPu",
    "colab_type": "code",
    "colab": {
     "base_uri": "https://localhost:8080/",
     "height": 34
    },
    "outputId": "32271111-80ba-49ad-e915-65ac8ed559f7"
   },
   "source": [
    "np.array([2, 3, 3], dtype=np.float32)"
   ],
   "execution_count": 95,
   "outputs": [
    {
     "output_type": "execute_result",
     "data": {
      "text/plain": [
       "array([2., 3., 3.], dtype=float32)"
      ]
     },
     "metadata": {
      "tags": []
     },
     "execution_count": 95
    }
   ]
  },
  {
   "cell_type": "markdown",
   "metadata": {
    "id": "gzpONeqIgbYs",
    "colab_type": "text"
   },
   "source": [
    "Remeber the array-like sequence we mentioned above?"
   ]
  },
  {
   "cell_type": "code",
   "metadata": {
    "id": "k4a2_coVg6gB",
    "colab_type": "code",
    "colab": {
     "base_uri": "https://localhost:8080/",
     "height": 255
    },
    "outputId": "d36dc49d-23aa-42b1-9414-ff5616348b1c"
   },
   "source": [
    "foo = [2, 3, 3] * 100\n",
    "np.zeros_like(foo)"
   ],
   "execution_count": 96,
   "outputs": [
    {
     "output_type": "execute_result",
     "data": {
      "text/plain": [
       "array([0, 0, 0, 0, 0, 0, 0, 0, 0, 0, 0, 0, 0, 0, 0, 0, 0, 0, 0, 0, 0, 0,\n",
       "       0, 0, 0, 0, 0, 0, 0, 0, 0, 0, 0, 0, 0, 0, 0, 0, 0, 0, 0, 0, 0, 0,\n",
       "       0, 0, 0, 0, 0, 0, 0, 0, 0, 0, 0, 0, 0, 0, 0, 0, 0, 0, 0, 0, 0, 0,\n",
       "       0, 0, 0, 0, 0, 0, 0, 0, 0, 0, 0, 0, 0, 0, 0, 0, 0, 0, 0, 0, 0, 0,\n",
       "       0, 0, 0, 0, 0, 0, 0, 0, 0, 0, 0, 0, 0, 0, 0, 0, 0, 0, 0, 0, 0, 0,\n",
       "       0, 0, 0, 0, 0, 0, 0, 0, 0, 0, 0, 0, 0, 0, 0, 0, 0, 0, 0, 0, 0, 0,\n",
       "       0, 0, 0, 0, 0, 0, 0, 0, 0, 0, 0, 0, 0, 0, 0, 0, 0, 0, 0, 0, 0, 0,\n",
       "       0, 0, 0, 0, 0, 0, 0, 0, 0, 0, 0, 0, 0, 0, 0, 0, 0, 0, 0, 0, 0, 0,\n",
       "       0, 0, 0, 0, 0, 0, 0, 0, 0, 0, 0, 0, 0, 0, 0, 0, 0, 0, 0, 0, 0, 0,\n",
       "       0, 0, 0, 0, 0, 0, 0, 0, 0, 0, 0, 0, 0, 0, 0, 0, 0, 0, 0, 0, 0, 0,\n",
       "       0, 0, 0, 0, 0, 0, 0, 0, 0, 0, 0, 0, 0, 0, 0, 0, 0, 0, 0, 0, 0, 0,\n",
       "       0, 0, 0, 0, 0, 0, 0, 0, 0, 0, 0, 0, 0, 0, 0, 0, 0, 0, 0, 0, 0, 0,\n",
       "       0, 0, 0, 0, 0, 0, 0, 0, 0, 0, 0, 0, 0, 0, 0, 0, 0, 0, 0, 0, 0, 0,\n",
       "       0, 0, 0, 0, 0, 0, 0, 0, 0, 0, 0, 0, 0, 0])"
      ]
     },
     "metadata": {
      "tags": []
     },
     "execution_count": 96
    }
   ]
  },
  {
   "cell_type": "code",
   "metadata": {
    "id": "SeBvoNMXhMTs",
    "colab_type": "code",
    "colab": {
     "base_uri": "https://localhost:8080/",
     "height": 187
    },
    "outputId": "bfa65a2d-2d91-4383-c588-3e8134b2a577"
   },
   "source": [
    "boo = np.random.randint(-100, high=100, size=(10, 10))\n",
    "np.ones_like(boo)"
   ],
   "execution_count": 97,
   "outputs": [
    {
     "output_type": "execute_result",
     "data": {
      "text/plain": [
       "array([[1, 1, 1, 1, 1, 1, 1, 1, 1, 1],\n",
       "       [1, 1, 1, 1, 1, 1, 1, 1, 1, 1],\n",
       "       [1, 1, 1, 1, 1, 1, 1, 1, 1, 1],\n",
       "       [1, 1, 1, 1, 1, 1, 1, 1, 1, 1],\n",
       "       [1, 1, 1, 1, 1, 1, 1, 1, 1, 1],\n",
       "       [1, 1, 1, 1, 1, 1, 1, 1, 1, 1],\n",
       "       [1, 1, 1, 1, 1, 1, 1, 1, 1, 1],\n",
       "       [1, 1, 1, 1, 1, 1, 1, 1, 1, 1],\n",
       "       [1, 1, 1, 1, 1, 1, 1, 1, 1, 1],\n",
       "       [1, 1, 1, 1, 1, 1, 1, 1, 1, 1]])"
      ]
     },
     "metadata": {
      "tags": []
     },
     "execution_count": 97
    }
   ]
  },
  {
   "cell_type": "code",
   "metadata": {
    "id": "DxqR9CSIiGFk",
    "colab_type": "code",
    "colab": {
     "base_uri": "https://localhost:8080/",
     "height": 187
    },
    "outputId": "63035e9a-e751-4f64-8d47-918d738ac803"
   },
   "source": [
    "np.eye(10) # identity matrix"
   ],
   "execution_count": 98,
   "outputs": [
    {
     "output_type": "execute_result",
     "data": {
      "text/plain": [
       "array([[1., 0., 0., 0., 0., 0., 0., 0., 0., 0.],\n",
       "       [0., 1., 0., 0., 0., 0., 0., 0., 0., 0.],\n",
       "       [0., 0., 1., 0., 0., 0., 0., 0., 0., 0.],\n",
       "       [0., 0., 0., 1., 0., 0., 0., 0., 0., 0.],\n",
       "       [0., 0., 0., 0., 1., 0., 0., 0., 0., 0.],\n",
       "       [0., 0., 0., 0., 0., 1., 0., 0., 0., 0.],\n",
       "       [0., 0., 0., 0., 0., 0., 1., 0., 0., 0.],\n",
       "       [0., 0., 0., 0., 0., 0., 0., 1., 0., 0.],\n",
       "       [0., 0., 0., 0., 0., 0., 0., 0., 1., 0.],\n",
       "       [0., 0., 0., 0., 0., 0., 0., 0., 0., 1.]])"
      ]
     },
     "metadata": {
      "tags": []
     },
     "execution_count": 98
    }
   ]
  },
  {
   "cell_type": "markdown",
   "metadata": {
    "id": "Ppd3b2H9mvu0",
    "colab_type": "text"
   },
   "source": [
    "*  Would like to create a geometric/arithmetic sequence? Here you go."
   ]
  },
  {
   "cell_type": "code",
   "metadata": {
    "id": "5q_snNKFiJyf",
    "colab_type": "code",
    "colab": {
     "base_uri": "https://localhost:8080/",
     "height": 85
    },
    "outputId": "3859c096-e3c0-4e77-9692-f3cc53705573"
   },
   "source": [
    "np.arange(start=0, stop=101, step=2)"
   ],
   "execution_count": 99,
   "outputs": [
    {
     "output_type": "execute_result",
     "data": {
      "text/plain": [
       "array([  0,   2,   4,   6,   8,  10,  12,  14,  16,  18,  20,  22,  24,\n",
       "        26,  28,  30,  32,  34,  36,  38,  40,  42,  44,  46,  48,  50,\n",
       "        52,  54,  56,  58,  60,  62,  64,  66,  68,  70,  72,  74,  76,\n",
       "        78,  80,  82,  84,  86,  88,  90,  92,  94,  96,  98, 100])"
      ]
     },
     "metadata": {
      "tags": []
     },
     "execution_count": 99
    }
   ]
  },
  {
   "cell_type": "code",
   "metadata": {
    "id": "Hmm94sitiUgT",
    "colab_type": "code",
    "colab": {
     "base_uri": "https://localhost:8080/",
     "height": 102
    },
    "outputId": "7222ee96-b6fd-4f6b-b6ad-51697d94c002"
   },
   "source": [
    "np.linspace(start=0., stop=100., num=51, retstep=True)"
   ],
   "execution_count": 100,
   "outputs": [
    {
     "output_type": "execute_result",
     "data": {
      "text/plain": [
       "(array([  0.,   2.,   4.,   6.,   8.,  10.,  12.,  14.,  16.,  18.,  20.,\n",
       "         22.,  24.,  26.,  28.,  30.,  32.,  34.,  36.,  38.,  40.,  42.,\n",
       "         44.,  46.,  48.,  50.,  52.,  54.,  56.,  58.,  60.,  62.,  64.,\n",
       "         66.,  68.,  70.,  72.,  74.,  76.,  78.,  80.,  82.,  84.,  86.,\n",
       "         88.,  90.,  92.,  94.,  96.,  98., 100.]), 2.0)"
      ]
     },
     "metadata": {
      "tags": []
     },
     "execution_count": 100
    }
   ]
  },
  {
   "cell_type": "code",
   "metadata": {
    "id": "7HySz5-bm5pG",
    "colab_type": "code",
    "colab": {
     "base_uri": "https://localhost:8080/",
     "height": 34
    },
    "outputId": "d384736f-c4df-40ba-cfc6-a98641c94773"
   },
   "source": [
    "np.logspace(start=1, stop=5, num=5, base=2)"
   ],
   "execution_count": 101,
   "outputs": [
    {
     "output_type": "execute_result",
     "data": {
      "text/plain": [
       "array([ 2.,  4.,  8., 16., 32.])"
      ]
     },
     "metadata": {
      "tags": []
     },
     "execution_count": 101
    }
   ]
  },
  {
   "cell_type": "markdown",
   "metadata": {
    "id": "p9hPR4VQK8hv",
    "colab_type": "text"
   },
   "source": [
    "### Array Properties"
   ]
  },
  {
   "cell_type": "code",
   "metadata": {
    "id": "oKr1-2R9K-XA",
    "colab_type": "code",
    "colab": {
     "base_uri": "https://localhost:8080/",
     "height": 34
    },
    "outputId": "cf1241db-c9e9-4f01-d838-6fc1e184a3ae"
   },
   "source": [
    "boo.size"
   ],
   "execution_count": 102,
   "outputs": [
    {
     "output_type": "execute_result",
     "data": {
      "text/plain": [
       "100"
      ]
     },
     "metadata": {
      "tags": []
     },
     "execution_count": 102
    }
   ]
  },
  {
   "cell_type": "code",
   "metadata": {
    "id": "XzBZ-9WSLA1Z",
    "colab_type": "code",
    "colab": {
     "base_uri": "https://localhost:8080/",
     "height": 34
    },
    "outputId": "f19a996b-0ce1-4903-9986-9e387864b29d"
   },
   "source": [
    "boo.shape"
   ],
   "execution_count": 103,
   "outputs": [
    {
     "output_type": "execute_result",
     "data": {
      "text/plain": [
       "(10, 10)"
      ]
     },
     "metadata": {
      "tags": []
     },
     "execution_count": 103
    }
   ]
  },
  {
   "cell_type": "code",
   "metadata": {
    "id": "COZM2b_ULB8m",
    "colab_type": "code",
    "colab": {
     "base_uri": "https://localhost:8080/",
     "height": 34
    },
    "outputId": "e48757be-bf82-46e9-ff74-2d3963f5b03f"
   },
   "source": [
    "boo.dtype"
   ],
   "execution_count": 104,
   "outputs": [
    {
     "output_type": "execute_result",
     "data": {
      "text/plain": [
       "dtype('int64')"
      ]
     },
     "metadata": {
      "tags": []
     },
     "execution_count": 104
    }
   ]
  },
  {
   "cell_type": "markdown",
   "metadata": {
    "id": "Vu7ZJ8WVhEqy",
    "colab_type": "text"
   },
   "source": [
    "### Array Reshape\n",
    "![](https://forum.onefourthlabs.com/uploads/default/original/2X/d/dc52bf0fac7ecdf30c66cfd4625ccf58e74fba02.jpeg)"
   ]
  },
  {
   "cell_type": "code",
   "metadata": {
    "id": "anlkhOSWo3Xv",
    "colab_type": "code",
    "colab": {}
   },
   "source": [
    "boo = np.linspace(start=1., stop=99., num=50)"
   ],
   "execution_count": 105,
   "outputs": []
  },
  {
   "cell_type": "code",
   "metadata": {
    "id": "OsDJQhzxo5ds",
    "colab_type": "code",
    "colab": {
     "base_uri": "https://localhost:8080/",
     "height": 187
    },
    "outputId": "fa438172-cc1b-487c-fb2a-0c5fa7914b28"
   },
   "source": [
    "bar = boo.reshape((10, 5))\n",
    "bar"
   ],
   "execution_count": 106,
   "outputs": [
    {
     "output_type": "execute_result",
     "data": {
      "text/plain": [
       "array([[ 1.,  3.,  5.,  7.,  9.],\n",
       "       [11., 13., 15., 17., 19.],\n",
       "       [21., 23., 25., 27., 29.],\n",
       "       [31., 33., 35., 37., 39.],\n",
       "       [41., 43., 45., 47., 49.],\n",
       "       [51., 53., 55., 57., 59.],\n",
       "       [61., 63., 65., 67., 69.],\n",
       "       [71., 73., 75., 77., 79.],\n",
       "       [81., 83., 85., 87., 89.],\n",
       "       [91., 93., 95., 97., 99.]])"
      ]
     },
     "metadata": {
      "tags": []
     },
     "execution_count": 106
    }
   ]
  },
  {
   "cell_type": "code",
   "metadata": {
    "id": "DDTQGapQpmHp",
    "colab_type": "code",
    "colab": {
     "base_uri": "https://localhost:8080/",
     "height": 102
    },
    "outputId": "989ceb43-8bed-4dbf-ebf1-2c1cd91d6cf8"
   },
   "source": [
    "bar.T\n",
    "bar.transpose()"
   ],
   "execution_count": 107,
   "outputs": [
    {
     "output_type": "execute_result",
     "data": {
      "text/plain": [
       "array([[ 1., 11., 21., 31., 41., 51., 61., 71., 81., 91.],\n",
       "       [ 3., 13., 23., 33., 43., 53., 63., 73., 83., 93.],\n",
       "       [ 5., 15., 25., 35., 45., 55., 65., 75., 85., 95.],\n",
       "       [ 7., 17., 27., 37., 47., 57., 67., 77., 87., 97.],\n",
       "       [ 9., 19., 29., 39., 49., 59., 69., 79., 89., 99.]])"
      ]
     },
     "metadata": {
      "tags": []
     },
     "execution_count": 107
    }
   ]
  },
  {
   "cell_type": "code",
   "metadata": {
    "id": "jH70PlrUpTE2",
    "colab_type": "code",
    "colab": {
     "base_uri": "https://localhost:8080/",
     "height": 34
    },
    "outputId": "f7232aed-5b48-4c0b-f72e-2dee5af9a508"
   },
   "source": [
    "foo = np.array([[1, 2, 3]])\n",
    "foo"
   ],
   "execution_count": 108,
   "outputs": [
    {
     "output_type": "execute_result",
     "data": {
      "text/plain": [
       "array([[1, 2, 3]])"
      ]
     },
     "metadata": {
      "tags": []
     },
     "execution_count": 108
    }
   ]
  },
  {
   "cell_type": "markdown",
   "metadata": {
    "id": "9kJmquKxzWpo",
    "colab_type": "text"
   },
   "source": [
    "We can also specify the size of one dimension as `-1` (unknown) during reshaping. This will let NumPy figure out the size of that dimenion."
   ]
  },
  {
   "cell_type": "code",
   "metadata": {
    "id": "8gCZaH2ipXu0",
    "colab_type": "code",
    "colab": {
     "base_uri": "https://localhost:8080/",
     "height": 34
    },
    "outputId": "537887ba-4f90-4117-be17-81f12307608b"
   },
   "source": [
    "foo.reshape(-1)"
   ],
   "execution_count": 109,
   "outputs": [
    {
     "output_type": "execute_result",
     "data": {
      "text/plain": [
       "array([1, 2, 3])"
      ]
     },
     "metadata": {
      "tags": []
     },
     "execution_count": 109
    }
   ]
  },
  {
   "cell_type": "code",
   "metadata": {
    "id": "zRcFbBJhpyCq",
    "colab_type": "code",
    "colab": {
     "base_uri": "https://localhost:8080/",
     "height": 34
    },
    "outputId": "78f801a2-5d5c-4678-971c-85c8c84d2d2e"
   },
   "source": [
    "np.ones((1, 2, 3)).flatten()"
   ],
   "execution_count": 110,
   "outputs": [
    {
     "output_type": "execute_result",
     "data": {
      "text/plain": [
       "array([1., 1., 1., 1., 1., 1.])"
      ]
     },
     "metadata": {
      "tags": []
     },
     "execution_count": 110
    }
   ]
  },
  {
   "cell_type": "markdown",
   "metadata": {
    "id": "O4vTJDtbO0Ux",
    "colab_type": "text"
   },
   "source": [
    "### Indexing and Slicing\n",
    "*   Similar story like what what we did for Python arrays but with extra toppings."
   ]
  },
  {
   "cell_type": "code",
   "metadata": {
    "id": "s7hARm_HIMwT",
    "colab_type": "code",
    "colab": {
     "base_uri": "https://localhost:8080/",
     "height": 34
    },
    "outputId": "89da9f91-489a-4e42-d66a-73d49959e56a"
   },
   "source": [
    "boo = np.random.randn(225, 233, 361)\n",
    "boo.shape"
   ],
   "execution_count": 111,
   "outputs": [
    {
     "output_type": "execute_result",
     "data": {
      "text/plain": [
       "(225, 233, 361)"
      ]
     },
     "metadata": {
      "tags": []
     },
     "execution_count": 111
    }
   ]
  },
  {
   "cell_type": "code",
   "metadata": {
    "id": "0FQvfHVcKvQl",
    "colab_type": "code",
    "colab": {
     "base_uri": "https://localhost:8080/",
     "height": 34
    },
    "outputId": "348a5e5c-a264-41a9-c118-cc152045a4c1"
   },
   "source": [
    "boo[:, :, :].shape # I want them all!"
   ],
   "execution_count": 112,
   "outputs": [
    {
     "output_type": "execute_result",
     "data": {
      "text/plain": [
       "(225, 233, 361)"
      ]
     },
     "metadata": {
      "tags": []
     },
     "execution_count": 112
    }
   ]
  },
  {
   "cell_type": "code",
   "metadata": {
    "id": "In_-2MexLXIG",
    "colab_type": "code",
    "colab": {
     "base_uri": "https://localhost:8080/",
     "height": 34
    },
    "outputId": "3c4f31e4-2bb0-47aa-c911-878fd8df3c52"
   },
   "source": [
    "boo[0:-10:2, :, ...].shape # Too lazy to specify the size of one dimension to be sliced"
   ],
   "execution_count": 113,
   "outputs": [
    {
     "output_type": "execute_result",
     "data": {
      "text/plain": [
       "(108, 233, 361)"
      ]
     },
     "metadata": {
      "tags": []
     },
     "execution_count": 113
    }
   ]
  },
  {
   "cell_type": "code",
   "metadata": {
    "id": "SNddaZiPLvmq",
    "colab_type": "code",
    "colab": {
     "base_uri": "https://localhost:8080/",
     "height": 34
    },
    "outputId": "1c9fc0c2-07e7-4be4-d725-0d6c3ba42fdc"
   },
   "source": [
    "boo[::-1, 1, 1].shape"
   ],
   "execution_count": 114,
   "outputs": [
    {
     "output_type": "execute_result",
     "data": {
      "text/plain": [
       "(225,)"
      ]
     },
     "metadata": {
      "tags": []
     },
     "execution_count": 114
    }
   ]
  },
  {
   "cell_type": "markdown",
   "metadata": {
    "id": "qtG3hR7IL9HM",
    "colab_type": "text"
   },
   "source": [
    "*   Fancy indexing (Yeah that's what people call it😂) with boolean mask: Note that boolean mask indexing creates a new ndarray instead of a view."
   ]
  },
  {
   "cell_type": "code",
   "metadata": {
    "id": "utnkax8RL8q6",
    "colab_type": "code",
    "colab": {
     "base_uri": "https://localhost:8080/",
     "height": 204
    },
    "outputId": "80b84d72-9fad-4bc6-ed6f-ea8d435f6ebd"
   },
   "source": [
    "foo = np.random.randn(100)\n",
    "foo[foo > 0]"
   ],
   "execution_count": 115,
   "outputs": [
    {
     "output_type": "execute_result",
     "data": {
      "text/plain": [
       "array([2.12701473, 0.63942834, 0.22718926, 0.52993651, 0.89701161,\n",
       "       0.82117775, 1.20530214, 0.71777746, 0.70271826, 1.51285803,\n",
       "       0.29674284, 0.70284139, 0.22882979, 2.55674239, 0.57116652,\n",
       "       0.68257584, 0.50722031, 0.76211708, 0.57494169, 0.79255371,\n",
       "       1.24888357, 0.43719552, 1.67405558, 1.52888972, 0.9072276 ,\n",
       "       1.04638198, 0.88427903, 1.43794226, 0.21611371, 0.07669479,\n",
       "       0.80575738, 0.08277253, 0.84167283, 0.52256416, 0.01943359,\n",
       "       1.21073489, 1.30004129, 0.11335488, 0.5829766 , 0.95906999,\n",
       "       1.33226717, 0.12803408, 0.82453801, 0.88587082, 1.91165186,\n",
       "       1.31365509, 1.18027224, 1.4672934 , 0.37037176, 1.31047233,\n",
       "       0.93349867, 0.95674321, 0.010709  ])"
      ]
     },
     "metadata": {
      "tags": []
     },
     "execution_count": 115
    }
   ]
  },
  {
   "cell_type": "code",
   "metadata": {
    "id": "1xaqD8GoL4Tu",
    "colab_type": "code",
    "colab": {
     "base_uri": "https://localhost:8080/",
     "height": 51
    },
    "outputId": "47ed4fbe-be6a-4e0f-87d6-56871a129c16"
   },
   "source": [
    "boo[boo < 0]"
   ],
   "execution_count": 116,
   "outputs": [
    {
     "output_type": "execute_result",
     "data": {
      "text/plain": [
       "array([-0.52892378, -0.56789592, -0.21545509, ..., -0.14672712,\n",
       "       -0.81753917, -0.44295658])"
      ]
     },
     "metadata": {
      "tags": []
     },
     "execution_count": 116
    }
   ]
  },
  {
   "cell_type": "markdown",
   "metadata": {
    "id": "FfKtLHBENLKS",
    "colab_type": "text"
   },
   "source": [
    "*   Fancy indexing with integer array: Note that integer array indexing creates a new ndarray instead of a view."
   ]
  },
  {
   "cell_type": "code",
   "metadata": {
    "id": "ipsOC3ffNX_n",
    "colab_type": "code",
    "colab": {
     "base_uri": "https://localhost:8080/",
     "height": 187
    },
    "outputId": "01a5dc1b-2b59-4844-e0f3-5139d9fb1915"
   },
   "source": [
    "foo = np.random.randint(0, 100, (10, 10))\n",
    "foo"
   ],
   "execution_count": 117,
   "outputs": [
    {
     "output_type": "execute_result",
     "data": {
      "text/plain": [
       "array([[96, 91, 70, 78, 37, 94,  2,  1, 66, 80],\n",
       "       [ 8, 26, 82, 92, 90, 88,  4, 21,  3, 22],\n",
       "       [64, 48, 76, 66, 55, 40, 33, 56, 78, 21],\n",
       "       [98, 98, 20, 39,  1, 29, 59, 28, 88, 14],\n",
       "       [68, 30, 76, 71, 56, 52, 10, 50, 33, 97],\n",
       "       [56, 38,  9,  4, 33, 73, 51, 72,  1, 65],\n",
       "       [56, 41, 77, 65,  2, 11, 84, 46, 37,  9],\n",
       "       [39, 95, 68, 52, 62, 21, 78, 10, 54, 15],\n",
       "       [63, 63, 27, 55, 51, 52, 13, 78, 94, 82],\n",
       "       [76, 25, 49, 70, 43,  8, 63,  0, 28, 69]])"
      ]
     },
     "metadata": {
      "tags": []
     },
     "execution_count": 117
    }
   ]
  },
  {
   "cell_type": "code",
   "metadata": {
    "id": "vm7xaxKgW4fG",
    "colab_type": "code",
    "colab": {
     "base_uri": "https://localhost:8080/",
     "height": 34
    },
    "outputId": "7a424e1e-fcf1-4198-de0a-36ae582bfbf1"
   },
   "source": [
    "foo[[1, 2, 3], [1, 2, 3]] # Basically we are picking out numbers with position (1, 1), (2, 2), and (3, 3)"
   ],
   "execution_count": 118,
   "outputs": [
    {
     "output_type": "execute_result",
     "data": {
      "text/plain": [
       "array([26, 76, 39])"
      ]
     },
     "metadata": {
      "tags": []
     },
     "execution_count": 118
    }
   ]
  },
  {
   "cell_type": "markdown",
   "metadata": {
    "id": "_Joz7svIZqQ9",
    "colab_type": "text"
   },
   "source": [
    "Same story for high-dimensional array."
   ]
  },
  {
   "cell_type": "code",
   "metadata": {
    "id": "CrnRPXW3W4RF",
    "colab_type": "code",
    "colab": {
     "base_uri": "https://localhost:8080/",
     "height": 34
    },
    "outputId": "0c4983e9-bf59-4736-9d9e-97c3220d65f8"
   },
   "source": [
    "bar = np.random.randint(0, 100, (10, 10, 10))\n",
    "bar[[1, 2, 3], [1, 2, 3], [1, 2, 3]]"
   ],
   "execution_count": 119,
   "outputs": [
    {
     "output_type": "execute_result",
     "data": {
      "text/plain": [
       "array([ 5, 59, 16])"
      ]
     },
     "metadata": {
      "tags": []
     },
     "execution_count": 119
    }
   ]
  },
  {
   "cell_type": "markdown",
   "metadata": {
    "id": "MJLyDE68Z4q8",
    "colab_type": "text"
   },
   "source": [
    "We can even mix slicing with indexing."
   ]
  },
  {
   "cell_type": "code",
   "metadata": {
    "id": "phM_xHc4ZY2y",
    "colab_type": "code",
    "colab": {
     "base_uri": "https://localhost:8080/",
     "height": 85
    },
    "outputId": "eaf87e1b-7502-4af6-8bdc-6f8683805b03"
   },
   "source": [
    "foo[3:7, [0, 1, 2, 3]]"
   ],
   "execution_count": 120,
   "outputs": [
    {
     "output_type": "execute_result",
     "data": {
      "text/plain": [
       "array([[98, 98, 20, 39],\n",
       "       [68, 30, 76, 71],\n",
       "       [56, 38,  9,  4],\n",
       "       [56, 41, 77, 65]])"
      ]
     },
     "metadata": {
      "tags": []
     },
     "execution_count": 120
    }
   ]
  },
  {
   "cell_type": "markdown",
   "metadata": {
    "id": "1rT_YoX-0D-c",
    "colab_type": "text"
   },
   "source": [
    "## NumPy Math/Statistics"
   ]
  },
  {
   "cell_type": "markdown",
   "metadata": {
    "id": "H03hSXFYl4fY",
    "colab_type": "text"
   },
   "source": [
    "### Random Numbers"
   ]
  },
  {
   "cell_type": "code",
   "metadata": {
    "id": "TnpfKz9onDKp",
    "colab_type": "code",
    "colab": {}
   },
   "source": [
    "np.random.seed(0)"
   ],
   "execution_count": 121,
   "outputs": []
  },
  {
   "cell_type": "code",
   "metadata": {
    "id": "d5LmSdO_l42Y",
    "colab_type": "code",
    "colab": {
     "base_uri": "https://localhost:8080/",
     "height": 357
    },
    "outputId": "98201a30-120c-4bb9-96d2-e43e9f86e40e"
   },
   "source": [
    "np.random.randn(10, 10)"
   ],
   "execution_count": 122,
   "outputs": [
    {
     "output_type": "execute_result",
     "data": {
      "text/plain": [
       "array([[ 1.76405235,  0.40015721,  0.97873798,  2.2408932 ,  1.86755799,\n",
       "        -0.97727788,  0.95008842, -0.15135721, -0.10321885,  0.4105985 ],\n",
       "       [ 0.14404357,  1.45427351,  0.76103773,  0.12167502,  0.44386323,\n",
       "         0.33367433,  1.49407907, -0.20515826,  0.3130677 , -0.85409574],\n",
       "       [-2.55298982,  0.6536186 ,  0.8644362 , -0.74216502,  2.26975462,\n",
       "        -1.45436567,  0.04575852, -0.18718385,  1.53277921,  1.46935877],\n",
       "       [ 0.15494743,  0.37816252, -0.88778575, -1.98079647, -0.34791215,\n",
       "         0.15634897,  1.23029068,  1.20237985, -0.38732682, -0.30230275],\n",
       "       [-1.04855297, -1.42001794, -1.70627019,  1.9507754 , -0.50965218,\n",
       "        -0.4380743 , -1.25279536,  0.77749036, -1.61389785, -0.21274028],\n",
       "       [-0.89546656,  0.3869025 , -0.51080514, -1.18063218, -0.02818223,\n",
       "         0.42833187,  0.06651722,  0.3024719 , -0.63432209, -0.36274117],\n",
       "       [-0.67246045, -0.35955316, -0.81314628, -1.7262826 ,  0.17742614,\n",
       "        -0.40178094, -1.63019835,  0.46278226, -0.90729836,  0.0519454 ],\n",
       "       [ 0.72909056,  0.12898291,  1.13940068, -1.23482582,  0.40234164,\n",
       "        -0.68481009, -0.87079715, -0.57884966, -0.31155253,  0.05616534],\n",
       "       [-1.16514984,  0.90082649,  0.46566244, -1.53624369,  1.48825219,\n",
       "         1.89588918,  1.17877957, -0.17992484, -1.07075262,  1.05445173],\n",
       "       [-0.40317695,  1.22244507,  0.20827498,  0.97663904,  0.3563664 ,\n",
       "         0.70657317,  0.01050002,  1.78587049,  0.12691209,  0.40198936]])"
      ]
     },
     "metadata": {
      "tags": []
     },
     "execution_count": 122
    }
   ]
  },
  {
   "cell_type": "code",
   "metadata": {
    "id": "p5NlIlp2m7No",
    "colab_type": "code",
    "colab": {
     "base_uri": "https://localhost:8080/",
     "height": 51
    },
    "outputId": "3c718ca3-3862-4bb2-d12e-cfe4702d02e7"
   },
   "source": [
    "np.random.uniform(low=0, high=1, size=10)"
   ],
   "execution_count": 123,
   "outputs": [
    {
     "output_type": "execute_result",
     "data": {
      "text/plain": [
       "array([0.42385505, 0.60639321, 0.0191932 , 0.30157482, 0.66017354,\n",
       "       0.29007761, 0.61801543, 0.4287687 , 0.13547406, 0.29828233])"
      ]
     },
     "metadata": {
      "tags": []
     },
     "execution_count": 123
    }
   ]
  },
  {
   "cell_type": "code",
   "metadata": {
    "id": "dyfFJNn4nOqq",
    "colab_type": "code",
    "colab": {
     "base_uri": "https://localhost:8080/",
     "height": 34
    },
    "outputId": "ee79c2aa-f595-4d5f-9543-67406030371a"
   },
   "source": [
    "np.random.binomial(n=10, p=0.1, size=10)"
   ],
   "execution_count": 124,
   "outputs": [
    {
     "output_type": "execute_result",
     "data": {
      "text/plain": [
       "array([1, 1, 1, 1, 1, 1, 2, 1, 1, 2])"
      ]
     },
     "metadata": {
      "tags": []
     },
     "execution_count": 124
    }
   ]
  },
  {
   "cell_type": "code",
   "metadata": {
    "id": "dtkWjZocnauq",
    "colab_type": "code",
    "colab": {
     "base_uri": "https://localhost:8080/",
     "height": 34
    },
    "outputId": "6478adbc-4033-424b-daab-4711ffec6c7a"
   },
   "source": [
    "np.random.randint(low=-10, high=10, size=10)"
   ],
   "execution_count": 125,
   "outputs": [
    {
     "output_type": "execute_result",
     "data": {
      "text/plain": [
       "array([ -5,   1, -10,   1,  -2,   0,   1,  -5,   5,  -2])"
      ]
     },
     "metadata": {
      "tags": []
     },
     "execution_count": 125
    }
   ]
  },
  {
   "cell_type": "code",
   "metadata": {
    "id": "EImpFImqnkRQ",
    "colab_type": "code",
    "colab": {
     "base_uri": "https://localhost:8080/",
     "height": 34
    },
    "outputId": "1b7ef3b8-d838-4662-d718-d9aeb32852f8"
   },
   "source": [
    "np.random.choice([1, 2, 3, 4], size=5, replace=True)"
   ],
   "execution_count": 126,
   "outputs": [
    {
     "output_type": "execute_result",
     "data": {
      "text/plain": [
       "array([3, 4, 4, 2, 4])"
      ]
     },
     "metadata": {
      "tags": []
     },
     "execution_count": 126
    }
   ]
  },
  {
   "cell_type": "code",
   "metadata": {
    "id": "u9i-XR45nvDF",
    "colab_type": "code",
    "colab": {
     "base_uri": "https://localhost:8080/",
     "height": 34
    },
    "outputId": "f8bbd816-8acb-429a-9f6f-8e62b8f717e4"
   },
   "source": [
    "np.random.choice([1, 2, 3, 4], size=5, replace=True, p=[0.2, 0.3, 0.2, 0.3])"
   ],
   "execution_count": 127,
   "outputs": [
    {
     "output_type": "execute_result",
     "data": {
      "text/plain": [
       "array([4, 4, 2, 1, 1])"
      ]
     },
     "metadata": {
      "tags": []
     },
     "execution_count": 127
    }
   ]
  },
  {
   "cell_type": "markdown",
   "metadata": {
    "id": "VOKCrP2FoR__",
    "colab_type": "text"
   },
   "source": [
    "See the official documentation for more examples."
   ]
  },
  {
   "cell_type": "markdown",
   "metadata": {
    "id": "gXrzirN3ce5P",
    "colab_type": "text"
   },
   "source": [
    "### Statistics"
   ]
  },
  {
   "cell_type": "code",
   "metadata": {
    "id": "WQOB8OTxbzQk",
    "colab_type": "code",
    "colab": {
     "base_uri": "https://localhost:8080/",
     "height": 119
    },
    "outputId": "46ad43e2-e996-480d-9ebd-98c1602e6fb9"
   },
   "source": [
    "boo = np.random.randn(3, 5)\n",
    "boo"
   ],
   "execution_count": 128,
   "outputs": [
    {
     "output_type": "execute_result",
     "data": {
      "text/plain": [
       "array([[-2.34795257e-02,  8.94222897e-02, -5.94327371e-01,\n",
       "        -1.05696794e-01,  7.42795713e-01],\n",
       "       [-7.54981527e-01, -1.38282715e-01, -2.12492027e+00,\n",
       "        -1.03001883e+00, -5.17451865e-01],\n",
       "       [-1.41800012e-01, -1.27648021e+00,  1.48151328e+00,\n",
       "         1.65927664e+00,  1.39611962e-04]])"
      ]
     },
     "metadata": {
      "tags": []
     },
     "execution_count": 128
    }
   ]
  },
  {
   "cell_type": "code",
   "metadata": {
    "id": "SgswwFfUaIUT",
    "colab_type": "code",
    "colab": {
     "base_uri": "https://localhost:8080/",
     "height": 34
    },
    "outputId": "d1e23ce6-3556-4187-db5a-523ef5c4f7b3"
   },
   "source": [
    "boo.std() == boo.flatten().std() # Yes, my mon told me not to compare float numbers this way, but the point here is that std() by default flattens the array."
   ],
   "execution_count": 129,
   "outputs": [
    {
     "output_type": "execute_result",
     "data": {
      "text/plain": [
       "True"
      ]
     },
     "metadata": {
      "tags": []
     },
     "execution_count": 129
    }
   ]
  },
  {
   "cell_type": "code",
   "metadata": {
    "id": "yHeuRRNjbomv",
    "colab_type": "code",
    "colab": {
     "base_uri": "https://localhost:8080/",
     "height": 34
    },
    "outputId": "f55ae9f7-ef48-4771-b6cd-36c2f2d4d847"
   },
   "source": [
    "boo.std(axis=0) # std of each column (along the rows)"
   ],
   "execution_count": 130,
   "outputs": [
    {
     "output_type": "execute_result",
     "data": {
      "text/plain": [
       "array([0.32060472, 0.59749782, 1.47791865, 1.11563697, 0.51722153])"
      ]
     },
     "metadata": {
      "tags": []
     },
     "execution_count": 130
    }
   ]
  },
  {
   "cell_type": "code",
   "metadata": {
    "id": "VgrSovR6cAPW",
    "colab_type": "code",
    "colab": {
     "base_uri": "https://localhost:8080/",
     "height": 34
    },
    "outputId": "1fcdfea8-92ce-4693-b36d-ce911eed9137"
   },
   "source": [
    "boo.std(axis=1) # std of each row (along the columns)"
   ],
   "execution_count": 131,
   "outputs": [
    {
     "output_type": "execute_result",
     "data": {
      "text/plain": [
       "array([0.42949416, 0.67291294, 1.095818  ])"
      ]
     },
     "metadata": {
      "tags": []
     },
     "execution_count": 131
    }
   ]
  },
  {
   "cell_type": "markdown",
   "metadata": {
    "id": "QWSLuYYPcLlp",
    "colab_type": "text"
   },
   "source": [
    "Watch out for the degree of freedom (depending whether you are running population std or sample std and your downstream task). Prof. Liu will talk about degree of freedom later in the course."
   ]
  },
  {
   "cell_type": "code",
   "metadata": {
    "id": "oPrZiSy8cGvw",
    "colab_type": "code",
    "colab": {
     "base_uri": "https://localhost:8080/",
     "height": 34
    },
    "outputId": "7525e20e-c1b9-40e6-b349-563c3bd2c945"
   },
   "source": [
    "boo.std(ddof=0)"
   ],
   "execution_count": 132,
   "outputs": [
    {
     "output_type": "execute_result",
     "data": {
      "text/plain": [
       "0.9471697038935211"
      ]
     },
     "metadata": {
      "tags": []
     },
     "execution_count": 132
    }
   ]
  },
  {
   "cell_type": "code",
   "metadata": {
    "id": "mifQFvmgcjIe",
    "colab_type": "code",
    "colab": {
     "base_uri": "https://localhost:8080/",
     "height": 34
    },
    "outputId": "041a45e9-39ec-414f-802c-bd1e5cbbf76c"
   },
   "source": [
    "boo.mean()"
   ],
   "execution_count": 133,
   "outputs": [
    {
     "output_type": "execute_result",
     "data": {
      "text/plain": [
       "-0.1822861061868246"
      ]
     },
     "metadata": {
      "tags": []
     },
     "execution_count": 133
    }
   ]
  },
  {
   "cell_type": "code",
   "metadata": {
    "id": "dyPX0JmCckom",
    "colab_type": "code",
    "colab": {
     "base_uri": "https://localhost:8080/",
     "height": 34
    },
    "outputId": "5227e89c-0757-4c49-e65d-bff14a03ce2b"
   },
   "source": [
    "boo.sum()"
   ],
   "execution_count": 134,
   "outputs": [
    {
     "output_type": "execute_result",
     "data": {
      "text/plain": [
       "-2.7342915928023688"
      ]
     },
     "metadata": {
      "tags": []
     },
     "execution_count": 134
    }
   ]
  },
  {
   "cell_type": "markdown",
   "metadata": {
    "id": "5_lkeh1dct4j",
    "colab_type": "text"
   },
   "source": [
    "### Element-wise Operations"
   ]
  },
  {
   "cell_type": "code",
   "metadata": {
    "id": "M6yPuYWFcmCq",
    "colab_type": "code",
    "colab": {
     "base_uri": "https://localhost:8080/",
     "height": 85
    },
    "outputId": "388c1be1-d35c-4dd1-b59e-5f5d63190e6b"
   },
   "source": [
    "boo = np.arange(0, 20).reshape((4, 5))\n",
    "boo"
   ],
   "execution_count": 135,
   "outputs": [
    {
     "output_type": "execute_result",
     "data": {
      "text/plain": [
       "array([[ 0,  1,  2,  3,  4],\n",
       "       [ 5,  6,  7,  8,  9],\n",
       "       [10, 11, 12, 13, 14],\n",
       "       [15, 16, 17, 18, 19]])"
      ]
     },
     "metadata": {
      "tags": []
     },
     "execution_count": 135
    }
   ]
  },
  {
   "cell_type": "code",
   "metadata": {
    "id": "Vm8ftRYwdgmw",
    "colab_type": "code",
    "colab": {
     "base_uri": "https://localhost:8080/",
     "height": 34
    },
    "outputId": "bc4b45b1-7961-4746-c7ee-6e6a9119a6b6"
   },
   "source": [
    "foo = np.arange(0, 5)\n",
    "foo"
   ],
   "execution_count": 136,
   "outputs": [
    {
     "output_type": "execute_result",
     "data": {
      "text/plain": [
       "array([0, 1, 2, 3, 4])"
      ]
     },
     "metadata": {
      "tags": []
     },
     "execution_count": 136
    }
   ]
  },
  {
   "cell_type": "code",
   "metadata": {
    "id": "Jlkpikj5kXx8",
    "colab_type": "code",
    "colab": {
     "base_uri": "https://localhost:8080/",
     "height": 34
    },
    "outputId": "630de5f5-eeae-450d-cfe9-53eed62dc1c0"
   },
   "source": [
    "foo ** 2"
   ],
   "execution_count": 137,
   "outputs": [
    {
     "output_type": "execute_result",
     "data": {
      "text/plain": [
       "array([ 0,  1,  4,  9, 16])"
      ]
     },
     "metadata": {
      "tags": []
     },
     "execution_count": 137
    }
   ]
  },
  {
   "cell_type": "code",
   "metadata": {
    "id": "9N5tsnaZkZLJ",
    "colab_type": "code",
    "colab": {
     "base_uri": "https://localhost:8080/",
     "height": 34
    },
    "outputId": "86f72ee0-1338-4567-94df-42c9299ee5cc"
   },
   "source": [
    "foo - 1"
   ],
   "execution_count": 138,
   "outputs": [
    {
     "output_type": "execute_result",
     "data": {
      "text/plain": [
       "array([-1,  0,  1,  2,  3])"
      ]
     },
     "metadata": {
      "tags": []
     },
     "execution_count": 138
    }
   ]
  },
  {
   "cell_type": "code",
   "metadata": {
    "id": "JCIsXlFNkaec",
    "colab_type": "code",
    "colab": {
     "base_uri": "https://localhost:8080/",
     "height": 34
    },
    "outputId": "85eddf19-70a2-4630-8176-4bd0a70c5f09"
   },
   "source": [
    "foo - np.arange(-5, 0)"
   ],
   "execution_count": 139,
   "outputs": [
    {
     "output_type": "execute_result",
     "data": {
      "text/plain": [
       "array([5, 5, 5, 5, 5])"
      ]
     },
     "metadata": {
      "tags": []
     },
     "execution_count": 139
    }
   ]
  },
  {
   "cell_type": "code",
   "metadata": {
    "id": "LvRlLKAkdW9W",
    "colab_type": "code",
    "colab": {
     "base_uri": "https://localhost:8080/",
     "height": 85
    },
    "outputId": "f11febaa-0e18-482b-d94a-34d435ea198e"
   },
   "source": [
    "boo * foo"
   ],
   "execution_count": 140,
   "outputs": [
    {
     "output_type": "execute_result",
     "data": {
      "text/plain": [
       "array([[ 0,  1,  4,  9, 16],\n",
       "       [ 0,  6, 14, 24, 36],\n",
       "       [ 0, 11, 24, 39, 56],\n",
       "       [ 0, 16, 34, 54, 76]])"
      ]
     },
     "metadata": {
      "tags": []
     },
     "execution_count": 140
    }
   ]
  },
  {
   "cell_type": "markdown",
   "metadata": {
    "id": "Dmn0BvbFdwfD",
    "colab_type": "text"
   },
   "source": [
    "Wait... What? **PLEASE NOTE THAT THE CODE ABOVE IS NOT DOING MATRIX MULTIPLICATIONS.** ~Serious side effect may include but not limited to... (OK..OK.. I can't make this tutorial a TV prescription drug ad.)~ The code in the cell below is how you do a matrix multiplication."
   ]
  },
  {
   "cell_type": "code",
   "metadata": {
    "id": "qbRae0Y4dVq3",
    "colab_type": "code",
    "colab": {
     "base_uri": "https://localhost:8080/",
     "height": 34
    },
    "outputId": "4bb02a12-c302-467e-b067-8ef548260f0a"
   },
   "source": [
    "boo @ foo"
   ],
   "execution_count": 141,
   "outputs": [
    {
     "output_type": "execute_result",
     "data": {
      "text/plain": [
       "array([ 30,  80, 130, 180])"
      ]
     },
     "metadata": {
      "tags": []
     },
     "execution_count": 141
    }
   ]
  },
  {
   "cell_type": "markdown",
   "metadata": {
    "id": "2jtY5NAFhxtW",
    "colab_type": "text"
   },
   "source": [
    "But what happened when we did `boo * foo`? This is our next fairy tale."
   ]
  },
  {
   "cell_type": "markdown",
   "metadata": {
    "id": "A_tOJ17xOwJ3",
    "colab_type": "text"
   },
   "source": [
    "## Broadcast"
   ]
  },
  {
   "cell_type": "markdown",
   "metadata": {
    "id": "O2e9UFKUlBiE",
    "colab_type": "text"
   },
   "source": [
    "Let's say I'd like to subtract a constant from a very large ndarray `boo`. Without broadcasting, I have to create an array with the same size as `boo`. However, this is not very efficient. This is the basic idea of broadcast: making arithmetic operations happen when two arrays even have incompatible shapes. For the `boo * foo` example above, we \"copy\" `foo` for five times and make its shape compatible with `boo`. "
   ]
  },
  {
   "cell_type": "markdown",
   "metadata": {
    "id": "pSrObpzwnc9_",
    "colab_type": "text"
   },
   "source": [
    "~The COVID testing took my entire morning away so I'll just copy the official documentation. (Sorry, that's not an excuse.)~"
   ]
  },
  {
   "cell_type": "markdown",
   "metadata": {
    "id": "z15_UjG1p2Rl",
    "colab_type": "text"
   },
   "source": [
    "![Meme](https://imgs.xkcd.com/comics/compiling.png)\\\n",
    "Wait... Python does not compile... Nevermind..."
   ]
  },
  {
   "cell_type": "markdown",
   "metadata": {
    "id": "WiAF1-ojmvAA",
    "colab_type": "text"
   },
   "source": [
    "The rules for broadcasting go as below ([credit](https://cs231n.github.io/python-numpy-tutorial/#broadcasting)):\n",
    "*   If the arrays do not have the same rank, prepend the shape of the lower rank array with 1s until both shapes have the same length.\n",
    "*   The two arrays are said to be compatible in a dimension if they have the same size in the dimension, or if one of the arrays has size 1 in that dimension.\n",
    "*   The arrays can be broadcast together if they are compatible in all dimensions.\n",
    "*   After broadcasting, each array behaves as if it had shape equal to the elementwise maximum of shapes of the two input arrays.\n",
    "*   In any dimension where one array had size 1 and the other array had size greater than 1, the first array behaves as if it were copied along that dimension"
   ]
  },
  {
   "cell_type": "markdown",
   "metadata": {
    "id": "QRlDL312m-Z6",
    "colab_type": "text"
   },
   "source": [
    "Checkout [this link](https://numpy.org/devdocs/user/theory.broadcasting.html) for the motivation behind this design and the related rules. Below are some examples."
   ]
  },
  {
   "cell_type": "markdown",
   "metadata": {
    "id": "QL5ltRZZoW-G",
    "colab_type": "text"
   },
   "source": [
    "![Boradcast 1](https://numpy.org/doc/stable/_images/theory.broadcast_1.gif)\\\n",
    "![Broadcast 2](https://numpy.org/doc/stable/_images/theory.broadcast_2.gif)\\\n",
    "![Broadcast 3](https://numpy.org/doc/stable/_images/theory.broadcast_3.gif)\\\n",
    "When the trailing dimensions of the arrays are unequal, broadcasting fails because it is impossible to align the values in the rows of the 1st array with the elements of the 2nd arrays for element-by-element addition.\n",
    "\n"
   ]
  },
  {
   "cell_type": "markdown",
   "metadata": {
    "id": "cyWzFKf-LNB9",
    "colab_type": "text"
   },
   "source": [
    "## Vectorization"
   ]
  },
  {
   "cell_type": "markdown",
   "metadata": {
    "id": "QBEasZlEiXks",
    "colab_type": "text"
   },
   "source": [
    "The basic idea of doing vectorization with NumPy is to converting vanilla loops into ndarray-based NumPy operations without explicit looping. We usually (at least for simple problems) generate all the random trials onece and then accumulate the result with highly-optimized NumPy functions. We won't get into too much detail but below is a naive example."
   ]
  },
  {
   "cell_type": "code",
   "metadata": {
    "id": "OfVOl7d0FOdm",
    "colab_type": "code",
    "colab": {
     "base_uri": "https://localhost:8080/",
     "height": 34
    },
    "outputId": "5e0a5188-3676-4b50-ad9e-face22b98c3a"
   },
   "source": [
    "%%timeit\n",
    "from random import randint\n",
    "path = []\n",
    "pos = 0\n",
    "for i in range(int(1e5)):\n",
    "  walk = randint(-100, 100)\n",
    "  path.append(pos)\n",
    "  pos += walk"
   ],
   "execution_count": 142,
   "outputs": [
    {
     "output_type": "stream",
     "text": [
      "10 loops, best of 3: 120 ms per loop\n"
     ],
     "name": "stdout"
    }
   ]
  },
  {
   "cell_type": "code",
   "metadata": {
    "id": "SdbbrdN-L5hL",
    "colab_type": "code",
    "colab": {
     "base_uri": "https://localhost:8080/",
     "height": 34
    },
    "outputId": "91438995-169f-466f-95b9-e1ca59a27356"
   },
   "source": [
    "%%timeit\n",
    "walks = np.random.randint(-100, high=100, size=int(1e5))\n",
    "path = np.cumsum(walks)"
   ],
   "execution_count": 143,
   "outputs": [
    {
     "output_type": "stream",
     "text": [
      "1000 loops, best of 3: 1.45 ms per loop\n"
     ],
     "name": "stdout"
    }
   ]
  },
  {
   "cell_type": "markdown",
   "metadata": {
    "id": "DNT8O6-NPPmI",
    "colab_type": "text"
   },
   "source": [
    "See the difference? Vectorization could save you a huge amount of time on a later homework about simulation (and in a whole bunch of other sceanrios). Side Note: Packages like `Numba` could also bring vectorization and JIT compilation to CPython. However, please do watch out for any unintended behaviors when using such packages. (I recommended `Numba` to a friend who is doing a research project and it messed up his experiment results...🤦)"
   ]
  },
  {
   "cell_type": "code",
   "metadata": {
    "id": "6RF7ejkNOdeU",
    "colab_type": "code",
    "colab": {}
   },
   "source": [
    "from numba import jit\n",
    "@jit(nopython=True)\n",
    "def random_walk(steps):\n",
    "  path = []\n",
    "  pos = 0\n",
    "  for i in range(int(steps)):\n",
    "    walk = np.random.randint(-100, high=100)\n",
    "    path.append(pos)\n",
    "    pos += walk\n",
    "  return path"
   ],
   "execution_count": 144,
   "outputs": []
  },
  {
   "cell_type": "code",
   "metadata": {
    "id": "Z2bDvDCxWG9C",
    "colab_type": "code",
    "colab": {
     "base_uri": "https://localhost:8080/",
     "height": 51
    },
    "outputId": "f261dab7-cafa-4d60-ba84-23b352a10660"
   },
   "source": [
    "%%timeit\n",
    "random_walk(1e5) # Not bad!"
   ],
   "execution_count": 145,
   "outputs": [
    {
     "output_type": "stream",
     "text": [
      "The slowest run took 29.31 times longer than the fastest. This could mean that an intermediate result is being cached.\n",
      "100 loops, best of 3: 6.43 ms per loop\n"
     ],
     "name": "stdout"
    }
   ]
  },
  {
   "cell_type": "markdown",
   "metadata": {
    "id": "TWTxFzqoeMbD",
    "colab_type": "text"
   },
   "source": [
    "![Meme](https://i.redd.it/nklty63uzav41.png)"
   ]
  },
  {
   "cell_type": "markdown",
   "metadata": {
    "id": "Ajtno2fRpghG",
    "colab_type": "text"
   },
   "source": [
    "# Other Libraries by Examples\n",
    "*  [Notebook1](https://colab.research.google.com/github/danielz02/CS361_Notebook_Collection/blob/master/Notebook1_Pandas_Histogram.ipynb): Matplotlib and Pandas\n",
    "*  [Notebook2](https://github.com/danielz02/CS361_Notebook_Collection/blob/master/Notebook2_Time_Series_Boxplot_Corr.ipynb): Matplotlib and Pandas (Cont.d)\n",
    "*  [Notebook3](https://colab.research.google.com/github/danielz02/CS361_Notebook_Collection/blob/master/Notebook3_Scatter_Corr.ipynb): Correlation Coefficient\n",
    "*  [Notebook4](https://colab.research.google.com/github/danielz02/CS361_Notebook_Collection/blob/master/Notebook4_Simulation.ipynb): Simulation\n",
    "*  [Notebook5](https://colab.research.google.com/github/danielz02/CS361_Notebook_Collection/blob/master/Notebook5_Covariance_PCA.ipynb): PCA\n",
    "*  [Notebook6](https://colab.research.google.com/github/danielz02/CS361_Notebook_Collection/blob/master/Notebook6_PCA.ipynb): PCA (Cont.d)"
   ]
  },
  {
   "cell_type": "markdown",
   "metadata": {
    "id": "3tqF5Cn6O_rI",
    "colab_type": "text"
   },
   "source": [
    "# Reference\n",
    "*   [What's NumPy](https://numpy.org/doc/stable/user/whatisnumpy.html)\n",
    "*   [NumPy Indexing](https://numpy.org/doc/stable/user/basics.indexing.html)\n",
    "*   [NumPy Glossary](https://numpy.org/doc/stable/glossary.html)\n",
    "*   [Stanford CS 231n](https://cs231n.github.io/python-numpy-tutorial/)\n",
    "*   [NumPy Cheatsheet](https://www.dataquest.io/blog/numpy-cheat-sheet/)\n",
    "*   [NumPy Broadcasting](https://numpy.org/doc/stable/user/theory.broadcasting.html)\n",
    "*   [Meme from Unknown Source](https://forum.onefourthlabs.com/t/numpy-reshaping/5813)"
   ]
  }
 ]
}