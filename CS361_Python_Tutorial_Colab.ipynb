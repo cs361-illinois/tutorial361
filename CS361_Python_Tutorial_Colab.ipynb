{
  "nbformat": 4,
  "nbformat_minor": 0,
  "metadata": {
    "colab": {
      "name": "CS361_Python_Tutorial_Colab.ipynb",
      "provenance": [],
      "collapsed_sections": [],
      "toc_visible": true
    },
    "kernelspec": {
      "name": "python3",
      "display_name": "Python 3"
    }
  },
  "cells": [
    {
      "cell_type": "markdown",
      "metadata": {
        "id": "87oZ6pKNdcuC",
        "colab_type": "text"
      },
      "source": [
        "# Sanity Check"
      ]
    },
    {
      "cell_type": "markdown",
      "metadata": {
        "id": "l4dCpdDseGkz",
        "colab_type": "text"
      },
      "source": [
        "Let's first check a couple packages we need in this class. Anaconda should have all the packages below (except for PyTorch) installed."
      ]
    },
    {
      "cell_type": "code",
      "metadata": {
        "id": "ImIWCCR2dYzX",
        "colab_type": "code",
        "colab": {
          "base_uri": "https://localhost:8080/",
          "height": 71
        },
        "outputId": "30ac84df-bf80-4c1e-fe20-8e1111ad44b9"
      },
      "source": [
        "import torch\n",
        "import scipy\n",
        "import sklearn\n",
        "import numpy as np\n",
        "import pandas as pd\n",
        "import seaborn as sns\n",
        "import matplotlib.pyplot as plt"
      ],
      "execution_count": 1,
      "outputs": [
        {
          "output_type": "stream",
          "text": [
            "/usr/local/lib/python3.6/dist-packages/statsmodels/tools/_testing.py:19: FutureWarning: pandas.util.testing is deprecated. Use the functions in the public API at pandas.testing instead.\n",
            "  import pandas.util.testing as tm\n"
          ],
          "name": "stderr"
        }
      ]
    },
    {
      "cell_type": "markdown",
      "metadata": {
        "id": "_w2EzCE7QtQ3",
        "colab_type": "text"
      },
      "source": [
        "Now let's check your Python version. Both 3.7 and 3.6 should work fine. If you have multiple Python environments installed, please pay attention to which one are you using. Nevertheless, we highly recommend using Anaconda to manager your packages."
      ]
    },
    {
      "cell_type": "code",
      "metadata": {
        "id": "9CngkxVId0AA",
        "colab_type": "code",
        "colab": {
          "base_uri": "https://localhost:8080/",
          "height": 34
        },
        "outputId": "84303bc5-13bc-432c-9f59-bc3324945b86"
      },
      "source": [
        "!python --version"
      ],
      "execution_count": 2,
      "outputs": [
        {
          "output_type": "stream",
          "text": [
            "Python 3.6.9\n"
          ],
          "name": "stdout"
        }
      ]
    },
    {
      "cell_type": "markdown",
      "metadata": {
        "id": "n2AfCq-eePK4",
        "colab_type": "text"
      },
      "source": [
        "# Orientation to Google Colab"
      ]
    },
    {
      "cell_type": "markdown",
      "metadata": {
        "id": "LjMC0l15V0jT",
        "colab_type": "text"
      },
      "source": [
        "Please note that Google Colab only has temporary storage. Once the current session disconnects (or timesout) all the files in the session storage will be discarded. However, the output from Jupyter Notebook will be saved unless you specify not to do so. You can download/upload files with the GUI in the left panel. If you would like to have a permanent storage (maybe for datasets and results), you can mount your Google Drive to Google Colab by running the cell below. You will be prompted to link your account to Colab. **The code in this section only works on Colab.**"
      ]
    },
    {
      "cell_type": "code",
      "metadata": {
        "id": "ujtFAQzBeTYv",
        "colab_type": "code",
        "colab": {
          "base_uri": "https://localhost:8080/",
          "height": 34
        },
        "outputId": "10347d94-53e5-47ef-ef91-4e7abcd3f0fd"
      },
      "source": [
        "from google.colab import drive\n",
        "drive.mount('/content/drive')"
      ],
      "execution_count": 3,
      "outputs": [
        {
          "output_type": "stream",
          "text": [
            "Mounted at /content/drive\n"
          ],
          "name": "stdout"
        }
      ]
    },
    {
      "cell_type": "markdown",
      "metadata": {
        "id": "ZH8yCBS8MVut",
        "colab_type": "text"
      },
      "source": [
        "Run the cell below and you should see the changes in your Google Drive"
      ]
    },
    {
      "cell_type": "code",
      "metadata": {
        "id": "fyiM_8xyK7Dy",
        "colab_type": "code",
        "colab": {}
      },
      "source": [
        "with open('/content/drive/My Drive/Colab Notebooks/boo.txt', 'w') as f:\n",
        "  f.write('foo')"
      ],
      "execution_count": 4,
      "outputs": []
    },
    {
      "cell_type": "markdown",
      "metadata": {
        "id": "YMbS7C9fMiAK",
        "colab_type": "text"
      },
      "source": [
        "Don't forget to unmout at the end of your session."
      ]
    },
    {
      "cell_type": "code",
      "metadata": {
        "id": "Yfs2fLJZL6Rn",
        "colab_type": "code",
        "colab": {}
      },
      "source": [
        "drive.flush_and_unmount()"
      ],
      "execution_count": 5,
      "outputs": []
    },
    {
      "cell_type": "markdown",
      "metadata": {
        "id": "PbH_EIWGN87x",
        "colab_type": "text"
      },
      "source": [
        "# Python Basics"
      ]
    },
    {
      "cell_type": "markdown",
      "metadata": {
        "id": "Lbhein51OaVy",
        "colab_type": "text"
      },
      "source": [
        "Before diving into Python libraries, let's first take a look at Python's basic programming constructs."
      ]
    },
    {
      "cell_type": "markdown",
      "metadata": {
        "id": "eSW0ph5gOTLV",
        "colab_type": "text"
      },
      "source": [
        "## Basic Syntax"
      ]
    },
    {
      "cell_type": "markdown",
      "metadata": {
        "id": "PJQaaDc4P1Jd",
        "colab_type": "text"
      },
      "source": [
        "### Keywords"
      ]
    },
    {
      "cell_type": "code",
      "metadata": {
        "id": "hgnCskFCPvX_",
        "colab_type": "code",
        "colab": {
          "base_uri": "https://localhost:8080/",
          "height": 578
        },
        "outputId": "ab719dbf-c5ad-445f-96b8-3c80d258dfc3"
      },
      "source": [
        "import keyword\n",
        "keyword.kwlist"
      ],
      "execution_count": 6,
      "outputs": [
        {
          "output_type": "execute_result",
          "data": {
            "text/plain": [
              "['False',\n",
              " 'None',\n",
              " 'True',\n",
              " 'and',\n",
              " 'as',\n",
              " 'assert',\n",
              " 'break',\n",
              " 'class',\n",
              " 'continue',\n",
              " 'def',\n",
              " 'del',\n",
              " 'elif',\n",
              " 'else',\n",
              " 'except',\n",
              " 'finally',\n",
              " 'for',\n",
              " 'from',\n",
              " 'global',\n",
              " 'if',\n",
              " 'import',\n",
              " 'in',\n",
              " 'is',\n",
              " 'lambda',\n",
              " 'nonlocal',\n",
              " 'not',\n",
              " 'or',\n",
              " 'pass',\n",
              " 'raise',\n",
              " 'return',\n",
              " 'try',\n",
              " 'while',\n",
              " 'with',\n",
              " 'yield']"
            ]
          },
          "metadata": {
            "tags": []
          },
          "execution_count": 6
        }
      ]
    },
    {
      "cell_type": "markdown",
      "metadata": {
        "id": "qMz6oO9BQNW4",
        "colab_type": "text"
      },
      "source": [
        "### Identifiers\n",
        "\n",
        "\n",
        "*   Identifiers in Python are case-sensitive.\n",
        "*   The first character of any Python identifier can't be a digit. Other characters can be alphanumeric or an underscore. Non-ascii characters are also supported in Python 3.\n",
        "*   !, @, #, $, and % are special symbols in Python and you can't use them as identifiers.\n",
        "\n",
        "\n",
        "\n"
      ]
    },
    {
      "cell_type": "markdown",
      "metadata": {
        "id": "jIT8RBolSlRc",
        "colab_type": "text"
      },
      "source": [
        "### Comments"
      ]
    },
    {
      "cell_type": "code",
      "metadata": {
        "id": "tbsJJdt_MrBT",
        "colab_type": "code",
        "colab": {
          "base_uri": "https://localhost:8080/",
          "height": 34
        },
        "outputId": "6624be2c-ac45-415e-8264-59444d2a8399"
      },
      "source": [
        "# boo\n",
        "'''\n",
        "boo\n",
        "foo\n",
        "'''\n",
        "\n",
        "\"\"\"\n",
        "boo\n",
        "foo\n",
        "\"\"\"\n",
        "print(\"Welcome to CS 361!\")"
      ],
      "execution_count": 7,
      "outputs": [
        {
          "output_type": "stream",
          "text": [
            "Welcome to CS 361!\n"
          ],
          "name": "stdout"
        }
      ]
    },
    {
      "cell_type": "markdown",
      "metadata": {
        "id": "GB-Bxh3lTVvo",
        "colab_type": "text"
      },
      "source": [
        "### Indentation\n",
        "Python doesn't use `{}` for code blocks and is indentation-sensitive. This is America, you can whatever number of tabs/spaces you want for each code block, but the indentation level has to be the same within the same code block."
      ]
    },
    {
      "cell_type": "code",
      "metadata": {
        "id": "VDl1rjs5PkqO",
        "colab_type": "code",
        "colab": {
          "base_uri": "https://localhost:8080/",
          "height": 34
        },
        "outputId": "0381da89-18f7-47a3-887d-2fbfd2ecc54d"
      },
      "source": [
        "if True:\n",
        "  print(\"True\")\n",
        "else:\n",
        "  print(\"Truth always rests with the minority\")"
      ],
      "execution_count": 8,
      "outputs": [
        {
          "output_type": "stream",
          "text": [
            "True\n"
          ],
          "name": "stdout"
        }
      ]
    },
    {
      "cell_type": "code",
      "metadata": {
        "id": "CAPdbJGPUhSO",
        "colab_type": "code",
        "colab": {
          "base_uri": "https://localhost:8080/",
          "height": 51
        },
        "outputId": "283d1d4b-e574-4c12-b506-96522a8b3df7"
      },
      "source": [
        "if True:\n",
        "  print(\"True\")\n",
        "else:\n",
        "  pass\n",
        "print(\"False\")"
      ],
      "execution_count": 9,
      "outputs": [
        {
          "output_type": "stream",
          "text": [
            "True\n",
            "False\n"
          ],
          "name": "stdout"
        }
      ]
    },
    {
      "cell_type": "markdown",
      "metadata": {
        "id": "DyZ1zWY9WEci",
        "colab_type": "text"
      },
      "source": [
        "### Multi-line Expression"
      ]
    },
    {
      "cell_type": "code",
      "metadata": {
        "id": "s2pYYzh6YO3l",
        "colab_type": "code",
        "colab": {}
      },
      "source": [
        "lets_make_this_line_super_super_super_super_super_super_super_super_super_long = 233\n",
        "attempting_to_write_some_code_that_my_coworker_cant_maintain_so_that_i_could_keep_my_job = 666"
      ],
      "execution_count": 10,
      "outputs": []
    },
    {
      "cell_type": "markdown",
      "metadata": {
        "id": "dnqkeuSJYk4F",
        "colab_type": "text"
      },
      "source": [
        "We have to use backslash for a stand-alone multi-line expression."
      ]
    },
    {
      "cell_type": "code",
      "metadata": {
        "id": "L6Hy5-xdYRNE",
        "colab_type": "code",
        "colab": {
          "base_uri": "https://localhost:8080/",
          "height": 34
        },
        "outputId": "f69a213e-b395-4210-e280-81eb60982bd0"
      },
      "source": [
        "lets_make_this_line_super_super_super_super_super_super_super_super_super_long + \\\n",
        "attempting_to_write_some_code_that_my_coworker_cant_maintain_so_that_i_could_keep_my_job"
      ],
      "execution_count": 11,
      "outputs": [
        {
          "output_type": "execute_result",
          "data": {
            "text/plain": [
              "899"
            ]
          },
          "metadata": {
            "tags": []
          },
          "execution_count": 11
        }
      ]
    },
    {
      "cell_type": "code",
      "metadata": {
        "id": "jS2x2C1GWEOU",
        "colab_type": "code",
        "colab": {
          "base_uri": "https://localhost:8080/",
          "height": 34
        },
        "outputId": "b6f3bccb-9b1e-4449-8cdc-168792261e19"
      },
      "source": [
        "print(  \n",
        "  lets_make_this_line_super_super_super_super_super_super_super_super_super_long +\n",
        "  attempting_to_write_some_code_that_my_coworker_cant_maintain_so_that_i_could_keep_my_job   \n",
        ")"
      ],
      "execution_count": 12,
      "outputs": [
        {
          "output_type": "stream",
          "text": [
            "899\n"
          ],
          "name": "stdout"
        }
      ]
    },
    {
      "cell_type": "code",
      "metadata": {
        "id": "k0t9DSMDYYfB",
        "colab_type": "code",
        "colab": {
          "base_uri": "https://localhost:8080/",
          "height": 34
        },
        "outputId": "23851435-f185-4fb5-8c96-0191c3332746"
      },
      "source": [
        "[lets_make_this_line_super_super_super_super_super_super_super_super_super_long,\n",
        "attempting_to_write_some_code_that_my_coworker_cant_maintain_so_that_i_could_keep_my_job]"
      ],
      "execution_count": 13,
      "outputs": [
        {
          "output_type": "execute_result",
          "data": {
            "text/plain": [
              "[233, 666]"
            ]
          },
          "metadata": {
            "tags": []
          },
          "execution_count": 13
        }
      ]
    },
    {
      "cell_type": "code",
      "metadata": {
        "id": "2Z8jKKWjYaiO",
        "colab_type": "code",
        "colab": {
          "base_uri": "https://localhost:8080/",
          "height": 34
        },
        "outputId": "90271f8b-6628-4e19-8153-63edc717f54e"
      },
      "source": [
        "{lets_make_this_line_super_super_super_super_super_super_super_super_super_long,\n",
        "attempting_to_write_some_code_that_my_coworker_cant_maintain_so_that_i_could_keep_my_job}"
      ],
      "execution_count": 14,
      "outputs": [
        {
          "output_type": "execute_result",
          "data": {
            "text/plain": [
              "{233, 666}"
            ]
          },
          "metadata": {
            "tags": []
          },
          "execution_count": 14
        }
      ]
    },
    {
      "cell_type": "markdown",
      "metadata": {
        "id": "4I_X2YPMX6I2",
        "colab_type": "text"
      },
      "source": [
        "## Data Types"
      ]
    },
    {
      "cell_type": "markdown",
      "metadata": {
        "id": "gpnp-jQvXNw0",
        "colab_type": "text"
      },
      "source": [
        "### Built-in Numerical Data Types"
      ]
    },
    {
      "cell_type": "markdown",
      "metadata": {
        "id": "vMqhfoPepIF-",
        "colab_type": "text"
      },
      "source": [
        "* Integer"
      ]
    },
    {
      "cell_type": "code",
      "metadata": {
        "id": "WzUbyrcnUjRJ",
        "colab_type": "code",
        "colab": {
          "base_uri": "https://localhost:8080/",
          "height": 34
        },
        "outputId": "b270fce6-db27-41b5-c00c-bdcd7af3f170"
      },
      "source": [
        "type(233)"
      ],
      "execution_count": 15,
      "outputs": [
        {
          "output_type": "execute_result",
          "data": {
            "text/plain": [
              "int"
            ]
          },
          "metadata": {
            "tags": []
          },
          "execution_count": 15
        }
      ]
    },
    {
      "cell_type": "markdown",
      "metadata": {
        "id": "OxiyDkrVpK80",
        "colab_type": "text"
      },
      "source": [
        "* Float"
      ]
    },
    {
      "cell_type": "code",
      "metadata": {
        "id": "pu7VbO0NY3hC",
        "colab_type": "code",
        "colab": {
          "base_uri": "https://localhost:8080/",
          "height": 34
        },
        "outputId": "8b85aec2-a6e1-4df6-c2e4-2a7540b6de57"
      },
      "source": [
        "type(233.666)"
      ],
      "execution_count": 16,
      "outputs": [
        {
          "output_type": "execute_result",
          "data": {
            "text/plain": [
              "float"
            ]
          },
          "metadata": {
            "tags": []
          },
          "execution_count": 16
        }
      ]
    },
    {
      "cell_type": "markdown",
      "metadata": {
        "id": "Nu_0wRQipNnF",
        "colab_type": "text"
      },
      "source": [
        "* Complex"
      ]
    },
    {
      "cell_type": "code",
      "metadata": {
        "id": "pyYR3CCkZCqQ",
        "colab_type": "code",
        "colab": {
          "base_uri": "https://localhost:8080/",
          "height": 34
        },
        "outputId": "b22f2caf-e2ff-40cd-83c4-4d4f494a7488"
      },
      "source": [
        "type(233 + 666j)"
      ],
      "execution_count": 17,
      "outputs": [
        {
          "output_type": "execute_result",
          "data": {
            "text/plain": [
              "complex"
            ]
          },
          "metadata": {
            "tags": []
          },
          "execution_count": 17
        }
      ]
    },
    {
      "cell_type": "markdown",
      "metadata": {
        "id": "5Q-kZWcypQxA",
        "colab_type": "text"
      },
      "source": [
        "* Boolean: Be careful of compound boolean expression!"
      ]
    },
    {
      "cell_type": "code",
      "metadata": {
        "id": "3MYj_f6xY5X8",
        "colab_type": "code",
        "colab": {
          "base_uri": "https://localhost:8080/",
          "height": 34
        },
        "outputId": "1b79bb40-3ef9-4bf0-ead5-55ba58ca7346"
      },
      "source": [
        "type(True)"
      ],
      "execution_count": 18,
      "outputs": [
        {
          "output_type": "execute_result",
          "data": {
            "text/plain": [
              "bool"
            ]
          },
          "metadata": {
            "tags": []
          },
          "execution_count": 18
        }
      ]
    },
    {
      "cell_type": "code",
      "metadata": {
        "id": "K0s-4ioGoauG",
        "colab_type": "code",
        "colab": {
          "base_uri": "https://localhost:8080/",
          "height": 34
        },
        "outputId": "40a26b41-6c35-43b4-e240-00f06ef7e4b3"
      },
      "source": [
        "True and False"
      ],
      "execution_count": 19,
      "outputs": [
        {
          "output_type": "execute_result",
          "data": {
            "text/plain": [
              "False"
            ]
          },
          "metadata": {
            "tags": []
          },
          "execution_count": 19
        }
      ]
    },
    {
      "cell_type": "code",
      "metadata": {
        "id": "YdmQa0O-ohgT",
        "colab_type": "code",
        "colab": {
          "base_uri": "https://localhost:8080/",
          "height": 34
        },
        "outputId": "13c56a72-8940-4220-81f9-89ad0681f633"
      },
      "source": [
        "True or False"
      ],
      "execution_count": 20,
      "outputs": [
        {
          "output_type": "execute_result",
          "data": {
            "text/plain": [
              "True"
            ]
          },
          "metadata": {
            "tags": []
          },
          "execution_count": 20
        }
      ]
    },
    {
      "cell_type": "code",
      "metadata": {
        "id": "WRL0aTbBowI8",
        "colab_type": "code",
        "colab": {
          "base_uri": "https://localhost:8080/",
          "height": 34
        },
        "outputId": "25f3f3dd-649f-4efb-c3e1-0507a06203ce"
      },
      "source": [
        "not True"
      ],
      "execution_count": 21,
      "outputs": [
        {
          "output_type": "execute_result",
          "data": {
            "text/plain": [
              "False"
            ]
          },
          "metadata": {
            "tags": []
          },
          "execution_count": 21
        }
      ]
    },
    {
      "cell_type": "code",
      "metadata": {
        "id": "zeNQvI1epBqx",
        "colab_type": "code",
        "colab": {
          "base_uri": "https://localhost:8080/",
          "height": 34
        },
        "outputId": "eb167e41-0c46-4f00-ec9f-9b95f8d4c90c"
      },
      "source": [
        "True is not False"
      ],
      "execution_count": 22,
      "outputs": [
        {
          "output_type": "execute_result",
          "data": {
            "text/plain": [
              "True"
            ]
          },
          "metadata": {
            "tags": []
          },
          "execution_count": 22
        }
      ]
    },
    {
      "cell_type": "code",
      "metadata": {
        "id": "MJu1k86co6B0",
        "colab_type": "code",
        "colab": {
          "base_uri": "https://localhost:8080/",
          "height": 34
        },
        "outputId": "83fac78b-10cf-4ec1-e360-6a63c947eb5d"
      },
      "source": [
        "True != True"
      ],
      "execution_count": 23,
      "outputs": [
        {
          "output_type": "execute_result",
          "data": {
            "text/plain": [
              "False"
            ]
          },
          "metadata": {
            "tags": []
          },
          "execution_count": 23
        }
      ]
    },
    {
      "cell_type": "markdown",
      "metadata": {
        "id": "1cS70PsIZXeh",
        "colab_type": "text"
      },
      "source": [
        "### String"
      ]
    },
    {
      "cell_type": "markdown",
      "metadata": {
        "id": "szL2F5gSaD-W",
        "colab_type": "text"
      },
      "source": [
        "*   `''` and `\"\"` work the same for declaring string literals. If you use `\"\"` to declare a string, you don't have to use escape character if you would like to use `''` as a part of the string literal."
      ]
    },
    {
      "cell_type": "code",
      "metadata": {
        "id": "pIjq9Uv5ZArd",
        "colab_type": "code",
        "colab": {
          "base_uri": "https://localhost:8080/",
          "height": 35
        },
        "outputId": "11a86400-a36f-4635-b591-ec8a5852c7ce"
      },
      "source": [
        "\"What's up?\""
      ],
      "execution_count": 24,
      "outputs": [
        {
          "output_type": "execute_result",
          "data": {
            "application/vnd.google.colaboratory.intrinsic+json": {
              "type": "string"
            },
            "text/plain": [
              "\"What's up?\""
            ]
          },
          "metadata": {
            "tags": []
          },
          "execution_count": 24
        }
      ]
    },
    {
      "cell_type": "code",
      "metadata": {
        "id": "MJ6tGAuJZi2c",
        "colab_type": "code",
        "colab": {
          "base_uri": "https://localhost:8080/",
          "height": 35
        },
        "outputId": "65ffb122-de52-4375-b4d7-608c2a033b39"
      },
      "source": [
        "'What\\'s up?'"
      ],
      "execution_count": 25,
      "outputs": [
        {
          "output_type": "execute_result",
          "data": {
            "application/vnd.google.colaboratory.intrinsic+json": {
              "type": "string"
            },
            "text/plain": [
              "\"What's up?\""
            ]
          },
          "metadata": {
            "tags": []
          },
          "execution_count": 25
        }
      ]
    },
    {
      "cell_type": "markdown",
      "metadata": {
        "id": "mjQ2SiR5a7q6",
        "colab_type": "text"
      },
      "source": [
        "*   Use `\"\"\"` or `'''` for multi-line strings"
      ]
    },
    {
      "cell_type": "code",
      "metadata": {
        "id": "FonSPgNKZrhM",
        "colab_type": "code",
        "colab": {
          "base_uri": "https://localhost:8080/",
          "height": 85
        },
        "outputId": "75c90225-bc7a-4a9d-95e0-ea52321cdd26"
      },
      "source": [
        "print(\n",
        "  '''\n",
        "  line 0\n",
        "  line1\n",
        "  '''\n",
        ")"
      ],
      "execution_count": 26,
      "outputs": [
        {
          "output_type": "stream",
          "text": [
            "\n",
            "  line 0\n",
            "  line1\n",
            "  \n"
          ],
          "name": "stdout"
        }
      ]
    },
    {
      "cell_type": "markdown",
      "metadata": {
        "id": "UFNjIqO0bdxv",
        "colab_type": "text"
      },
      "source": [
        "*   String concatenation"
      ]
    },
    {
      "cell_type": "code",
      "metadata": {
        "id": "2t3-QOWmbGXq",
        "colab_type": "code",
        "colab": {
          "base_uri": "https://localhost:8080/",
          "height": 35
        },
        "outputId": "10c34fcc-5cd1-41e9-9d1c-be36f5d46da0"
      },
      "source": [
        "\"Welcome \"\"to \"\"CS 361\""
      ],
      "execution_count": 27,
      "outputs": [
        {
          "output_type": "execute_result",
          "data": {
            "application/vnd.google.colaboratory.intrinsic+json": {
              "type": "string"
            },
            "text/plain": [
              "'Welcome to CS 361'"
            ]
          },
          "metadata": {
            "tags": []
          },
          "execution_count": 27
        }
      ]
    },
    {
      "cell_type": "code",
      "metadata": {
        "id": "-izV-JeQbkPR",
        "colab_type": "code",
        "colab": {
          "base_uri": "https://localhost:8080/",
          "height": 35
        },
        "outputId": "caf89911-7551-4e5f-d50c-766995cc629a"
      },
      "source": [
        "\"Welcome \" + \"to \" + \"CS 361\""
      ],
      "execution_count": 28,
      "outputs": [
        {
          "output_type": "execute_result",
          "data": {
            "application/vnd.google.colaboratory.intrinsic+json": {
              "type": "string"
            },
            "text/plain": [
              "'Welcome to CS 361'"
            ]
          },
          "metadata": {
            "tags": []
          },
          "execution_count": 28
        }
      ]
    },
    {
      "cell_type": "markdown",
      "metadata": {
        "id": "-SIM7kj9f_Ui",
        "colab_type": "text"
      },
      "source": [
        "*   String indexing: Python string can be index from left to right starting with 0 and right to left starting with -1"
      ]
    },
    {
      "cell_type": "code",
      "metadata": {
        "id": "39oEhp-7f_EW",
        "colab_type": "code",
        "colab": {}
      },
      "source": [
        "boo = \"Welcome to CS 361!\""
      ],
      "execution_count": 29,
      "outputs": []
    },
    {
      "cell_type": "code",
      "metadata": {
        "id": "UF-8vuLuboed",
        "colab_type": "code",
        "colab": {
          "base_uri": "https://localhost:8080/",
          "height": 35
        },
        "outputId": "2bad63c9-a443-4cfc-8de4-d8130c58e364"
      },
      "source": [
        "boo[0] # left to right"
      ],
      "execution_count": 30,
      "outputs": [
        {
          "output_type": "execute_result",
          "data": {
            "application/vnd.google.colaboratory.intrinsic+json": {
              "type": "string"
            },
            "text/plain": [
              "'W'"
            ]
          },
          "metadata": {
            "tags": []
          },
          "execution_count": 30
        }
      ]
    },
    {
      "cell_type": "code",
      "metadata": {
        "id": "2ns5jHpRbqLo",
        "colab_type": "code",
        "colab": {
          "base_uri": "https://localhost:8080/",
          "height": 35
        },
        "outputId": "b841a3b7-ae14-4d22-ec9d-6808ede7652b"
      },
      "source": [
        "boo[-1] # right to left"
      ],
      "execution_count": 31,
      "outputs": [
        {
          "output_type": "execute_result",
          "data": {
            "application/vnd.google.colaboratory.intrinsic+json": {
              "type": "string"
            },
            "text/plain": [
              "'!'"
            ]
          },
          "metadata": {
            "tags": []
          },
          "execution_count": 31
        }
      ]
    },
    {
      "cell_type": "markdown",
      "metadata": {
        "id": "fzjbUQUngjsa",
        "colab_type": "text"
      },
      "source": [
        "*   String slicing [start:end:step]"
      ]
    },
    {
      "cell_type": "code",
      "metadata": {
        "id": "H6_A0if1g5Cz",
        "colab_type": "code",
        "colab": {
          "base_uri": "https://localhost:8080/",
          "height": 35
        },
        "outputId": "e1a399d6-4df1-4f56-fc59-f1f03ae10708"
      },
      "source": [
        "boo[0:-1]"
      ],
      "execution_count": 32,
      "outputs": [
        {
          "output_type": "execute_result",
          "data": {
            "application/vnd.google.colaboratory.intrinsic+json": {
              "type": "string"
            },
            "text/plain": [
              "'Welcome to CS 361'"
            ]
          },
          "metadata": {
            "tags": []
          },
          "execution_count": 32
        }
      ]
    },
    {
      "cell_type": "code",
      "metadata": {
        "id": "RevW9QQMgMSy",
        "colab_type": "code",
        "colab": {
          "base_uri": "https://localhost:8080/",
          "height": 35
        },
        "outputId": "0f38549a-d3fe-4639-9f75-850c73de2c2d"
      },
      "source": [
        "boo[0:7]"
      ],
      "execution_count": 33,
      "outputs": [
        {
          "output_type": "execute_result",
          "data": {
            "application/vnd.google.colaboratory.intrinsic+json": {
              "type": "string"
            },
            "text/plain": [
              "'Welcome'"
            ]
          },
          "metadata": {
            "tags": []
          },
          "execution_count": 33
        }
      ]
    },
    {
      "cell_type": "code",
      "metadata": {
        "id": "d1Ca8zKJh7Pa",
        "colab_type": "code",
        "colab": {
          "base_uri": "https://localhost:8080/",
          "height": 35
        },
        "outputId": "09b4aaf4-686c-407d-9917-875b86182047"
      },
      "source": [
        "boo[::2]"
      ],
      "execution_count": 34,
      "outputs": [
        {
          "output_type": "execute_result",
          "data": {
            "application/vnd.google.colaboratory.intrinsic+json": {
              "type": "string"
            },
            "text/plain": [
              "'Wloet S31'"
            ]
          },
          "metadata": {
            "tags": []
          },
          "execution_count": 34
        }
      ]
    },
    {
      "cell_type": "code",
      "metadata": {
        "id": "nAhea2yxgqrd",
        "colab_type": "code",
        "colab": {
          "base_uri": "https://localhost:8080/",
          "height": 35
        },
        "outputId": "019e4044-e24e-4960-9197-194571e6d961"
      },
      "source": [
        "boo[::-1]"
      ],
      "execution_count": 35,
      "outputs": [
        {
          "output_type": "execute_result",
          "data": {
            "application/vnd.google.colaboratory.intrinsic+json": {
              "type": "string"
            },
            "text/plain": [
              "'!163 SC ot emocleW'"
            ]
          },
          "metadata": {
            "tags": []
          },
          "execution_count": 35
        }
      ]
    },
    {
      "cell_type": "code",
      "metadata": {
        "id": "2BZaOD_niOEe",
        "colab_type": "code",
        "colab": {
          "base_uri": "https://localhost:8080/",
          "height": 35
        },
        "outputId": "4a8225e3-d1a1-4df5-f666-afdeeeab46f4"
      },
      "source": [
        "boo[7::-1]"
      ],
      "execution_count": 36,
      "outputs": [
        {
          "output_type": "execute_result",
          "data": {
            "application/vnd.google.colaboratory.intrinsic+json": {
              "type": "string"
            },
            "text/plain": [
              "' emocleW'"
            ]
          },
          "metadata": {
            "tags": []
          },
          "execution_count": 36
        }
      ]
    },
    {
      "cell_type": "code",
      "metadata": {
        "id": "wq_LBlTZh-82",
        "colab_type": "code",
        "colab": {
          "base_uri": "https://localhost:8080/",
          "height": 35
        },
        "outputId": "1ec3f7e4-6411-4df2-b813-2a81b3f9c21a"
      },
      "source": [
        "boo[:7:-1]"
      ],
      "execution_count": 37,
      "outputs": [
        {
          "output_type": "execute_result",
          "data": {
            "application/vnd.google.colaboratory.intrinsic+json": {
              "type": "string"
            },
            "text/plain": [
              "'!163 SC ot'"
            ]
          },
          "metadata": {
            "tags": []
          },
          "execution_count": 37
        }
      ]
    },
    {
      "cell_type": "code",
      "metadata": {
        "id": "G-r8kIfqgupV",
        "colab_type": "code",
        "colab": {
          "base_uri": "https://localhost:8080/",
          "height": 35
        },
        "outputId": "9a37dbb9-5371-4309-d964-e919df21d04b"
      },
      "source": [
        "boo[0:7:2]"
      ],
      "execution_count": 38,
      "outputs": [
        {
          "output_type": "execute_result",
          "data": {
            "application/vnd.google.colaboratory.intrinsic+json": {
              "type": "string"
            },
            "text/plain": [
              "'Wloe'"
            ]
          },
          "metadata": {
            "tags": []
          },
          "execution_count": 38
        }
      ]
    },
    {
      "cell_type": "markdown",
      "metadata": {
        "id": "A2MdYLh6mgPz",
        "colab_type": "text"
      },
      "source": [
        "*   Byte-string: Please be aware of the existence of byte-string. If you have any byte-string imported into you dataset, please be careful when comparing string equality."
      ]
    },
    {
      "cell_type": "code",
      "metadata": {
        "id": "IBz_-7ymnjr3",
        "colab_type": "code",
        "colab": {
          "base_uri": "https://localhost:8080/",
          "height": 34
        },
        "outputId": "cb65c6c8-0016-4909-b525-4b90a8d5f9ab"
      },
      "source": [
        "type(b'Hi!')"
      ],
      "execution_count": 39,
      "outputs": [
        {
          "output_type": "execute_result",
          "data": {
            "text/plain": [
              "bytes"
            ]
          },
          "metadata": {
            "tags": []
          },
          "execution_count": 39
        }
      ]
    },
    {
      "cell_type": "code",
      "metadata": {
        "id": "9STRQXNXn0Bz",
        "colab_type": "code",
        "colab": {
          "base_uri": "https://localhost:8080/",
          "height": 34
        },
        "outputId": "0d341e7f-da1c-4b49-b1af-b2c24bd24580"
      },
      "source": [
        "b'Hi!' == 'Hi!'"
      ],
      "execution_count": 40,
      "outputs": [
        {
          "output_type": "execute_result",
          "data": {
            "text/plain": [
              "False"
            ]
          },
          "metadata": {
            "tags": []
          },
          "execution_count": 40
        }
      ]
    },
    {
      "cell_type": "markdown",
      "metadata": {
        "id": "PV2TfFcBpYQ6",
        "colab_type": "text"
      },
      "source": [
        "*   String Interpolation: C Style"
      ]
    },
    {
      "cell_type": "code",
      "metadata": {
        "id": "tucJH2hpp8Qx",
        "colab_type": "code",
        "colab": {
          "base_uri": "https://localhost:8080/",
          "height": 35
        },
        "outputId": "86a35cf0-212b-4918-f717-53c50315fd85"
      },
      "source": [
        "\"This is %s\" % \"CS 361!\""
      ],
      "execution_count": 41,
      "outputs": [
        {
          "output_type": "execute_result",
          "data": {
            "application/vnd.google.colaboratory.intrinsic+json": {
              "type": "string"
            },
            "text/plain": [
              "'This is CS 361!'"
            ]
          },
          "metadata": {
            "tags": []
          },
          "execution_count": 41
        }
      ]
    },
    {
      "cell_type": "code",
      "metadata": {
        "id": "vBarKlYZqTE8",
        "colab_type": "code",
        "colab": {
          "base_uri": "https://localhost:8080/",
          "height": 35
        },
        "outputId": "924b20b1-57b4-4a96-f884-09e2fc9de25f"
      },
      "source": [
        "\"Planck's constant is %e m^2 kg/s\" % (6.62607004e-34)"
      ],
      "execution_count": 42,
      "outputs": [
        {
          "output_type": "execute_result",
          "data": {
            "application/vnd.google.colaboratory.intrinsic+json": {
              "type": "string"
            },
            "text/plain": [
              "\"Planck's constant is 6.626070e-34 m^2 kg/s\""
            ]
          },
          "metadata": {
            "tags": []
          },
          "execution_count": 42
        }
      ]
    },
    {
      "cell_type": "code",
      "metadata": {
        "id": "RWiEYhQ0sHvL",
        "colab_type": "code",
        "colab": {
          "base_uri": "https://localhost:8080/",
          "height": 35
        },
        "outputId": "63574225-58e7-4ceb-8b6b-b378ecaf0401"
      },
      "source": [
        "\"Format a number into scientific notation: %e\" % 233333"
      ],
      "execution_count": 43,
      "outputs": [
        {
          "output_type": "execute_result",
          "data": {
            "application/vnd.google.colaboratory.intrinsic+json": {
              "type": "string"
            },
            "text/plain": [
              "'Format a number into scientific notation: 2.333330e+05'"
            ]
          },
          "metadata": {
            "tags": []
          },
          "execution_count": 43
        }
      ]
    },
    {
      "cell_type": "code",
      "metadata": {
        "id": "-e_3EvjRq9Am",
        "colab_type": "code",
        "colab": {
          "base_uri": "https://localhost:8080/",
          "height": 35
        },
        "outputId": "693b0840-4bc2-404a-f4b9-ca2170450297"
      },
      "source": [
        "from math import pi\n",
        "\"π is approximately %f\" % (pi)"
      ],
      "execution_count": 44,
      "outputs": [
        {
          "output_type": "execute_result",
          "data": {
            "application/vnd.google.colaboratory.intrinsic+json": {
              "type": "string"
            },
            "text/plain": [
              "'π is approximately 3.141593'"
            ]
          },
          "metadata": {
            "tags": []
          },
          "execution_count": 44
        }
      ]
    },
    {
      "cell_type": "code",
      "metadata": {
        "id": "GPhZ0e6yr0Y3",
        "colab_type": "code",
        "colab": {
          "base_uri": "https://localhost:8080/",
          "height": 35
        },
        "outputId": "aa74b350-5e72-4e10-b417-478248fd83ac"
      },
      "source": [
        "\"π is approximately %.2f\" % (pi)"
      ],
      "execution_count": 45,
      "outputs": [
        {
          "output_type": "execute_result",
          "data": {
            "application/vnd.google.colaboratory.intrinsic+json": {
              "type": "string"
            },
            "text/plain": [
              "'π is approximately 3.14'"
            ]
          },
          "metadata": {
            "tags": []
          },
          "execution_count": 45
        }
      ]
    },
    {
      "cell_type": "markdown",
      "metadata": {
        "id": "v85Q54JjvF-B",
        "colab_type": "text"
      },
      "source": [
        "*   String Interpolation: f-string"
      ]
    },
    {
      "cell_type": "code",
      "metadata": {
        "id": "i_GlhhYRskE0",
        "colab_type": "code",
        "colab": {
          "base_uri": "https://localhost:8080/",
          "height": 35
        },
        "outputId": "252fbfbf-edfb-43ca-896a-210b8505f035"
      },
      "source": [
        "course = \"CS 361\"\n",
        "f\"Welcome to {course}\""
      ],
      "execution_count": 46,
      "outputs": [
        {
          "output_type": "execute_result",
          "data": {
            "application/vnd.google.colaboratory.intrinsic+json": {
              "type": "string"
            },
            "text/plain": [
              "'Welcome to CS 361'"
            ]
          },
          "metadata": {
            "tags": []
          },
          "execution_count": 46
        }
      ]
    },
    {
      "cell_type": "code",
      "metadata": {
        "id": "Oy8rI1of0gHg",
        "colab_type": "code",
        "colab": {
          "base_uri": "https://localhost:8080/",
          "height": 35
        },
        "outputId": "46e6a51f-287f-4327-90c8-aeee7e10bbf7"
      },
      "source": [
        "f\"1 + 1 = {1 + 1}\""
      ],
      "execution_count": 47,
      "outputs": [
        {
          "output_type": "execute_result",
          "data": {
            "application/vnd.google.colaboratory.intrinsic+json": {
              "type": "string"
            },
            "text/plain": [
              "'1 + 1 = 2'"
            ]
          },
          "metadata": {
            "tags": []
          },
          "execution_count": 47
        }
      ]
    },
    {
      "cell_type": "markdown",
      "metadata": {
        "id": "nqRwgDe71DhV",
        "colab_type": "text"
      },
      "source": [
        "*   String Interpolation: format function"
      ]
    },
    {
      "cell_type": "code",
      "metadata": {
        "id": "Ddcuy8Xf1Jl_",
        "colab_type": "code",
        "colab": {
          "base_uri": "https://localhost:8080/",
          "height": 35
        },
        "outputId": "4218dc59-fac2-45ed-86ca-98a8b1bef473"
      },
      "source": [
        "\"π is approximately {:.2f}\".format(pi)"
      ],
      "execution_count": 48,
      "outputs": [
        {
          "output_type": "execute_result",
          "data": {
            "application/vnd.google.colaboratory.intrinsic+json": {
              "type": "string"
            },
            "text/plain": [
              "'π is approximately 3.14'"
            ]
          },
          "metadata": {
            "tags": []
          },
          "execution_count": 48
        }
      ]
    },
    {
      "cell_type": "markdown",
      "metadata": {
        "id": "6p7bUD1u1hIK",
        "colab_type": "text"
      },
      "source": [
        "Checkout Python's [official document for string](https://docs.python.org/3.8/library/string.html) to see more details."
      ]
    },
    {
      "cell_type": "markdown",
      "metadata": {
        "id": "FChwcAHwmV7J",
        "colab_type": "text"
      },
      "source": [
        "### List"
      ]
    },
    {
      "cell_type": "markdown",
      "metadata": {
        "id": "_y4RD67w2vGi",
        "colab_type": "text"
      },
      "source": [
        "*   List-indexing is very similar to string-indexing"
      ]
    },
    {
      "cell_type": "code",
      "metadata": {
        "id": "gECNtQ9E21V9",
        "colab_type": "code",
        "colab": {}
      },
      "source": [
        "boo = [0, 2, \"four\", 6, 8, \"ten\", 12, 14, 16, 18, 20]"
      ],
      "execution_count": 49,
      "outputs": []
    },
    {
      "cell_type": "code",
      "metadata": {
        "id": "3cvIzwFi29Vm",
        "colab_type": "code",
        "colab": {
          "base_uri": "https://localhost:8080/",
          "height": 35
        },
        "outputId": "a6e3c561-0832-4b41-e1fb-1947d3c8d04a"
      },
      "source": [
        "boo[2]"
      ],
      "execution_count": 50,
      "outputs": [
        {
          "output_type": "execute_result",
          "data": {
            "application/vnd.google.colaboratory.intrinsic+json": {
              "type": "string"
            },
            "text/plain": [
              "'four'"
            ]
          },
          "metadata": {
            "tags": []
          },
          "execution_count": 50
        }
      ]
    },
    {
      "cell_type": "code",
      "metadata": {
        "id": "ajIxvsO13Gyq",
        "colab_type": "code",
        "colab": {
          "base_uri": "https://localhost:8080/",
          "height": 34
        },
        "outputId": "426b87e3-ea91-4f71-931e-de6c04cc8b67"
      },
      "source": [
        "boo[-1]"
      ],
      "execution_count": 51,
      "outputs": [
        {
          "output_type": "execute_result",
          "data": {
            "text/plain": [
              "20"
            ]
          },
          "metadata": {
            "tags": []
          },
          "execution_count": 51
        }
      ]
    },
    {
      "cell_type": "code",
      "metadata": {
        "id": "zOsbaRKP3O24",
        "colab_type": "code",
        "colab": {
          "base_uri": "https://localhost:8080/",
          "height": 34
        },
        "outputId": "6bb8a110-49a2-4ab0-da32-92636463a25e"
      },
      "source": [
        "boo[-2]"
      ],
      "execution_count": 52,
      "outputs": [
        {
          "output_type": "execute_result",
          "data": {
            "text/plain": [
              "18"
            ]
          },
          "metadata": {
            "tags": []
          },
          "execution_count": 52
        }
      ]
    },
    {
      "cell_type": "code",
      "metadata": {
        "id": "h1PiNKMM3SU8",
        "colab_type": "code",
        "colab": {
          "base_uri": "https://localhost:8080/",
          "height": 34
        },
        "outputId": "81aede55-c03d-4374-ab4b-729fb2ce1add"
      },
      "source": [
        "boo[0:3]"
      ],
      "execution_count": 53,
      "outputs": [
        {
          "output_type": "execute_result",
          "data": {
            "text/plain": [
              "[0, 2, 'four']"
            ]
          },
          "metadata": {
            "tags": []
          },
          "execution_count": 53
        }
      ]
    },
    {
      "cell_type": "code",
      "metadata": {
        "id": "-OxSGnWa3V0D",
        "colab_type": "code",
        "colab": {
          "base_uri": "https://localhost:8080/",
          "height": 34
        },
        "outputId": "c2957ee9-f9af-4358-f462-257c1a72c929"
      },
      "source": [
        "boo[::-2]"
      ],
      "execution_count": 54,
      "outputs": [
        {
          "output_type": "execute_result",
          "data": {
            "text/plain": [
              "[20, 16, 12, 8, 'four', 0]"
            ]
          },
          "metadata": {
            "tags": []
          },
          "execution_count": 54
        }
      ]
    },
    {
      "cell_type": "code",
      "metadata": {
        "id": "FqGRjXKV3YV_",
        "colab_type": "code",
        "colab": {
          "base_uri": "https://localhost:8080/",
          "height": 34
        },
        "outputId": "e3a557a7-9070-4d70-de72-dcf13e663914"
      },
      "source": [
        "boo[-1:-6:-2]"
      ],
      "execution_count": 55,
      "outputs": [
        {
          "output_type": "execute_result",
          "data": {
            "text/plain": [
              "[20, 16, 12]"
            ]
          },
          "metadata": {
            "tags": []
          },
          "execution_count": 55
        }
      ]
    },
    {
      "cell_type": "markdown",
      "metadata": {
        "id": "NxDp1zBF30cd",
        "colab_type": "text"
      },
      "source": [
        "*   Other List Tricks"
      ]
    },
    {
      "cell_type": "code",
      "metadata": {
        "id": "dhM2E5FC8JXu",
        "colab_type": "code",
        "colab": {
          "base_uri": "https://localhost:8080/",
          "height": 34
        },
        "outputId": "c3be0875-1244-40a8-e77a-bf737555eb65"
      },
      "source": [
        "\"ten\" in boo"
      ],
      "execution_count": 56,
      "outputs": [
        {
          "output_type": "execute_result",
          "data": {
            "text/plain": [
              "True"
            ]
          },
          "metadata": {
            "tags": []
          },
          "execution_count": 56
        }
      ]
    },
    {
      "cell_type": "code",
      "metadata": {
        "id": "o3vj2wQe3luG",
        "colab_type": "code",
        "colab": {
          "base_uri": "https://localhost:8080/",
          "height": 34
        },
        "outputId": "9112f912-6db0-418f-9da7-f4d410c1a0d7"
      },
      "source": [
        "boo.append(\"ha?\")\n",
        "boo"
      ],
      "execution_count": 57,
      "outputs": [
        {
          "output_type": "execute_result",
          "data": {
            "text/plain": [
              "[0, 2, 'four', 6, 8, 'ten', 12, 14, 16, 18, 20, 'ha?']"
            ]
          },
          "metadata": {
            "tags": []
          },
          "execution_count": 57
        }
      ]
    },
    {
      "cell_type": "markdown",
      "metadata": {
        "id": "a6Id1aZe4Qo7",
        "colab_type": "text"
      },
      "source": [
        "Note that the two cells below repeat/concat two lists. However, it's a different story in Numpy."
      ]
    },
    {
      "cell_type": "code",
      "metadata": {
        "id": "00Y8UVpf4DYP",
        "colab_type": "code",
        "colab": {
          "base_uri": "https://localhost:8080/",
          "height": 34
        },
        "outputId": "58e3fe57-a978-48f9-f858-cc30f145f9d2"
      },
      "source": [
        "[1, 2, 3] * 2"
      ],
      "execution_count": 58,
      "outputs": [
        {
          "output_type": "execute_result",
          "data": {
            "text/plain": [
              "[1, 2, 3, 1, 2, 3]"
            ]
          },
          "metadata": {
            "tags": []
          },
          "execution_count": 58
        }
      ]
    },
    {
      "cell_type": "code",
      "metadata": {
        "id": "ViT3joNv4aeb",
        "colab_type": "code",
        "colab": {
          "base_uri": "https://localhost:8080/",
          "height": 34
        },
        "outputId": "776be5ba-e6dd-4d1d-f198-2c3a5f8d7294"
      },
      "source": [
        "[1, 2, 3] + [4, 5, 6]"
      ],
      "execution_count": 59,
      "outputs": [
        {
          "output_type": "execute_result",
          "data": {
            "text/plain": [
              "[1, 2, 3, 4, 5, 6]"
            ]
          },
          "metadata": {
            "tags": []
          },
          "execution_count": 59
        }
      ]
    },
    {
      "cell_type": "code",
      "metadata": {
        "id": "iQ511XML4jXY",
        "colab_type": "code",
        "colab": {}
      },
      "source": [
        "foo = [[233, 666], [888, 999]]"
      ],
      "execution_count": 60,
      "outputs": []
    },
    {
      "cell_type": "code",
      "metadata": {
        "id": "VABUlobs4nsz",
        "colab_type": "code",
        "colab": {
          "base_uri": "https://localhost:8080/",
          "height": 34
        },
        "outputId": "4874c055-a79a-40b5-d8b7-0027bc130080"
      },
      "source": [
        "foo[0][1]"
      ],
      "execution_count": 61,
      "outputs": [
        {
          "output_type": "execute_result",
          "data": {
            "text/plain": [
              "666"
            ]
          },
          "metadata": {
            "tags": []
          },
          "execution_count": 61
        }
      ]
    },
    {
      "cell_type": "markdown",
      "metadata": {
        "id": "-GMExB3a4yks",
        "colab_type": "text"
      },
      "source": [
        "*   List Comprehension: Save you some effort to write loops."
      ]
    },
    {
      "cell_type": "code",
      "metadata": {
        "id": "FPto6bFQ4xyJ",
        "colab_type": "code",
        "colab": {
          "base_uri": "https://localhost:8080/",
          "height": 34
        },
        "outputId": "9ce168b2-46d2-4634-ea68-f6934a3fef09"
      },
      "source": [
        "[x * 2 for x in boo]"
      ],
      "execution_count": 62,
      "outputs": [
        {
          "output_type": "execute_result",
          "data": {
            "text/plain": [
              "[0, 4, 'fourfour', 12, 16, 'tenten', 24, 28, 32, 36, 40, 'ha?ha?']"
            ]
          },
          "metadata": {
            "tags": []
          },
          "execution_count": 62
        }
      ]
    },
    {
      "cell_type": "code",
      "metadata": {
        "id": "2Ch8DX_Z5QY-",
        "colab_type": "code",
        "colab": {
          "base_uri": "https://localhost:8080/",
          "height": 34
        },
        "outputId": "092dccc3-fd51-46cf-8ef4-b09b3cfc0c3f"
      },
      "source": [
        "[x ** 2 for x in boo if type(x) is int]"
      ],
      "execution_count": 63,
      "outputs": [
        {
          "output_type": "execute_result",
          "data": {
            "text/plain": [
              "[0, 4, 36, 64, 144, 196, 256, 324, 400]"
            ]
          },
          "metadata": {
            "tags": []
          },
          "execution_count": 63
        }
      ]
    },
    {
      "cell_type": "markdown",
      "metadata": {
        "id": "U_D830WrmmA3",
        "colab_type": "text"
      },
      "source": [
        "### Tuple"
      ]
    },
    {
      "cell_type": "markdown",
      "metadata": {
        "id": "6oAQJWCG6yTn",
        "colab_type": "text"
      },
      "source": [
        "*   You can't modify a tuple once it's created."
      ]
    },
    {
      "cell_type": "code",
      "metadata": {
        "id": "G4JFdCkr5i6D",
        "colab_type": "code",
        "colab": {}
      },
      "source": [
        "foobar = (\"boo\", \"foo\")"
      ],
      "execution_count": 64,
      "outputs": []
    },
    {
      "cell_type": "markdown",
      "metadata": {
        "id": "_7XKH01N67cf",
        "colab_type": "text"
      },
      "source": [
        "*   [Destructuring assignment](https://blog.tecladocode.com/destructuring-in-python/)"
      ]
    },
    {
      "cell_type": "code",
      "metadata": {
        "id": "6LY1tItx5itR",
        "colab_type": "code",
        "colab": {
          "base_uri": "https://localhost:8080/",
          "height": 35
        },
        "outputId": "33ce87eb-f7b3-4b8f-9e0c-ba78108f834c"
      },
      "source": [
        "(bar, baz) = foobar\n",
        "bar"
      ],
      "execution_count": 65,
      "outputs": [
        {
          "output_type": "execute_result",
          "data": {
            "application/vnd.google.colaboratory.intrinsic+json": {
              "type": "string"
            },
            "text/plain": [
              "'boo'"
            ]
          },
          "metadata": {
            "tags": []
          },
          "execution_count": 65
        }
      ]
    },
    {
      "cell_type": "code",
      "metadata": {
        "id": "T0EI1JrW6E65",
        "colab_type": "code",
        "colab": {
          "base_uri": "https://localhost:8080/",
          "height": 35
        },
        "outputId": "876eaeb4-ccb3-4971-a333-a5a58cfc3d3c"
      },
      "source": [
        "baz"
      ],
      "execution_count": 66,
      "outputs": [
        {
          "output_type": "execute_result",
          "data": {
            "application/vnd.google.colaboratory.intrinsic+json": {
              "type": "string"
            },
            "text/plain": [
              "'foo'"
            ]
          },
          "metadata": {
            "tags": []
          },
          "execution_count": 66
        }
      ]
    },
    {
      "cell_type": "markdown",
      "metadata": {
        "id": "70HLXbglmcNf",
        "colab_type": "text"
      },
      "source": [
        "### Set"
      ]
    },
    {
      "cell_type": "code",
      "metadata": {
        "id": "cAQ7XajH8Nbq",
        "colab_type": "code",
        "colab": {
          "base_uri": "https://localhost:8080/",
          "height": 34
        },
        "outputId": "bbf8ed2c-ebbf-4066-f738-38841f067971"
      },
      "source": [
        "{1, 2, 3, \"three\", 4, 4, \"five\", \"five\"}"
      ],
      "execution_count": 67,
      "outputs": [
        {
          "output_type": "execute_result",
          "data": {
            "text/plain": [
              "{1, 2, 3, 4, 'five', 'three'}"
            ]
          },
          "metadata": {
            "tags": []
          },
          "execution_count": 67
        }
      ]
    },
    {
      "cell_type": "code",
      "metadata": {
        "id": "5ItrU6JI8YfS",
        "colab_type": "code",
        "colab": {}
      },
      "source": [
        "boo = {\"a\", \"b\", \"b\", \"c\"}\n",
        "foo = {\"a\", \"b\", \"b\", \"c\"}"
      ],
      "execution_count": 68,
      "outputs": []
    },
    {
      "cell_type": "markdown",
      "metadata": {
        "id": "Cubt83AGmdg7",
        "colab_type": "text"
      },
      "source": [
        "### Dictionary"
      ]
    },
    {
      "cell_type": "code",
      "metadata": {
        "id": "j-16FKjrhn1A",
        "colab_type": "code",
        "colab": {
          "base_uri": "https://localhost:8080/",
          "height": 34
        },
        "outputId": "d76083e7-c9db-41c7-d428-59a16cf991fd"
      },
      "source": [
        "{\"x\": 1, \"y\": 2}"
      ],
      "execution_count": 69,
      "outputs": [
        {
          "output_type": "execute_result",
          "data": {
            "text/plain": [
              "{'x': 1, 'y': 2}"
            ]
          },
          "metadata": {
            "tags": []
          },
          "execution_count": 69
        }
      ]
    }
  ]
}